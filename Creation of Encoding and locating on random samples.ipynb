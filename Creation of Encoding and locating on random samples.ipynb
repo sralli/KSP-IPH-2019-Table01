{
 "cells": [
  {
   "cell_type": "code",
   "execution_count": 2,
   "metadata": {},
   "outputs": [],
   "source": [
    "import face_recognition\n",
    "import os\n",
    "import glob\n",
    "from tqdm import tqdm\n",
    "import pandas as pd\n",
    "import shutil"
   ]
  },
  {
   "cell_type": "code",
   "execution_count": 3,
   "metadata": {},
   "outputs": [],
   "source": [
    "from face_recognition.face_recognition_cli import image_files_in_folder"
   ]
  },
  {
   "cell_type": "code",
   "execution_count": 4,
   "metadata": {},
   "outputs": [
    {
     "data": {
      "text/plain": [
       "199"
      ]
     },
     "execution_count": 4,
     "metadata": {},
     "output_type": "execute_result"
    }
   ],
   "source": [
    "len(glob.glob(\"search_space/*.png\"))"
   ]
  },
  {
   "cell_type": "code",
   "execution_count": 5,
   "metadata": {},
   "outputs": [],
   "source": [
    "image_list=[]\n",
    "def img_list():\n",
    "    format_img = ['.png']\n",
    "    final = []\n",
    "    for i in format_img:\n",
    "        image_list = glob.glob('data/missing_images/*.jpg')\n",
    "\n",
    "\n",
    "        for j in image_list:\n",
    "            final.append(j)\n",
    "#         image_list_1 = glob.glob(\"data/Want to find/Images/wanted/wanted/*\"+i)\n",
    "#         for k in image_list_1:\n",
    "#             final.append(k)\n",
    "    return final\n",
    "        \n",
    "image_list_f = img_list()"
   ]
  },
  {
   "cell_type": "code",
   "execution_count": 6,
   "metadata": {},
   "outputs": [
    {
     "data": {
      "text/plain": [
       "914"
      ]
     },
     "execution_count": 6,
     "metadata": {},
     "output_type": "execute_result"
    }
   ],
   "source": [
    "len(image_list_f)"
   ]
  },
  {
   "cell_type": "code",
   "execution_count": 24,
   "metadata": {},
   "outputs": [
    {
     "data": {
      "text/plain": [
       "'data/missing_images/Cr No#_151dffd6-79ec-4352-b5ba-34f9407971be2205.jpg'"
      ]
     },
     "execution_count": 24,
     "metadata": {},
     "output_type": "execute_result"
    }
   ],
   "source": [
    "image_list_f[221]"
   ]
  },
  {
   "cell_type": "code",
   "execution_count": 904,
   "metadata": {},
   "outputs": [
    {
     "name": "stderr",
     "output_type": "stream",
     "text": [
      "  4%|▎         | 34/914 [00:05<02:06,  6.97it/s]"
     ]
    },
    {
     "name": "stdout",
     "output_type": "stream",
     "text": [
      "Error for image data/missing_images/IMG_0001#_ffb857ce-eafd-4783-a974-fc85eecbf63c2160.jpg\n"
     ]
    },
    {
     "name": "stderr",
     "output_type": "stream",
     "text": [
      "  6%|▋         | 58/914 [00:08<01:20, 10.57it/s]"
     ]
    },
    {
     "name": "stdout",
     "output_type": "stream",
     "text": [
      "Error for image data/missing_images/124-18 Pho#_edc4e075-8f51-46e8-962b-03b013acec6a46.jpg\n"
     ]
    },
    {
     "name": "stderr",
     "output_type": "stream",
     "text": [
      "  8%|▊         | 70/914 [00:09<01:18, 10.79it/s]"
     ]
    },
    {
     "name": "stdout",
     "output_type": "stream",
     "text": [
      "Error for image data/missing_images/IMG_0002#_683bfe33-2831-4fe4-b514-e670254e95c8477.jpg\n"
     ]
    },
    {
     "name": "stderr",
     "output_type": "stream",
     "text": [
      "  9%|▉         | 82/914 [00:10<01:30,  9.14it/s]"
     ]
    },
    {
     "name": "stdout",
     "output_type": "stream",
     "text": [
      "Error for image data/missing_images/471#_ba751910-c041-4908-b595-d9d963a142321405.jpg\n"
     ]
    },
    {
     "name": "stderr",
     "output_type": "stream",
     "text": [
      "  9%|▉         | 86/914 [00:10<01:16, 10.76it/s]"
     ]
    },
    {
     "name": "stdout",
     "output_type": "stream",
     "text": [
      "Error for image data/missing_images/AVADAVALLI#_0d129288-6023-4934-9bc9-2d5d7089f1ca1382.jpg\n"
     ]
    },
    {
     "name": "stderr",
     "output_type": "stream",
     "text": [
      " 10%|▉         | 91/914 [00:11<01:11, 11.55it/s]"
     ]
    },
    {
     "name": "stdout",
     "output_type": "stream",
     "text": [
      "Error for image data/missing_images/Copy of DE#_d7087dc7-cf4d-46ce-8f2d-30b798d77cef1933.jpg\n"
     ]
    },
    {
     "name": "stderr",
     "output_type": "stream",
     "text": [
      " 10%|█         | 95/914 [00:11<01:12, 11.31it/s]"
     ]
    },
    {
     "name": "stdout",
     "output_type": "stream",
     "text": [
      "Error for image data/missing_images/479-18 POO#_5938e8ee-f192-4e24-8fe4-54849210f84e1002.jpg\n"
     ]
    },
    {
     "name": "stderr",
     "output_type": "stream",
     "text": [
      " 13%|█▎        | 122/914 [00:14<01:28,  8.99it/s]"
     ]
    },
    {
     "name": "stdout",
     "output_type": "stream",
     "text": [
      "Error for image data/missing_images/001#_141bfc8b-a3a6-4e88-9d12-e27b8e6534a31241.jpg\n"
     ]
    },
    {
     "name": "stderr",
     "output_type": "stream",
     "text": [
      " 15%|█▌        | 140/914 [00:16<01:17,  9.99it/s]"
     ]
    },
    {
     "name": "stdout",
     "output_type": "stream",
     "text": [
      "Error for image data/missing_images/448-18#_8f29964b-31fe-465c-90e1-77de112293531414.jpg\n"
     ]
    },
    {
     "name": "stderr",
     "output_type": "stream",
     "text": [
      " 21%|██        | 192/914 [00:21<01:02, 11.54it/s]"
     ]
    },
    {
     "name": "stdout",
     "output_type": "stream",
     "text": [
      "Error for image data/missing_images/230#_70ab9b76-ffcf-49c9-a41e-736f021e4c7f45.jpg\n",
      "Error for image data/missing_images/179-18 MAN#_e391e30b-b7f2-49fd-8893-6f0692f2a85d297.jpg\n"
     ]
    },
    {
     "name": "stderr",
     "output_type": "stream",
     "text": [
      " 24%|██▍       | 220/914 [00:25<01:43,  6.69it/s]"
     ]
    },
    {
     "name": "stdout",
     "output_type": "stream",
     "text": [
      "Error for image data/missing_images/107-18-pho#_ae0d8ef7-76f1-4780-95c5-780e9c5e36061812.jpg\n"
     ]
    },
    {
     "name": "stderr",
     "output_type": "stream",
     "text": [
      " 25%|██▍       | 226/914 [00:25<01:17,  8.83it/s]"
     ]
    },
    {
     "name": "stdout",
     "output_type": "stream",
     "text": [
      "Error for image data/missing_images/252#_5fcab76b-7d18-4cb8-b752-02b1f78381101005.jpg\n"
     ]
    },
    {
     "name": "stderr",
     "output_type": "stream",
     "text": [
      "\r",
      " 25%|██▍       | 228/914 [00:25<01:05, 10.45it/s]"
     ]
    },
    {
     "name": "stdout",
     "output_type": "stream",
     "text": [
      "Error for image data/missing_images/ABRAHAM000#_d0cf8435-b2d3-46c5-9f34-5b5b164af75a1800.jpg\n"
     ]
    },
    {
     "name": "stderr",
     "output_type": "stream",
     "text": [
      " 28%|██▊       | 255/914 [00:28<01:02, 10.58it/s]"
     ]
    },
    {
     "name": "stdout",
     "output_type": "stream",
     "text": [
      "Error for image data/missing_images/004#_fe3a0b52-65f5-41a4-8351-81dfcb6825a0754.jpg\n"
     ]
    },
    {
     "name": "stderr",
     "output_type": "stream",
     "text": [
      " 29%|██▊       | 262/914 [00:29<00:54, 12.06it/s]"
     ]
    },
    {
     "name": "stdout",
     "output_type": "stream",
     "text": [
      "Error for image data/missing_images/IMG_201809#_e85ec78f-503c-4c26-8bce-1743de71d6f2699.jpg\n"
     ]
    },
    {
     "name": "stderr",
     "output_type": "stream",
     "text": [
      "\r",
      " 29%|██▉       | 265/914 [00:29<00:53, 12.18it/s]"
     ]
    },
    {
     "name": "stdout",
     "output_type": "stream",
     "text": [
      "Error for image data/missing_images/001#_f93b3377-668d-4c06-8d57-8d6d8a01044c1366.jpg\n"
     ]
    },
    {
     "name": "stderr",
     "output_type": "stream",
     "text": [
      " 30%|██▉       | 271/914 [00:30<01:08,  9.40it/s]"
     ]
    },
    {
     "name": "stdout",
     "output_type": "stream",
     "text": [
      "Error for image data/missing_images/IMG_0001#_4441da66-8f5d-4f38-9cc0-040a397d147815.jpg\n"
     ]
    },
    {
     "name": "stderr",
     "output_type": "stream",
     "text": [
      " 32%|███▏      | 289/914 [00:32<01:05,  9.53it/s]"
     ]
    },
    {
     "name": "stdout",
     "output_type": "stream",
     "text": [
      "Error for image data/missing_images/209-2018 0#_156b9d0e-e3eb-4c50-a0e0-e24e985fc84f159.jpg\n"
     ]
    },
    {
     "name": "stderr",
     "output_type": "stream",
     "text": [
      " 33%|███▎      | 301/914 [00:34<01:12,  8.50it/s]"
     ]
    },
    {
     "name": "stdout",
     "output_type": "stream",
     "text": [
      "Error for image data/missing_images/20180909_1#_fc676c92-6081-44f4-8c1a-080ab1f27629392.jpg\n"
     ]
    },
    {
     "name": "stderr",
     "output_type": "stream",
     "text": [
      " 39%|███▊      | 352/914 [00:42<01:26,  6.46it/s]"
     ]
    },
    {
     "name": "stdout",
     "output_type": "stream",
     "text": [
      "Error for image data/missing_images/355-2018#_03fc97d3-9120-4b53-9ada-fc130d7d9b0f1098.jpg\n"
     ]
    },
    {
     "name": "stderr",
     "output_type": "stream",
     "text": [
      " 44%|████▍     | 404/914 [00:47<00:59,  8.61it/s]"
     ]
    },
    {
     "name": "stdout",
     "output_type": "stream",
     "text": [
      "Error for image data/missing_images/481#_17d56732-1ca9-45f4-8ab3-3beff6cf1c341405.jpg\n",
      "Error for image data/missing_images/ledy#_12c99153-12da-4a39-8a92-15a29e48d0ae2123.jpg\n"
     ]
    },
    {
     "name": "stderr",
     "output_type": "stream",
     "text": [
      " 46%|████▌     | 420/914 [00:49<00:52,  9.32it/s]"
     ]
    },
    {
     "name": "stdout",
     "output_type": "stream",
     "text": [
      "Error for image data/missing_images/479-18 KAV#_27d8fe97-b870-4b3d-a0f3-e1d47066bd7d1002.jpg\n"
     ]
    },
    {
     "name": "stderr",
     "output_type": "stream",
     "text": [
      " 47%|████▋     | 431/914 [00:50<00:58,  8.28it/s]"
     ]
    },
    {
     "name": "stdout",
     "output_type": "stream",
     "text": [
      "Error for image data/missing_images/479-18 NAN#_1143dfbd-8050-40a3-b622-9fbfb168c3461002.jpg\n"
     ]
    },
    {
     "name": "stderr",
     "output_type": "stream",
     "text": [
      " 48%|████▊     | 437/914 [00:51<00:59,  8.01it/s]"
     ]
    },
    {
     "name": "stdout",
     "output_type": "stream",
     "text": [
      "Error for image data/missing_images/167 003#_53ee48e7-055a-4cc4-b8fd-ca478821a6a7272.jpg\n"
     ]
    },
    {
     "name": "stderr",
     "output_type": "stream",
     "text": [
      " 51%|█████     | 467/914 [00:54<00:44, 10.13it/s]"
     ]
    },
    {
     "name": "stdout",
     "output_type": "stream",
     "text": [
      "Error for image data/missing_images/PHOTO#_1132cc42-6e78-4ad1-a34f-9880999ab7631797.jpg\n"
     ]
    },
    {
     "name": "stderr",
     "output_type": "stream",
     "text": [
      " 53%|█████▎    | 485/914 [00:56<00:41, 10.40it/s]"
     ]
    },
    {
     "name": "stdout",
     "output_type": "stream",
     "text": [
      "Error for image data/missing_images/559#_68f6d52c-5d0d-494c-8120-93964ab9f48d858.jpg\n"
     ]
    },
    {
     "name": "stderr",
     "output_type": "stream",
     "text": [
      " 57%|█████▋    | 517/914 [00:59<00:28, 13.76it/s]"
     ]
    },
    {
     "name": "stdout",
     "output_type": "stream",
     "text": [
      "Error for image data/missing_images/479-18 PRU#_d585995d-eca6-4dbe-a0c9-dae50c9871d61002.jpg\n"
     ]
    },
    {
     "name": "stderr",
     "output_type": "stream",
     "text": [
      " 58%|█████▊    | 527/914 [01:00<00:43,  8.82it/s]"
     ]
    },
    {
     "name": "stdout",
     "output_type": "stream",
     "text": [
      "Error for image data/missing_images/5061#_960a5e3d-f40e-46fd-854b-ff71a6d027912123.jpg\n",
      "Error for image data/missing_images/298-3#_2d5247d6-15f0-4185-9e13-be17d92e33101797.jpg\n"
     ]
    },
    {
     "name": "stderr",
     "output_type": "stream",
     "text": [
      " 58%|█████▊    | 532/914 [01:01<00:35, 10.62it/s]"
     ]
    },
    {
     "name": "stdout",
     "output_type": "stream",
     "text": [
      "Error for image data/missing_images/CR NO 475#_0a04b987-5171-4dc5-99da-c721b999f8431405.jpg\n"
     ]
    },
    {
     "name": "stderr",
     "output_type": "stream",
     "text": [
      " 60%|██████    | 551/914 [01:02<00:34, 10.63it/s]"
     ]
    },
    {
     "name": "stdout",
     "output_type": "stream",
     "text": [
      "Error for image data/missing_images/364-201 PH#_238407a4-cecc-42dc-bd97-0c908e8eddcc314.jpg\n"
     ]
    },
    {
     "name": "stderr",
     "output_type": "stream",
     "text": [
      " 64%|██████▍   | 588/914 [01:06<00:29, 10.99it/s]"
     ]
    },
    {
     "name": "stdout",
     "output_type": "stream",
     "text": [
      "Error for image data/missing_images/IMG_201809#_bf7e6cdd-21cf-4c11-acef-ea1bcde748742208.jpg\n"
     ]
    },
    {
     "name": "stderr",
     "output_type": "stream",
     "text": [
      "\r",
      " 65%|██████▍   | 590/914 [01:06<00:27, 11.79it/s]"
     ]
    },
    {
     "name": "stdout",
     "output_type": "stream",
     "text": [
      "Error for image data/missing_images/P_20180904#_c87bae0c-24d6-4e00-b86a-3c8c969e2c231566.jpg\n"
     ]
    },
    {
     "name": "stderr",
     "output_type": "stream",
     "text": [
      " 66%|██████▋   | 607/914 [01:08<00:27, 11.07it/s]"
     ]
    },
    {
     "name": "stdout",
     "output_type": "stream",
     "text": [
      "Error for image data/missing_images/THIMMAs#_1e2e1bfe-978e-4969-bf59-cf1bbb28b72a1000.jpg\n"
     ]
    },
    {
     "name": "stderr",
     "output_type": "stream",
     "text": [
      " 68%|██████▊   | 617/914 [01:08<00:21, 13.69it/s]"
     ]
    },
    {
     "name": "stdout",
     "output_type": "stream",
     "text": [
      "Error for image data/missing_images/Phot Not A#_52ef9f1d-b1b0-4631-85f0-372c984ed398809.jpg\n"
     ]
    },
    {
     "name": "stderr",
     "output_type": "stream",
     "text": [
      "\r",
      " 68%|██████▊   | 619/914 [01:09<00:22, 13.02it/s]"
     ]
    },
    {
     "name": "stdout",
     "output_type": "stream",
     "text": [
      "Error for image data/missing_images/506#_b447fba5-8afd-41a6-9722-64f12260f3b71428.jpg\n"
     ]
    },
    {
     "name": "stderr",
     "output_type": "stream",
     "text": [
      " 71%|███████   | 647/914 [01:11<00:23, 11.19it/s]"
     ]
    },
    {
     "name": "stdout",
     "output_type": "stream",
     "text": [
      "Error for image data/missing_images/IMG_0002#_56ad8c17-7ed5-4202-812b-547d5a600515868.jpg\n"
     ]
    },
    {
     "name": "stderr",
     "output_type": "stream",
     "text": [
      " 72%|███████▏  | 657/914 [01:12<00:24, 10.68it/s]"
     ]
    },
    {
     "name": "stdout",
     "output_type": "stream",
     "text": [
      "Error for image data/missing_images/scan0008#_42e6004b-c531-4c97-9b72-fc0396ae91c71084.jpg\n"
     ]
    },
    {
     "name": "stderr",
     "output_type": "stream",
     "text": [
      " 80%|███████▉  | 730/914 [01:20<00:18, 10.21it/s]"
     ]
    },
    {
     "name": "stdout",
     "output_type": "stream",
     "text": [
      "Error for image data/missing_images/IMG_0001#_17ef2dc5-2161-4ba3-9997-eff88d23a31e2160.jpg\n"
     ]
    },
    {
     "name": "stderr",
     "output_type": "stream",
     "text": [
      " 80%|████████  | 734/914 [01:20<00:19,  9.36it/s]"
     ]
    },
    {
     "name": "stdout",
     "output_type": "stream",
     "text": [
      "Error for image data/missing_images/IMG_0004#_21042053-c2bc-46bd-a158-18eb9d12e852401.jpg\n"
     ]
    },
    {
     "name": "stderr",
     "output_type": "stream",
     "text": [
      " 81%|████████  | 741/914 [01:21<00:17, 10.09it/s]"
     ]
    },
    {
     "name": "stdout",
     "output_type": "stream",
     "text": [
      "Error for image data/missing_images/95-18#_e643e876-e62f-47d4-a223-cc7fbfac226c342.jpg\n"
     ]
    },
    {
     "name": "stderr",
     "output_type": "stream",
     "text": [
      " 84%|████████▍ | 766/914 [01:24<00:15,  9.35it/s]"
     ]
    },
    {
     "name": "stdout",
     "output_type": "stream",
     "text": [
      "Error for image data/missing_images/Scan0001#_c5f66720-f643-4af7-9bae-234619be29dd2160.jpg\n"
     ]
    },
    {
     "name": "stderr",
     "output_type": "stream",
     "text": [
      " 86%|████████▌ | 784/914 [01:26<00:18,  7.02it/s]"
     ]
    },
    {
     "name": "stdout",
     "output_type": "stream",
     "text": [
      "Error for image data/missing_images/211-18 001#_d4e37741-d032-4cfb-aaf9-2eee1ad87a401014.jpg\n"
     ]
    },
    {
     "name": "stderr",
     "output_type": "stream",
     "text": [
      " 88%|████████▊ | 802/914 [01:28<00:14,  7.79it/s]"
     ]
    },
    {
     "name": "stdout",
     "output_type": "stream",
     "text": [
      "Error for image data/missing_images/437-18Phot#_0226cc61-d2a2-4d87-93c6-426dac78f4511363.jpg\n"
     ]
    },
    {
     "name": "stderr",
     "output_type": "stream",
     "text": [
      " 89%|████████▊ | 810/914 [01:29<00:13,  7.62it/s]"
     ]
    },
    {
     "name": "stdout",
     "output_type": "stream",
     "text": [
      "Error for image data/missing_images/251-2018 m#_101ef7fb-914a-4766-a77e-fafe16a216651478.jpg\n"
     ]
    },
    {
     "name": "stderr",
     "output_type": "stream",
     "text": [
      " 90%|█████████ | 827/914 [01:31<00:09,  9.11it/s]"
     ]
    },
    {
     "name": "stdout",
     "output_type": "stream",
     "text": [
      "Error for image data/missing_images/146-18#_07c0d3bb-77fc-4a34-a478-7dee473f73d11505.jpg\n"
     ]
    },
    {
     "name": "stderr",
     "output_type": "stream",
     "text": [
      " 94%|█████████▍| 861/914 [01:34<00:04, 11.29it/s]"
     ]
    },
    {
     "name": "stdout",
     "output_type": "stream",
     "text": [
      "Error for image data/missing_images/Sahan C#_1bba48ec-9ecc-4c13-8d8a-3d8cd5dc5bb050.jpg\n",
      "Error for image data/missing_images/439-2018#_ecc06694-2a58-4847-a843-ee364838f408253.jpg\n"
     ]
    },
    {
     "name": "stderr",
     "output_type": "stream",
     "text": [
      " 95%|█████████▍| 866/914 [01:34<00:03, 14.61it/s]"
     ]
    },
    {
     "name": "stdout",
     "output_type": "stream",
     "text": [
      "Error for image data/missing_images/139-18#_4fc845ca-6c45-4a08-b0d5-28b8462dd0711495.jpg\n"
     ]
    },
    {
     "name": "stderr",
     "output_type": "stream",
     "text": [
      " 97%|█████████▋| 884/914 [01:36<00:02, 10.49it/s]"
     ]
    },
    {
     "name": "stdout",
     "output_type": "stream",
     "text": [
      "Error for image data/missing_images/CR NO-237-#_5823569b-9a0c-4315-917f-26e4c01603141080.jpg\n",
      "Error for image data/missing_images/CR 417#_eae1f0d0-f57a-40c7-8e93-cc776306cb3b258.jpg\n"
     ]
    },
    {
     "name": "stderr",
     "output_type": "stream",
     "text": [
      " 97%|█████████▋| 888/914 [01:36<00:02, 11.25it/s]"
     ]
    },
    {
     "name": "stdout",
     "output_type": "stream",
     "text": [
      "Error for image data/missing_images/243#_a9795567-dc91-43f5-ac60-d4bc08d25a841402.jpg\n"
     ]
    },
    {
     "name": "stderr",
     "output_type": "stream",
     "text": [
      "100%|██████████| 914/914 [01:39<00:00,  9.22it/s]"
     ]
    },
    {
     "name": "stdout",
     "output_type": "stream",
     "text": [
      "Error for image data/missing_images/IMG_201809#_86fb0b17-bb01-4a95-8a11-edd00c67528d1421.jpg\n"
     ]
    },
    {
     "name": "stderr",
     "output_type": "stream",
     "text": [
      "\n"
     ]
    }
   ],
   "source": [
    "known_face_encodings = [] # Create an empty list for saving encoded files\n",
    "error_images_encoding=[]\n",
    "known_face_names = []\n",
    "for img in tqdm(image_list_f):\n",
    "    try:\n",
    "        image = face_recognition.load_image_file(img)\n",
    "        image_encoding = face_recognition.face_encodings(image)\n",
    "        known_face_encodings.append(image_encoding[0]) # Append the results to encoding_for_file list \n",
    "        known_face_names.append(img)\n",
    "    except:\n",
    "        print(\"Error for image\", img)\n",
    "        error_images_encoding.append(image)\n",
    "        continue\n"
   ]
  },
  {
   "cell_type": "code",
   "execution_count": 905,
   "metadata": {},
   "outputs": [
    {
     "data": {
      "text/plain": [
       "859"
      ]
     },
     "execution_count": 905,
     "metadata": {},
     "output_type": "execute_result"
    }
   ],
   "source": [
    "len(known_face_encodings)"
   ]
  },
  {
   "cell_type": "code",
   "execution_count": 906,
   "metadata": {},
   "outputs": [
    {
     "data": {
      "text/plain": [
       "55"
      ]
     },
     "execution_count": 906,
     "metadata": {},
     "output_type": "execute_result"
    }
   ],
   "source": [
    "len(error_images_encoding)"
   ]
  },
  {
   "cell_type": "code",
   "execution_count": 907,
   "metadata": {},
   "outputs": [
    {
     "data": {
      "text/plain": [
       "859"
      ]
     },
     "execution_count": 907,
     "metadata": {},
     "output_type": "execute_result"
    }
   ],
   "source": [
    "len(known_face_names)"
   ]
  },
  {
   "cell_type": "markdown",
   "metadata": {},
   "source": [
    "# Test Face Encodings"
   ]
  },
  {
   "cell_type": "code",
   "execution_count": 912,
   "metadata": {},
   "outputs": [],
   "source": [
    "# my_dir =  # Folder where all your image files reside. Ensure it ends with '/\n",
    "\n",
    "def img_list():\n",
    "    format_img = ['.jpg', '.jpeg', '.png']\n",
    "    final = []\n",
    "    for i in format_img:\n",
    "        image_list= glob.glob(\"data/Want to find/Images/ArrestPerson_images/ArrestPerson_images/*.jpg\")\n",
    "        #image_list = glob.glob(\"data/Want to find/*\"+i)\n",
    "        for j in image_list:\n",
    "            final.append(j)\n",
    "    return final\n",
    "        \n",
    "\n",
    "image_list = img_list()\n",
    "\n",
    "\n"
   ]
  },
  {
   "cell_type": "code",
   "execution_count": 913,
   "metadata": {},
   "outputs": [
    {
     "data": {
      "text/plain": [
       "['data/Want to find/Images/ArrestPerson_images/ArrestPerson_images/Blank Phot#_4ecc5f86-a712-4095-8612-cc8e2c1f0aef319.jpg',\n",
       " 'data/Want to find/Images/ArrestPerson_images/ArrestPerson_images/IMG-201810#_39b82f43-6294-475f-b5ec-5847dcee03491241.jpg',\n",
       " 'data/Want to find/Images/ArrestPerson_images/ArrestPerson_images/20190214_2#_d9fd54dc-e5de-4f61-86ed-226665c4bc0b1238.jpg',\n",
       " 'data/Want to find/Images/ArrestPerson_images/ArrestPerson_images/scan0024#_5c06ddf1-a811-45d1-89ac-2aadead112d5311.jpg',\n",
       " 'data/Want to find/Images/ArrestPerson_images/ArrestPerson_images/cr no 135-#_df9d1256-bc43-48ec-a8d1-46d1ad3970e31507.jpg',\n",
       " 'data/Want to find/Images/ArrestPerson_images/ArrestPerson_images/137-2018#_b8b683d6-c494-42f6-8620-bba5cfcd18901241.jpg',\n",
       " 'data/Want to find/Images/ArrestPerson_images/ArrestPerson_images/PHOTO#_e261d057-9663-42db-a3a8-e89773da286b323.jpg',\n",
       " 'data/Want to find/Images/ArrestPerson_images/ArrestPerson_images/PHOTO - Co#_83adfae8-218c-4bd1-9dc1-c6c3d340a9db1485.jpg',\n",
       " 'data/Want to find/Images/ArrestPerson_images/ArrestPerson_images/IMG-201807#_69311b0b-9822-4ba5-9c69-6e9dc50e968e1893.jpg',\n",
       " 'data/Want to find/Images/ArrestPerson_images/ArrestPerson_images/Sangappa c#_5dc1f4f4-22e9-425d-9884-00bd46416c8c1241.jpg',\n",
       " 'data/Want to find/Images/ArrestPerson_images/ArrestPerson_images/119#_a406f44f-42a2-414b-8488-994a90ecf17f1262.jpg',\n",
       " 'data/Want to find/Images/ArrestPerson_images/ArrestPerson_images/CR NO 127 #_9215e892-8d3e-4f7b-ba08-0ed6ab54f9891253.jpg',\n",
       " 'data/Want to find/Images/ArrestPerson_images/ArrestPerson_images/Cr no#_2b8dad72-4103-4357-b7fd-687351384a4a1256.jpg',\n",
       " 'data/Want to find/Images/ArrestPerson_images/ArrestPerson_images/Blank Phot#_9077a8db-131f-44eb-b424-a24d5d06af49319.jpg',\n",
       " 'data/Want to find/Images/ArrestPerson_images/ArrestPerson_images/PHOTO - Co#_aa18ff0c-a455-42bb-9c02-ac95c2dd1f981485.jpg',\n",
       " 'data/Want to find/Images/ArrestPerson_images/ArrestPerson_images/57-2018#_93890ac5-dcb2-4bdb-9ae7-ec64e1d188c3305.jpg',\n",
       " 'data/Want to find/Images/ArrestPerson_images/ArrestPerson_images/IMG_201807#_ebe20986-7a3c-479f-bacc-c59c7210bcde346.jpg',\n",
       " 'data/Want to find/Images/ArrestPerson_images/ArrestPerson_images/IMG_201804#_6c9dab93-c9db-4602-a6df-7e2db51fa9d41239.jpg',\n",
       " 'data/Want to find/Images/ArrestPerson_images/ArrestPerson_images/IMG ANK#_e85d80a7-47c3-404a-8c3a-13238ee0c506324.jpg',\n",
       " 'data/Want to find/Images/ArrestPerson_images/ArrestPerson_images/FB_IMG_153#_38861dc8-0d9a-4983-b045-f04ff0529ed91234.jpg',\n",
       " 'data/Want to find/Images/ArrestPerson_images/ArrestPerson_images/Hanumantha#_2a498268-6ad5-440a-92ee-d202d6e37f84357.jpg',\n",
       " 'data/Want to find/Images/ArrestPerson_images/ArrestPerson_images/V Marappa#_786754a7-5866-4d11-87a3-9738afc01fa61502.jpg',\n",
       " 'data/Want to find/Images/ArrestPerson_images/ArrestPerson_images/IMG_0014#_434da150-d373-4941-9bfd-99a246f10af7298.jpg',\n",
       " 'data/Want to find/Images/ArrestPerson_images/ArrestPerson_images/A5-Mahabas#_382cf320-d798-466b-9d3e-30c024408ae9356.jpg',\n",
       " 'data/Want to find/Images/ArrestPerson_images/ArrestPerson_images/Untitled54#_1ad3ece2-a10a-4a5d-8882-27a43cbe2b0d1234.jpg',\n",
       " 'data/Want to find/Images/ArrestPerson_images/ArrestPerson_images/151-6,7#_78618ab4-a867-4dd7-89cc-356c9a7780031247.jpg',\n",
       " 'data/Want to find/Images/ArrestPerson_images/ArrestPerson_images/20180628_1#_c617cabd-ae52-4095-9197-c94da023005f1507.jpg',\n",
       " 'data/Want to find/Images/ArrestPerson_images/ArrestPerson_images/IMG_0002#_8106dbbc-9325-4bbb-95cf-c4ac9cb990392189.jpg',\n",
       " 'data/Want to find/Images/ArrestPerson_images/ArrestPerson_images/01 001#_bb7c6c23-2643-4054-9078-89c5eb78f3391473.jpg',\n",
       " 'data/Want to find/Images/ArrestPerson_images/ArrestPerson_images/Untitled54#_fbd6290b-e076-4809-aadc-50ddcf682fd41241.jpg',\n",
       " 'data/Want to find/Images/ArrestPerson_images/ArrestPerson_images/IMG-201807#_86f5de6b-2f12-49be-a87d-510c7da5dabc1455.jpg',\n",
       " 'data/Want to find/Images/ArrestPerson_images/ArrestPerson_images/135#_28f8f2c9-5bc1-45f1-8f3c-ac283103ac641456.jpg',\n",
       " 'data/Want to find/Images/ArrestPerson_images/ArrestPerson_images/ppppppp_00#_33b12ef1-edd9-4a7b-90c4-e649a2f5a0401460.jpg',\n",
       " 'data/Want to find/Images/ArrestPerson_images/ArrestPerson_images/105#_b8e15a40-d9a5-40a0-8049-b43a79a6fef21250.jpg',\n",
       " 'data/Want to find/Images/ArrestPerson_images/ArrestPerson_images/03-18#_42954c25-0d48-4958-83ed-c49d4c18169e348.jpg',\n",
       " 'data/Want to find/Images/ArrestPerson_images/ArrestPerson_images/PHOTO - Co#_ae046f9b-e6f3-452f-8c67-52daec080ff81485.jpg',\n",
       " 'data/Want to find/Images/ArrestPerson_images/ArrestPerson_images/Cr NO#_c37e299b-3a7a-4829-9446-9c05197c99322205.jpg',\n",
       " 'data/Want to find/Images/ArrestPerson_images/ArrestPerson_images/94#_373e9ff6-9cb6-4eee-a727-f5088267521b363.jpg',\n",
       " 'data/Want to find/Images/ArrestPerson_images/ArrestPerson_images/6#_c12be077-efb6-4eb9-84ad-9be22182baed1241.jpg',\n",
       " 'data/Want to find/Images/ArrestPerson_images/ArrestPerson_images/151-8,9#_8c2a2495-7e8c-4fde-aaf7-502c1a730f001247.jpg',\n",
       " 'data/Want to find/Images/ArrestPerson_images/ArrestPerson_images/IMAGE 001#_4c0a51a4-0641-4ef4-85eb-9d202b9af7811486.jpg',\n",
       " 'data/Want to find/Images/ArrestPerson_images/ArrestPerson_images/PHOTO#_15ced599-9353-4321-a23e-d0e6945463bc323.jpg',\n",
       " 'data/Want to find/Images/ArrestPerson_images/ArrestPerson_images/25_06_2018#_6c4e97f3-0998-4382-92fd-826da85550b11509.jpg',\n",
       " 'data/Want to find/Images/ArrestPerson_images/ArrestPerson_images/CR#_2e534cd4-cc70-47df-887e-680d721190db344.jpg',\n",
       " 'data/Want to find/Images/ArrestPerson_images/ArrestPerson_images/60-2018#_11effd2d-1dda-4a48-868a-83700f947653305.jpg',\n",
       " 'data/Want to find/Images/ArrestPerson_images/ArrestPerson_images/IMG-201805#_3c146d99-112a-4107-b928-04da04c417f71263.jpg',\n",
       " 'data/Want to find/Images/ArrestPerson_images/ArrestPerson_images/CR 73 Pury#_07fcb3a2-d79c-40c2-ad18-9cc8812ea51b1508.jpg',\n",
       " 'data/Want to find/Images/ArrestPerson_images/ArrestPerson_images/Jagadesh#_6871abdd-0d71-4835-96c0-5273fc3782d8362.jpg',\n",
       " 'data/Want to find/Images/ArrestPerson_images/ArrestPerson_images/IMG_0001#_f291987a-063b-4ec7-a8b9-6d3429a48e0e1456.jpg',\n",
       " 'data/Want to find/Images/ArrestPerson_images/ArrestPerson_images/Honnuraswa#_0c854e0f-ca18-47ab-8900-9e4c345edaaf1502.jpg',\n",
       " 'data/Want to find/Images/ArrestPerson_images/ArrestPerson_images/Shekshaval#_b68e7bf8-fefb-4f51-8ef6-edf5eb5ca9951502.jpg',\n",
       " 'data/Want to find/Images/ArrestPerson_images/ArrestPerson_images/CR#_e64a2b4b-eba2-47f7-b668-9c717b2444e0344.jpg',\n",
       " 'data/Want to find/Images/ArrestPerson_images/ArrestPerson_images/PHOTO - Co#_b068675f-c44f-4a15-a03b-5626fc2bfb3c1485.jpg',\n",
       " 'data/Want to find/Images/ArrestPerson_images/ArrestPerson_images/65-2018#_3e9d6441-43c2-4e89-8181-4444329359d9305.jpg',\n",
       " 'data/Want to find/Images/ArrestPerson_images/ArrestPerson_images/16#_99747776-1530-483f-b3ff-93bb0b8905c2311.jpg',\n",
       " 'data/Want to find/Images/ArrestPerson_images/ArrestPerson_images/_IMG_0001#_bc33b03a-94b8-46ac-b9f3-d44cf7fe5931337.jpg',\n",
       " 'data/Want to find/Images/ArrestPerson_images/ArrestPerson_images/29_06_2018#_1ce31fc0-476d-4c6e-a740-be39ab7383231509.jpg',\n",
       " 'data/Want to find/Images/ArrestPerson_images/ArrestPerson_images/Masum lade#_9f3d1758-0ab5-4960-895a-ab41046bd1521241.jpg',\n",
       " 'data/Want to find/Images/ArrestPerson_images/ArrestPerson_images/Blank Phot#_d61ff7a6-61c4-4f6a-9842-842290126bbf319.jpg',\n",
       " 'data/Want to find/Images/ArrestPerson_images/ArrestPerson_images/Cr no#_2db7f113-59d4-4c85-8f70-94d5700f8a981256.jpg',\n",
       " 'data/Want to find/Images/ArrestPerson_images/ArrestPerson_images/CR NO 124 #_4b0c6cb9-a37e-443b-bce4-37a32873e5191253.jpg',\n",
       " 'data/Want to find/Images/ArrestPerson_images/ArrestPerson_images/Untitled54#_065b65d6-ae7c-4796-a347-d90584efea8c1244.jpg',\n",
       " 'data/Want to find/Images/ArrestPerson_images/ArrestPerson_images/IMG_0005#_7c74ded9-1e5e-4468-b9ab-f35181e107dd2189.jpg',\n",
       " 'data/Want to find/Images/ArrestPerson_images/ArrestPerson_images/001#_6954e0b3-3915-4819-9670-83dad5b428801257.jpg',\n",
       " 'data/Want to find/Images/ArrestPerson_images/ArrestPerson_images/G M Rajann#_f1bcde5c-27a3-4ff0-a3c4-ed7cdde7f4691502.jpg',\n",
       " 'data/Want to find/Images/ArrestPerson_images/ArrestPerson_images/IMG-201806#_21331396-307f-4444-94c5-fc50b4dd2bc91245.jpg',\n",
       " 'data/Want to find/Images/ArrestPerson_images/ArrestPerson_images/IMAGE 001#_2b928b64-2380-45b2-a578-dfc79f40bf5a1486.jpg',\n",
       " 'data/Want to find/Images/ArrestPerson_images/ArrestPerson_images/108-5#_96911e31-2357-4f45-84c8-2b53de247cf51249.jpg',\n",
       " 'data/Want to find/Images/ArrestPerson_images/ArrestPerson_images/EXTRA#_33517d8d-b995-41c2-9cff-d1f5ede5f9f51464.jpg',\n",
       " 'data/Want to find/Images/ArrestPerson_images/ArrestPerson_images/107#_8e58d932-8f0e-48c3-b7c1-18af7b04fe82363.jpg',\n",
       " 'data/Want to find/Images/ArrestPerson_images/ArrestPerson_images/CRNO-110-1#_b2800bfc-393e-4c3a-9129-5ea6fc15647c1437.jpg',\n",
       " 'data/Want to find/Images/ArrestPerson_images/ArrestPerson_images/IMG2018070#_6f4793d0-227e-464c-9503-5a090e20ee601245.jpg',\n",
       " 'data/Want to find/Images/ArrestPerson_images/ArrestPerson_images/A10-Ananda#_f6091aba-5005-4abd-b526-a1a2387de3a2356.jpg',\n",
       " 'data/Want to find/Images/ArrestPerson_images/ArrestPerson_images/IMG_0001#_0e60301a-0779-4524-87e9-5e92670dfdd52189.jpg',\n",
       " 'data/Want to find/Images/ArrestPerson_images/ArrestPerson_images/161#_0c58686c-9502-40fe-aa72-a1c3fea3d7c91247.jpg',\n",
       " 'data/Want to find/Images/ArrestPerson_images/ArrestPerson_images/96-2018#_100e0bdf-0dcb-489c-a712-4027799d47e2337.jpg',\n",
       " 'data/Want to find/Images/ArrestPerson_images/ArrestPerson_images/Galiswamy#_a67954ad-7221-4d13-98b1-d82d278938ee351.jpg',\n",
       " 'data/Want to find/Images/ArrestPerson_images/ArrestPerson_images/55-2018#_5eef3a66-2807-4015-8118-9dd1af905cf2305.jpg',\n",
       " 'data/Want to find/Images/ArrestPerson_images/ArrestPerson_images/PSR#_9edac079-b61c-4627-b3bb-ff8b46128f60296.jpg',\n",
       " 'data/Want to find/Images/ArrestPerson_images/ArrestPerson_images/40-18 ACCU#_0c36e32b-4ce7-4f59-b93c-63bfccf4912f1237.jpg',\n",
       " 'data/Want to find/Images/ArrestPerson_images/ArrestPerson_images/Cr No-79-2#_4fc7bb44-7999-4865-a5d1-cb6337a2d1611467.jpg',\n",
       " 'data/Want to find/Images/ArrestPerson_images/ArrestPerson_images/12_06_2018#_9e6ca1a4-0811-495d-84bd-1d0e04d5a71d1509.jpg',\n",
       " 'data/Want to find/Images/ArrestPerson_images/ArrestPerson_images/CR 211-201#_0b43c645-3338-48bf-87d2-aa3f1ff94fd31255.jpg',\n",
       " 'data/Want to find/Images/ArrestPerson_images/ArrestPerson_images/A-2#_f2f6a42d-39ee-4883-856d-e96f62cddb7e351.jpg',\n",
       " 'data/Want to find/Images/ArrestPerson_images/ArrestPerson_images/001#_5bc460c2-824a-4f6d-97b8-6cc707cd0dde1244.jpg',\n",
       " 'data/Want to find/Images/ArrestPerson_images/ArrestPerson_images/119#_e5779dc5-66c1-4b5d-a802-b2d832e2144c1262.jpg',\n",
       " 'data/Want to find/Images/ArrestPerson_images/ArrestPerson_images/CR No 130-#_ac777e73-2088-461e-897f-124e835c86621502.jpg',\n",
       " 'data/Want to find/Images/ArrestPerson_images/ArrestPerson_images/IMG_201809#_2c027916-f5bb-4bb1-b277-5eb79a0724e6318.jpg',\n",
       " 'data/Want to find/Images/ArrestPerson_images/ArrestPerson_images/28_07_2018#_1fc09b9e-5c08-4d47-ac6b-4d3c2191a2f21509.jpg',\n",
       " 'data/Want to find/Images/ArrestPerson_images/ArrestPerson_images/IMG-201810#_7e2c0731-93f4-4e52-bedc-530df23ebcd41257.jpg',\n",
       " 'data/Want to find/Images/ArrestPerson_images/ArrestPerson_images/CR NO 97#_12df6f49-7347-424c-842c-136095974cbc1258.jpg',\n",
       " 'data/Want to find/Images/ArrestPerson_images/ArrestPerson_images/234-2018  #_7968233c-802e-46f6-9731-49f570ddeefd338.jpg',\n",
       " 'data/Want to find/Images/ArrestPerson_images/ArrestPerson_images/PHOTO - Co#_530f9940-2c26-40da-a5d0-f53e898e37001485.jpg',\n",
       " 'data/Want to find/Images/ArrestPerson_images/ArrestPerson_images/PSR#_b77ff9f8-6fdc-479d-a40d-5265b618aee6296.jpg',\n",
       " 'data/Want to find/Images/ArrestPerson_images/ArrestPerson_images/YADAWAD#_7588335e-199e-47e7-ac1c-71fd0fe270c91255.jpg',\n",
       " 'data/Want to find/Images/ArrestPerson_images/ArrestPerson_images/IMAGE 001#_72750245-556e-46c1-9842-938efdf98baf1486.jpg',\n",
       " 'data/Want to find/Images/ArrestPerson_images/ArrestPerson_images/Faruqahama#_f99efd9d-70d4-4b38-ab93-42be652e442d1236.jpg',\n",
       " 'data/Want to find/Images/ArrestPerson_images/ArrestPerson_images/GNPS- Crim#_6d53974d-6c60-4ae9-94b6-65c725503567335.jpg',\n",
       " 'data/Want to find/Images/ArrestPerson_images/ArrestPerson_images/PPT-13-11-#_4a1697dd-6a16-411b-aa34-a494bddb68b42240.jpg',\n",
       " 'data/Want to find/Images/ArrestPerson_images/ArrestPerson_images/Cr no#_95d0d913-8b26-4017-bb46-0954f173419d1256.jpg',\n",
       " 'data/Want to find/Images/ArrestPerson_images/ArrestPerson_images/ACCUED NOT#_a50d92cf-4563-4304-affb-f635da42f5fa303.jpg',\n",
       " 'data/Want to find/Images/ArrestPerson_images/ArrestPerson_images/_IMG#_4dffd4db-3c52-4bc4-8538-0b5cd38bbe7d337.jpg',\n",
       " 'data/Want to find/Images/ArrestPerson_images/ArrestPerson_images/20180624_2#_0c760c62-1f81-4cc2-9fbd-c8fe46639b601507.jpg',\n",
       " 'data/Want to find/Images/ArrestPerson_images/ArrestPerson_images/24_06_2018#_0505a2f5-2dcf-4e65-98e5-79771cfea3ec1509.jpg',\n",
       " 'data/Want to find/Images/ArrestPerson_images/ArrestPerson_images/PHOTO - Co#_072455c0-bd68-431c-b38f-482f128e12451485.jpg',\n",
       " 'data/Want to find/Images/ArrestPerson_images/ArrestPerson_images/IMG_0014#_714dd455-1704-4849-a024-f68f35ff3261298.jpg',\n",
       " 'data/Want to find/Images/ArrestPerson_images/ArrestPerson_images/CR NO-108-#_e061afad-1617-40c0-b928-6db17425a86b365.jpg',\n",
       " 'data/Want to find/Images/ArrestPerson_images/ArrestPerson_images/PHOTO - Co#_acae6ecd-493a-409a-ac08-2f5c076f24fe1485.jpg',\n",
       " 'data/Want to find/Images/ArrestPerson_images/ArrestPerson_images/A-1 SANTOS#_ea273d75-090a-47cc-9a40-e71cc67617e81442.jpg',\n",
       " 'data/Want to find/Images/ArrestPerson_images/ArrestPerson_images/20180701_1#_7793188e-fe93-46ef-8bd8-d9e929a593c31482.jpg',\n",
       " 'data/Want to find/Images/ArrestPerson_images/ArrestPerson_images/PHOTO - Co#_fe0e31ba-e258-4a60-9a90-dab462d5e0401485.jpg',\n",
       " 'data/Want to find/Images/ArrestPerson_images/ArrestPerson_images/28_07_2018#_4385c807-4738-4a30-b537-d7eb7057a40a1509.jpg',\n",
       " 'data/Want to find/Images/ArrestPerson_images/ArrestPerson_images/IMAGE 001#_dc5fd9a3-705e-4a16-9bb6-e6f68f51dd931486.jpg',\n",
       " 'data/Want to find/Images/ArrestPerson_images/ArrestPerson_images/163-C#_e54659b8-2c3d-45c8-952d-1abe9f049d271247.jpg',\n",
       " 'data/Want to find/Images/ArrestPerson_images/ArrestPerson_images/Bomma#_d3da48ce-ed34-4bba-a56d-6a44d39cf0b6363.jpg',\n",
       " 'data/Want to find/Images/ArrestPerson_images/ArrestPerson_images/ppppppp_00#_9e2e8b39-a521-423b-958c-50c9f36b8fb01460.jpg',\n",
       " 'data/Want to find/Images/ArrestPerson_images/ArrestPerson_images/PSR-2018#_6b6e137c-1053-4944-9938-287b516efc1c1505.jpg',\n",
       " 'data/Want to find/Images/ArrestPerson_images/ArrestPerson_images/IMG_201807#_81cd7b60-8e23-487b-b505-90727c8e73c8346.jpg',\n",
       " 'data/Want to find/Images/ArrestPerson_images/ArrestPerson_images/A-4 MAHESH#_3664e3b4-a42a-4c54-a79c-c7b9997c83491442.jpg',\n",
       " 'data/Want to find/Images/ArrestPerson_images/ArrestPerson_images/155-18 001#_86a4d97e-9aa4-4b33-94e2-920da2c347d81486.jpg',\n",
       " 'data/Want to find/Images/ArrestPerson_images/ArrestPerson_images/45-18 001#_941e272e-40a2-44f5-a494-8bc9e3c341d12133.jpg',\n",
       " 'data/Want to find/Images/ArrestPerson_images/ArrestPerson_images/CR 211-201#_c5e67992-59a0-464f-ba0d-1753b244d6c71255.jpg',\n",
       " 'data/Want to find/Images/ArrestPerson_images/ArrestPerson_images/PHOTO#_2aceb601-b2e3-4b6d-9a88-16647e3eed06323.jpg',\n",
       " 'data/Want to find/Images/ArrestPerson_images/ArrestPerson_images/CR NO 226-#_f9bd7ed2-4c02-45cc-9c8f-d09c08a6a6c4333.jpg',\n",
       " 'data/Want to find/Images/ArrestPerson_images/ArrestPerson_images/67#_30839979-570d-4662-b58f-9a37aa1709f61506.jpg',\n",
       " 'data/Want to find/Images/ArrestPerson_images/ArrestPerson_images/CR No 130-#_7c055b23-aa60-4a59-a332-8f664b94061f1502.jpg',\n",
       " 'data/Want to find/Images/ArrestPerson_images/ArrestPerson_images/Blank Phot#_599f5449-0eda-4564-a78c-973ef850b243319.jpg',\n",
       " 'data/Want to find/Images/ArrestPerson_images/ArrestPerson_images/CR NO-109-#_89a9adda-5aca-4974-beca-9bc59953ee42365.jpg',\n",
       " 'data/Want to find/Images/ArrestPerson_images/ArrestPerson_images/PPT-13-11-#_cfecc97e-46af-4bc2-8250-a96a4892c5a52240.jpg',\n",
       " 'data/Want to find/Images/ArrestPerson_images/ArrestPerson_images/Cr no 244-#_789cc79c-e08e-46f2-9083-cefceb35efe6338.jpg',\n",
       " 'data/Want to find/Images/ArrestPerson_images/ArrestPerson_images/PSR#_13ade9d5-373c-41aa-b5c4-c2c1d54a5706296.jpg',\n",
       " 'data/Want to find/Images/ArrestPerson_images/ArrestPerson_images/114-18 PHO#_25c9e6f5-3cfa-466a-a247-574907e8bf321501.jpg',\n",
       " 'data/Want to find/Images/ArrestPerson_images/ArrestPerson_images/01 001#_d31dc6e7-b03e-43ee-8585-f70fa03fa3e51473.jpg',\n",
       " 'data/Want to find/Images/ArrestPerson_images/ArrestPerson_images/41-18 A1#_08d6ec1b-60d7-441a-a9c7-dd68cfa639e51237.jpg',\n",
       " 'data/Want to find/Images/ArrestPerson_images/ArrestPerson_images/IMG-201807#_d2b57c4b-71c6-4b1c-97d9-4773dcad78fc1250.jpg',\n",
       " 'data/Want to find/Images/ArrestPerson_images/ArrestPerson_images/Veeresh#_6c7c7dbc-b365-474a-872b-2b5e7b84cceb362.jpg',\n",
       " 'data/Want to find/Images/ArrestPerson_images/ArrestPerson_images/Gavisidapp#_978b3ba9-52ca-4254-9a86-5c5560d4ecb2362.jpg',\n",
       " 'data/Want to find/Images/ArrestPerson_images/ArrestPerson_images/119#_ff7890d3-4cd9-452a-b054-cf7e63e6fc661262.jpg',\n",
       " 'data/Want to find/Images/ArrestPerson_images/ArrestPerson_images/IMG_201809#_573c19f7-ef7d-4b9b-80d1-a4dbd51d839d319.jpg',\n",
       " 'data/Want to find/Images/ArrestPerson_images/ArrestPerson_images/Ishwar#_db1e87f3-7d06-4860-9bb5-7470bc8853591456.jpg',\n",
       " 'data/Want to find/Images/ArrestPerson_images/ArrestPerson_images/PHOTO#_3b82a864-b8e3-4920-b23e-07dc38c0b4f82126.jpg',\n",
       " 'data/Want to find/Images/ArrestPerson_images/ArrestPerson_images/scan0024#_709785f2-85c8-4da8-886f-77c82a1f4c41311.jpg',\n",
       " 'data/Want to find/Images/ArrestPerson_images/ArrestPerson_images/MUSTAK#_4c58ac38-d1ea-4c48-b9d7-044567fbef021478.jpg',\n",
       " 'data/Want to find/Images/ArrestPerson_images/ArrestPerson_images/160-4#_5d695b22-42db-465f-b9e4-c577130cadeb1247.jpg',\n",
       " 'data/Want to find/Images/ArrestPerson_images/ArrestPerson_images/184-18phot#_86513bec-e572-466f-a7ff-3cf44c1534d91460.jpg',\n",
       " 'data/Want to find/Images/ArrestPerson_images/ArrestPerson_images/2#_d6803efc-a70a-41ca-b947-83e0109512481241.jpg',\n",
       " 'data/Want to find/Images/ArrestPerson_images/ArrestPerson_images/12_06_2018#_be12649d-a7c4-4f9a-8cc8-c3a318eef9c11509.jpg',\n",
       " 'data/Want to find/Images/ArrestPerson_images/ArrestPerson_images/PHOTO - Co#_c8b9ca21-de01-4d9f-a03c-c09eb38888501485.jpg',\n",
       " 'data/Want to find/Images/ArrestPerson_images/ArrestPerson_images/IMG_201806#_a4a67a5c-7584-4cc0-8642-0c21af1b32571238.jpg',\n",
       " 'data/Want to find/Images/ArrestPerson_images/ArrestPerson_images/145-5 001#_481d21e8-951e-4923-bdf4-1f57cd7d26191507.jpg',\n",
       " 'data/Want to find/Images/ArrestPerson_images/ArrestPerson_images/IMG ANK#_54b1c8f6-6028-4f2b-9d5b-f88a861a55bc324.jpg',\n",
       " 'data/Want to find/Images/ArrestPerson_images/ArrestPerson_images/000#_85685369-8a06-435d-ae7d-1ea1dd57743c1263.jpg',\n",
       " 'data/Want to find/Images/ArrestPerson_images/ArrestPerson_images/IMG_0001#_06e68a7f-63d8-405d-80cc-56571d71ec472189.jpg',\n",
       " 'data/Want to find/Images/ArrestPerson_images/ArrestPerson_images/4#_2e3e4e17-aca2-47cd-a445-7930d56f3f041241.jpg',\n",
       " 'data/Want to find/Images/ArrestPerson_images/ArrestPerson_images/IMG-201807#_3aeab2f7-695e-4853-849b-ef453fab98d51893.jpg',\n",
       " 'data/Want to find/Images/ArrestPerson_images/ArrestPerson_images/44#_cd3b7564-ccbe-4e7f-84c6-c01e87d052ca324.jpg',\n",
       " 'data/Want to find/Images/ArrestPerson_images/ArrestPerson_images/355#_154e3121-8f51-4aa3-8ec7-004443600f211238.jpg',\n",
       " 'data/Want to find/Images/ArrestPerson_images/ArrestPerson_images/psr#_4d6750b0-794e-4b78-b4e6-9a656c7f9b611255.jpg',\n",
       " 'data/Want to find/Images/ArrestPerson_images/ArrestPerson_images/151-8,9#_c1c4006e-15ea-49aa-af74-39c8d901a46b1247.jpg',\n",
       " 'data/Want to find/Images/ArrestPerson_images/ArrestPerson_images/01 001#_b7f5bc2f-458d-4532-8bc1-16963829d7201473.jpg',\n",
       " 'data/Want to find/Images/ArrestPerson_images/ArrestPerson_images/N#_1d84b3b8-25e8-492a-a858-1f9ebb2ea19f1502.jpg',\n",
       " 'data/Want to find/Images/ArrestPerson_images/ArrestPerson_images/Ningappa#_484a5317-b223-4974-8c71-f9642220e53a1456.jpg',\n",
       " 'data/Want to find/Images/ArrestPerson_images/ArrestPerson_images/PHOTO - Co#_32323702-7f27-4120-9af8-9f795fff57971485.jpg',\n",
       " 'data/Want to find/Images/ArrestPerson_images/ArrestPerson_images/A-1 138 00#_617b6156-8b4a-443d-b95f-03854fce25571507.jpg',\n",
       " 'data/Want to find/Images/ArrestPerson_images/ArrestPerson_images/119#_7e2ebcc1-d116-4622-9b87-518fe3c57c3f1262.jpg',\n",
       " 'data/Want to find/Images/ArrestPerson_images/ArrestPerson_images/PSR#_618911ff-4c51-4d6d-805e-a0e0c219a24e296.jpg',\n",
       " 'data/Want to find/Images/ArrestPerson_images/ArrestPerson_images/2#_2f63d008-7dee-4857-aa5f-67b054c4884a311.jpg',\n",
       " 'data/Want to find/Images/ArrestPerson_images/ArrestPerson_images/108-8#_51e7ba1a-e27f-4793-bc71-9377a1a053d41249.jpg',\n",
       " 'data/Want to find/Images/ArrestPerson_images/ArrestPerson_images/Photo#_7164ee07-9369-49d8-bd2a-0e3f5a0aaaf3364.jpg',\n",
       " 'data/Want to find/Images/ArrestPerson_images/ArrestPerson_images/184-18-2 (#_b9cd1fba-fc7e-4ef8-89bd-90fc4176b6bb1460.jpg',\n",
       " 'data/Want to find/Images/ArrestPerson_images/ArrestPerson_images/108-6#_e715567b-5db2-4439-aba8-5252df12b2661249.jpg',\n",
       " 'data/Want to find/Images/ArrestPerson_images/ArrestPerson_images/Roshan#_754585bc-f344-49cc-b422-4201e3cfa7a01255.jpg',\n",
       " 'data/Want to find/Images/ArrestPerson_images/ArrestPerson_images/152-2#_f36b5e54-dffa-4cf8-89d9-b88512d11bc31247.jpg',\n",
       " 'data/Want to find/Images/ArrestPerson_images/ArrestPerson_images/39-2017 00#_86a47c0f-d572-4f7a-acca-2735dc8e8f36334.jpg',\n",
       " 'data/Want to find/Images/ArrestPerson_images/ArrestPerson_images/106-18 354#_950c4cc7-4579-415e-ae65-9bd07611e07c1250.jpg',\n",
       " 'data/Want to find/Images/ArrestPerson_images/ArrestPerson_images/12#_e1bda964-a9d1-4df8-8660-eebcbd2f65c41478.jpg',\n",
       " 'data/Want to find/Images/ArrestPerson_images/ArrestPerson_images/159#_06f67074-be86-4200-9242-f7c5d95eac58323.jpg',\n",
       " 'data/Want to find/Images/ArrestPerson_images/ArrestPerson_images/Blank Phot#_e1c9f8f1-c7a5-4643-be68-51c62a1c150f319.jpg',\n",
       " 'data/Want to find/Images/ArrestPerson_images/ArrestPerson_images/20190128_2#_c81743d1-23fc-4401-bc37-6464379b9a761238.jpg',\n",
       " 'data/Want to find/Images/ArrestPerson_images/ArrestPerson_images/Biradar#_7afa8dd8-70e8-46f0-9f77-3e171117217b1255.jpg',\n",
       " 'data/Want to find/Images/ArrestPerson_images/ArrestPerson_images/129#_91ac8342-61c7-488d-bb8c-16e899f4b82b1262.jpg',\n",
       " 'data/Want to find/Images/ArrestPerson_images/ArrestPerson_images/cr37acq#_e1f35730-aabd-4a8b-86ae-fd06e96a69fc355.jpg',\n",
       " 'data/Want to find/Images/ArrestPerson_images/ArrestPerson_images/153153#_90700999-ac4b-4bc0-9021-4ceccd526f541247.jpg',\n",
       " 'data/Want to find/Images/ArrestPerson_images/ArrestPerson_images/26_07_2018#_e0cad396-8714-44e5-80ca-afcbd2e4389d1509.jpg',\n",
       " 'data/Want to find/Images/ArrestPerson_images/ArrestPerson_images/Blank Phot#_5df43edb-0fec-4c08-9931-fa652abe1bba319.jpg',\n",
       " 'data/Want to find/Images/ArrestPerson_images/ArrestPerson_images/PHOTO#_7929f2df-7189-4288-a1a3-f997f6856df0323.jpg',\n",
       " 'data/Want to find/Images/ArrestPerson_images/ArrestPerson_images/226#_b7d65ae6-3809-4590-8c9e-559981ac38ae1255.jpg',\n",
       " 'data/Want to find/Images/ArrestPerson_images/ArrestPerson_images/50-2018#_76c30308-1042-4662-8db1-1c28ed758716305.jpg',\n",
       " 'data/Want to find/Images/ArrestPerson_images/ArrestPerson_images/248-2018 A#_619616b8-5559-4e84-b5e9-786815483b33338.jpg',\n",
       " 'data/Want to find/Images/ArrestPerson_images/ArrestPerson_images/20180624_2#_1f643644-18b8-4b32-8971-6cf428ee21b31507.jpg',\n",
       " 'data/Want to find/Images/ArrestPerson_images/ArrestPerson_images/64-2018#_62aa26d1-4ad5-47ea-9a69-a5b84744147c305.jpg',\n",
       " 'data/Want to find/Images/ArrestPerson_images/ArrestPerson_images/151-6,7#_39c7a525-5648-4023-9450-efcd6a79c74b1247.jpg',\n",
       " 'data/Want to find/Images/ArrestPerson_images/ArrestPerson_images/103#_5d58474e-8e03-4004-85ad-0ed7d43bdb05363.jpg',\n",
       " 'data/Want to find/Images/ArrestPerson_images/ArrestPerson_images/000#_9f23084f-210e-4e3f-9ecf-06d54eebf5c9305.jpg',\n",
       " 'data/Want to find/Images/ArrestPerson_images/ArrestPerson_images/214#_aee43d1a-8aa3-41c3-979f-555b79ddd47b347.jpg',\n",
       " 'data/Want to find/Images/ArrestPerson_images/ArrestPerson_images/Untitled45#_4037ecfb-3773-4c6d-98f1-388afa7a01221244.jpg',\n",
       " 'data/Want to find/Images/ArrestPerson_images/ArrestPerson_images/13#_e8d5fcdb-6485-4ec7-b6e6-b23d3474cec7311.jpg',\n",
       " 'data/Want to find/Images/ArrestPerson_images/ArrestPerson_images/PHOTO - Co#_1be47b07-49ab-4628-859b-b31d3c2ebc651485.jpg',\n",
       " 'data/Want to find/Images/ArrestPerson_images/ArrestPerson_images/EXTRA#_0840a924-5727-489c-a030-a7ea598c3a5a1464.jpg',\n",
       " 'data/Want to find/Images/ArrestPerson_images/ArrestPerson_images/111-18 mal#_c3057352-5d8e-4896-aba2-b8e438b5a1a9364.jpg',\n",
       " 'data/Want to find/Images/ArrestPerson_images/ArrestPerson_images/26_07_2018#_d930aff6-69a8-42d5-8a90-2b0ac13016a31509.jpg',\n",
       " 'data/Want to find/Images/ArrestPerson_images/ArrestPerson_images/IMG_201806#_24136fbc-c891-4d78-9165-25ed52ce66461238.jpg',\n",
       " 'data/Want to find/Images/ArrestPerson_images/ArrestPerson_images/ANAND#_bf9626e4-ff59-4377-9480-0b0b676c59831258.jpg',\n",
       " 'data/Want to find/Images/ArrestPerson_images/ArrestPerson_images/cr no 135-#_891fd628-0b10-462a-9d69-74d6d4c6bb321507.jpg',\n",
       " 'data/Want to find/Images/ArrestPerson_images/ArrestPerson_images/Blank Phot#_3ef5eb0e-af0b-4fd4-bf8c-c0a3e6601782319.jpg',\n",
       " 'data/Want to find/Images/ArrestPerson_images/ArrestPerson_images/8#_16cf7e86-25d9-41a9-8db9-fb86b11f06e2311.jpg',\n",
       " 'data/Want to find/Images/ArrestPerson_images/ArrestPerson_images/Ramu#_a0ed5d00-4c96-47d2-86aa-131e6c3dc9581456.jpg',\n",
       " 'data/Want to find/Images/ArrestPerson_images/ArrestPerson_images/IMG-201807#_dedb21d2-be4e-4b39-9e81-d29a2ef2c5111893.jpg',\n",
       " 'data/Want to find/Images/ArrestPerson_images/ArrestPerson_images/IMG_201804#_06549df2-732c-4cdc-bbe1-9112ed2c18821239.jpg',\n",
       " 'data/Want to find/Images/ArrestPerson_images/ArrestPerson_images/ppppppp_00#_cd659cc1-d8d8-437a-931a-5082f52355dc1460.jpg',\n",
       " 'data/Want to find/Images/ArrestPerson_images/ArrestPerson_images/IMG_0014#_442efb82-750b-42d7-a066-39bde1e1d6b4298.jpg',\n",
       " 'data/Want to find/Images/ArrestPerson_images/ArrestPerson_images/cr37acq#_96e840a8-b096-4809-a23c-389c6f0dd9d8355.jpg',\n",
       " 'data/Want to find/Images/ArrestPerson_images/ArrestPerson_images/IMAGE 001#_cf15c8a3-e443-49aa-8da8-36a53b9d4d481486.jpg',\n",
       " 'data/Want to find/Images/ArrestPerson_images/ArrestPerson_images/PHOTO - Co#_25e147c8-c97c-40f7-8ccc-8462432348b01485.jpg',\n",
       " 'data/Want to find/Images/ArrestPerson_images/ArrestPerson_images/PHOTO#_166cb909-f8e6-4001-bb76-b3c0ca755bb8323.jpg',\n",
       " 'data/Want to find/Images/ArrestPerson_images/ArrestPerson_images/79-2018#_02a6fff2-b518-4fdd-b05d-34b145f4b0b0337.jpg',\n",
       " 'data/Want to find/Images/ArrestPerson_images/ArrestPerson_images/IMG-201805#_797f4c1c-64e0-4601-b350-a96b7e4b29b81263.jpg',\n",
       " 'data/Want to find/Images/ArrestPerson_images/ArrestPerson_images/IMG-201806#_103c3015-a339-4952-939a-8de040f9aac71455.jpg',\n",
       " 'data/Want to find/Images/ArrestPerson_images/ArrestPerson_images/KESHAV SAV#_137ecc8e-7b80-4c43-87ae-453eff9fe1651254.jpg',\n",
       " 'data/Want to find/Images/ArrestPerson_images/ArrestPerson_images/119#_c2a6ac0a-0d1a-4829-8918-0c5b65f7016f1262.jpg',\n",
       " 'data/Want to find/Images/ArrestPerson_images/ArrestPerson_images/PSR#_61e4f63c-e3c1-4aa5-8909-1b0384311ab3296.jpg',\n",
       " 'data/Want to find/Images/ArrestPerson_images/ArrestPerson_images/PSR#_144eeb62-9afc-473c-9e8a-e3b012c73a24296.jpg',\n",
       " 'data/Want to find/Images/ArrestPerson_images/ArrestPerson_images/PSR#_058c4e53-f981-4607-8b56-288bac66b61e296.jpg',\n",
       " 'data/Want to find/Images/ArrestPerson_images/ArrestPerson_images/PHOTO - Co#_0a269326-ba12-40b9-8b1a-47dd7a6c8bdc1485.jpg',\n",
       " 'data/Want to find/Images/ArrestPerson_images/ArrestPerson_images/IMG-201809#_ad2cee72-9c89-4ae5-8dc6-ed6b49c8ad931255.jpg',\n",
       " 'data/Want to find/Images/ArrestPerson_images/ArrestPerson_images/83#_7eda9337-5fc8-4cec-b595-2802e694407a1455.jpg',\n",
       " 'data/Want to find/Images/ArrestPerson_images/ArrestPerson_images/146#_9b1f869b-f9f7-4ffa-b8b3-ccab3dcb045b1244.jpg',\n",
       " 'data/Want to find/Images/ArrestPerson_images/ArrestPerson_images/2222222#_e78ab0c6-24c5-4e33-8d29-fc3c784f93c01436.jpg',\n",
       " 'data/Want to find/Images/ArrestPerson_images/ArrestPerson_images/PHOTO - Co#_8492e5c1-ed6a-4bcf-b8ad-062805afabeb1485.jpg',\n",
       " 'data/Want to find/Images/ArrestPerson_images/ArrestPerson_images/CRNO-102#_956bbaa1-d3ee-4fc8-9fc1-04af5cd5e50e1249.jpg',\n",
       " 'data/Want to find/Images/ArrestPerson_images/ArrestPerson_images/CR#_d5456342-483e-4b92-8f10-1018dc804af7344.jpg',\n",
       " 'data/Want to find/Images/ArrestPerson_images/ArrestPerson_images/23_06_2018#_0344fa26-5f9d-4001-9eca-d5d24388dc231509.jpg',\n",
       " 'data/Want to find/Images/ArrestPerson_images/ArrestPerson_images/cr36#_f39d584c-cf26-48f6-8dd0-9aa76ce59307355.jpg',\n",
       " 'data/Want to find/Images/ArrestPerson_images/ArrestPerson_images/CR N0 122 #_74657514-0c2d-4781-a0a6-846719b9ca3b1253.jpg',\n",
       " 'data/Want to find/Images/ArrestPerson_images/ArrestPerson_images/A2 142-18 #_482d85c8-dfcb-40f0-8a17-7ce89d48d15e1507.jpg',\n",
       " 'data/Want to find/Images/ArrestPerson_images/ArrestPerson_images/EXTRA#_f713f5a0-5c88-4905-b11a-a0729a25b3281464.jpg',\n",
       " 'data/Want to find/Images/ArrestPerson_images/ArrestPerson_images/000#_de6c9c2e-2797-4989-a6f8-052ca7cdc97e1263.jpg',\n",
       " 'data/Want to find/Images/ArrestPerson_images/ArrestPerson_images/Blank Phot#_5482baec-ce76-4f0f-b3d8-a7aaa50aa4e0319.jpg',\n",
       " 'data/Want to find/Images/ArrestPerson_images/ArrestPerson_images/173#_8891e296-75bb-4f4f-b870-f26943eb73941478.jpg',\n",
       " 'data/Want to find/Images/ArrestPerson_images/ArrestPerson_images/SAMPAT#_d0e0e2c2-d7f9-4466-8a38-f5f85aa172d91255.jpg',\n",
       " 'data/Want to find/Images/ArrestPerson_images/ArrestPerson_images/veejit 001#_a8750778-58f1-4fbc-b04a-f02a51c8bb14297.jpg',\n",
       " 'data/Want to find/Images/ArrestPerson_images/ArrestPerson_images/Cr no#_6c13e3a3-3efc-47f5-b0b9-e8c9b286cb6e1256.jpg',\n",
       " 'data/Want to find/Images/ArrestPerson_images/ArrestPerson_images/PSR#_630baeb6-095c-4bfc-b08d-581038503dbb296.jpg',\n",
       " 'data/Want to find/Images/ArrestPerson_images/ArrestPerson_images/Yuvaraja-1#_f87608e0-120e-4562-92a3-c3b6725c0f2e1502.jpg',\n",
       " 'data/Want to find/Images/ArrestPerson_images/ArrestPerson_images/IMG_201804#_943cad12-449d-4fe0-910f-7bc39858046b1239.jpg',\n",
       " 'data/Want to find/Images/ArrestPerson_images/ArrestPerson_images/IMG-201806#_74616c93-902a-4700-8713-75424bde18871245.jpg',\n",
       " 'data/Want to find/Images/ArrestPerson_images/ArrestPerson_images/20180624_2#_85aa8e97-743b-47fd-b75b-b3047e71b2511507.jpg',\n",
       " 'data/Want to find/Images/ArrestPerson_images/ArrestPerson_images/scan0024#_02d008a2-8e45-4812-8a4a-62a093165bc7311.jpg',\n",
       " 'data/Want to find/Images/ArrestPerson_images/ArrestPerson_images/A2-Shamid #_5b7ca5a7-3137-4547-97a0-3d351766a86d356.jpg',\n",
       " 'data/Want to find/Images/ArrestPerson_images/ArrestPerson_images/Blank Phot#_80c82031-54fd-41d9-82a0-a8e3030184ce319.jpg',\n",
       " 'data/Want to find/Images/ArrestPerson_images/ArrestPerson_images/IMG2018062#_0ffc3d64-bcf2-437a-93af-2c0b9e0d98eb1245.jpg',\n",
       " 'data/Want to find/Images/ArrestPerson_images/ArrestPerson_images/IMG-201806#_42e30015-855f-4673-bb9e-9c7a2b0a8f9c1455.jpg',\n",
       " 'data/Want to find/Images/ArrestPerson_images/ArrestPerson_images/PHOTO#_9e92082c-0778-435e-a9d3-ab5958b9be93323.jpg',\n",
       " 'data/Want to find/Images/ArrestPerson_images/ArrestPerson_images/000#_ff7080e4-fae6-4e2c-8556-2660314ed0771263.jpg',\n",
       " 'data/Want to find/Images/ArrestPerson_images/ArrestPerson_images/CRNO-116-2#_9344f552-93fb-40f6-a49f-7206ebd217de1461.jpg',\n",
       " 'data/Want to find/Images/ArrestPerson_images/ArrestPerson_images/145-4 001#_8313e883-7fb8-49c4-98ce-375438644dad1507.jpg',\n",
       " 'data/Want to find/Images/ArrestPerson_images/ArrestPerson_images/8#_e375ae38-c283-4381-b092-51377cab5c981241.jpg',\n",
       " 'data/Want to find/Images/ArrestPerson_images/ArrestPerson_images/15#_c497f532-16d6-4412-ae74-e63331aec60b1478.jpg',\n",
       " 'data/Want to find/Images/ArrestPerson_images/ArrestPerson_images/IMG-201810#_ac7ce4f2-eb24-4114-bbd6-b1194319cd741257.jpg',\n",
       " 'data/Want to find/Images/ArrestPerson_images/ArrestPerson_images/IMG_201812#_b216796f-8aea-464b-a036-7a19f9e2a0c71238.jpg',\n",
       " 'data/Want to find/Images/ArrestPerson_images/ArrestPerson_images/IMAGE 001#_205abe5e-a97e-4459-bb77-65e9ffc2352b1486.jpg',\n",
       " 'data/Want to find/Images/ArrestPerson_images/ArrestPerson_images/IMAGE 001#_265ab7c3-cf5d-4250-9d75-b6f966d2c3421486.jpg',\n",
       " 'data/Want to find/Images/ArrestPerson_images/ArrestPerson_images/PHOTO - Co#_d67527b5-1eeb-44a1-8301-778cc3b1927a1485.jpg',\n",
       " 'data/Want to find/Images/ArrestPerson_images/ArrestPerson_images/EXTRA#_ce7cc72f-8a52-4d8b-9ff7-b5cef1c68ed81464.jpg',\n",
       " 'data/Want to find/Images/ArrestPerson_images/ArrestPerson_images/PHOTO#_dbe967e3-a7a0-412b-bb3f-6e9df93fe549323.jpg',\n",
       " 'data/Want to find/Images/ArrestPerson_images/ArrestPerson_images/SANTOSH BA#_b287e6b1-74eb-486c-924c-a1c61926ed6c1262.jpg',\n",
       " 'data/Want to find/Images/ArrestPerson_images/ArrestPerson_images/CR NO 122 #_3167058b-f9c2-45ab-9420-096c00af09851253.jpg',\n",
       " 'data/Want to find/Images/ArrestPerson_images/ArrestPerson_images/Photo#_4c851084-940e-49d2-8bb5-889f0e20b291364.jpg',\n",
       " 'data/Want to find/Images/ArrestPerson_images/ArrestPerson_images/cr no 135-#_722211a0-6121-4efe-a603-235848f4ec5a1507.jpg',\n",
       " 'data/Want to find/Images/ArrestPerson_images/ArrestPerson_images/Nagaraja#_8fdf2614-aee3-4a47-bfa2-3df081e5e001362.jpg',\n",
       " 'data/Want to find/Images/ArrestPerson_images/ArrestPerson_images/ACCUED NOT#_19284549-f970-4dec-8c25-0e4aa1b8b7dc303.jpg',\n",
       " 'data/Want to find/Images/ArrestPerson_images/ArrestPerson_images/02#_ff1e780e-83ff-4c14-9a86-3aa5ac19b649311.jpg',\n",
       " 'data/Want to find/Images/ArrestPerson_images/ArrestPerson_images/IMG-201806#_8559d9d5-336e-410a-8394-2b5f5bac5db21245.jpg',\n",
       " 'data/Want to find/Images/ArrestPerson_images/ArrestPerson_images/PHOTO#_5bb31632-2a3d-44f0-9a2c-cf4db25ab72d2126.jpg',\n",
       " 'data/Want to find/Images/ArrestPerson_images/ArrestPerson_images/GNPS- Crim#_52ed66ce-3d35-43ad-b7a7-ad8ed91497a0335.jpg',\n",
       " 'data/Want to find/Images/ArrestPerson_images/ArrestPerson_images/IMG_201906#_5361ac2d-9032-447e-a574-8408ffc83b751238.jpg',\n",
       " 'data/Want to find/Images/ArrestPerson_images/ArrestPerson_images/20180624_2#_c8a1de29-e48c-48db-bccd-984db23ab9441507.jpg',\n",
       " 'data/Want to find/Images/ArrestPerson_images/ArrestPerson_images/CR 76#_33e7f3f4-846d-4546-ac74-50977ed68dce1508.jpg',\n",
       " 'data/Want to find/Images/ArrestPerson_images/ArrestPerson_images/PHOTO#_d918a63b-26ab-4e78-92ca-dfe615f2522f297.jpg',\n",
       " 'data/Want to find/Images/ArrestPerson_images/ArrestPerson_images/akshay#_8d98d71f-3d04-492f-bc18-67c87e348fcb297.jpg',\n",
       " 'data/Want to find/Images/ArrestPerson_images/ArrestPerson_images/93-2018#_3811b698-4688-40f4-aaa7-2c2285394d24337.jpg',\n",
       " 'data/Want to find/Images/ArrestPerson_images/ArrestPerson_images/Nagappa#_cfe88b74-1801-433b-b8d6-eb10019fb1d31255.jpg',\n",
       " 'data/Want to find/Images/ArrestPerson_images/ArrestPerson_images/108-1#_5d96f8c0-c03e-4bae-ab69-bee9b967f9fe1249.jpg',\n",
       " 'data/Want to find/Images/ArrestPerson_images/ArrestPerson_images/111-18 002#_e7241767-0fc3-4b1a-974f-8c021a1f47cb1503.jpg',\n",
       " 'data/Want to find/Images/ArrestPerson_images/ArrestPerson_images/175-2#_d5a2a41e-53f6-454a-a332-98cf0ea013c21263.jpg',\n",
       " 'data/Want to find/Images/ArrestPerson_images/ArrestPerson_images/Cr No 97-2#_f370e06f-319e-47a3-a4e1-a8f064b850b31503.jpg',\n",
       " 'data/Want to find/Images/ArrestPerson_images/ArrestPerson_images/114-18 001#_867467e5-20fe-45b3-b13c-2ddd1dfd5d9b1503.jpg',\n",
       " 'data/Want to find/Images/ArrestPerson_images/ArrestPerson_images/20181219_1#_ee6120cc-3dd8-40d2-b223-017d1ce1134b1238.jpg',\n",
       " 'data/Want to find/Images/ArrestPerson_images/ArrestPerson_images/cr no135-1#_761750be-10d2-45bb-929d-a399ca21d9f01507.jpg',\n",
       " 'data/Want to find/Images/ArrestPerson_images/ArrestPerson_images/20180724_1#_08e16a3b-96a0-455d-b551-b1b5a9496401362.jpg',\n",
       " 'data/Want to find/Images/ArrestPerson_images/ArrestPerson_images/IMG-201805#_a4584806-81d2-461a-88c1-74ebcb00dc461263.jpg',\n",
       " 'data/Want to find/Images/ArrestPerson_images/ArrestPerson_images/IMAGE 001#_ed44250a-51d5-4383-bd9e-802a02f0d5551486.jpg',\n",
       " 'data/Want to find/Images/ArrestPerson_images/ArrestPerson_images/A4-Maliyap#_20a88eeb-e355-42cd-8cdb-f312b3f65fa7356.jpg',\n",
       " 'data/Want to find/Images/ArrestPerson_images/ArrestPerson_images/117#_7b12b302-fd87-42c4-b90c-6935c0a11646359.jpg',\n",
       " 'data/Want to find/Images/ArrestPerson_images/ArrestPerson_images/117-18 002#_63db2418-e868-4268-880e-7f3748f2c1941503.jpg',\n",
       " 'data/Want to find/Images/ArrestPerson_images/ArrestPerson_images/76#_bd275ab2-97bc-429b-a648-8c9763834c0f360.jpg',\n",
       " 'data/Want to find/Images/ArrestPerson_images/ArrestPerson_images/157-158#_9f708611-f538-4143-9567-2280f9ac2a701247.jpg',\n",
       " 'data/Want to find/Images/ArrestPerson_images/ArrestPerson_images/14_08_2018#_b1a1b98e-1bcb-41f5-a55e-2a42825941b21509.jpg',\n",
       " 'data/Want to find/Images/ArrestPerson_images/ArrestPerson_images/IMG_0014#_e40753ef-e347-49d3-bea0-1c943a300d76298.jpg',\n",
       " 'data/Want to find/Images/ArrestPerson_images/ArrestPerson_images/ppppppp_00#_00794434-9c42-459e-9458-b5ad9ddfdfd51460.jpg',\n",
       " 'data/Want to find/Images/ArrestPerson_images/ArrestPerson_images/IMAGE 001#_2673ed67-eb96-46bb-954e-bf73095aa0871486.jpg',\n",
       " 'data/Want to find/Images/ArrestPerson_images/ArrestPerson_images/03-18#_8d25ca4e-ac47-4fb1-b804-77a69ae919c6348.jpg',\n",
       " 'data/Want to find/Images/ArrestPerson_images/ArrestPerson_images/01 001#_41168d95-3899-4061-92a8-e42a8a5536fb1473.jpg',\n",
       " 'data/Want to find/Images/ArrestPerson_images/ArrestPerson_images/Cr no#_2207f376-5cbf-4f2a-a314-2520e5459ce11256.jpg',\n",
       " 'data/Want to find/Images/ArrestPerson_images/ArrestPerson_images/PHOTO#_9472fad8-6bf1-421d-ad5d-7ef75a65abaa2126.jpg',\n",
       " 'data/Want to find/Images/ArrestPerson_images/ArrestPerson_images/160#_14e9e068-87dd-452f-a488-0fff00253e2d1248.jpg',\n",
       " 'data/Want to find/Images/ArrestPerson_images/ArrestPerson_images/26_07_2018#_951ce709-65e5-414b-84a0-5a000a6f4cb81509.jpg',\n",
       " 'data/Want to find/Images/ArrestPerson_images/ArrestPerson_images/01 001#_ec2aabc6-5475-4f94-b490-8a77f68ad02d1473.jpg',\n",
       " 'data/Want to find/Images/ArrestPerson_images/ArrestPerson_images/scan0024#_0b4aa0cb-2653-4847-a777-69d3e705851a311.jpg',\n",
       " 'data/Want to find/Images/ArrestPerson_images/ArrestPerson_images/EXTRA#_0316cc8e-02cf-41b9-9472-b61d2d15f4021464.jpg',\n",
       " 'data/Want to find/Images/ArrestPerson_images/ArrestPerson_images/143-2 001#_ec30ece6-f593-4ea0-a152-c36fcad795981507.jpg',\n",
       " 'data/Want to find/Images/ArrestPerson_images/ArrestPerson_images/44#_7c3a28d5-abd1-40c6-9d6a-a8d5e69bfb0e324.jpg',\n",
       " 'data/Want to find/Images/ArrestPerson_images/ArrestPerson_images/23_06_2018#_cac040b9-5926-4b62-8db3-35bc15f51c0d1509.jpg',\n",
       " 'data/Want to find/Images/ArrestPerson_images/ArrestPerson_images/Hanamant#_76d30d06-e0c0-4dfe-88f8-d7b91687e27e1255.jpg',\n",
       " 'data/Want to find/Images/ArrestPerson_images/ArrestPerson_images/IMG-201805#_81a9e0d5-8cee-4fcb-9e88-c972454a118e1263.jpg',\n",
       " 'data/Want to find/Images/ArrestPerson_images/ArrestPerson_images/EXTRA#_45d94448-4dd6-4b9c-8e74-3c72a38029531464.jpg',\n",
       " 'data/Want to find/Images/ArrestPerson_images/ArrestPerson_images/164#_c1e22090-8989-4a2f-b759-9627695f8b341247.jpg',\n",
       " 'data/Want to find/Images/ArrestPerson_images/ArrestPerson_images/20#_778c4a12-71bd-49b2-a61a-5bfa7bf9afd4311.jpg',\n",
       " 'data/Want to find/Images/ArrestPerson_images/ArrestPerson_images/cr35acq#_299281fa-dc6e-4bc7-a618-b77a8575e7fc355.jpg',\n",
       " 'data/Want to find/Images/ArrestPerson_images/ArrestPerson_images/12#_4c5cdc25-0a04-431f-bc3e-8b221c5fdddc1478.jpg',\n",
       " 'data/Want to find/Images/ArrestPerson_images/ArrestPerson_images/CR NO 122 #_25f687be-f531-49ec-95f0-24a5175ba2041253.jpg',\n",
       " 'data/Want to find/Images/ArrestPerson_images/ArrestPerson_images/Manju#_1fc2f021-6fdb-44ed-8bc5-c0bec378c40a1255.jpg',\n",
       " 'data/Want to find/Images/ArrestPerson_images/ArrestPerson_images/A-2 SHRIDE#_3876626b-7d7c-4750-ba89-247c198107c81442.jpg',\n",
       " 'data/Want to find/Images/ArrestPerson_images/ArrestPerson_images/Blank Phot#_5f9500b0-d1a2-4e31-be88-d0225b5662cf319.jpg',\n",
       " 'data/Want to find/Images/ArrestPerson_images/ArrestPerson_images/160-4#_9f5f2d97-629d-4552-afa8-7178d705a17a1247.jpg',\n",
       " 'data/Want to find/Images/ArrestPerson_images/ArrestPerson_images/100 001#_d25f26ab-c19e-45e1-b944-01cb46fae14f2011.jpg',\n",
       " 'data/Want to find/Images/ArrestPerson_images/ArrestPerson_images/14_08_2018#_99821e9b-ef33-4946-b6a3-64c7cd92877d1509.jpg',\n",
       " 'data/Want to find/Images/ArrestPerson_images/ArrestPerson_images/89-18#_44a298ce-f4e9-48e9-bd3e-e1c3293275fb337.jpg',\n",
       " 'data/Want to find/Images/ArrestPerson_images/ArrestPerson_images/HAT PS CR#_f4fdbffc-40a1-42aa-83de-f4ae2fd84dbb340.jpg',\n",
       " 'data/Want to find/Images/ArrestPerson_images/ArrestPerson_images/Srinivasa#_f7995090-cc94-4800-a30c-c5630ac18563351.jpg',\n",
       " 'data/Want to find/Images/ArrestPerson_images/ArrestPerson_images/151-4,5#_b972d0b4-dbf2-4df7-8543-30ac5826a3a81247.jpg',\n",
       " 'data/Want to find/Images/ArrestPerson_images/ArrestPerson_images/IMG_0002#_927bc446-3066-4890-b658-f28b38ba6376305.jpg',\n",
       " 'data/Want to find/Images/ArrestPerson_images/ArrestPerson_images/7#_04bd7426-8a21-469b-9e44-73726a933ad61241.jpg',\n",
       " 'data/Want to find/Images/ArrestPerson_images/ArrestPerson_images/PPT-13-11-#_eee29370-8460-4140-a3ef-dee98a164fe52240.jpg',\n",
       " 'data/Want to find/Images/ArrestPerson_images/ArrestPerson_images/Cr No 97-2#_b7cf6f1a-0b21-4370-a191-1d8956990a201503.jpg',\n",
       " 'data/Want to find/Images/ArrestPerson_images/ArrestPerson_images/25_06_2018#_3bf9f9c0-9e55-4a4c-9d2e-611fbc7717d01509.jpg',\n",
       " 'data/Want to find/Images/ArrestPerson_images/ArrestPerson_images/28_06_2018#_e31ced86-d3f5-455c-a875-8ab954fc08d91509.jpg',\n",
       " 'data/Want to find/Images/ArrestPerson_images/ArrestPerson_images/61-2018#_3ea1277b-2880-47d4-b15a-cd0a1de4618c305.jpg',\n",
       " 'data/Want to find/Images/ArrestPerson_images/ArrestPerson_images/66#_a2e6cc84-274b-47b9-9a2f-91f5c906df431506.jpg',\n",
       " 'data/Want to find/Images/ArrestPerson_images/ArrestPerson_images/DEMO COPY#_a95c9c46-b3b5-4acd-8442-d9236b62443a1461.jpg',\n",
       " 'data/Want to find/Images/ArrestPerson_images/ArrestPerson_images/Veeresha#_f771b55e-8a2c-4894-87e5-592262db26a11502.jpg',\n",
       " 'data/Want to find/Images/ArrestPerson_images/ArrestPerson_images/KGD PS CR #_7b075e92-1725-4c93-88fa-e3ba04f528ac340.jpg',\n",
       " 'data/Want to find/Images/ArrestPerson_images/ArrestPerson_images/23_06_2018#_bc80c4c0-716a-4abe-bcb2-8aabfbafbf291509.jpg',\n",
       " 'data/Want to find/Images/ArrestPerson_images/ArrestPerson_images/IMG_201804#_631fee4c-1056-4968-ae47-51ed78c4a1fc1238.jpg',\n",
       " 'data/Want to find/Images/ArrestPerson_images/ArrestPerson_images/suresh#_7b7db30e-9975-4653-ac7e-09e6c20892e31255.jpg',\n",
       " 'data/Want to find/Images/ArrestPerson_images/ArrestPerson_images/CR NO 226-#_99e8d61f-a0c4-45ad-aa01-bab721e829f2333.jpg',\n",
       " 'data/Want to find/Images/ArrestPerson_images/ArrestPerson_images/PSR#_35909379-2008-4f2e-b2ea-14c20bd10d56296.jpg',\n",
       " 'data/Want to find/Images/ArrestPerson_images/ArrestPerson_images/108-7#_1cd5f6ad-a647-46e4-bef0-35da050c956c1249.jpg',\n",
       " 'data/Want to find/Images/ArrestPerson_images/ArrestPerson_images/scan0024#_38c43f56-a2b2-4416-addf-64da42cc8290311.jpg',\n",
       " 'data/Want to find/Images/ArrestPerson_images/ArrestPerson_images/Photo#_53d75b83-a896-4d38-ab3d-cfb6e19bc6c1364.jpg',\n",
       " 'data/Want to find/Images/ArrestPerson_images/ArrestPerson_images/IMG_0004#_342575ca-0f23-46ee-be78-bff813e3a6291893.jpg',\n",
       " 'data/Want to find/Images/ArrestPerson_images/ArrestPerson_images/15#_7b2b845a-9b34-4468-84c5-63b74d11c724311.jpg',\n",
       " 'data/Want to find/Images/ArrestPerson_images/ArrestPerson_images/122#_083d7d63-29c0-4851-87e5-71bd7aa68a861461.jpg',\n",
       " 'data/Want to find/Images/ArrestPerson_images/ArrestPerson_images/Ramesh m t#_b2975af9-c6d1-4893-b9b6-1a4a76947f771241.jpg',\n",
       " 'data/Want to find/Images/ArrestPerson_images/ArrestPerson_images/CR NO 131 #_a0645154-1712-4c23-ba62-c16ec829a3ac1251.jpg',\n",
       " 'data/Want to find/Images/ArrestPerson_images/ArrestPerson_images/172-18-p#_b2cf8102-b154-4847-84f7-d83602fb455d1460.jpg',\n",
       " 'data/Want to find/Images/ArrestPerson_images/ArrestPerson_images/248-2018 A#_34185986-2573-41c4-96d8-7c23434e75f3338.jpg',\n",
       " 'data/Want to find/Images/ArrestPerson_images/ArrestPerson_images/CR NO 132 #_a1ee9974-34ae-42f8-a914-05cb2f4c08971251.jpg',\n",
       " 'data/Want to find/Images/ArrestPerson_images/ArrestPerson_images/Gudu#_b797cff8-3af9-43a0-900e-a49191be9f841893.jpg',\n",
       " 'data/Want to find/Images/ArrestPerson_images/ArrestPerson_images/EXTRA#_8ba14d2f-f897-4121-8e03-153d4fc1a6251464.jpg',\n",
       " 'data/Want to find/Images/ArrestPerson_images/ArrestPerson_images/CR 211-201#_79932a1f-0e15-492e-a924-f5a9fcb5cc501255.jpg',\n",
       " 'data/Want to find/Images/ArrestPerson_images/ArrestPerson_images/P1080797#_52b6c7d3-84c2-4fe5-a825-733e0b29b4901888.jpg',\n",
       " 'data/Want to find/Images/ArrestPerson_images/ArrestPerson_images/76-2018#_c3df825f-fa2b-4225-9be5-7e49a5f69f5f306.jpg',\n",
       " 'data/Want to find/Images/ArrestPerson_images/ArrestPerson_images/PSR#_dfff5f5f-5c80-4781-b2fd-bcae8eabf4ce296.jpg',\n",
       " 'data/Want to find/Images/ArrestPerson_images/ArrestPerson_images/IMG-201806#_21912d3c-28a7-4485-9ab9-5500a0da2d7a1245.jpg',\n",
       " 'data/Want to find/Images/ArrestPerson_images/ArrestPerson_images/Cr NO#_3ce2aea8-238b-4276-9a75-2766b30f8ce92205.jpg',\n",
       " 'data/Want to find/Images/ArrestPerson_images/ArrestPerson_images/16_12_2018#_7449dbc6-a1fe-47dc-b69d-0efe380a334c1509.jpg',\n",
       " 'data/Want to find/Images/ArrestPerson_images/ArrestPerson_images/scan0024#_ca228a7f-80d5-4e45-a66e-86539d24b464311.jpg',\n",
       " 'data/Want to find/Images/ArrestPerson_images/ArrestPerson_images/A1 Asif#_a869e50d-c362-4354-a443-31470c8d7640356.jpg',\n",
       " 'data/Want to find/Images/ArrestPerson_images/ArrestPerson_images/68-2018#_ca5c9d3a-af55-4c97-b4dd-ef74872a9ecd305.jpg',\n",
       " 'data/Want to find/Images/ArrestPerson_images/ArrestPerson_images/Abdulsab k#_537996d9-a579-4213-8444-be85137a40f91241.jpg',\n",
       " 'data/Want to find/Images/ArrestPerson_images/ArrestPerson_images/223#_6e7d01c5-cff1-4148-a3a4-7b11cebe452d347.jpg',\n",
       " 'data/Want to find/Images/ArrestPerson_images/ArrestPerson_images/Mallappa#_1993f328-c2cd-4066-8063-7e64cd2a16e51456.jpg',\n",
       " 'data/Want to find/Images/ArrestPerson_images/ArrestPerson_images/A1 142-18 #_7b118964-1d4a-4dc5-8313-a0015c590b321507.jpg',\n",
       " 'data/Want to find/Images/ArrestPerson_images/ArrestPerson_images/PSR#_fb78d4b1-391e-411c-a6e6-34eb5f8ef244296.jpg',\n",
       " 'data/Want to find/Images/ArrestPerson_images/ArrestPerson_images/Blank Phot#_0ff88295-57a9-472b-bafe-cf14d7c13863319.jpg',\n",
       " 'data/Want to find/Images/ArrestPerson_images/ArrestPerson_images/photo wome#_3a5dcb90-9f1c-434e-8db9-ef1f1eee23922217.jpg',\n",
       " 'data/Want to find/Images/ArrestPerson_images/ArrestPerson_images/Shekshaval#_57325edc-f838-4307-b403-ec9983fdeab01447.jpg',\n",
       " 'data/Want to find/Images/ArrestPerson_images/ArrestPerson_images/000#_46282ea5-3721-4f0b-a0a1-fdd06f3bf2cd1263.jpg',\n",
       " 'data/Want to find/Images/ArrestPerson_images/ArrestPerson_images/Cr no#_ab095903-9540-4161-ad63-e0afab7c5af31256.jpg',\n",
       " 'data/Want to find/Images/ArrestPerson_images/ArrestPerson_images/Blank Phot#_ed143993-70fd-42e3-9113-ad6005ee2fd4319.jpg',\n",
       " 'data/Want to find/Images/ArrestPerson_images/ArrestPerson_images/IMG-201810#_a42d1902-8a53-4f1e-b896-273c94787b301257.jpg',\n",
       " 'data/Want to find/Images/ArrestPerson_images/ArrestPerson_images/PHOTO#_d88d1913-cd39-411e-9f9b-87e10152970c2126.jpg',\n",
       " 'data/Want to find/Images/ArrestPerson_images/ArrestPerson_images/IMAGE 001#_81ab939d-cf8f-4434-8c38-d282fe729f8e1486.jpg',\n",
       " 'data/Want to find/Images/ArrestPerson_images/ArrestPerson_images/98 001#_8e61fd81-dacf-4dc7-927b-027d660c802b2011.jpg',\n",
       " 'data/Want to find/Images/ArrestPerson_images/ArrestPerson_images/IMG_201808#_186bb22b-2b5a-4b0c-aeaa-f9e1d59bbfa41238.jpg',\n",
       " 'data/Want to find/Images/ArrestPerson_images/ArrestPerson_images/IMG-201805#_31e05158-a131-4b83-b73a-2cbec0e64edd1263.jpg',\n",
       " 'data/Want to find/Images/ArrestPerson_images/ArrestPerson_images/ACCUED NOT#_3ea1429f-f259-4cdc-b0d5-fbedf301a4c5303.jpg',\n",
       " 'data/Want to find/Images/ArrestPerson_images/ArrestPerson_images/A12-Vijay#_15b71e52-792b-4c45-9f4f-e05092303078356.jpg',\n",
       " 'data/Want to find/Images/ArrestPerson_images/ArrestPerson_images/59-2018#_ae5213ed-e006-4d0d-bcc1-e6902bf9af51305.jpg',\n",
       " 'data/Want to find/Images/ArrestPerson_images/ArrestPerson_images/Thippeswam#_1bf6f770-32e9-466a-bb43-55570fd6962d1502.jpg',\n",
       " 'data/Want to find/Images/ArrestPerson_images/ArrestPerson_images/scan0001#_858aa7bc-a092-4071-84e4-836710ee44331240.jpg',\n",
       " 'data/Want to find/Images/ArrestPerson_images/ArrestPerson_images/54-2018#_75aafd52-716c-4765-9017-b8943fed8526305.jpg',\n",
       " 'data/Want to find/Images/ArrestPerson_images/ArrestPerson_images/20180720_2#_d658a4cf-e2f8-4abd-8db1-ff26f525a354362.jpg',\n",
       " 'data/Want to find/Images/ArrestPerson_images/ArrestPerson_images/ShriShail#_995c2c48-9db0-4d33-ae11-ded1ad7bb62e1257.jpg',\n",
       " 'data/Want to find/Images/ArrestPerson_images/ArrestPerson_images/IMAGE 001#_92e8252c-ef28-483d-bc51-85891617cc621486.jpg',\n",
       " 'data/Want to find/Images/ArrestPerson_images/ArrestPerson_images/PSR-2018#_c36866a4-fb5e-474e-93cc-dea2efb9e2b11505.jpg',\n",
       " 'data/Want to find/Images/ArrestPerson_images/ArrestPerson_images/IMG-201810#_64a94f62-bbd4-4499-bc59-35a43d657c8a1257.jpg',\n",
       " 'data/Want to find/Images/ArrestPerson_images/ArrestPerson_images/IMG_201806#_14ec210e-398c-4a98-b3ca-7a41c640da391238.jpg',\n",
       " 'data/Want to find/Images/ArrestPerson_images/ArrestPerson_images/IMG_201804#_2e526373-dff4-4a4b-bc03-5be29ac6969f1239.jpg',\n",
       " 'data/Want to find/Images/ArrestPerson_images/ArrestPerson_images/IMG_201807#_2a533464-7f0b-4cee-9d7a-4c2070f48c44346.jpg',\n",
       " 'data/Want to find/Images/ArrestPerson_images/ArrestPerson_images/164#_2b0c1cf1-4386-4a96-aee6-1b94edb03504323.jpg',\n",
       " 'data/Want to find/Images/ArrestPerson_images/ArrestPerson_images/116-maniga#_6447ec28-db90-4f9d-8742-5a0dbc41bad51503.jpg',\n",
       " 'data/Want to find/Images/ArrestPerson_images/ArrestPerson_images/IMG_201807#_42abaead-2bd5-41a3-b767-de361ac3a5ad346.jpg',\n",
       " 'data/Want to find/Images/ArrestPerson_images/ArrestPerson_images/IMG_0001#_cefe5dc6-b04c-47e1-b3b8-cfd5a1f4afdd290.jpg',\n",
       " 'data/Want to find/Images/ArrestPerson_images/ArrestPerson_images/160#_021c49d6-f877-4226-8438-86829ce364071247.jpg',\n",
       " 'data/Want to find/Images/ArrestPerson_images/ArrestPerson_images/IMG_0001#_f28aae78-9029-4b7a-9b23-e0b6b8a92bbf298.jpg',\n",
       " 'data/Want to find/Images/ArrestPerson_images/ArrestPerson_images/IMG_0001#_552f2246-be39-46ed-b529-6146d594edb11893.jpg',\n",
       " 'data/Want to find/Images/ArrestPerson_images/ArrestPerson_images/12_06_2018#_43b630e4-dc01-437d-a5e0-0548a0e559371509.jpg',\n",
       " 'data/Want to find/Images/ArrestPerson_images/ArrestPerson_images/Kashinath #_02c9ee29-f285-44f3-95ed-50b8a1dd0d0f1241.jpg',\n",
       " 'data/Want to find/Images/ArrestPerson_images/ArrestPerson_images/C#_b8bd3a9c-ace1-44c7-9779-b34c7e1e7d341502.jpg',\n",
       " 'data/Want to find/Images/ArrestPerson_images/ArrestPerson_images/Accused-13#_1ea00ee2-0a98-4fc6-aae5-d055685e89041502.jpg',\n",
       " 'data/Want to find/Images/ArrestPerson_images/ArrestPerson_images/Jaga#_7fadab2d-aa0f-456e-bc29-a404431ace6e356.jpg',\n",
       " 'data/Want to find/Images/ArrestPerson_images/ArrestPerson_images/IMAGE 001#_33b13591-3add-4d4d-9fa2-7e64a162c9f41486.jpg',\n",
       " 'data/Want to find/Images/ArrestPerson_images/ArrestPerson_images/RAKESH#_82409b5b-2a36-444d-8a44-250e49b5fac91253.jpg',\n",
       " 'data/Want to find/Images/ArrestPerson_images/ArrestPerson_images/CR NO 74-2#_36fe58fa-2196-45a2-b59c-8f969ad0bb5b1260.jpg',\n",
       " 'data/Want to find/Images/ArrestPerson_images/ArrestPerson_images/cr34acq#_516d7284-0272-420f-a7bb-53538217848d355.jpg',\n",
       " 'data/Want to find/Images/ArrestPerson_images/ArrestPerson_images/IMAGE 001#_9e1f03c7-aaa9-4ff1-bf98-2d35d33aea5d1445.jpg',\n",
       " 'data/Want to find/Images/ArrestPerson_images/ArrestPerson_images/20190214_2#_7fcbbdc1-9476-4c33-8a4a-d46daacb03201238.jpg',\n",
       " 'data/Want to find/Images/ArrestPerson_images/ArrestPerson_images/IMAGE 001#_1caa8eca-49e5-4876-bcf1-dce7e3b0e1331486.jpg',\n",
       " 'data/Want to find/Images/ArrestPerson_images/ArrestPerson_images/A-3 BHARAM#_451f14e4-468b-4388-a955-a647ad0c7db21442.jpg',\n",
       " 'data/Want to find/Images/ArrestPerson_images/ArrestPerson_images/13#_f94916e3-1685-4e9a-b1dc-aa54b7f49505311.jpg',\n",
       " 'data/Want to find/Images/ArrestPerson_images/ArrestPerson_images/80#_4fa086fb-c924-439e-a7b1-da6ff2bffceb1455.jpg',\n",
       " 'data/Want to find/Images/ArrestPerson_images/ArrestPerson_images/CR NO 231-#_70d4beec-c890-4281-a140-563dfad4bcaa333.jpg',\n",
       " 'data/Want to find/Images/ArrestPerson_images/ArrestPerson_images/Srinivasa-#_a8f7d8c5-2a26-457c-8a0e-667ab69b32571502.jpg',\n",
       " 'data/Want to find/Images/ArrestPerson_images/ArrestPerson_images/IMG-201810#_cb3e4584-46f7-45bc-8db2-602360273e2f1257.jpg',\n",
       " 'data/Want to find/Images/ArrestPerson_images/ArrestPerson_images/Anand p kh#_43047893-212b-4fd9-b36f-2b7f43fc0c301241.jpg',\n",
       " 'data/Want to find/Images/ArrestPerson_images/ArrestPerson_images/A1#_e8360023-7c85-409a-bcb9-57aec465ee641467.jpg',\n",
       " 'data/Want to find/Images/ArrestPerson_images/ArrestPerson_images/21#_1a25414a-8bbd-46bd-852d-a462a422ced01478.jpg',\n",
       " 'data/Want to find/Images/ArrestPerson_images/ArrestPerson_images/119#_950b369b-680b-4f8e-9251-dd5cdefa990b1262.jpg',\n",
       " 'data/Want to find/Images/ArrestPerson_images/ArrestPerson_images/62-18#_42435da8-b51d-477d-9dbe-d1c94d4d5c02342.jpg',\n",
       " 'data/Want to find/Images/ArrestPerson_images/ArrestPerson_images/scan0024#_0fce5b41-dcd4-45b0-a371-67fc9729c400311.jpg',\n",
       " 'data/Want to find/Images/ArrestPerson_images/ArrestPerson_images/Scan#_c762ee4b-cf66-447e-9fd0-16363984055e359.jpg',\n",
       " 'data/Want to find/Images/ArrestPerson_images/ArrestPerson_images/IMG_201803#_7c9a8508-faf8-4df2-a614-d5e97e5a3ccd1240.jpg',\n",
       " 'data/Want to find/Images/ArrestPerson_images/ArrestPerson_images/scan0001#_b0b97d4c-9914-47b7-8e01-43ffad53c6a31240.jpg',\n",
       " 'data/Want to find/Images/ArrestPerson_images/ArrestPerson_images/IMG_0014#_79788a14-bd0e-4085-ac42-6d945d54b0ec298.jpg',\n",
       " 'data/Want to find/Images/ArrestPerson_images/ArrestPerson_images/29_06_2018#_d410b335-f10a-4868-838f-f2c822e156921509.jpg',\n",
       " 'data/Want to find/Images/ArrestPerson_images/ArrestPerson_images/ppppppp_00#_74b842c9-ff5d-47aa-8f18-2950a35ddbef1460.jpg',\n",
       " 'data/Want to find/Images/ArrestPerson_images/ArrestPerson_images/21#_9856d96c-7dc8-4e06-bf8f-c456b11a9bbb1478.jpg',\n",
       " 'data/Want to find/Images/ArrestPerson_images/ArrestPerson_images/R Marappa#_735000c1-a8db-48bd-836a-585fa389c8581502.jpg',\n",
       " 'data/Want to find/Images/ArrestPerson_images/ArrestPerson_images/EXTRA#_998dc2aa-dbe3-4682-9d4a-9e9300aa5a021464.jpg',\n",
       " 'data/Want to find/Images/ArrestPerson_images/ArrestPerson_images/47-18 001#_738ffa38-87a8-4a87-948e-24fe5337e3352133.jpg',\n",
       " 'data/Want to find/Images/ArrestPerson_images/ArrestPerson_images/PHOTO - Co#_4ef15724-71b5-443e-85cd-8ef086a7731b1485.jpg',\n",
       " 'data/Want to find/Images/ArrestPerson_images/ArrestPerson_images/Blank Phot#_30b7fc32-95b6-428d-ac82-30739231a229319.jpg',\n",
       " 'data/Want to find/Images/ArrestPerson_images/ArrestPerson_images/172-18p#_95520acb-3806-451a-b05c-066e604f64531460.jpg',\n",
       " 'data/Want to find/Images/ArrestPerson_images/ArrestPerson_images/63-2018#_05900183-63c9-4575-9036-361cc2928196305.jpg',\n",
       " 'data/Want to find/Images/ArrestPerson_images/ArrestPerson_images/cr no 229-#_efc647e2-b549-4d55-9d56-584dd218d551338.jpg',\n",
       " 'data/Want to find/Images/ArrestPerson_images/ArrestPerson_images/PHOTO - Co#_efe271a8-3083-4168-9da3-328c336136841485.jpg',\n",
       " 'data/Want to find/Images/ArrestPerson_images/ArrestPerson_images/26_07_2018#_f2f35e15-247b-40ff-a13d-936e3f6ef6bd1509.jpg',\n",
       " 'data/Want to find/Images/ArrestPerson_images/ArrestPerson_images/Sadappa#_e3888318-80d3-4688-8902-ff530c5a78621255.jpg',\n",
       " 'data/Want to find/Images/ArrestPerson_images/ArrestPerson_images/234-2018  #_5fe4b5c0-cf9a-4317-bf33-f40554ad9d7b338.jpg',\n",
       " 'data/Want to find/Images/ArrestPerson_images/ArrestPerson_images/IMG_0001#_d72b21fd-1d05-40b0-a2fb-84404d8ab225298.jpg',\n",
       " 'data/Want to find/Images/ArrestPerson_images/ArrestPerson_images/IMG_0007#_baefe91f-9d73-4a1d-a08d-9dcf12d45d232189.jpg',\n",
       " 'data/Want to find/Images/ArrestPerson_images/ArrestPerson_images/01 001#_72c34a29-e667-4699-9d2d-bc8199fb85cc1473.jpg',\n",
       " 'data/Want to find/Images/ArrestPerson_images/ArrestPerson_images/20180624_2#_3234e368-3e5a-4950-84de-e4bf1ba7e2291507.jpg',\n",
       " 'data/Want to find/Images/ArrestPerson_images/ArrestPerson_images/potho Not #_e18a51f4-39f6-457e-ba91-e262d208b0f01456.jpg',\n",
       " 'data/Want to find/Images/ArrestPerson_images/ArrestPerson_images/001#_0157ef5f-34df-4d89-b36e-8ee07b1ec32f333.jpg',\n",
       " 'data/Want to find/Images/ArrestPerson_images/ArrestPerson_images/000#_396d0097-ac9f-45e9-94bf-a03510f557881263.jpg',\n",
       " 'data/Want to find/Images/ArrestPerson_images/ArrestPerson_images/PHOTO - Co#_4afe7c99-d399-4b4e-8f15-9140f52e7ce51485.jpg',\n",
       " 'data/Want to find/Images/ArrestPerson_images/ArrestPerson_images/155-18 002#_68ab3d87-ae64-4f6e-b901-03003b20e1a11486.jpg',\n",
       " 'data/Want to find/Images/ArrestPerson_images/ArrestPerson_images/151-3#_d9483a34-89fd-4815-b65c-1c8b1a99c7641247.jpg',\n",
       " 'data/Want to find/Images/ArrestPerson_images/ArrestPerson_images/162#_ac9febb5-ece5-4856-b639-cb3a39f286d71247.jpg',\n",
       " 'data/Want to find/Images/ArrestPerson_images/ArrestPerson_images/IMAGE 001#_c4eade97-496d-4bff-bccc-3007995a73dc1486.jpg',\n",
       " 'data/Want to find/Images/ArrestPerson_images/ArrestPerson_images/Accused-13#_4d446854-75f6-4c7e-9268-15c7d5fb2d541502.jpg',\n",
       " 'data/Want to find/Images/ArrestPerson_images/ArrestPerson_images/116-Irfan #_37621263-1cfc-470c-b085-c6d8257f5d7d1503.jpg',\n",
       " 'data/Want to find/Images/ArrestPerson_images/ArrestPerson_images/photo wome#_1f258b20-3ce2-4a8c-bbf8-83cace721b962217.jpg',\n",
       " 'data/Want to find/Images/ArrestPerson_images/ArrestPerson_images/IMG_201807#_f17b9b66-3c0e-4809-800c-ca1221c9c8c3346.jpg',\n",
       " 'data/Want to find/Images/ArrestPerson_images/ArrestPerson_images/SANJU#_6710a9c9-25ce-4bad-9a80-0c2b35ee178c1478.jpg',\n",
       " 'data/Want to find/Images/ArrestPerson_images/ArrestPerson_images/20_06_2018#_ea39e647-87a1-46e5-bf99-4395bf1e1ee21509.jpg',\n",
       " 'data/Want to find/Images/ArrestPerson_images/ArrestPerson_images/BHIMAPPA S#_23c45b1b-49a1-4af5-85d6-9e1a0895c8821254.jpg',\n",
       " 'data/Want to find/Images/ArrestPerson_images/ArrestPerson_images/PHOTO#_809d2516-55c9-43e6-a9e9-005fb96ae172323.jpg',\n",
       " 'data/Want to find/Images/ArrestPerson_images/ArrestPerson_images/IMG_0008#_21909ba7-271a-45e6-a3c2-8a74b8d69b2f2189.jpg',\n",
       " 'data/Want to find/Images/ArrestPerson_images/ArrestPerson_images/PHOTO - Co#_81e3b6cd-0052-48c4-b057-269049a873121485.jpg',\n",
       " 'data/Want to find/Images/ArrestPerson_images/ArrestPerson_images/A11-Mehabo#_793c0836-603b-41db-88b1-7bbf5cd49126356.jpg',\n",
       " 'data/Want to find/Images/ArrestPerson_images/ArrestPerson_images/248-2018 A#_bec556bb-0a76-4471-a316-c0d1cfd8eda2338.jpg',\n",
       " 'data/Want to find/Images/ArrestPerson_images/ArrestPerson_images/IMG_201809#_28c54479-f9ca-4eeb-bf46-9e470cb0e078319.jpg',\n",
       " 'data/Want to find/Images/ArrestPerson_images/ArrestPerson_images/245-2018 A#_06315a2a-b0a4-4424-873d-536fa9c5e068338.jpg',\n",
       " 'data/Want to find/Images/ArrestPerson_images/ArrestPerson_images/85#_d7c5d40e-cf96-404e-860a-786657d81ce91455.jpg',\n",
       " 'data/Want to find/Images/ArrestPerson_images/ArrestPerson_images/01 001#_035f12bd-415f-4e8f-82c0-62f9bba77eec1473.jpg',\n",
       " 'data/Want to find/Images/ArrestPerson_images/ArrestPerson_images/0000#_190afb57-3f89-4b4e-8cdf-f92140ff81251246.jpg',\n",
       " 'data/Want to find/Images/ArrestPerson_images/ArrestPerson_images/EXTRA#_3bdaafff-d1f5-45f0-9c4f-df2503cf17b71464.jpg',\n",
       " 'data/Want to find/Images/ArrestPerson_images/ArrestPerson_images/29_06_2018#_53300a85-f210-4981-880f-f40a5238b5f71509.jpg',\n",
       " 'data/Want to find/Images/ArrestPerson_images/ArrestPerson_images/175-1#_44eea781-5ee3-456c-b85e-7db6677f03651263.jpg',\n",
       " 'data/Want to find/Images/ArrestPerson_images/ArrestPerson_images/A2#_3a88b2ab-6f06-4df0-aa74-afd9aac7e02a1489.jpg',\n",
       " 'data/Want to find/Images/ArrestPerson_images/ArrestPerson_images/7#_4824eb64-38ee-49fa-8be0-54708cb90af8311.jpg',\n",
       " 'data/Want to find/Images/ArrestPerson_images/ArrestPerson_images/Blank Phot#_00167d2a-a06f-43c4-aca1-d6f611ec8b26319.jpg',\n",
       " 'data/Want to find/Images/ArrestPerson_images/ArrestPerson_images/A9-Hanuman#_585b6a38-76a1-4dea-b9f2-1030a7f14fdc356.jpg',\n",
       " 'data/Want to find/Images/ArrestPerson_images/ArrestPerson_images/45#_05e5725a-0c97-4a06-bc22-80012d786e0d324.jpg',\n",
       " 'data/Want to find/Images/ArrestPerson_images/ArrestPerson_images/IMG_201804#_f08e843b-b7bc-4f4d-a5d6-99a57a6867bd1239.jpg',\n",
       " 'data/Want to find/Images/ArrestPerson_images/ArrestPerson_images/cr no 135-#_21f6e049-aaba-4730-8023-59b5069473731507.jpg',\n",
       " 'data/Want to find/Images/ArrestPerson_images/ArrestPerson_images/PHOTO#_17d688b9-192b-426e-bdb3-50af5d601a2f323.jpg',\n",
       " 'data/Want to find/Images/ArrestPerson_images/ArrestPerson_images/A3 142-18 #_6635e8bf-287b-42ba-8bb3-ac86af6129b41507.jpg',\n",
       " 'data/Want to find/Images/ArrestPerson_images/ArrestPerson_images/PHOTO#_3585f586-b8a0-4c9f-9bed-1c64c8e188ed323.jpg',\n",
       " 'data/Want to find/Images/ArrestPerson_images/ArrestPerson_images/PHOTO#_61977a80-3869-48ab-9683-a7bd20309897323.jpg',\n",
       " 'data/Want to find/Images/ArrestPerson_images/ArrestPerson_images/Talurappa#_bbe4ccaa-1983-4074-9f7f-2c4a50e451a9362.jpg',\n",
       " 'data/Want to find/Images/ArrestPerson_images/ArrestPerson_images/Photo#_e3633294-5272-45ba-bdbb-1f8e18b84b1a364.jpg',\n",
       " 'data/Want to find/Images/ArrestPerson_images/ArrestPerson_images/184-18-3 (#_d9e115a5-c975-4b1a-9b10-ad90c3ac2e751460.jpg',\n",
       " 'data/Want to find/Images/ArrestPerson_images/ArrestPerson_images/PHOTO#_1e64428a-b27e-4b4d-802f-c591047c4d881257.jpg',\n",
       " 'data/Want to find/Images/ArrestPerson_images/ArrestPerson_images/0000#_bcd8ff3d-a7f3-4886-bcaa-1aeb4f98534b1246.jpg',\n",
       " 'data/Want to find/Images/ArrestPerson_images/ArrestPerson_images/29_06_2018#_db09574b-2f60-443c-8189-c9b1f70ad5af1509.jpg',\n",
       " 'data/Want to find/Images/ArrestPerson_images/ArrestPerson_images/10_06_2018#_8f0cfd57-044b-4838-befb-e2bc89d2fe611509.jpg',\n",
       " 'data/Want to find/Images/ArrestPerson_images/ArrestPerson_images/Blank Phot#_e17ada02-5738-4dec-a88e-f272521cf950319.jpg',\n",
       " 'data/Want to find/Images/ArrestPerson_images/ArrestPerson_images/108-4#_8b452524-e57e-4049-ae1c-d164aab041251249.jpg',\n",
       " 'data/Want to find/Images/ArrestPerson_images/ArrestPerson_images/213#_b6227495-11c3-4774-8f34-add3f408a6bd347.jpg',\n",
       " 'data/Want to find/Images/ArrestPerson_images/ArrestPerson_images/IMG-201806#_7216c69b-1675-4b77-b92b-1020931e950d1245.jpg',\n",
       " 'data/Want to find/Images/ArrestPerson_images/ArrestPerson_images/PHOTO#_8d5c3932-c0ba-4a86-a6fd-caf938a23eb0323.jpg',\n",
       " 'data/Want to find/Images/ArrestPerson_images/ArrestPerson_images/A-3#_861f8f0c-091b-4562-a189-6cc838db5481351.jpg',\n",
       " 'data/Want to find/Images/ArrestPerson_images/ArrestPerson_images/IMG-201806#_075904e4-13af-4cb6-ab0e-8f1db3ac77a61455.jpg',\n",
       " 'data/Want to find/Images/ArrestPerson_images/ArrestPerson_images/Paniraj#_111470c9-2794-45fe-890c-d6c86be4dc34362.jpg',\n",
       " 'data/Want to find/Images/ArrestPerson_images/ArrestPerson_images/20_06_2018#_5b09fa02-bd5a-4178-a009-ac0e73914c8d1509.jpg',\n",
       " 'data/Want to find/Images/ArrestPerson_images/ArrestPerson_images/PHOTO#_d6d72bc5-1ff6-45f7-9c49-a69e9242791f323.jpg',\n",
       " 'data/Want to find/Images/ArrestPerson_images/ArrestPerson_images/Cr no#_5da78e62-dfb8-491d-b141-b301c72d69511256.jpg',\n",
       " 'data/Want to find/Images/ArrestPerson_images/ArrestPerson_images/PHOTO#_d07955cf-90eb-4abc-b5d9-d022653fb9e2323.jpg',\n",
       " 'data/Want to find/Images/ArrestPerson_images/ArrestPerson_images/0000#_c0eeb27f-64bd-4bd2-b2ed-42e7596ec7081248.jpg',\n",
       " 'data/Want to find/Images/ArrestPerson_images/ArrestPerson_images/Gangappa 1#_1df25623-2632-449f-b2dc-61be1c81dbb01255.jpg',\n",
       " 'data/Want to find/Images/ArrestPerson_images/ArrestPerson_images/000#_bb058b70-7e4c-4a8a-9c39-995c0d8fbbf71263.jpg',\n",
       " 'data/Want to find/Images/ArrestPerson_images/ArrestPerson_images/IMG-201807#_2baab574-b497-4e2c-98b3-5673002ea3831893.jpg',\n",
       " 'data/Want to find/Images/ArrestPerson_images/ArrestPerson_images/IMG2019031#_1861cec3-bab5-4242-8a73-d9b0290ebb591238.jpg',\n",
       " 'data/Want to find/Images/ArrestPerson_images/ArrestPerson_images/Untitled11#_56fab466-5f8a-41d2-9c59-3b506ba6d6b91241.jpg',\n",
       " 'data/Want to find/Images/ArrestPerson_images/ArrestPerson_images/Blank Phot#_fbdf55fa-ab3d-4204-bc6d-9cd1ae10e726319.jpg',\n",
       " 'data/Want to find/Images/ArrestPerson_images/ArrestPerson_images/16_08_2018#_672d5bfc-b368-4c3e-b228-7f637b00eb361509.jpg',\n",
       " 'data/Want to find/Images/ArrestPerson_images/ArrestPerson_images/SADAPPA#_d1ed4517-5d1f-48ae-9bf1-b37327ada1931255.jpg',\n",
       " 'data/Want to find/Images/ArrestPerson_images/ArrestPerson_images/CR No 130-#_43419212-2d71-4c82-a571-8bff101d1a681502.jpg',\n",
       " 'data/Want to find/Images/ArrestPerson_images/ArrestPerson_images/155-5#_192323d9-bf3b-4051-988f-09219d37af741248.jpg',\n",
       " 'data/Want to find/Images/ArrestPerson_images/ArrestPerson_images/IMG_0006#_b977050e-7f1e-4264-b7cf-5b2e20d277b82189.jpg',\n",
       " 'data/Want to find/Images/ArrestPerson_images/ArrestPerson_images/01 001#_b9f610b3-dbba-4045-b05f-22c529f54bc41473.jpg',\n",
       " 'data/Want to find/Images/ArrestPerson_images/ArrestPerson_images/08_08_2018#_de339eed-a8ab-40cc-885f-8476284775e01509.jpg',\n",
       " 'data/Want to find/Images/ArrestPerson_images/ArrestPerson_images/151-1,2#_89565307-d38b-4839-be38-a367ee9795801247.jpg',\n",
       " 'data/Want to find/Images/ArrestPerson_images/ArrestPerson_images/145-2 002#_0b9c8a66-e1a3-4025-a1c7-7da7b5bc164c1507.jpg',\n",
       " 'data/Want to find/Images/ArrestPerson_images/ArrestPerson_images/Cr no#_b057f8ef-98dd-4a8e-8f0e-6ac93ff52edd1256.jpg',\n",
       " 'data/Want to find/Images/ArrestPerson_images/ArrestPerson_images/21#_bee9c354-686d-4c97-af7d-037a3559987d1478.jpg',\n",
       " 'data/Want to find/Images/ArrestPerson_images/ArrestPerson_images/CR No 130-#_cd691bc6-639b-4ba1-99f6-84150e5562ef1502.jpg',\n",
       " 'data/Want to find/Images/ArrestPerson_images/ArrestPerson_images/Komaraswam#_288884f6-935f-4626-abcf-52146a0a6761362.jpg',\n",
       " 'data/Want to find/Images/ArrestPerson_images/ArrestPerson_images/92#_68501664-00a9-4c5d-a598-dd48b7ec84ad1258.jpg',\n",
       " 'data/Want to find/Images/ArrestPerson_images/ArrestPerson_images/15#_66e3514e-5f71-408e-80c7-3c89ad1f81391478.jpg',\n",
       " 'data/Want to find/Images/ArrestPerson_images/ArrestPerson_images/A4#_d5eb8dc1-f8bb-4d85-90b0-bf0cae7d1afb343.jpg',\n",
       " 'data/Want to find/Images/ArrestPerson_images/ArrestPerson_images/116-2018-A#_26ab16f4-95ac-48da-b08b-fe4eb8fb20051236.jpg',\n",
       " 'data/Want to find/Images/ArrestPerson_images/ArrestPerson_images/IMAGE 001#_689c1d75-ae75-448b-8cbc-9751602713ed1486.jpg',\n",
       " 'data/Want to find/Images/ArrestPerson_images/ArrestPerson_images/IMG-201806#_6ec0bc93-e10c-4c18-83b3-cf94ade20f1f1455.jpg',\n",
       " 'data/Want to find/Images/ArrestPerson_images/ArrestPerson_images/CR 211-201#_7a175c2c-b474-49f3-a1b2-b91d4761c0951255.jpg',\n",
       " 'data/Want to find/Images/ArrestPerson_images/ArrestPerson_images/62-2018#_a3646eaf-7fbb-4b63-a1b0-7209d9b72e27305.jpg',\n",
       " 'data/Want to find/Images/ArrestPerson_images/ArrestPerson_images/PHOTO#_79d6e6ec-dd19-45a0-90c1-c443ff209aca323.jpg',\n",
       " 'data/Want to find/Images/ArrestPerson_images/ArrestPerson_images/EXTRA#_34c6433f-148d-4431-b079-7884ea5e9dd21464.jpg',\n",
       " 'data/Want to find/Images/ArrestPerson_images/ArrestPerson_images/10-18#_20b5821d-0462-47c0-aa55-1edbdbfad3082126.jpg',\n",
       " 'data/Want to find/Images/ArrestPerson_images/ArrestPerson_images/107-18 sha#_19ffde85-ab16-4716-bbc1-aeee5615cbb6364.jpg',\n",
       " 'data/Want to find/Images/ArrestPerson_images/ArrestPerson_images/145-6 001#_4266cfb6-21bb-44bc-af25-3e0e609d1e2e1507.jpg',\n",
       " 'data/Want to find/Images/ArrestPerson_images/ArrestPerson_images/108-3#_158b2b97-c6cb-4e82-a65a-1fa2620a97071249.jpg',\n",
       " 'data/Want to find/Images/ArrestPerson_images/ArrestPerson_images/CR NO 3-17#_38d33f5b-d516-41dc-908c-7d98add5fcd4343.jpg',\n",
       " 'data/Want to find/Images/ArrestPerson_images/ArrestPerson_images/23_06_2018#_7bc6944a-2075-4f22-8bdf-386d94230bf61509.jpg',\n",
       " 'data/Want to find/Images/ArrestPerson_images/ArrestPerson_images/IMG_0014#_417b29cd-60ff-44d8-b3ae-7a26469d56c7298.jpg',\n",
       " 'data/Want to find/Images/ArrestPerson_images/ArrestPerson_images/160#_c6b6def1-0999-4afa-8208-14b1c85f16371888.jpg',\n",
       " 'data/Want to find/Images/ArrestPerson_images/ArrestPerson_images/IMG_201809#_cc81eacd-56ef-468c-af72-61ee9ebdfd47319.jpg',\n",
       " 'data/Want to find/Images/ArrestPerson_images/ArrestPerson_images/IMG-201807#_62daf187-6ef4-4b1c-add6-8c961f79c87a1455.jpg',\n",
       " 'data/Want to find/Images/ArrestPerson_images/ArrestPerson_images/160-2#_970d57a5-d8c3-4059-a9cd-c438af0778381247.jpg',\n",
       " 'data/Want to find/Images/ArrestPerson_images/ArrestPerson_images/28_06_2018#_cdc2d95d-ff89-42b8-b367-9392b1ea2aa11509.jpg',\n",
       " 'data/Want to find/Images/ArrestPerson_images/ArrestPerson_images/18-2018 CH#_8445744d-7cf6-4e72-972f-5c12bcac1f321920.jpg',\n",
       " 'data/Want to find/Images/ArrestPerson_images/ArrestPerson_images/88-2018#_36c98580-165b-40c5-8c17-d4c5bd2a9d1a337.jpg',\n",
       " 'data/Want to find/Images/ArrestPerson_images/ArrestPerson_images/Cr no#_827f7541-2b9b-4820-843c-e981006efdac1257.jpg',\n",
       " 'data/Want to find/Images/ArrestPerson_images/ArrestPerson_images/SANGAPPA#_86f13f7d-0040-4368-b0af-0d29b0bf13e01258.jpg',\n",
       " 'data/Want to find/Images/ArrestPerson_images/ArrestPerson_images/EXTRA#_4856ce14-1195-4b9a-889d-03abd02d674a1464.jpg',\n",
       " 'data/Want to find/Images/ArrestPerson_images/ArrestPerson_images/119#_c0d61585-7307-46c8-a70f-401b47cb21a41262.jpg',\n",
       " 'data/Want to find/Images/ArrestPerson_images/ArrestPerson_images/Blank Phot#_a8311a4c-91e8-4d61-b5f6-086d05c923ce319.jpg',\n",
       " 'data/Want to find/Images/ArrestPerson_images/ArrestPerson_images/Cr No#_ff8b8bad-8c15-42f0-b6f9-2c5f2dc1fc692205.jpg',\n",
       " 'data/Want to find/Images/ArrestPerson_images/ArrestPerson_images/12#_4295e18f-c51c-40d4-b15b-c544a64c57691478.jpg',\n",
       " 'data/Want to find/Images/ArrestPerson_images/ArrestPerson_images/223#_8f8bd8ab-3169-46db-adb7-a2a461078ff81255.jpg',\n",
       " 'data/Want to find/Images/ArrestPerson_images/ArrestPerson_images/20180826_1#_12257d0f-7fc8-4b12-a7be-dcadeb7833c91250.jpg',\n",
       " 'data/Want to find/Images/ArrestPerson_images/ArrestPerson_images/PHOTO - Co#_43d0eddd-6cd1-434c-a910-6eca3e29742f1445.jpg',\n",
       " 'data/Want to find/Images/ArrestPerson_images/ArrestPerson_images/79#_93b0b0eb-d9f1-444d-bf11-d475e6ac74ce1455.jpg',\n",
       " 'data/Want to find/Images/ArrestPerson_images/ArrestPerson_images/CR NO 122 #_f3187a19-2587-42a0-8324-ac33964a43241253.jpg',\n",
       " 'data/Want to find/Images/ArrestPerson_images/ArrestPerson_images/CRNO-116-2#_a025921f-a39c-4a92-857c-3f7f38e468b61461.jpg',\n",
       " 'data/Want to find/Images/ArrestPerson_images/ArrestPerson_images/111-18 001#_9d264c41-fe62-45f3-b25d-ab1b27f57e5d1503.jpg',\n",
       " 'data/Want to find/Images/ArrestPerson_images/ArrestPerson_images/IMAGE 001#_f3fbdb23-f50a-48b6-a66c-a4ba6373450e1486.jpg',\n",
       " 'data/Want to find/Images/ArrestPerson_images/ArrestPerson_images/IMAGE 001#_aa1d08b5-ac0e-4b64-9424-72dc19639b7b1445.jpg',\n",
       " 'data/Want to find/Images/ArrestPerson_images/ArrestPerson_images/Cr no#_2eb47887-8d47-465e-9cc5-4bbb2b46dbb51256.jpg',\n",
       " 'data/Want to find/Images/ArrestPerson_images/ArrestPerson_images/20170808_1#_f2c02625-c0e7-4fb7-9a9a-6269a166b1231241.jpg',\n",
       " 'data/Want to find/Images/ArrestPerson_images/ArrestPerson_images/20180913_1#_6caced01-fcfe-44de-9758-47c8d9d215a01241.jpg',\n",
       " 'data/Want to find/Images/ArrestPerson_images/ArrestPerson_images/cr no 134-#_381ad3e2-ae0d-43f6-91c6-7ebb274794222189.jpg',\n",
       " 'data/Want to find/Images/ArrestPerson_images/ArrestPerson_images/Cr no#_7f6e0ec9-018a-419b-ab50-07fd639d1a031256.jpg',\n",
       " 'data/Want to find/Images/ArrestPerson_images/ArrestPerson_images/117-18 001#_5150d998-103a-4149-8984-2a5cc3d5fe8a1503.jpg',\n",
       " 'data/Want to find/Images/ArrestPerson_images/ArrestPerson_images/IMG_0002#_16f0aed1-1cf1-4759-a7e0-b75355819fe22189.jpg',\n",
       " 'data/Want to find/Images/ArrestPerson_images/ArrestPerson_images/Sulpya#_04979482-1edc-4b05-9b83-1b31fa9d88e31257.jpg',\n",
       " 'data/Want to find/Images/ArrestPerson_images/ArrestPerson_images/Peeraje#_19314b37-cd20-46f9-ab84-cf26ded596a21456.jpg',\n",
       " 'data/Want to find/Images/ArrestPerson_images/ArrestPerson_images/Cr no#_853894cc-4d62-40eb-a5d4-114ce172a5401256.jpg',\n",
       " 'data/Want to find/Images/ArrestPerson_images/ArrestPerson_images/20180624_2#_0db5aa55-0d59-4d35-83a2-3f1547b90d9a1507.jpg',\n",
       " 'data/Want to find/Images/ArrestPerson_images/ArrestPerson_images/MOKA PS CR#_d6f73db2-42d2-4fd2-ac74-930851231562341.jpg',\n",
       " 'data/Want to find/Images/ArrestPerson_images/ArrestPerson_images/2222222#_28569140-29d4-4281-ab69-6c961480d39c1436.jpg',\n",
       " 'data/Want to find/Images/ArrestPerson_images/ArrestPerson_images/Dage#_828e0d43-ff78-4a7c-a042-25ba21c36bff1257.jpg',\n",
       " 'data/Want to find/Images/ArrestPerson_images/ArrestPerson_images/IMG-201805#_6f645a1a-ad90-4261-b9af-7ef2aa5fd4561263.jpg',\n",
       " 'data/Want to find/Images/ArrestPerson_images/ArrestPerson_images/PHOTO#_065fb274-2f0f-4aec-83aa-19c87ca6d5c6323.jpg',\n",
       " 'data/Want to find/Images/ArrestPerson_images/ArrestPerson_images/CR NO 131 #_72f7132f-ddac-4435-9343-fdb6b27d87a61251.jpg',\n",
       " 'data/Want to find/Images/ArrestPerson_images/ArrestPerson_images/CR N0 127 #_3d507495-c277-4b9e-b446-a398a145aade1253.jpg',\n",
       " 'data/Want to find/Images/ArrestPerson_images/ArrestPerson_images/rajeswari#_eb9b40f6-c07a-47f9-86cd-e1130b82c302297.jpg',\n",
       " 'data/Want to find/Images/ArrestPerson_images/ArrestPerson_images/IMG-201805#_42b27c55-c937-467b-be69-e71dbb97c4421263.jpg',\n",
       " 'data/Want to find/Images/ArrestPerson_images/ArrestPerson_images/105-18 001#_407afdd0-436d-4ed1-99a3-fd1f11155e5c1503.jpg',\n",
       " 'data/Want to find/Images/ArrestPerson_images/ArrestPerson_images/Basavaraja#_8aae9ddb-e860-44c9-9830-cad4f61c39411502.jpg',\n",
       " 'data/Want to find/Images/ArrestPerson_images/ArrestPerson_images/EXTRA#_303248c5-d5bd-4425-8449-95226b9da4531464.jpg',\n",
       " 'data/Want to find/Images/ArrestPerson_images/ArrestPerson_images/Cr no#_afa161bb-00dc-4341-9246-491ecc74ef451257.jpg',\n",
       " 'data/Want to find/Images/ArrestPerson_images/ArrestPerson_images/01 001#_2d851105-7574-4365-a283-a0d0fd9720691473.jpg',\n",
       " 'data/Want to find/Images/ArrestPerson_images/ArrestPerson_images/69-2018#_bb95f121-a83d-49df-88c7-8a6221f37d5b305.jpg',\n",
       " 'data/Want to find/Images/ArrestPerson_images/ArrestPerson_images/IMAGE 001#_1de2a73a-feee-4f33-9ec7-cf8e9332deed1486.jpg',\n",
       " 'data/Want to find/Images/ArrestPerson_images/ArrestPerson_images/12#_a4c5e03f-18d3-41d5-a21b-9a0919a8cc00311.jpg',\n",
       " 'data/Want to find/Images/ArrestPerson_images/ArrestPerson_images/IMG_0001#_3c61ca9a-2130-43f3-b597-e7c996b0997c1893.jpg',\n",
       " 'data/Want to find/Images/ArrestPerson_images/ArrestPerson_images/151-4,5#_cae170dd-f018-415e-b565-cf2f84cbc06f1247.jpg',\n",
       " 'data/Want to find/Images/ArrestPerson_images/ArrestPerson_images/PHOTO#_ebed8147-514a-4137-8268-8a82b004b808323.jpg',\n",
       " 'data/Want to find/Images/ArrestPerson_images/ArrestPerson_images/Govind#_f66e2d50-1e63-44de-be7b-73bed273a6aa1257.jpg',\n",
       " 'data/Want to find/Images/ArrestPerson_images/ArrestPerson_images/EXTRA#_975fb7ca-2e25-45ff-9c6a-9b5c8cc0fff91464.jpg',\n",
       " 'data/Want to find/Images/ArrestPerson_images/ArrestPerson_images/157-158#_4091225f-8aea-4f1d-9eb0-b54839e8734d1247.jpg',\n",
       " 'data/Want to find/Images/ArrestPerson_images/ArrestPerson_images/cr no 135-#_c8826722-be03-49d8-904e-2d2f3557e1cc1507.jpg',\n",
       " 'data/Want to find/Images/ArrestPerson_images/ArrestPerson_images/EXTRA#_10780752-4101-47d3-922e-7525c79648e01464.jpg',\n",
       " 'data/Want to find/Images/ArrestPerson_images/ArrestPerson_images/PHOTO#_a75bea4f-a291-4e6a-8707-a705bd9d0204323.jpg',\n",
       " 'data/Want to find/Images/ArrestPerson_images/ArrestPerson_images/Cr no#_7758c5fe-23e8-4e51-b010-a751e20c5ad41257.jpg',\n",
       " 'data/Want to find/Images/ArrestPerson_images/ArrestPerson_images/PHOTO#_9d285fb2-c0a1-4268-b34b-4c6ca422929d323.jpg',\n",
       " 'data/Want to find/Images/ArrestPerson_images/ArrestPerson_images/20_06_2018#_b631029a-39cb-44f7-9f82-490edacbb5a21509.jpg',\n",
       " 'data/Want to find/Images/ArrestPerson_images/ArrestPerson_images/20180624_2#_00b6c488-d0ef-476c-8a47-97582ff717d31507.jpg',\n",
       " 'data/Want to find/Images/ArrestPerson_images/ArrestPerson_images/CR NO 134 #_8fd14b88-18a4-4621-abf4-02b1a8399d871251.jpg',\n",
       " 'data/Want to find/Images/ArrestPerson_images/ArrestPerson_images/173#_de55f2fc-761d-4ba9-906f-ad60b60109991478.jpg',\n",
       " 'data/Want to find/Images/ArrestPerson_images/ArrestPerson_images/EXTRA#_0d36711e-6b79-488e-be04-0313ae6767341464.jpg',\n",
       " 'data/Want to find/Images/ArrestPerson_images/ArrestPerson_images/20180605_1#_cc1175d3-7726-4937-a25a-98a140b5c3df1507.jpg',\n",
       " 'data/Want to find/Images/ArrestPerson_images/ArrestPerson_images/IMG_0002#_7e3f35ac-862f-46ac-93dd-ec74528dd6d41893.jpg',\n",
       " 'data/Want to find/Images/ArrestPerson_images/ArrestPerson_images/229-18 a1#_147a5cc9-28b1-467a-afa9-e019eda7b78d1255.jpg',\n",
       " 'data/Want to find/Images/ArrestPerson_images/ArrestPerson_images/psr - Copy#_b28d59d6-daab-4fe3-a025-8c7cfca54c701505.jpg',\n",
       " 'data/Want to find/Images/ArrestPerson_images/ArrestPerson_images/56-2018#_a80b7ab6-13a4-44dd-b7eb-a6b11ef027ec305.jpg',\n",
       " 'data/Want to find/Images/ArrestPerson_images/ArrestPerson_images/01 001#_a638fbc8-b677-4565-8d4f-8fb13cc919331473.jpg',\n",
       " 'data/Want to find/Images/ArrestPerson_images/ArrestPerson_images/000#_16f82fc3-5494-4992-863e-ff5c024d5a1e1263.jpg',\n",
       " 'data/Want to find/Images/ArrestPerson_images/ArrestPerson_images/12#_e96b0f80-2f52-447d-854c-51156b447d761478.jpg',\n",
       " 'data/Want to find/Images/ArrestPerson_images/ArrestPerson_images/11#_001130fc-61ce-434d-9e71-b1b50ad20feb311.jpg',\n",
       " 'data/Want to find/Images/ArrestPerson_images/ArrestPerson_images/IMAGE 001#_3511f2c7-1c53-4964-96b2-688671aeef381486.jpg',\n",
       " 'data/Want to find/Images/ArrestPerson_images/ArrestPerson_images/PHOTO 001#_b607fd4e-77cb-464a-a2ec-280b8552566b1473.jpg',\n",
       " 'data/Want to find/Images/ArrestPerson_images/ArrestPerson_images/26_06_2018#_c2214198-4d60-47fe-b366-703bf046a7621509.jpg',\n",
       " 'data/Want to find/Images/ArrestPerson_images/ArrestPerson_images/Koala#_1500b2f6-2df4-43be-b486-91dd352381e3355.jpg',\n",
       " 'data/Want to find/Images/ArrestPerson_images/ArrestPerson_images/2222222#_82719a62-adf3-491a-a772-37fcccf898731436.jpg',\n",
       " 'data/Want to find/Images/ArrestPerson_images/ArrestPerson_images/HAT PS CR#_61d6b691-9f84-4236-b4ba-3b998520b46c340.jpg',\n",
       " 'data/Want to find/Images/ArrestPerson_images/ArrestPerson_images/100-2018 0#_a3d719b0-7cf4-4098-8770-8272ebe840721503.jpg',\n",
       " 'data/Want to find/Images/ArrestPerson_images/ArrestPerson_images/IMG-201805#_45d56c97-a69d-4323-b632-f04e8dc5dd331263.jpg',\n",
       " 'data/Want to find/Images/ArrestPerson_images/ArrestPerson_images/Raju m tal#_a7a4caca-ee59-4fe5-b842-cc3eeb1094f41241.jpg',\n",
       " 'data/Want to find/Images/ArrestPerson_images/ArrestPerson_images/RAFIQ#_88e82093-ad97-4ab9-9b70-612f83eff3d91478.jpg',\n",
       " 'data/Want to find/Images/ArrestPerson_images/ArrestPerson_images/PHOTO#_805caeda-c45d-407a-a07b-79e9c11d4afc323.jpg',\n",
       " 'data/Want to find/Images/ArrestPerson_images/ArrestPerson_images/IMG_201804#_6eb966b8-12e7-46b5-9389-0c0e170854b81239.jpg',\n",
       " 'data/Want to find/Images/ArrestPerson_images/ArrestPerson_images/116-2018-A#_b0737d5d-f130-4722-8991-4a0b8745207c1236.jpg',\n",
       " 'data/Want to find/Images/ArrestPerson_images/ArrestPerson_images/Vaishali#_686d56f2-adc2-4f69-ad68-188941f7f6661456.jpg',\n",
       " 'data/Want to find/Images/ArrestPerson_images/ArrestPerson_images/152-3#_bdfb7f12-9204-4f97-bd76-d9ab32b071f91247.jpg',\n",
       " 'data/Want to find/Images/ArrestPerson_images/ArrestPerson_images/IMAGE 001#_5ace1dc9-9a91-4838-a7b2-ad3d16da14c31486.jpg',\n",
       " 'data/Want to find/Images/ArrestPerson_images/ArrestPerson_images/Untitled54#_5785eb5e-06b5-46b2-af1e-75f88af7e3d91241.jpg',\n",
       " 'data/Want to find/Images/ArrestPerson_images/ArrestPerson_images/IMG_0009#_a2dcf6b9-9888-471f-a84a-1d626c2748b32189.jpg',\n",
       " 'data/Want to find/Images/ArrestPerson_images/ArrestPerson_images/PSR#_5451e152-aa1f-4fe6-9534-2b170948f2fe296.jpg',\n",
       " 'data/Want to find/Images/ArrestPerson_images/ArrestPerson_images/Shnkranaik#_17604fe8-7f90-4316-baf9-0d81b7a1d2d5360.jpg',\n",
       " 'data/Want to find/Images/ArrestPerson_images/ArrestPerson_images/cr no 135-#_d9f719b8-a291-4b5f-8cce-859282adc8501507.jpg',\n",
       " 'data/Want to find/Images/ArrestPerson_images/ArrestPerson_images/RAJU#_539adc0e-3b19-4fe2-8fc5-3792950065d4341.jpg',\n",
       " 'data/Want to find/Images/ArrestPerson_images/ArrestPerson_images/01 001#_4f4424d1-64cd-420f-9970-973f59c760cc1473.jpg',\n",
       " 'data/Want to find/Images/ArrestPerson_images/ArrestPerson_images/PSR-2018#_81f134df-6d64-4bb8-b3fb-9c20dcdb00b11505.jpg',\n",
       " 'data/Want to find/Images/ArrestPerson_images/ArrestPerson_images/99 001#_615ac226-ef55-44c5-aa16-17221af713602011.jpg',\n",
       " 'data/Want to find/Images/ArrestPerson_images/ArrestPerson_images/Papanna-12#_28f9ef34-81d2-4a2c-8318-97edbdac87ac1502.jpg',\n",
       " 'data/Want to find/Images/ArrestPerson_images/ArrestPerson_images/000#_b5bad9af-1024-4598-85c9-04893587847b1263.jpg',\n",
       " 'data/Want to find/Images/ArrestPerson_images/ArrestPerson_images/PHOTO#_2d8b57de-148f-4a40-8c6a-1b8dee6961bf2126.jpg',\n",
       " 'data/Want to find/Images/ArrestPerson_images/ArrestPerson_images/EXTRA#_e630cb2c-bf85-4614-93a8-b10b5f0af0d71464.jpg',\n",
       " 'data/Want to find/Images/ArrestPerson_images/ArrestPerson_images/20181219_1#_c2b95bb0-c3d4-4179-bbde-12a779b8ae661238.jpg',\n",
       " 'data/Want to find/Images/ArrestPerson_images/ArrestPerson_images/PHOTO#_3a08371d-c9cd-421a-8ce8-33c67307a67b323.jpg',\n",
       " 'data/Want to find/Images/ArrestPerson_images/ArrestPerson_images/155-2#_4ae8007b-4d30-4bf2-a35c-41fa9f59143a1248.jpg',\n",
       " 'data/Want to find/Images/ArrestPerson_images/ArrestPerson_images/A-4#_9bcd82e9-1bce-40ee-ac74-d725eb3bffa6351.jpg',\n",
       " 'data/Want to find/Images/ArrestPerson_images/ArrestPerson_images/ANIL#_812b5200-6fe9-4eba-9b4c-1858b76d03401478.jpg',\n",
       " 'data/Want to find/Images/ArrestPerson_images/ArrestPerson_images/9#_4ce92bed-aee8-4b08-bd80-f80e750784f81241.jpg',\n",
       " 'data/Want to find/Images/ArrestPerson_images/ArrestPerson_images/Cr no#_bae2ca9c-e109-4c10-8367-ddfc40b5e4e21256.jpg',\n",
       " 'data/Want to find/Images/ArrestPerson_images/ArrestPerson_images/EXTRA#_b4c07370-d1e1-486d-b59c-a29891347f2e1464.jpg',\n",
       " 'data/Want to find/Images/ArrestPerson_images/ArrestPerson_images/IMG_0001#_4172681e-853b-4dd9-97e6-96f562389a0d290.jpg',\n",
       " 'data/Want to find/Images/ArrestPerson_images/ArrestPerson_images/photo wome#_1886f78e-0eff-4f2a-96cc-e6f2999e7dfe2217.jpg',\n",
       " 'data/Want to find/Images/ArrestPerson_images/ArrestPerson_images/12_06_2018#_8320affd-e8fb-4333-a9ff-465126834ded1509.jpg',\n",
       " 'data/Want to find/Images/ArrestPerson_images/ArrestPerson_images/52-2018#_67b53d71-92ee-4afc-a21e-81a38987a36e305.jpg',\n",
       " 'data/Want to find/Images/ArrestPerson_images/ArrestPerson_images/cr no 135-#_e7a2714e-6432-499c-ba86-a23afc1872fa1507.jpg',\n",
       " 'data/Want to find/Images/ArrestPerson_images/ArrestPerson_images/246-2018 A#_bacb1375-ca8b-447d-98e3-ff6a5e2e317b338.jpg',\n",
       " 'data/Want to find/Images/ArrestPerson_images/ArrestPerson_images/14_08_2018#_d0fa78cd-455a-4b84-aa42-ae29d154b5371509.jpg',\n",
       " 'data/Want to find/Images/ArrestPerson_images/ArrestPerson_images/Untitled54#_0b8d38d2-75d5-43dd-ae7a-edbe0440d1071241.jpg',\n",
       " 'data/Want to find/Images/ArrestPerson_images/ArrestPerson_images/Photo#_95c5275a-0d0d-4f47-8752-365ad7be06ad364.jpg',\n",
       " 'data/Want to find/Images/ArrestPerson_images/ArrestPerson_images/bdm#_e28ccbf3-2ba4-4bb7-83af-14e1c4f42ab31248.jpg',\n",
       " 'data/Want to find/Images/ArrestPerson_images/ArrestPerson_images/143-1 001#_7142c5bf-5ab2-456e-b50d-eb831096ccaa1507.jpg',\n",
       " 'data/Want to find/Images/ArrestPerson_images/ArrestPerson_images/PHOTO - Co#_a0b1fa23-ac4b-4e33-b371-3d38c9319f311485.jpg',\n",
       " 'data/Want to find/Images/ArrestPerson_images/ArrestPerson_images/IMG_201806#_92cbe6f5-f6d3-4bf4-bebc-fbde1713e2491238.jpg',\n",
       " 'data/Want to find/Images/ArrestPerson_images/ArrestPerson_images/104 a2#_4323d934-763f-4c61-af53-22267445cb451249.jpg',\n",
       " 'data/Want to find/Images/ArrestPerson_images/ArrestPerson_images/Photo#_cdee0fd2-b07f-4ef2-aa03-904f1617c4d6364.jpg',\n",
       " 'data/Want to find/Images/ArrestPerson_images/ArrestPerson_images/ACCUED NOT#_dbec4903-2259-4e14-8943-85ce93c32b0d303.jpg',\n",
       " 'data/Want to find/Images/ArrestPerson_images/ArrestPerson_images/128#_486a641c-ce67-44bf-bd15-32834e88cf72351.jpg',\n",
       " 'data/Want to find/Images/ArrestPerson_images/ArrestPerson_images/46#_046ec256-f1de-4ae2-91b4-62bfa1751d5a324.jpg',\n",
       " 'data/Want to find/Images/ArrestPerson_images/ArrestPerson_images/96#_948fc0e1-c22f-408e-80a8-1536a6c52b171258.jpg',\n",
       " 'data/Want to find/Images/ArrestPerson_images/ArrestPerson_images/IMG-201806#_bc3fb9aa-5b25-4308-9e43-b9ffd8b380551245.jpg',\n",
       " 'data/Want to find/Images/ArrestPerson_images/ArrestPerson_images/Vakilya#_76a6356b-604f-4592-9b90-bf66f709b6871257.jpg',\n",
       " 'data/Want to find/Images/ArrestPerson_images/ArrestPerson_images/0000#_404c96da-6002-4360-859d-74b17940f0e81246.jpg',\n",
       " 'data/Want to find/Images/ArrestPerson_images/ArrestPerson_images/IMG-201805#_5eb11566-a12c-48c1-b70b-d89d8a42cb6a1263.jpg',\n",
       " 'data/Want to find/Images/ArrestPerson_images/ArrestPerson_images/cr no 122 #_fb8aff92-442e-41b3-a35b-0a5d6b9ac0a91253.jpg',\n",
       " 'data/Want to find/Images/ArrestPerson_images/ArrestPerson_images/IMG_0001#_7e175f5f-a2c6-4115-b0f8-a8f1c8594ca2347.jpg',\n",
       " 'data/Want to find/Images/ArrestPerson_images/ArrestPerson_images/Photo#_6c0ac47b-b228-4800-8fd3-29c840e6d3c1364.jpg',\n",
       " 'data/Want to find/Images/ArrestPerson_images/ArrestPerson_images/354#_1c054e8d-a54c-4386-8e00-cf0f382b84991238.jpg',\n",
       " 'data/Want to find/Images/ArrestPerson_images/ArrestPerson_images/01#_ee5e7fe1-fac4-49aa-802a-5c9bd8b5e1ed311.jpg',\n",
       " 'data/Want to find/Images/ArrestPerson_images/ArrestPerson_images/Blank Phot#_f75e2225-fc56-4a18-b5c8-dedf90476137319.jpg',\n",
       " 'data/Want to find/Images/ArrestPerson_images/ArrestPerson_images/21#_bb9257c9-da9e-4652-a2c2-0396ee8818f61478.jpg',\n",
       " 'data/Want to find/Images/ArrestPerson_images/ArrestPerson_images/14_08_2018#_87155c1d-6c48-4217-b50e-649f6c3aba651509.jpg',\n",
       " 'data/Want to find/Images/ArrestPerson_images/ArrestPerson_images/IMG2019010#_83e887f8-4916-401a-ae59-72c69258282b1238.jpg',\n",
       " 'data/Want to find/Images/ArrestPerson_images/ArrestPerson_images/cr no-78-1#_09848cea-d7be-4e26-856f-b5bb23d89b231467.jpg',\n",
       " 'data/Want to find/Images/ArrestPerson_images/ArrestPerson_images/356#_3cd6c0be-4412-4fe1-836b-70729d18d71d1238.jpg',\n",
       " 'data/Want to find/Images/ArrestPerson_images/ArrestPerson_images/Accused#_b481652f-0887-402a-8213-bc16f2c131631253.jpg',\n",
       " 'data/Want to find/Images/ArrestPerson_images/ArrestPerson_images/IMG-201810#_1d3efa92-cf9d-4a12-a007-f44376874b6d1257.jpg',\n",
       " 'data/Want to find/Images/ArrestPerson_images/ArrestPerson_images/Pampapathi#_dc216d8b-7234-4545-a930-3e33df94ada51489.jpg',\n",
       " 'data/Want to find/Images/ArrestPerson_images/ArrestPerson_images/IMAGE 001#_2beb1e5f-4c3b-4c3d-9bc8-2f013df62f951486.jpg',\n",
       " 'data/Want to find/Images/ArrestPerson_images/ArrestPerson_images/CR No 13-1#_1d6a1cc0-81dd-4852-9a48-0d8df8376e841502.jpg',\n",
       " 'data/Want to find/Images/ArrestPerson_images/ArrestPerson_images/EXTRA#_05dc19b7-acbc-4cb6-906d-680fcd13f5191464.jpg',\n",
       " 'data/Want to find/Images/ArrestPerson_images/ArrestPerson_images/50-18 Accu#_44973951-bcfd-441e-9a0c-a82fbf1d5e35353.jpg',\n",
       " 'data/Want to find/Images/ArrestPerson_images/ArrestPerson_images/cr no 135-#_377e4fd6-4862-4e5a-b395-f876d1a47c771507.jpg',\n",
       " 'data/Want to find/Images/ArrestPerson_images/ArrestPerson_images/135#_5223918b-d102-4b0a-a229-d164a1901c451241.jpg',\n",
       " 'data/Want to find/Images/ArrestPerson_images/ArrestPerson_images/Blank Phot#_efd0c518-c050-40ab-9ebf-004d94ba9ee2319.jpg',\n",
       " 'data/Want to find/Images/ArrestPerson_images/ArrestPerson_images/Koala#_d232bdeb-e57a-4e16-a4f5-9bbe8fbec72b355.jpg',\n",
       " 'data/Want to find/Images/ArrestPerson_images/ArrestPerson_images/PHOTO - Co#_cc4bb56c-2ba2-4ce4-8916-73d426f1f7c51485.jpg',\n",
       " 'data/Want to find/Images/ArrestPerson_images/ArrestPerson_images/PPT-13-11-#_172ac68a-682f-476e-8fb2-f1063447fbde2240.jpg',\n",
       " 'data/Want to find/Images/ArrestPerson_images/ArrestPerson_images/Hanamant K#_7bf2fa69-f76b-4ef6-8f20-a8449565cb341255.jpg',\n",
       " 'data/Want to find/Images/ArrestPerson_images/ArrestPerson_images/IMG_0005#_c8ee7089-ec72-4522-962b-079e91b3137f2189.jpg',\n",
       " 'data/Want to find/Images/ArrestPerson_images/ArrestPerson_images/Basavaraja#_02c91207-b582-4b5b-a4a3-18cd3d83f6441502.jpg',\n",
       " 'data/Want to find/Images/ArrestPerson_images/ArrestPerson_images/Devaraja B#_ec57b8d2-4403-4657-ac12-0a599e5d1cd6351.jpg',\n",
       " 'data/Want to find/Images/ArrestPerson_images/ArrestPerson_images/18-2018 AC#_52cb9de5-099c-47d3-ab1e-ea817e581ad41920.jpg',\n",
       " 'data/Want to find/Images/ArrestPerson_images/ArrestPerson_images/IMG-201806#_891cb8e5-d87b-4b4e-8135-b67eb6b50d511245.jpg',\n",
       " 'data/Want to find/Images/ArrestPerson_images/ArrestPerson_images/145-1 002#_76287fc3-fedb-4ed5-a60c-8775e62d53cb1507.jpg',\n",
       " 'data/Want to find/Images/ArrestPerson_images/ArrestPerson_images/cr no 137-#_5071f445-0c85-4a1b-b356-5a11942369e51507.jpg',\n",
       " 'data/Want to find/Images/ArrestPerson_images/ArrestPerson_images/221#_91829b32-7ed7-43ac-bce6-020a93a54beb347.jpg',\n",
       " 'data/Want to find/Images/ArrestPerson_images/ArrestPerson_images/IMG_201809#_9b4aba00-3686-4504-b510-7c48cbd4beb2319.jpg',\n",
       " 'data/Want to find/Images/ArrestPerson_images/ArrestPerson_images/IMG-201806#_78bdf76d-b968-4db6-aa8f-c863d7170c011455.jpg',\n",
       " 'data/Want to find/Images/ArrestPerson_images/ArrestPerson_images/A6-Rehaman#_9c9fa49b-29aa-4fdb-8a42-649d202c0010356.jpg',\n",
       " 'data/Want to find/Images/ArrestPerson_images/ArrestPerson_images/Sadashiv#_a5eace9c-8774-4a79-9881-5667e59dc9aa1255.jpg',\n",
       " 'data/Want to find/Images/ArrestPerson_images/ArrestPerson_images/PHOTO#_917bd482-0955-4032-96ff-9b8df1a620a2323.jpg',\n",
       " 'data/Want to find/Images/ArrestPerson_images/ArrestPerson_images/Shrinivas#_a8065af1-8097-4782-ba87-587aada5b39f1255.jpg',\n",
       " 'data/Want to find/Images/ArrestPerson_images/ArrestPerson_images/mlappa#_89559de4-4dff-4664-a149-2322dd8d31b71255.jpg',\n",
       " 'data/Want to find/Images/ArrestPerson_images/ArrestPerson_images/3#_04ffa69e-a6fd-4e66-8acc-1b6d59e94a401241.jpg',\n",
       " 'data/Want to find/Images/ArrestPerson_images/ArrestPerson_images/P1080878#_74357b29-ac1f-44f2-ab57-6a8a9bf25f161888.jpg',\n",
       " 'data/Want to find/Images/ArrestPerson_images/ArrestPerson_images/Blank Phot#_27b96253-628d-4f58-a125-34542c6414ba319.jpg',\n",
       " 'data/Want to find/Images/ArrestPerson_images/ArrestPerson_images/144 001#_d1120451-fc02-4809-9fcf-c351526d83ab1507.jpg',\n",
       " 'data/Want to find/Images/ArrestPerson_images/ArrestPerson_images/A13-Parush#_8d5c4ccf-0171-4ed0-b67c-52b4efbafb76356.jpg',\n",
       " 'data/Want to find/Images/ArrestPerson_images/ArrestPerson_images/152-1#_0b826a54-526d-4cc9-9e9c-f63ad12276a91247.jpg',\n",
       " 'data/Want to find/Images/ArrestPerson_images/ArrestPerson_images/PHOTO - Co#_ab4f664e-ea7e-4f79-b50b-2262d321ecfc1485.jpg',\n",
       " 'data/Want to find/Images/ArrestPerson_images/ArrestPerson_images/IMG_201806#_c3d61558-ad0b-4d11-8bbf-3b01d3f28a9e348.jpg',\n",
       " 'data/Want to find/Images/ArrestPerson_images/ArrestPerson_images/38-18ACCUS#_768690cc-ede7-4937-9e23-67bb6286fa981237.jpg',\n",
       " 'data/Want to find/Images/ArrestPerson_images/ArrestPerson_images/Prahlada#_9a90f2df-e475-42ba-8bc4-9543584762911502.jpg',\n",
       " 'data/Want to find/Images/ArrestPerson_images/ArrestPerson_images/171-18ppp_#_7a9f36f9-a10e-44b0-ab4c-d063874888961460.jpg',\n",
       " 'data/Want to find/Images/ArrestPerson_images/ArrestPerson_images/129-photo#_5deed190-8678-4225-9b78-19e5d8311635351.jpg',\n",
       " 'data/Want to find/Images/ArrestPerson_images/ArrestPerson_images/IMAGE 001#_ce3c8aa9-f801-41a4-bab3-af67a1b56be11486.jpg',\n",
       " 'data/Want to find/Images/ArrestPerson_images/ArrestPerson_images/scan0024#_0c67cee5-86b0-4b67-a29f-22b5d0d768e5311.jpg',\n",
       " 'data/Want to find/Images/ArrestPerson_images/ArrestPerson_images/114-18 PHO#_77821a25-5aea-46f8-8c8e-5b1c8d5529b91501.jpg',\n",
       " 'data/Want to find/Images/ArrestPerson_images/ArrestPerson_images/213#_acdb4116-c8d7-4de5-8500-b929819f2c5c347.jpg',\n",
       " 'data/Want to find/Images/ArrestPerson_images/ArrestPerson_images/IMG-201807#_772344e8-1660-4335-9862-2cefcc27e5311893.jpg',\n",
       " 'data/Want to find/Images/ArrestPerson_images/ArrestPerson_images/IMAGE 001#_a8f28016-b27a-4a4c-aafb-5ff0fb56576e1486.jpg',\n",
       " 'data/Want to find/Images/ArrestPerson_images/ArrestPerson_images/PHOTO#_4fbab5af-3f73-48f1-b589-67f2489a8292323.jpg',\n",
       " 'data/Want to find/Images/ArrestPerson_images/ArrestPerson_images/163#_6444ce58-49f6-4682-9420-ec6b0e7e81961247.jpg',\n",
       " 'data/Want to find/Images/ArrestPerson_images/ArrestPerson_images/Kajesab m #_9b96189d-dfe8-4754-b6f1-be977a4535d71241.jpg',\n",
       " 'data/Want to find/Images/ArrestPerson_images/ArrestPerson_images/A7-Ramanji#_8955b910-36c3-4dd9-9f94-0124ed65cdf9356.jpg',\n",
       " 'data/Want to find/Images/ArrestPerson_images/ArrestPerson_images/DEMO POTO #_4692d1b6-b85f-4090-8b40-cb3959cd9e681461.jpg',\n",
       " 'data/Want to find/Images/ArrestPerson_images/ArrestPerson_images/Nagappa#_dc555f73-0c51-4778-8e2e-63d6dd103d61362.jpg',\n",
       " 'data/Want to find/Images/ArrestPerson_images/ArrestPerson_images/225#_bb05543b-44a1-4b95-aa3f-2267f4493c54347.jpg',\n",
       " 'data/Want to find/Images/ArrestPerson_images/ArrestPerson_images/IMG_201809#_bbc7de68-1e7e-43f4-b9d5-521147f3c581319.jpg',\n",
       " 'data/Want to find/Images/ArrestPerson_images/ArrestPerson_images/1#_d8336105-7ae3-4bac-a17c-957e8a77a4b4323.jpg',\n",
       " 'data/Want to find/Images/ArrestPerson_images/ArrestPerson_images/Blank Phot#_5e00175d-8a15-4c9f-8e81-3db2ad3b4461319.jpg',\n",
       " 'data/Want to find/Images/ArrestPerson_images/ArrestPerson_images/PHOTO#_a391c538-db6e-4acd-99e5-b46b0acbef00323.jpg',\n",
       " 'data/Want to find/Images/ArrestPerson_images/ArrestPerson_images/29-2018#_984ae852-aaa9-499f-9e02-a9975836368f348.jpg',\n",
       " 'data/Want to find/Images/ArrestPerson_images/ArrestPerson_images/03-18#_ded778bd-62d6-43b7-8fd1-04c886e5473f348.jpg',\n",
       " 'data/Want to find/Images/ArrestPerson_images/ArrestPerson_images/photo not #_cd3d6f62-4af3-46d0-b17d-c5d63ef762231456.jpg',\n",
       " 'data/Want to find/Images/ArrestPerson_images/ArrestPerson_images/102-1 001#_03fd127f-223a-463b-80cc-69a0e4f58de11504.jpg',\n",
       " 'data/Want to find/Images/ArrestPerson_images/ArrestPerson_images/cr no 135-#_39a0eb8b-6426-4bbd-a6d6-65a0460c2ed01507.jpg',\n",
       " 'data/Want to find/Images/ArrestPerson_images/ArrestPerson_images/HAT PS CR#_6b5a7363-5a7a-4044-b96d-d2c43ba2eec9340.jpg',\n",
       " 'data/Want to find/Images/ArrestPerson_images/ArrestPerson_images/IMG2019031#_0df43302-156f-4211-a652-d9fc741634111238.jpg',\n",
       " 'data/Want to find/Images/ArrestPerson_images/ArrestPerson_images/cr 76 a2 0#_92de9fe6-d840-4c14-915b-72f84af50c401508.jpg',\n",
       " 'data/Want to find/Images/ArrestPerson_images/ArrestPerson_images/101 001#_d03b1b02-e022-45e5-b3e8-967ca5ab50e02011.jpg',\n",
       " 'data/Want to find/Images/ArrestPerson_images/ArrestPerson_images/160-2#_6c419a8e-e5db-447b-b953-8646b9c9aef21247.jpg',\n",
       " 'data/Want to find/Images/ArrestPerson_images/ArrestPerson_images/21#_c7c02a01-4fb0-40a7-9a4e-5d58601a4de41478.jpg',\n",
       " 'data/Want to find/Images/ArrestPerson_images/ArrestPerson_images/Cr No#_5a1e7674-91e3-4d96-8924-61213d35d9de2205.jpg',\n",
       " 'data/Want to find/Images/ArrestPerson_images/ArrestPerson_images/PHOTO#_b508f8cf-6344-4eaa-acb3-7606da4d86ad323.jpg',\n",
       " 'data/Want to find/Images/ArrestPerson_images/ArrestPerson_images/IMG_201806#_697e299d-df6f-4481-b975-34474b415dd41238.jpg',\n",
       " 'data/Want to find/Images/ArrestPerson_images/ArrestPerson_images/Photo#_442b6310-dce8-4bc3-94f1-3a7f346b44af364.jpg',\n",
       " 'data/Want to find/Images/ArrestPerson_images/ArrestPerson_images/65-2018#_cd13725c-60df-4b03-a3ae-0b237de88fd9342.jpg',\n",
       " 'data/Want to find/Images/ArrestPerson_images/ArrestPerson_images/Gangaram#_9aad0b01-a2fc-4e7c-98bd-87257056fb17303.jpg',\n",
       " 'data/Want to find/Images/ArrestPerson_images/ArrestPerson_images/Untitled54#_3199f528-e4b8-48da-8268-bb1b8f259da31244.jpg',\n",
       " 'data/Want to find/Images/ArrestPerson_images/ArrestPerson_images/20180629_2#_90241e44-60ec-46a4-a082-ca97b4561ef01245.jpg',\n",
       " 'data/Want to find/Images/ArrestPerson_images/ArrestPerson_images/PHOTO - Co#_09d547f3-e30d-4496-b863-35a22d4c2d741485.jpg',\n",
       " 'data/Want to find/Images/ArrestPerson_images/ArrestPerson_images/PHOTO#_827af0a4-d88e-461c-a0ba-c2d2353dcdea297.jpg',\n",
       " 'data/Want to find/Images/ArrestPerson_images/ArrestPerson_images/PHOTO#_5b375dd1-1c0b-445a-8d80-45723030694b323.jpg',\n",
       " 'data/Want to find/Images/ArrestPerson_images/ArrestPerson_images/23-18#_ccff8ac1-1551-482e-96fc-74f86ec693031255.jpg',\n",
       " 'data/Want to find/Images/ArrestPerson_images/ArrestPerson_images/IMG_0003#_92461f36-f650-4aff-b39b-2cb2c1680be22189.jpg',\n",
       " 'data/Want to find/Images/ArrestPerson_images/ArrestPerson_images/IMAGE 001#_1525356a-7a30-426d-9479-18705afe7f981486.jpg',\n",
       " 'data/Want to find/Images/ArrestPerson_images/ArrestPerson_images/114-18 PHO#_01c5c516-2e65-4bf1-bf18-f960296704351501.jpg',\n",
       " 'data/Want to find/Images/ArrestPerson_images/ArrestPerson_images/PHOTO#_4edfdea2-f536-4836-aaa3-13c160da09b7323.jpg',\n",
       " 'data/Want to find/Images/ArrestPerson_images/ArrestPerson_images/53-2018 00#_f339f2a0-3118-43e3-8bd8-0e28dd89c101361.jpg',\n",
       " 'data/Want to find/Images/ArrestPerson_images/ArrestPerson_images/P1080806#_a9682ff3-6d26-489f-8acb-29cf752b652f1888.jpg',\n",
       " 'data/Want to find/Images/ArrestPerson_images/ArrestPerson_images/12356#_7e0310fe-a6f6-4194-85f2-69d7f426706b1255.jpg',\n",
       " 'data/Want to find/Images/ArrestPerson_images/ArrestPerson_images/PHOTO - Co#_43ef52d8-3bc0-4f5a-9413-5dd056f957121485.jpg',\n",
       " 'data/Want to find/Images/ArrestPerson_images/ArrestPerson_images/PPT-13-11-#_086e5b5f-42dd-4f6c-b99a-1b71c35b50642240.jpg',\n",
       " 'data/Want to find/Images/ArrestPerson_images/ArrestPerson_images/IMG-201805#_014ef781-5e5c-4650-be1e-e6482904521c1263.jpg',\n",
       " 'data/Want to find/Images/ArrestPerson_images/ArrestPerson_images/73-18 A1#_e66b0548-f283-4865-ad65-45b747016c97352.jpg',\n",
       " 'data/Want to find/Images/ArrestPerson_images/ArrestPerson_images/IMG ANK#_de9c1b04-98b1-4437-a53a-64421916bb30324.jpg',\n",
       " 'data/Want to find/Images/ArrestPerson_images/ArrestPerson_images/20180624_2#_bf7d5273-6163-40bb-9475-f93727875c5b1507.jpg',\n",
       " 'data/Want to find/Images/ArrestPerson_images/ArrestPerson_images/Macchendr#_7ccb87ba-e1ba-4a51-9db6-6af738bb9a641257.jpg',\n",
       " 'data/Want to find/Images/ArrestPerson_images/ArrestPerson_images/26_06_2018#_8e30970c-9cef-4e81-80e2-fc4dc3a868211509.jpg',\n",
       " 'data/Want to find/Images/ArrestPerson_images/ArrestPerson_images/EXTRA#_04531eaa-2b31-420b-8207-ffd1b0b897881464.jpg',\n",
       " 'data/Want to find/Images/ArrestPerson_images/ArrestPerson_images/12_06_2018#_1ea28a1e-3757-4cbc-ac8e-7908b8d3160f1509.jpg',\n",
       " 'data/Want to find/Images/ArrestPerson_images/ArrestPerson_images/PHOTO - Co#_9109f0bb-3e77-4f29-88c2-201b3d4020b81485.jpg',\n",
       " 'data/Want to find/Images/ArrestPerson_images/ArrestPerson_images/Bablu#_ec121c30-ab77-4640-9a5d-55971b4e67331257.jpg',\n",
       " 'data/Want to find/Images/ArrestPerson_images/ArrestPerson_images/IMG_201807#_b20b28c4-dc43-4751-a8fc-5dce4eb320f2346.jpg',\n",
       " 'data/Want to find/Images/ArrestPerson_images/ArrestPerson_images/CR 211-201#_4ab5f7c1-2e2a-43f7-8979-8e89a294b6bc1255.jpg',\n",
       " 'data/Want to find/Images/ArrestPerson_images/ArrestPerson_images/108-2#_c69ed7cd-633a-42f5-9b3d-2b66d956c79d1249.jpg',\n",
       " 'data/Want to find/Images/ArrestPerson_images/ArrestPerson_images/Cr No 108-#_b69aedc8-fdfd-4874-918c-c83986f5695f1503.jpg',\n",
       " 'data/Want to find/Images/ArrestPerson_images/ArrestPerson_images/000#_44dca05c-eb0a-43b3-9103-202ea957d0cd1263.jpg',\n",
       " 'data/Want to find/Images/ArrestPerson_images/ArrestPerson_images/PHOTO 001#_0154ece2-ad52-4d91-9554-8f91cc6878d21473.jpg',\n",
       " 'data/Want to find/Images/ArrestPerson_images/ArrestPerson_images/IMG_0004#_727a854f-a3ae-4449-b620-5de8d9fb278b2189.jpg',\n",
       " 'data/Want to find/Images/ArrestPerson_images/ArrestPerson_images/145-3 001#_6b8dc3d1-54fb-4a34-94ee-f0fefc0e13451507.jpg',\n",
       " 'data/Want to find/Images/ArrestPerson_images/ArrestPerson_images/IMG-201805#_028c1179-ac9c-4314-a220-bbb7344c515b1263.jpg',\n",
       " 'data/Want to find/Images/ArrestPerson_images/ArrestPerson_images/145-7 001#_a0b5c5f0-615b-4bf2-8f52-359a94664d1d1507.jpg',\n",
       " 'data/Want to find/Images/ArrestPerson_images/ArrestPerson_images/PHOTO#_985e9f61-1a21-45ab-bc99-caf970379811323.jpg',\n",
       " 'data/Want to find/Images/ArrestPerson_images/ArrestPerson_images/Blank Phot#_dc531e91-88d5-4c16-8588-61c6898752aa318.jpg',\n",
       " 'data/Want to find/Images/ArrestPerson_images/ArrestPerson_images/PHOTO - Co#_bd6af51a-2444-4968-9823-fca399ba10c31485.jpg',\n",
       " 'data/Want to find/Images/ArrestPerson_images/ArrestPerson_images/PHOTO#_59d9246a-bdf3-44a0-8f35-737078fc23bf323.jpg',\n",
       " 'data/Want to find/Images/ArrestPerson_images/ArrestPerson_images/PHOTO#_dd7084a3-b7fd-4316-8049-346608308ed4323.jpg',\n",
       " 'data/Want to find/Images/ArrestPerson_images/ArrestPerson_images/IMG_201809#_80759b9e-2ee8-4923-8687-b028e86c56ba318.jpg',\n",
       " 'data/Want to find/Images/ArrestPerson_images/ArrestPerson_images/Channabasa#_cee28f72-3643-43b4-83b5-d6a5f597d5fc1456.jpg',\n",
       " 'data/Want to find/Images/ArrestPerson_images/ArrestPerson_images/IMG-201807#_d660fb6e-41ac-45bb-b9ff-20db7675d5a8335.jpg',\n",
       " 'data/Want to find/Images/ArrestPerson_images/ArrestPerson_images/98#_125b16da-1fb6-4822-9ba1-4771d63be2f4363.jpg',\n",
       " 'data/Want to find/Images/ArrestPerson_images/ArrestPerson_images/94-2018#_8d0737f3-550f-4799-99e9-5e7bf563d4cd337.jpg',\n",
       " 'data/Want to find/Images/ArrestPerson_images/ArrestPerson_images/114-18 PHO#_01ae6c9e-8156-4890-8d32-fec421ebd76d1501.jpg',\n",
       " 'data/Want to find/Images/ArrestPerson_images/ArrestPerson_images/IMG-201809#_f42513b5-cf95-470e-af89-d3977a855f511255.jpg',\n",
       " 'data/Want to find/Images/ArrestPerson_images/ArrestPerson_images/62-18#_72457ef0-db51-452f-8a7e-12ecf71e7707342.jpg',\n",
       " 'data/Want to find/Images/ArrestPerson_images/ArrestPerson_images/PHOTO - Co#_eadd1bb2-b776-4b52-b519-095bdb602b421485.jpg',\n",
       " 'data/Want to find/Images/ArrestPerson_images/ArrestPerson_images/84#_4fd89a9d-30c4-4c25-baac-4cd3f1a703401455.jpg',\n",
       " 'data/Want to find/Images/ArrestPerson_images/ArrestPerson_images/Accused-12#_2cb2c65c-e311-485d-b92b-ff80aba22c6f1502.jpg',\n",
       " 'data/Want to find/Images/ArrestPerson_images/ArrestPerson_images/176-18-pho#_25adcf9a-f06e-476a-806d-9b319fc3a0461460.jpg',\n",
       " 'data/Want to find/Images/ArrestPerson_images/ArrestPerson_images/IMG_201806#_7fd1309b-a3c9-4b97-9d35-4c2fe7062e0b1238.jpg',\n",
       " 'data/Want to find/Images/ArrestPerson_images/ArrestPerson_images/Aussed#_91546e69-c60b-4d0b-8ea3-1835e16346281507.jpg',\n",
       " 'data/Want to find/Images/ArrestPerson_images/ArrestPerson_images/PHOTO#_52906604-a3cd-42c1-b4aa-3e1a1c4a9e41297.jpg',\n",
       " 'data/Want to find/Images/ArrestPerson_images/ArrestPerson_images/cr no 135-#_68ffd419-aecf-496d-9f36-54cd12bef6741507.jpg',\n",
       " 'data/Want to find/Images/ArrestPerson_images/ArrestPerson_images/CR 211-201#_917434ce-6402-4269-bb55-32176ecdd3271255.jpg',\n",
       " 'data/Want to find/Images/ArrestPerson_images/ArrestPerson_images/Santosh#_8bb6b6fd-1234-4c5e-8b64-56422599822b356.jpg',\n",
       " 'data/Want to find/Images/ArrestPerson_images/ArrestPerson_images/1#_cfd36364-efc3-4715-9465-5aa0faa9870a1241.jpg',\n",
       " 'data/Want to find/Images/ArrestPerson_images/ArrestPerson_images/2222222#_9f6e386e-3f75-4b32-a098-f113fd12eaf41436.jpg',\n",
       " 'data/Want to find/Images/ArrestPerson_images/ArrestPerson_images/IMG-201805#_265fa697-fc89-436b-ab80-bb6b43f1d7471263.jpg',\n",
       " 'data/Want to find/Images/ArrestPerson_images/ArrestPerson_images/Blank Phot#_ede58eaf-ecb4-41cf-b88e-e24e757c83f3319.jpg',\n",
       " 'data/Want to find/Images/ArrestPerson_images/ArrestPerson_images/225#_bf78a2db-91d1-4a8c-9b7d-96c932e406bf347.jpg',\n",
       " 'data/Want to find/Images/ArrestPerson_images/ArrestPerson_images/Cr no#_810a390a-5c27-415f-bb1e-6f427f0a8cf61256.jpg',\n",
       " 'data/Want to find/Images/ArrestPerson_images/ArrestPerson_images/IMAGE 001#_ead765cc-9efa-40f9-be51-9a830f246f4c1445.jpg',\n",
       " 'data/Want to find/Images/ArrestPerson_images/ArrestPerson_images/EXTRA#_7594089d-bce5-4857-99b2-9411c48b79641464.jpg',\n",
       " 'data/Want to find/Images/ArrestPerson_images/ArrestPerson_images/_IMG#_5333a6fa-1785-4dc9-b105-1f83f3307086337.jpg',\n",
       " 'data/Want to find/Images/ArrestPerson_images/ArrestPerson_images/KALLAPPA #_fc1a2aa4-c4ca-4460-92a3-b8af5ff04d0d1254.jpg',\n",
       " 'data/Want to find/Images/ArrestPerson_images/ArrestPerson_images/01 001#_90f22d63-8944-4086-ae29-038d27a2d1de1473.jpg',\n",
       " 'data/Want to find/Images/ArrestPerson_images/ArrestPerson_images/5#_1d970c14-097a-4f97-a36a-6e02fc878c161241.jpg',\n",
       " 'data/Want to find/Images/ArrestPerson_images/ArrestPerson_images/scan0024#_baeb8cb6-5eb9-4907-bdd4-d053a13fefba311.jpg',\n",
       " 'data/Want to find/Images/ArrestPerson_images/ArrestPerson_images/IMG_201810#_7f4feaed-7b46-4a65-b053-259795c524cc319.jpg',\n",
       " 'data/Want to find/Images/ArrestPerson_images/ArrestPerson_images/CR 100#_2cf01720-0df5-4afe-bbe3-7330057e7c1a1258.jpg',\n",
       " 'data/Want to find/Images/ArrestPerson_images/ArrestPerson_images/IMG_201807#_114527aa-e472-447d-8d75-8a9ed5e960f01263.jpg',\n",
       " 'data/Want to find/Images/ArrestPerson_images/ArrestPerson_images/103 a1#_2d3a1097-20e3-4a32-8767-767d7a65ec9a1249.jpg',\n",
       " 'data/Want to find/Images/ArrestPerson_images/ArrestPerson_images/scan0024#_6613843f-45f2-4c01-9124-6a911402712d311.jpg',\n",
       " 'data/Want to find/Images/ArrestPerson_images/ArrestPerson_images/A3-Mallayy#_bd17561a-3555-440b-9f5e-d930528fcd5d356.jpg',\n",
       " 'data/Want to find/Images/ArrestPerson_images/ArrestPerson_images/12_06_2018#_30e9a304-1389-47fc-af94-aa75c6e4822a1509.jpg',\n",
       " 'data/Want to find/Images/ArrestPerson_images/ArrestPerson_images/Gadigeppa#_e43f3508-8894-420c-801e-9be6726c4c7c1259.jpg',\n",
       " 'data/Want to find/Images/ArrestPerson_images/ArrestPerson_images/CR NO 133 #_f60ce504-e885-44e0-87f8-b6b2f16774b31253.jpg',\n",
       " 'data/Want to find/Images/ArrestPerson_images/ArrestPerson_images/67-2018#_24c589e8-398e-43a3-b290-81c72c952bb7305.jpg',\n",
       " 'data/Want to find/Images/ArrestPerson_images/ArrestPerson_images/Cr no#_a191a9d4-1a54-43bf-bfbc-ce1dd53898c91257.jpg',\n",
       " 'data/Want to find/Images/ArrestPerson_images/ArrestPerson_images/Prabhu#_2067b7bd-b80f-47f8-9831-dcd2f4bc96801255.jpg',\n",
       " 'data/Want to find/Images/ArrestPerson_images/ArrestPerson_images/20180624_2#_d76a244a-1305-407e-81fa-5d90fb17c10b1507.jpg',\n",
       " 'data/Want to find/Images/ArrestPerson_images/ArrestPerson_images/IMG-201806#_60445148-5d57-493e-8e3e-7e4ef4ae9ea01245.jpg',\n",
       " 'data/Want to find/Images/ArrestPerson_images/ArrestPerson_images/19-2018 AC#_ffd79bd8-4af6-44fd-8c3b-b186e5c599a81920.jpg',\n",
       " 'data/Want to find/Images/ArrestPerson_images/ArrestPerson_images/PSR#_8321db03-1697-4879-9715-29df58ce12e4296.jpg',\n",
       " 'data/Want to find/Images/ArrestPerson_images/ArrestPerson_images/AKSHAY#_94214310-3744-4985-bdc1-a2539bdbcb32310.jpg',\n",
       " 'data/Want to find/Images/ArrestPerson_images/ArrestPerson_images/IMG_0001#_0d1e138a-2608-4b01-bcd9-3cda48ec066a2189.jpg',\n",
       " 'data/Want to find/Images/ArrestPerson_images/ArrestPerson_images/25_06_2018#_8638ba83-89de-42b5-af8d-d7c56db1e8051509.jpg',\n",
       " 'data/Want to find/Images/ArrestPerson_images/ArrestPerson_images/IMG_0014#_a1f68208-514e-4d82-93dc-e44b427bb9aa298.jpg',\n",
       " 'data/Want to find/Images/ArrestPerson_images/ArrestPerson_images/151-1,2#_529e0479-708f-4d8a-b2cd-1db3dd6846ba1247.jpg',\n",
       " 'data/Want to find/Images/ArrestPerson_images/ArrestPerson_images/IMG_201806#_ce9a9027-48e7-4b41-866d-a8bdf579ae5d334.jpg',\n",
       " 'data/Want to find/Images/ArrestPerson_images/ArrestPerson_images/psr#_45529d96-e0f0-4116-9818-c5b9af364b741505.jpg',\n",
       " 'data/Want to find/Images/ArrestPerson_images/ArrestPerson_images/160-1#_8d312434-2a34-45ba-a437-ff0ead71c4a01247.jpg',\n",
       " 'data/Want to find/Images/ArrestPerson_images/ArrestPerson_images/A-1#_2ee495be-8353-4329-afa2-6ea4888e259b351.jpg',\n",
       " 'data/Want to find/Images/ArrestPerson_images/ArrestPerson_images/IMG_201806#_075ede11-11e6-4e5d-bd1c-789f784f07771238.jpg',\n",
       " 'data/Want to find/Images/ArrestPerson_images/ArrestPerson_images/A8-Venkate#_8fcf2b74-7659-4460-9b5a-8e447a0a05d3356.jpg',\n",
       " 'data/Want to find/Images/ArrestPerson_images/ArrestPerson_images/IMG_201807#_d686c773-a443-46b9-b0de-077e9fa06e701455.jpg',\n",
       " 'data/Want to find/Images/ArrestPerson_images/ArrestPerson_images/26_07_2018#_2404b9ca-ced9-4d9a-888d-39481a3fa1121509.jpg',\n",
       " 'data/Want to find/Images/ArrestPerson_images/ArrestPerson_images/156-2018-2#_5c55ba2c-db54-47a4-9ab6-c0b297a60c2c1247.jpg',\n",
       " 'data/Want to find/Images/ArrestPerson_images/ArrestPerson_images/Blank Phot#_21ab0db8-b5cf-419b-95b1-4d154cd2b9b3319.jpg',\n",
       " 'data/Want to find/Images/ArrestPerson_images/ArrestPerson_images/IMG-201806#_6ee7831e-eee6-4761-8ced-b332f77c657c1245.jpg',\n",
       " 'data/Want to find/Images/ArrestPerson_images/ArrestPerson_images/basavaraj#_d95ab20f-59e7-46b1-9116-2c9215fc55fe297.jpg',\n",
       " 'data/Want to find/Images/ArrestPerson_images/ArrestPerson_images/Raghoba#_9c780505-36f7-4946-8009-10db770be3961456.jpg',\n",
       " 'data/Want to find/Images/ArrestPerson_images/ArrestPerson_images/183-18-pho#_1848a5f9-cf55-4f5f-bc70-7b3c309fdd3b1460.jpg',\n",
       " 'data/Want to find/Images/ArrestPerson_images/ArrestPerson_images/cr38acq#_437f0515-4484-4713-abf6-d9635c5fcd85355.jpg',\n",
       " 'data/Want to find/Images/ArrestPerson_images/ArrestPerson_images/IMG_0004#_e4f4a805-b741-47ee-9844-ba9b0d50b6792189.jpg',\n",
       " 'data/Want to find/Images/ArrestPerson_images/ArrestPerson_images/29_06_2018#_2a7684d2-400d-41e8-9afa-6e3e399e29c51509.jpg',\n",
       " 'data/Want to find/Images/ArrestPerson_images/ArrestPerson_images/29_06_2018#_a9469e63-cecf-4a28-a34a-c4c83346943b1509.jpg',\n",
       " 'data/Want to find/Images/ArrestPerson_images/ArrestPerson_images/ppppppp_00#_536dd4ee-15eb-41b1-80f1-6e8ffc1a3d681460.jpg',\n",
       " 'data/Want to find/Images/ArrestPerson_images/ArrestPerson_images/000#_b5a5a2f5-a81e-4846-a90b-99ce7eab20b71263.jpg',\n",
       " 'data/Want to find/Images/ArrestPerson_images/ArrestPerson_images/01 001#_a53896be-88d0-4db4-96fb-95d249f51aa01473.jpg',\n",
       " 'data/Want to find/Images/ArrestPerson_images/ArrestPerson_images/Blank Phot#_4ecc5f86-a712-4095-8612-cc8e2c1f0aef319.jpg',\n",
       " 'data/Want to find/Images/ArrestPerson_images/ArrestPerson_images/IMG-201810#_39b82f43-6294-475f-b5ec-5847dcee03491241.jpg',\n",
       " 'data/Want to find/Images/ArrestPerson_images/ArrestPerson_images/20190214_2#_d9fd54dc-e5de-4f61-86ed-226665c4bc0b1238.jpg',\n",
       " 'data/Want to find/Images/ArrestPerson_images/ArrestPerson_images/scan0024#_5c06ddf1-a811-45d1-89ac-2aadead112d5311.jpg',\n",
       " 'data/Want to find/Images/ArrestPerson_images/ArrestPerson_images/cr no 135-#_df9d1256-bc43-48ec-a8d1-46d1ad3970e31507.jpg',\n",
       " 'data/Want to find/Images/ArrestPerson_images/ArrestPerson_images/137-2018#_b8b683d6-c494-42f6-8620-bba5cfcd18901241.jpg',\n",
       " 'data/Want to find/Images/ArrestPerson_images/ArrestPerson_images/PHOTO#_e261d057-9663-42db-a3a8-e89773da286b323.jpg',\n",
       " 'data/Want to find/Images/ArrestPerson_images/ArrestPerson_images/PHOTO - Co#_83adfae8-218c-4bd1-9dc1-c6c3d340a9db1485.jpg',\n",
       " 'data/Want to find/Images/ArrestPerson_images/ArrestPerson_images/IMG-201807#_69311b0b-9822-4ba5-9c69-6e9dc50e968e1893.jpg',\n",
       " 'data/Want to find/Images/ArrestPerson_images/ArrestPerson_images/Sangappa c#_5dc1f4f4-22e9-425d-9884-00bd46416c8c1241.jpg',\n",
       " 'data/Want to find/Images/ArrestPerson_images/ArrestPerson_images/119#_a406f44f-42a2-414b-8488-994a90ecf17f1262.jpg',\n",
       " 'data/Want to find/Images/ArrestPerson_images/ArrestPerson_images/CR NO 127 #_9215e892-8d3e-4f7b-ba08-0ed6ab54f9891253.jpg',\n",
       " 'data/Want to find/Images/ArrestPerson_images/ArrestPerson_images/Cr no#_2b8dad72-4103-4357-b7fd-687351384a4a1256.jpg',\n",
       " 'data/Want to find/Images/ArrestPerson_images/ArrestPerson_images/Blank Phot#_9077a8db-131f-44eb-b424-a24d5d06af49319.jpg',\n",
       " 'data/Want to find/Images/ArrestPerson_images/ArrestPerson_images/PHOTO - Co#_aa18ff0c-a455-42bb-9c02-ac95c2dd1f981485.jpg',\n",
       " 'data/Want to find/Images/ArrestPerson_images/ArrestPerson_images/57-2018#_93890ac5-dcb2-4bdb-9ae7-ec64e1d188c3305.jpg',\n",
       " 'data/Want to find/Images/ArrestPerson_images/ArrestPerson_images/IMG_201807#_ebe20986-7a3c-479f-bacc-c59c7210bcde346.jpg',\n",
       " 'data/Want to find/Images/ArrestPerson_images/ArrestPerson_images/IMG_201804#_6c9dab93-c9db-4602-a6df-7e2db51fa9d41239.jpg',\n",
       " 'data/Want to find/Images/ArrestPerson_images/ArrestPerson_images/IMG ANK#_e85d80a7-47c3-404a-8c3a-13238ee0c506324.jpg',\n",
       " 'data/Want to find/Images/ArrestPerson_images/ArrestPerson_images/FB_IMG_153#_38861dc8-0d9a-4983-b045-f04ff0529ed91234.jpg',\n",
       " 'data/Want to find/Images/ArrestPerson_images/ArrestPerson_images/Hanumantha#_2a498268-6ad5-440a-92ee-d202d6e37f84357.jpg',\n",
       " 'data/Want to find/Images/ArrestPerson_images/ArrestPerson_images/V Marappa#_786754a7-5866-4d11-87a3-9738afc01fa61502.jpg',\n",
       " 'data/Want to find/Images/ArrestPerson_images/ArrestPerson_images/IMG_0014#_434da150-d373-4941-9bfd-99a246f10af7298.jpg',\n",
       " 'data/Want to find/Images/ArrestPerson_images/ArrestPerson_images/A5-Mahabas#_382cf320-d798-466b-9d3e-30c024408ae9356.jpg',\n",
       " 'data/Want to find/Images/ArrestPerson_images/ArrestPerson_images/Untitled54#_1ad3ece2-a10a-4a5d-8882-27a43cbe2b0d1234.jpg',\n",
       " 'data/Want to find/Images/ArrestPerson_images/ArrestPerson_images/151-6,7#_78618ab4-a867-4dd7-89cc-356c9a7780031247.jpg',\n",
       " 'data/Want to find/Images/ArrestPerson_images/ArrestPerson_images/20180628_1#_c617cabd-ae52-4095-9197-c94da023005f1507.jpg',\n",
       " 'data/Want to find/Images/ArrestPerson_images/ArrestPerson_images/IMG_0002#_8106dbbc-9325-4bbb-95cf-c4ac9cb990392189.jpg',\n",
       " 'data/Want to find/Images/ArrestPerson_images/ArrestPerson_images/01 001#_bb7c6c23-2643-4054-9078-89c5eb78f3391473.jpg',\n",
       " 'data/Want to find/Images/ArrestPerson_images/ArrestPerson_images/Untitled54#_fbd6290b-e076-4809-aadc-50ddcf682fd41241.jpg',\n",
       " 'data/Want to find/Images/ArrestPerson_images/ArrestPerson_images/IMG-201807#_86f5de6b-2f12-49be-a87d-510c7da5dabc1455.jpg',\n",
       " 'data/Want to find/Images/ArrestPerson_images/ArrestPerson_images/135#_28f8f2c9-5bc1-45f1-8f3c-ac283103ac641456.jpg',\n",
       " 'data/Want to find/Images/ArrestPerson_images/ArrestPerson_images/ppppppp_00#_33b12ef1-edd9-4a7b-90c4-e649a2f5a0401460.jpg',\n",
       " 'data/Want to find/Images/ArrestPerson_images/ArrestPerson_images/105#_b8e15a40-d9a5-40a0-8049-b43a79a6fef21250.jpg',\n",
       " 'data/Want to find/Images/ArrestPerson_images/ArrestPerson_images/03-18#_42954c25-0d48-4958-83ed-c49d4c18169e348.jpg',\n",
       " 'data/Want to find/Images/ArrestPerson_images/ArrestPerson_images/PHOTO - Co#_ae046f9b-e6f3-452f-8c67-52daec080ff81485.jpg',\n",
       " 'data/Want to find/Images/ArrestPerson_images/ArrestPerson_images/Cr NO#_c37e299b-3a7a-4829-9446-9c05197c99322205.jpg',\n",
       " 'data/Want to find/Images/ArrestPerson_images/ArrestPerson_images/94#_373e9ff6-9cb6-4eee-a727-f5088267521b363.jpg',\n",
       " 'data/Want to find/Images/ArrestPerson_images/ArrestPerson_images/6#_c12be077-efb6-4eb9-84ad-9be22182baed1241.jpg',\n",
       " 'data/Want to find/Images/ArrestPerson_images/ArrestPerson_images/151-8,9#_8c2a2495-7e8c-4fde-aaf7-502c1a730f001247.jpg',\n",
       " 'data/Want to find/Images/ArrestPerson_images/ArrestPerson_images/IMAGE 001#_4c0a51a4-0641-4ef4-85eb-9d202b9af7811486.jpg',\n",
       " 'data/Want to find/Images/ArrestPerson_images/ArrestPerson_images/PHOTO#_15ced599-9353-4321-a23e-d0e6945463bc323.jpg',\n",
       " 'data/Want to find/Images/ArrestPerson_images/ArrestPerson_images/25_06_2018#_6c4e97f3-0998-4382-92fd-826da85550b11509.jpg',\n",
       " 'data/Want to find/Images/ArrestPerson_images/ArrestPerson_images/CR#_2e534cd4-cc70-47df-887e-680d721190db344.jpg',\n",
       " 'data/Want to find/Images/ArrestPerson_images/ArrestPerson_images/60-2018#_11effd2d-1dda-4a48-868a-83700f947653305.jpg',\n",
       " 'data/Want to find/Images/ArrestPerson_images/ArrestPerson_images/IMG-201805#_3c146d99-112a-4107-b928-04da04c417f71263.jpg',\n",
       " 'data/Want to find/Images/ArrestPerson_images/ArrestPerson_images/CR 73 Pury#_07fcb3a2-d79c-40c2-ad18-9cc8812ea51b1508.jpg',\n",
       " 'data/Want to find/Images/ArrestPerson_images/ArrestPerson_images/Jagadesh#_6871abdd-0d71-4835-96c0-5273fc3782d8362.jpg',\n",
       " 'data/Want to find/Images/ArrestPerson_images/ArrestPerson_images/IMG_0001#_f291987a-063b-4ec7-a8b9-6d3429a48e0e1456.jpg',\n",
       " 'data/Want to find/Images/ArrestPerson_images/ArrestPerson_images/Honnuraswa#_0c854e0f-ca18-47ab-8900-9e4c345edaaf1502.jpg',\n",
       " 'data/Want to find/Images/ArrestPerson_images/ArrestPerson_images/Shekshaval#_b68e7bf8-fefb-4f51-8ef6-edf5eb5ca9951502.jpg',\n",
       " 'data/Want to find/Images/ArrestPerson_images/ArrestPerson_images/CR#_e64a2b4b-eba2-47f7-b668-9c717b2444e0344.jpg',\n",
       " 'data/Want to find/Images/ArrestPerson_images/ArrestPerson_images/PHOTO - Co#_b068675f-c44f-4a15-a03b-5626fc2bfb3c1485.jpg',\n",
       " 'data/Want to find/Images/ArrestPerson_images/ArrestPerson_images/65-2018#_3e9d6441-43c2-4e89-8181-4444329359d9305.jpg',\n",
       " 'data/Want to find/Images/ArrestPerson_images/ArrestPerson_images/16#_99747776-1530-483f-b3ff-93bb0b8905c2311.jpg',\n",
       " 'data/Want to find/Images/ArrestPerson_images/ArrestPerson_images/_IMG_0001#_bc33b03a-94b8-46ac-b9f3-d44cf7fe5931337.jpg',\n",
       " 'data/Want to find/Images/ArrestPerson_images/ArrestPerson_images/29_06_2018#_1ce31fc0-476d-4c6e-a740-be39ab7383231509.jpg',\n",
       " 'data/Want to find/Images/ArrestPerson_images/ArrestPerson_images/Masum lade#_9f3d1758-0ab5-4960-895a-ab41046bd1521241.jpg',\n",
       " 'data/Want to find/Images/ArrestPerson_images/ArrestPerson_images/Blank Phot#_d61ff7a6-61c4-4f6a-9842-842290126bbf319.jpg',\n",
       " 'data/Want to find/Images/ArrestPerson_images/ArrestPerson_images/Cr no#_2db7f113-59d4-4c85-8f70-94d5700f8a981256.jpg',\n",
       " 'data/Want to find/Images/ArrestPerson_images/ArrestPerson_images/CR NO 124 #_4b0c6cb9-a37e-443b-bce4-37a32873e5191253.jpg',\n",
       " 'data/Want to find/Images/ArrestPerson_images/ArrestPerson_images/Untitled54#_065b65d6-ae7c-4796-a347-d90584efea8c1244.jpg',\n",
       " 'data/Want to find/Images/ArrestPerson_images/ArrestPerson_images/IMG_0005#_7c74ded9-1e5e-4468-b9ab-f35181e107dd2189.jpg',\n",
       " 'data/Want to find/Images/ArrestPerson_images/ArrestPerson_images/001#_6954e0b3-3915-4819-9670-83dad5b428801257.jpg',\n",
       " 'data/Want to find/Images/ArrestPerson_images/ArrestPerson_images/G M Rajann#_f1bcde5c-27a3-4ff0-a3c4-ed7cdde7f4691502.jpg',\n",
       " 'data/Want to find/Images/ArrestPerson_images/ArrestPerson_images/IMG-201806#_21331396-307f-4444-94c5-fc50b4dd2bc91245.jpg',\n",
       " 'data/Want to find/Images/ArrestPerson_images/ArrestPerson_images/IMAGE 001#_2b928b64-2380-45b2-a578-dfc79f40bf5a1486.jpg',\n",
       " 'data/Want to find/Images/ArrestPerson_images/ArrestPerson_images/108-5#_96911e31-2357-4f45-84c8-2b53de247cf51249.jpg',\n",
       " 'data/Want to find/Images/ArrestPerson_images/ArrestPerson_images/EXTRA#_33517d8d-b995-41c2-9cff-d1f5ede5f9f51464.jpg',\n",
       " 'data/Want to find/Images/ArrestPerson_images/ArrestPerson_images/107#_8e58d932-8f0e-48c3-b7c1-18af7b04fe82363.jpg',\n",
       " 'data/Want to find/Images/ArrestPerson_images/ArrestPerson_images/CRNO-110-1#_b2800bfc-393e-4c3a-9129-5ea6fc15647c1437.jpg',\n",
       " 'data/Want to find/Images/ArrestPerson_images/ArrestPerson_images/IMG2018070#_6f4793d0-227e-464c-9503-5a090e20ee601245.jpg',\n",
       " 'data/Want to find/Images/ArrestPerson_images/ArrestPerson_images/A10-Ananda#_f6091aba-5005-4abd-b526-a1a2387de3a2356.jpg',\n",
       " 'data/Want to find/Images/ArrestPerson_images/ArrestPerson_images/IMG_0001#_0e60301a-0779-4524-87e9-5e92670dfdd52189.jpg',\n",
       " 'data/Want to find/Images/ArrestPerson_images/ArrestPerson_images/161#_0c58686c-9502-40fe-aa72-a1c3fea3d7c91247.jpg',\n",
       " 'data/Want to find/Images/ArrestPerson_images/ArrestPerson_images/96-2018#_100e0bdf-0dcb-489c-a712-4027799d47e2337.jpg',\n",
       " 'data/Want to find/Images/ArrestPerson_images/ArrestPerson_images/Galiswamy#_a67954ad-7221-4d13-98b1-d82d278938ee351.jpg',\n",
       " 'data/Want to find/Images/ArrestPerson_images/ArrestPerson_images/55-2018#_5eef3a66-2807-4015-8118-9dd1af905cf2305.jpg',\n",
       " 'data/Want to find/Images/ArrestPerson_images/ArrestPerson_images/PSR#_9edac079-b61c-4627-b3bb-ff8b46128f60296.jpg',\n",
       " 'data/Want to find/Images/ArrestPerson_images/ArrestPerson_images/40-18 ACCU#_0c36e32b-4ce7-4f59-b93c-63bfccf4912f1237.jpg',\n",
       " 'data/Want to find/Images/ArrestPerson_images/ArrestPerson_images/Cr No-79-2#_4fc7bb44-7999-4865-a5d1-cb6337a2d1611467.jpg',\n",
       " 'data/Want to find/Images/ArrestPerson_images/ArrestPerson_images/12_06_2018#_9e6ca1a4-0811-495d-84bd-1d0e04d5a71d1509.jpg',\n",
       " 'data/Want to find/Images/ArrestPerson_images/ArrestPerson_images/CR 211-201#_0b43c645-3338-48bf-87d2-aa3f1ff94fd31255.jpg',\n",
       " 'data/Want to find/Images/ArrestPerson_images/ArrestPerson_images/A-2#_f2f6a42d-39ee-4883-856d-e96f62cddb7e351.jpg',\n",
       " 'data/Want to find/Images/ArrestPerson_images/ArrestPerson_images/001#_5bc460c2-824a-4f6d-97b8-6cc707cd0dde1244.jpg',\n",
       " 'data/Want to find/Images/ArrestPerson_images/ArrestPerson_images/119#_e5779dc5-66c1-4b5d-a802-b2d832e2144c1262.jpg',\n",
       " 'data/Want to find/Images/ArrestPerson_images/ArrestPerson_images/CR No 130-#_ac777e73-2088-461e-897f-124e835c86621502.jpg',\n",
       " 'data/Want to find/Images/ArrestPerson_images/ArrestPerson_images/IMG_201809#_2c027916-f5bb-4bb1-b277-5eb79a0724e6318.jpg',\n",
       " 'data/Want to find/Images/ArrestPerson_images/ArrestPerson_images/28_07_2018#_1fc09b9e-5c08-4d47-ac6b-4d3c2191a2f21509.jpg',\n",
       " 'data/Want to find/Images/ArrestPerson_images/ArrestPerson_images/IMG-201810#_7e2c0731-93f4-4e52-bedc-530df23ebcd41257.jpg',\n",
       " 'data/Want to find/Images/ArrestPerson_images/ArrestPerson_images/CR NO 97#_12df6f49-7347-424c-842c-136095974cbc1258.jpg',\n",
       " 'data/Want to find/Images/ArrestPerson_images/ArrestPerson_images/234-2018  #_7968233c-802e-46f6-9731-49f570ddeefd338.jpg',\n",
       " 'data/Want to find/Images/ArrestPerson_images/ArrestPerson_images/PHOTO - Co#_530f9940-2c26-40da-a5d0-f53e898e37001485.jpg',\n",
       " 'data/Want to find/Images/ArrestPerson_images/ArrestPerson_images/PSR#_b77ff9f8-6fdc-479d-a40d-5265b618aee6296.jpg',\n",
       " 'data/Want to find/Images/ArrestPerson_images/ArrestPerson_images/YADAWAD#_7588335e-199e-47e7-ac1c-71fd0fe270c91255.jpg',\n",
       " 'data/Want to find/Images/ArrestPerson_images/ArrestPerson_images/IMAGE 001#_72750245-556e-46c1-9842-938efdf98baf1486.jpg',\n",
       " 'data/Want to find/Images/ArrestPerson_images/ArrestPerson_images/Faruqahama#_f99efd9d-70d4-4b38-ab93-42be652e442d1236.jpg',\n",
       " 'data/Want to find/Images/ArrestPerson_images/ArrestPerson_images/GNPS- Crim#_6d53974d-6c60-4ae9-94b6-65c725503567335.jpg',\n",
       " 'data/Want to find/Images/ArrestPerson_images/ArrestPerson_images/PPT-13-11-#_4a1697dd-6a16-411b-aa34-a494bddb68b42240.jpg',\n",
       " 'data/Want to find/Images/ArrestPerson_images/ArrestPerson_images/Cr no#_95d0d913-8b26-4017-bb46-0954f173419d1256.jpg',\n",
       " 'data/Want to find/Images/ArrestPerson_images/ArrestPerson_images/ACCUED NOT#_a50d92cf-4563-4304-affb-f635da42f5fa303.jpg',\n",
       " 'data/Want to find/Images/ArrestPerson_images/ArrestPerson_images/_IMG#_4dffd4db-3c52-4bc4-8538-0b5cd38bbe7d337.jpg',\n",
       " 'data/Want to find/Images/ArrestPerson_images/ArrestPerson_images/20180624_2#_0c760c62-1f81-4cc2-9fbd-c8fe46639b601507.jpg',\n",
       " 'data/Want to find/Images/ArrestPerson_images/ArrestPerson_images/24_06_2018#_0505a2f5-2dcf-4e65-98e5-79771cfea3ec1509.jpg',\n",
       " 'data/Want to find/Images/ArrestPerson_images/ArrestPerson_images/PHOTO - Co#_072455c0-bd68-431c-b38f-482f128e12451485.jpg',\n",
       " 'data/Want to find/Images/ArrestPerson_images/ArrestPerson_images/IMG_0014#_714dd455-1704-4849-a024-f68f35ff3261298.jpg',\n",
       " 'data/Want to find/Images/ArrestPerson_images/ArrestPerson_images/CR NO-108-#_e061afad-1617-40c0-b928-6db17425a86b365.jpg',\n",
       " 'data/Want to find/Images/ArrestPerson_images/ArrestPerson_images/PHOTO - Co#_acae6ecd-493a-409a-ac08-2f5c076f24fe1485.jpg',\n",
       " 'data/Want to find/Images/ArrestPerson_images/ArrestPerson_images/A-1 SANTOS#_ea273d75-090a-47cc-9a40-e71cc67617e81442.jpg',\n",
       " 'data/Want to find/Images/ArrestPerson_images/ArrestPerson_images/20180701_1#_7793188e-fe93-46ef-8bd8-d9e929a593c31482.jpg',\n",
       " 'data/Want to find/Images/ArrestPerson_images/ArrestPerson_images/PHOTO - Co#_fe0e31ba-e258-4a60-9a90-dab462d5e0401485.jpg',\n",
       " 'data/Want to find/Images/ArrestPerson_images/ArrestPerson_images/28_07_2018#_4385c807-4738-4a30-b537-d7eb7057a40a1509.jpg',\n",
       " 'data/Want to find/Images/ArrestPerson_images/ArrestPerson_images/IMAGE 001#_dc5fd9a3-705e-4a16-9bb6-e6f68f51dd931486.jpg',\n",
       " 'data/Want to find/Images/ArrestPerson_images/ArrestPerson_images/163-C#_e54659b8-2c3d-45c8-952d-1abe9f049d271247.jpg',\n",
       " 'data/Want to find/Images/ArrestPerson_images/ArrestPerson_images/Bomma#_d3da48ce-ed34-4bba-a56d-6a44d39cf0b6363.jpg',\n",
       " ...]"
      ]
     },
     "execution_count": 913,
     "metadata": {},
     "output_type": "execute_result"
    }
   ],
   "source": [
    "image_list"
   ]
  },
  {
   "cell_type": "code",
   "execution_count": null,
   "metadata": {},
   "outputs": [
    {
     "name": "stderr",
     "output_type": "stream",
     "text": [
      "  0%|          | 2/2655 [00:00<04:27,  9.93it/s]"
     ]
    },
    {
     "name": "stdout",
     "output_type": "stream",
     "text": [
      "Error for image data/Want to find/Images/ArrestPerson_images/ArrestPerson_images/Blank Phot#_4ecc5f86-a712-4095-8612-cc8e2c1f0aef319.jpg\n",
      "Error for image data/Want to find/Images/ArrestPerson_images/ArrestPerson_images/IMG-201810#_39b82f43-6294-475f-b5ec-5847dcee03491241.jpg\n"
     ]
    },
    {
     "name": "stderr",
     "output_type": "stream",
     "text": [
      "  0%|          | 4/2655 [00:00<05:37,  7.84it/s]"
     ]
    },
    {
     "name": "stdout",
     "output_type": "stream",
     "text": [
      "Error for image data/Want to find/Images/ArrestPerson_images/ArrestPerson_images/20190214_2#_d9fd54dc-e5de-4f61-86ed-226665c4bc0b1238.jpg\n",
      "Error for image data/Want to find/Images/ArrestPerson_images/ArrestPerson_images/scan0024#_5c06ddf1-a811-45d1-89ac-2aadead112d5311.jpg\n"
     ]
    },
    {
     "name": "stderr",
     "output_type": "stream",
     "text": [
      "  0%|          | 6/2655 [00:00<06:34,  6.71it/s]"
     ]
    },
    {
     "name": "stdout",
     "output_type": "stream",
     "text": [
      "Error for image data/Want to find/Images/ArrestPerson_images/ArrestPerson_images/cr no 135-#_df9d1256-bc43-48ec-a8d1-46d1ad3970e31507.jpg\n",
      "Error for image data/Want to find/Images/ArrestPerson_images/ArrestPerson_images/137-2018#_b8b683d6-c494-42f6-8620-bba5cfcd18901241.jpg\n"
     ]
    },
    {
     "name": "stderr",
     "output_type": "stream",
     "text": [
      "  0%|          | 8/2655 [00:02<19:31,  2.26it/s]"
     ]
    },
    {
     "name": "stdout",
     "output_type": "stream",
     "text": [
      "Error for image data/Want to find/Images/ArrestPerson_images/ArrestPerson_images/PHOTO#_e261d057-9663-42db-a3a8-e89773da286b323.jpg\n",
      "Error for image data/Want to find/Images/ArrestPerson_images/ArrestPerson_images/PHOTO - Co#_83adfae8-218c-4bd1-9dc1-c6c3d340a9db1485.jpg\n"
     ]
    },
    {
     "name": "stderr",
     "output_type": "stream",
     "text": [
      "  0%|          | 10/2655 [00:03<14:37,  3.01it/s]"
     ]
    },
    {
     "name": "stdout",
     "output_type": "stream",
     "text": [
      "Error for image data/Want to find/Images/ArrestPerson_images/ArrestPerson_images/IMG-201807#_69311b0b-9822-4ba5-9c69-6e9dc50e968e1893.jpg\n",
      "Error for image data/Want to find/Images/ArrestPerson_images/ArrestPerson_images/Sangappa c#_5dc1f4f4-22e9-425d-9884-00bd46416c8c1241.jpg\n",
      "Error for image data/Want to find/Images/ArrestPerson_images/ArrestPerson_images/119#_a406f44f-42a2-414b-8488-994a90ecf17f1262.jpg\n"
     ]
    },
    {
     "name": "stderr",
     "output_type": "stream",
     "text": [
      "  1%|          | 15/2655 [00:03<08:34,  5.13it/s]"
     ]
    },
    {
     "name": "stdout",
     "output_type": "stream",
     "text": [
      "Error for image data/Want to find/Images/ArrestPerson_images/ArrestPerson_images/CR NO 127 #_9215e892-8d3e-4f7b-ba08-0ed6ab54f9891253.jpg\n",
      "Error for image data/Want to find/Images/ArrestPerson_images/ArrestPerson_images/Cr no#_2b8dad72-4103-4357-b7fd-687351384a4a1256.jpg\n",
      "Error for image data/Want to find/Images/ArrestPerson_images/ArrestPerson_images/Blank Phot#_9077a8db-131f-44eb-b424-a24d5d06af49319.jpg\n",
      "Error for image data/Want to find/Images/ArrestPerson_images/ArrestPerson_images/PHOTO - Co#_aa18ff0c-a455-42bb-9c02-ac95c2dd1f981485.jpg\n",
      "Error for image data/Want to find/Images/ArrestPerson_images/ArrestPerson_images/57-2018#_93890ac5-dcb2-4bdb-9ae7-ec64e1d188c3305.jpg\n"
     ]
    },
    {
     "name": "stderr",
     "output_type": "stream",
     "text": [
      "  1%|          | 18/2655 [00:03<07:46,  5.65it/s]"
     ]
    },
    {
     "name": "stdout",
     "output_type": "stream",
     "text": [
      "Error for image data/Want to find/Images/ArrestPerson_images/ArrestPerson_images/IMG_201807#_ebe20986-7a3c-479f-bacc-c59c7210bcde346.jpg\n",
      "Error for image data/Want to find/Images/ArrestPerson_images/ArrestPerson_images/IMG_201804#_6c9dab93-c9db-4602-a6df-7e2db51fa9d41239.jpg\n"
     ]
    },
    {
     "name": "stderr",
     "output_type": "stream",
     "text": [
      "  1%|          | 20/2655 [00:05<17:03,  2.57it/s]"
     ]
    },
    {
     "name": "stdout",
     "output_type": "stream",
     "text": [
      "Error for image data/Want to find/Images/ArrestPerson_images/ArrestPerson_images/IMG ANK#_e85d80a7-47c3-404a-8c3a-13238ee0c506324.jpg\n",
      "Error for image data/Want to find/Images/ArrestPerson_images/ArrestPerson_images/FB_IMG_153#_38861dc8-0d9a-4983-b045-f04ff0529ed91234.jpg\n"
     ]
    },
    {
     "name": "stderr",
     "output_type": "stream",
     "text": [
      "\r",
      "  1%|          | 21/2655 [00:05<17:26,  2.52it/s]"
     ]
    },
    {
     "name": "stdout",
     "output_type": "stream",
     "text": [
      "Error for image data/Want to find/Images/ArrestPerson_images/ArrestPerson_images/Hanumantha#_2a498268-6ad5-440a-92ee-d202d6e37f84357.jpg\n",
      "Error for image data/Want to find/Images/ArrestPerson_images/ArrestPerson_images/V Marappa#_786754a7-5866-4d11-87a3-9738afc01fa61502.jpg\n"
     ]
    },
    {
     "name": "stderr",
     "output_type": "stream",
     "text": [
      "  1%|          | 24/2655 [00:10<34:03,  1.29it/s]"
     ]
    },
    {
     "name": "stdout",
     "output_type": "stream",
     "text": [
      "Error for image data/Want to find/Images/ArrestPerson_images/ArrestPerson_images/IMG_0014#_434da150-d373-4941-9bfd-99a246f10af7298.jpg\n",
      "Error for image data/Want to find/Images/ArrestPerson_images/ArrestPerson_images/A5-Mahabas#_382cf320-d798-466b-9d3e-30c024408ae9356.jpg\n"
     ]
    },
    {
     "name": "stderr",
     "output_type": "stream",
     "text": [
      "\r",
      "  1%|          | 25/2655 [00:11<26:00,  1.69it/s]"
     ]
    },
    {
     "name": "stdout",
     "output_type": "stream",
     "text": [
      "Error for image data/Want to find/Images/ArrestPerson_images/ArrestPerson_images/Untitled54#_1ad3ece2-a10a-4a5d-8882-27a43cbe2b0d1234.jpg\n"
     ]
    },
    {
     "name": "stderr",
     "output_type": "stream",
     "text": [
      "\r",
      "  1%|          | 26/2655 [00:11<25:48,  1.70it/s]"
     ]
    },
    {
     "name": "stdout",
     "output_type": "stream",
     "text": [
      "Error for image data/Want to find/Images/ArrestPerson_images/ArrestPerson_images/151-6,7#_78618ab4-a867-4dd7-89cc-356c9a7780031247.jpg\n"
     ]
    },
    {
     "name": "stderr",
     "output_type": "stream",
     "text": [
      "  1%|          | 28/2655 [00:12<25:23,  1.72it/s]"
     ]
    },
    {
     "name": "stdout",
     "output_type": "stream",
     "text": [
      "Error for image data/Want to find/Images/ArrestPerson_images/ArrestPerson_images/20180628_1#_c617cabd-ae52-4095-9197-c94da023005f1507.jpg\n",
      "Error for image data/Want to find/Images/ArrestPerson_images/ArrestPerson_images/IMG_0002#_8106dbbc-9325-4bbb-95cf-c4ac9cb990392189.jpg\n"
     ]
    },
    {
     "name": "stderr",
     "output_type": "stream",
     "text": [
      "  1%|          | 30/2655 [00:14<25:50,  1.69it/s]"
     ]
    },
    {
     "name": "stdout",
     "output_type": "stream",
     "text": [
      "Error for image data/Want to find/Images/ArrestPerson_images/ArrestPerson_images/01 001#_bb7c6c23-2643-4054-9078-89c5eb78f3391473.jpg\n",
      "Error for image data/Want to find/Images/ArrestPerson_images/ArrestPerson_images/Untitled54#_fbd6290b-e076-4809-aadc-50ddcf682fd41241.jpg\n"
     ]
    },
    {
     "name": "stderr",
     "output_type": "stream",
     "text": [
      "\r",
      "  1%|▏         | 34/2655 [00:14<18:46,  2.33it/s]"
     ]
    },
    {
     "name": "stdout",
     "output_type": "stream",
     "text": [
      "Error for image data/Want to find/Images/ArrestPerson_images/ArrestPerson_images/IMG-201807#_86f5de6b-2f12-49be-a87d-510c7da5dabc1455.jpg\n",
      "Error for image data/Want to find/Images/ArrestPerson_images/ArrestPerson_images/135#_28f8f2c9-5bc1-45f1-8f3c-ac283103ac641456.jpg\n",
      "Error for image data/Want to find/Images/ArrestPerson_images/ArrestPerson_images/ppppppp_00#_33b12ef1-edd9-4a7b-90c4-e649a2f5a0401460.jpg\n",
      "Error for image data/Want to find/Images/ArrestPerson_images/ArrestPerson_images/105#_b8e15a40-d9a5-40a0-8049-b43a79a6fef21250.jpg\n"
     ]
    },
    {
     "name": "stderr",
     "output_type": "stream",
     "text": [
      "\r",
      "  1%|▏         | 36/2655 [00:14<14:23,  3.03it/s]"
     ]
    },
    {
     "name": "stdout",
     "output_type": "stream",
     "text": [
      "Error for image data/Want to find/Images/ArrestPerson_images/ArrestPerson_images/03-18#_42954c25-0d48-4958-83ed-c49d4c18169e348.jpg\n",
      "Error for image data/Want to find/Images/ArrestPerson_images/ArrestPerson_images/PHOTO - Co#_ae046f9b-e6f3-452f-8c67-52daec080ff81485.jpg\n"
     ]
    },
    {
     "name": "stderr",
     "output_type": "stream",
     "text": [
      "  1%|▏         | 39/2655 [00:15<09:19,  4.67it/s]"
     ]
    },
    {
     "name": "stdout",
     "output_type": "stream",
     "text": [
      "Error for image data/Want to find/Images/ArrestPerson_images/ArrestPerson_images/Cr NO#_c37e299b-3a7a-4829-9446-9c05197c99322205.jpg\n",
      "Error for image data/Want to find/Images/ArrestPerson_images/ArrestPerson_images/94#_373e9ff6-9cb6-4eee-a727-f5088267521b363.jpg\n",
      "Error for image data/Want to find/Images/ArrestPerson_images/ArrestPerson_images/6#_c12be077-efb6-4eb9-84ad-9be22182baed1241.jpg\n",
      "Error for image data/Want to find/Images/ArrestPerson_images/ArrestPerson_images/151-8,9#_8c2a2495-7e8c-4fde-aaf7-502c1a730f001247.jpg\n"
     ]
    },
    {
     "name": "stderr",
     "output_type": "stream",
     "text": [
      "\r",
      "  2%|▏         | 41/2655 [00:16<13:05,  3.33it/s]"
     ]
    },
    {
     "name": "stdout",
     "output_type": "stream",
     "text": [
      "Error for image data/Want to find/Images/ArrestPerson_images/ArrestPerson_images/IMAGE 001#_4c0a51a4-0641-4ef4-85eb-9d202b9af7811486.jpg\n"
     ]
    },
    {
     "name": "stderr",
     "output_type": "stream",
     "text": [
      "\r",
      "  2%|▏         | 42/2655 [00:17<27:14,  1.60it/s]"
     ]
    },
    {
     "name": "stdout",
     "output_type": "stream",
     "text": [
      "Error for image data/Want to find/Images/ArrestPerson_images/ArrestPerson_images/PHOTO#_15ced599-9353-4321-a23e-d0e6945463bc323.jpg\n"
     ]
    },
    {
     "name": "stderr",
     "output_type": "stream",
     "text": [
      "  2%|▏         | 44/2655 [00:18<26:56,  1.62it/s]"
     ]
    },
    {
     "name": "stdout",
     "output_type": "stream",
     "text": [
      "Error for image data/Want to find/Images/ArrestPerson_images/ArrestPerson_images/25_06_2018#_6c4e97f3-0998-4382-92fd-826da85550b11509.jpg\n",
      "Error for image data/Want to find/Images/ArrestPerson_images/ArrestPerson_images/CR#_2e534cd4-cc70-47df-887e-680d721190db344.jpg\n"
     ]
    },
    {
     "name": "stderr",
     "output_type": "stream",
     "text": [
      "  2%|▏         | 47/2655 [00:19<15:25,  2.82it/s]"
     ]
    },
    {
     "name": "stdout",
     "output_type": "stream",
     "text": [
      "Error for image data/Want to find/Images/ArrestPerson_images/ArrestPerson_images/60-2018#_11effd2d-1dda-4a48-868a-83700f947653305.jpg\n",
      "Error for image data/Want to find/Images/ArrestPerson_images/ArrestPerson_images/IMG-201805#_3c146d99-112a-4107-b928-04da04c417f71263.jpg\n",
      "Error for image data/Want to find/Images/ArrestPerson_images/ArrestPerson_images/CR 73 Pury#_07fcb3a2-d79c-40c2-ad18-9cc8812ea51b1508.jpg\n"
     ]
    },
    {
     "name": "stderr",
     "output_type": "stream",
     "text": [
      "  2%|▏         | 52/2655 [00:19<09:26,  4.60it/s]"
     ]
    },
    {
     "name": "stdout",
     "output_type": "stream",
     "text": [
      "Error for image data/Want to find/Images/ArrestPerson_images/ArrestPerson_images/Jagadesh#_6871abdd-0d71-4835-96c0-5273fc3782d8362.jpg\n",
      "Error for image data/Want to find/Images/ArrestPerson_images/ArrestPerson_images/IMG_0001#_f291987a-063b-4ec7-a8b9-6d3429a48e0e1456.jpg\n",
      "Error for image data/Want to find/Images/ArrestPerson_images/ArrestPerson_images/Honnuraswa#_0c854e0f-ca18-47ab-8900-9e4c345edaaf1502.jpg\n",
      "Error for image data/Want to find/Images/ArrestPerson_images/ArrestPerson_images/Shekshaval#_b68e7bf8-fefb-4f51-8ef6-edf5eb5ca9951502.jpg\n",
      "Error for image data/Want to find/Images/ArrestPerson_images/ArrestPerson_images/CR#_e64a2b4b-eba2-47f7-b668-9c717b2444e0344.jpg\n"
     ]
    },
    {
     "name": "stderr",
     "output_type": "stream",
     "text": [
      "\r",
      "  2%|▏         | 54/2655 [00:19<08:01,  5.41it/s]"
     ]
    },
    {
     "name": "stdout",
     "output_type": "stream",
     "text": [
      "Error for image data/Want to find/Images/ArrestPerson_images/ArrestPerson_images/PHOTO - Co#_b068675f-c44f-4a15-a03b-5626fc2bfb3c1485.jpg\n",
      "Error for image data/Want to find/Images/ArrestPerson_images/ArrestPerson_images/65-2018#_3e9d6441-43c2-4e89-8181-4444329359d9305.jpg\n",
      "Error for image data/Want to find/Images/ArrestPerson_images/ArrestPerson_images/16#_99747776-1530-483f-b3ff-93bb0b8905c2311.jpg\n",
      "Error for image data/Want to find/Images/ArrestPerson_images/ArrestPerson_images/_IMG_0001#_bc33b03a-94b8-46ac-b9f3-d44cf7fe5931337.jpg\n"
     ]
    },
    {
     "name": "stderr",
     "output_type": "stream",
     "text": [
      "  2%|▏         | 58/2655 [00:20<08:51,  4.89it/s]"
     ]
    },
    {
     "name": "stdout",
     "output_type": "stream",
     "text": [
      "Error for image data/Want to find/Images/ArrestPerson_images/ArrestPerson_images/29_06_2018#_1ce31fc0-476d-4c6e-a740-be39ab7383231509.jpg\n",
      "Error for image data/Want to find/Images/ArrestPerson_images/ArrestPerson_images/Masum lade#_9f3d1758-0ab5-4960-895a-ab41046bd1521241.jpg\n",
      "Error for image data/Want to find/Images/ArrestPerson_images/ArrestPerson_images/Blank Phot#_d61ff7a6-61c4-4f6a-9842-842290126bbf319.jpg\n",
      "Error for image data/Want to find/Images/ArrestPerson_images/ArrestPerson_images/Cr no#_2db7f113-59d4-4c85-8f70-94d5700f8a981256.jpg\n"
     ]
    },
    {
     "name": "stderr",
     "output_type": "stream",
     "text": [
      "\r",
      "  2%|▏         | 61/2655 [00:21<06:50,  6.32it/s]"
     ]
    },
    {
     "name": "stdout",
     "output_type": "stream",
     "text": [
      "Error for image data/Want to find/Images/ArrestPerson_images/ArrestPerson_images/CR NO 124 #_4b0c6cb9-a37e-443b-bce4-37a32873e5191253.jpg\n",
      "Error for image data/Want to find/Images/ArrestPerson_images/ArrestPerson_images/Untitled54#_065b65d6-ae7c-4796-a347-d90584efea8c1244.jpg\n"
     ]
    },
    {
     "name": "stderr",
     "output_type": "stream",
     "text": [
      "\r",
      "  2%|▏         | 63/2655 [00:21<06:20,  6.82it/s]"
     ]
    },
    {
     "name": "stdout",
     "output_type": "stream",
     "text": [
      "Error for image data/Want to find/Images/ArrestPerson_images/ArrestPerson_images/IMG_0005#_7c74ded9-1e5e-4468-b9ab-f35181e107dd2189.jpg\n",
      "Error for image data/Want to find/Images/ArrestPerson_images/ArrestPerson_images/001#_6954e0b3-3915-4819-9670-83dad5b428801257.jpg\n"
     ]
    },
    {
     "name": "stderr",
     "output_type": "stream",
     "text": [
      "  2%|▏         | 66/2655 [00:21<07:13,  5.97it/s]"
     ]
    },
    {
     "name": "stdout",
     "output_type": "stream",
     "text": [
      "Error for image data/Want to find/Images/ArrestPerson_images/ArrestPerson_images/G M Rajann#_f1bcde5c-27a3-4ff0-a3c4-ed7cdde7f4691502.jpg\n",
      "Error for image data/Want to find/Images/ArrestPerson_images/ArrestPerson_images/IMG-201806#_21331396-307f-4444-94c5-fc50b4dd2bc91245.jpg\n"
     ]
    },
    {
     "name": "stderr",
     "output_type": "stream",
     "text": [
      "\r",
      "  3%|▎         | 67/2655 [00:22<11:26,  3.77it/s]"
     ]
    },
    {
     "name": "stdout",
     "output_type": "stream",
     "text": [
      "Error for image data/Want to find/Images/ArrestPerson_images/ArrestPerson_images/IMAGE 001#_2b928b64-2380-45b2-a578-dfc79f40bf5a1486.jpg\n"
     ]
    },
    {
     "name": "stderr",
     "output_type": "stream",
     "text": [
      "  3%|▎         | 71/2655 [00:22<08:19,  5.17it/s]"
     ]
    },
    {
     "name": "stdout",
     "output_type": "stream",
     "text": [
      "Error for image data/Want to find/Images/ArrestPerson_images/ArrestPerson_images/108-5#_96911e31-2357-4f45-84c8-2b53de247cf51249.jpg\n",
      "Error for image data/Want to find/Images/ArrestPerson_images/ArrestPerson_images/EXTRA#_33517d8d-b995-41c2-9cff-d1f5ede5f9f51464.jpg\n",
      "Error for image data/Want to find/Images/ArrestPerson_images/ArrestPerson_images/107#_8e58d932-8f0e-48c3-b7c1-18af7b04fe82363.jpg\n",
      "Error for image data/Want to find/Images/ArrestPerson_images/ArrestPerson_images/CRNO-110-1#_b2800bfc-393e-4c3a-9129-5ea6fc15647c1437.jpg\n"
     ]
    },
    {
     "name": "stderr",
     "output_type": "stream",
     "text": [
      "\r",
      "  3%|▎         | 72/2655 [00:22<07:54,  5.45it/s]"
     ]
    },
    {
     "name": "stdout",
     "output_type": "stream",
     "text": [
      "Error for image data/Want to find/Images/ArrestPerson_images/ArrestPerson_images/IMG2018070#_6f4793d0-227e-464c-9503-5a090e20ee601245.jpg\n",
      "Error for image data/Want to find/Images/ArrestPerson_images/ArrestPerson_images/A10-Ananda#_f6091aba-5005-4abd-b526-a1a2387de3a2356.jpg\n"
     ]
    },
    {
     "name": "stderr",
     "output_type": "stream",
     "text": [
      "\r",
      "  3%|▎         | 74/2655 [00:23<06:57,  6.18it/s]"
     ]
    },
    {
     "name": "stdout",
     "output_type": "stream",
     "text": [
      "Error for image data/Want to find/Images/ArrestPerson_images/ArrestPerson_images/IMG_0001#_0e60301a-0779-4524-87e9-5e92670dfdd52189.jpg\n",
      "Error for image data/Want to find/Images/ArrestPerson_images/ArrestPerson_images/161#_0c58686c-9502-40fe-aa72-a1c3fea3d7c91247.jpg\n",
      "Error for image data/Want to find/Images/ArrestPerson_images/ArrestPerson_images/96-2018#_100e0bdf-0dcb-489c-a712-4027799d47e2337.jpg\n"
     ]
    },
    {
     "name": "stderr",
     "output_type": "stream",
     "text": [
      "  3%|▎         | 78/2655 [00:24<08:00,  5.36it/s]"
     ]
    },
    {
     "name": "stdout",
     "output_type": "stream",
     "text": [
      "Error for image data/Want to find/Images/ArrestPerson_images/ArrestPerson_images/Galiswamy#_a67954ad-7221-4d13-98b1-d82d278938ee351.jpg\n",
      "Error for image data/Want to find/Images/ArrestPerson_images/ArrestPerson_images/55-2018#_5eef3a66-2807-4015-8118-9dd1af905cf2305.jpg\n"
     ]
    },
    {
     "name": "stderr",
     "output_type": "stream",
     "text": [
      "\r",
      "  3%|▎         | 79/2655 [00:24<11:44,  3.65it/s]"
     ]
    },
    {
     "name": "stdout",
     "output_type": "stream",
     "text": [
      "Error for image data/Want to find/Images/ArrestPerson_images/ArrestPerson_images/PSR#_9edac079-b61c-4627-b3bb-ff8b46128f60296.jpg\n",
      "Error for image data/Want to find/Images/ArrestPerson_images/ArrestPerson_images/40-18 ACCU#_0c36e32b-4ce7-4f59-b93c-63bfccf4912f1237.jpg\n"
     ]
    },
    {
     "name": "stderr",
     "output_type": "stream",
     "text": [
      "\r",
      "  3%|▎         | 81/2655 [00:26<19:47,  2.17it/s]"
     ]
    },
    {
     "name": "stdout",
     "output_type": "stream",
     "text": [
      "Error for image data/Want to find/Images/ArrestPerson_images/ArrestPerson_images/Cr No-79-2#_4fc7bb44-7999-4865-a5d1-cb6337a2d1611467.jpg\n"
     ]
    },
    {
     "name": "stderr",
     "output_type": "stream",
     "text": [
      "\r",
      "  3%|▎         | 82/2655 [00:27<25:16,  1.70it/s]"
     ]
    },
    {
     "name": "stdout",
     "output_type": "stream",
     "text": [
      "Error for image data/Want to find/Images/ArrestPerson_images/ArrestPerson_images/12_06_2018#_9e6ca1a4-0811-495d-84bd-1d0e04d5a71d1509.jpg\n"
     ]
    },
    {
     "name": "stderr",
     "output_type": "stream",
     "text": [
      "\r",
      "  3%|▎         | 83/2655 [00:27<20:25,  2.10it/s]"
     ]
    },
    {
     "name": "stdout",
     "output_type": "stream",
     "text": [
      "Error for image data/Want to find/Images/ArrestPerson_images/ArrestPerson_images/CR 211-201#_0b43c645-3338-48bf-87d2-aa3f1ff94fd31255.jpg\n"
     ]
    },
    {
     "name": "stderr",
     "output_type": "stream",
     "text": [
      "  3%|▎         | 87/2655 [00:28<14:03,  3.04it/s]"
     ]
    },
    {
     "name": "stdout",
     "output_type": "stream",
     "text": [
      "Error for image data/Want to find/Images/ArrestPerson_images/ArrestPerson_images/A-2#_f2f6a42d-39ee-4883-856d-e96f62cddb7e351.jpg\n",
      "Error for image data/Want to find/Images/ArrestPerson_images/ArrestPerson_images/001#_5bc460c2-824a-4f6d-97b8-6cc707cd0dde1244.jpg\n",
      "Error for image data/Want to find/Images/ArrestPerson_images/ArrestPerson_images/119#_e5779dc5-66c1-4b5d-a802-b2d832e2144c1262.jpg\n",
      "Error for image data/Want to find/Images/ArrestPerson_images/ArrestPerson_images/CR No 130-#_ac777e73-2088-461e-897f-124e835c86621502.jpg\n",
      "Error for image data/Want to find/Images/ArrestPerson_images/ArrestPerson_images/IMG_201809#_2c027916-f5bb-4bb1-b277-5eb79a0724e6318.jpg\n"
     ]
    },
    {
     "name": "stderr",
     "output_type": "stream",
     "text": [
      "  4%|▎         | 93/2655 [00:29<11:01,  3.87it/s]"
     ]
    },
    {
     "name": "stdout",
     "output_type": "stream",
     "text": [
      "Error for image data/Want to find/Images/ArrestPerson_images/ArrestPerson_images/IMG-201810#_7e2c0731-93f4-4e52-bedc-530df23ebcd41257.jpg\n",
      "Error for image data/Want to find/Images/ArrestPerson_images/ArrestPerson_images/CR NO 97#_12df6f49-7347-424c-842c-136095974cbc1258.jpg\n",
      "Error for image data/Want to find/Images/ArrestPerson_images/ArrestPerson_images/234-2018  #_7968233c-802e-46f6-9731-49f570ddeefd338.jpg\n",
      "Error for image data/Want to find/Images/ArrestPerson_images/ArrestPerson_images/PHOTO - Co#_530f9940-2c26-40da-a5d0-f53e898e37001485.jpg\n",
      "Error for image data/Want to find/Images/ArrestPerson_images/ArrestPerson_images/PSR#_b77ff9f8-6fdc-479d-a40d-5265b618aee6296.jpg\n"
     ]
    },
    {
     "name": "stderr",
     "output_type": "stream",
     "text": [
      "\r",
      "  4%|▎         | 95/2655 [00:30<12:10,  3.51it/s]"
     ]
    },
    {
     "name": "stdout",
     "output_type": "stream",
     "text": [
      "Error for image data/Want to find/Images/ArrestPerson_images/ArrestPerson_images/YADAWAD#_7588335e-199e-47e7-ac1c-71fd0fe270c91255.jpg\n"
     ]
    },
    {
     "name": "stderr",
     "output_type": "stream",
     "text": [
      "\r",
      "  4%|▎         | 96/2655 [00:31<14:44,  2.89it/s]"
     ]
    },
    {
     "name": "stdout",
     "output_type": "stream",
     "text": [
      "Error for image data/Want to find/Images/ArrestPerson_images/ArrestPerson_images/IMAGE 001#_72750245-556e-46c1-9842-938efdf98baf1486.jpg\n",
      "Error for image data/Want to find/Images/ArrestPerson_images/ArrestPerson_images/Faruqahama#_f99efd9d-70d4-4b38-ab93-42be652e442d1236.jpg\n"
     ]
    },
    {
     "name": "stderr",
     "output_type": "stream",
     "text": [
      "\r",
      "  4%|▎         | 98/2655 [00:31<13:12,  3.23it/s]"
     ]
    },
    {
     "name": "stdout",
     "output_type": "stream",
     "text": [
      "Error for image data/Want to find/Images/ArrestPerson_images/ArrestPerson_images/GNPS- Crim#_6d53974d-6c60-4ae9-94b6-65c725503567335.jpg\n"
     ]
    },
    {
     "name": "stderr",
     "output_type": "stream",
     "text": [
      "\r",
      "  4%|▎         | 99/2655 [00:32<25:52,  1.65it/s]"
     ]
    },
    {
     "name": "stdout",
     "output_type": "stream",
     "text": [
      "Error for image data/Want to find/Images/ArrestPerson_images/ArrestPerson_images/Cr no#_95d0d913-8b26-4017-bb46-0954f173419d1256.jpg\n"
     ]
    },
    {
     "name": "stderr",
     "output_type": "stream",
     "text": [
      "\r",
      "  4%|▍         | 101/2655 [00:33<20:08,  2.11it/s]"
     ]
    },
    {
     "name": "stdout",
     "output_type": "stream",
     "text": [
      "Error for image data/Want to find/Images/ArrestPerson_images/ArrestPerson_images/ACCUED NOT#_a50d92cf-4563-4304-affb-f635da42f5fa303.jpg\n",
      "Error for image data/Want to find/Images/ArrestPerson_images/ArrestPerson_images/_IMG#_4dffd4db-3c52-4bc4-8538-0b5cd38bbe7d337.jpg\n"
     ]
    },
    {
     "name": "stderr",
     "output_type": "stream",
     "text": [
      "\r",
      "  4%|▍         | 103/2655 [00:34<25:37,  1.66it/s]"
     ]
    },
    {
     "name": "stdout",
     "output_type": "stream",
     "text": [
      "Error for image data/Want to find/Images/ArrestPerson_images/ArrestPerson_images/20180624_2#_0c760c62-1f81-4cc2-9fbd-c8fe46639b601507.jpg\n"
     ]
    },
    {
     "name": "stderr",
     "output_type": "stream",
     "text": [
      "  4%|▍         | 105/2655 [00:35<22:20,  1.90it/s]"
     ]
    },
    {
     "name": "stdout",
     "output_type": "stream",
     "text": [
      "Error for image data/Want to find/Images/ArrestPerson_images/ArrestPerson_images/24_06_2018#_0505a2f5-2dcf-4e65-98e5-79771cfea3ec1509.jpg\n",
      "Error for image data/Want to find/Images/ArrestPerson_images/ArrestPerson_images/PHOTO - Co#_072455c0-bd68-431c-b38f-482f128e12451485.jpg\n"
     ]
    },
    {
     "name": "stderr",
     "output_type": "stream",
     "text": [
      "  4%|▍         | 107/2655 [00:40<49:58,  1.18s/it]  "
     ]
    },
    {
     "name": "stdout",
     "output_type": "stream",
     "text": [
      "Error for image data/Want to find/Images/ArrestPerson_images/ArrestPerson_images/IMG_0014#_714dd455-1704-4849-a024-f68f35ff3261298.jpg\n",
      "Error for image data/Want to find/Images/ArrestPerson_images/ArrestPerson_images/CR NO-108-#_e061afad-1617-40c0-b928-6db17425a86b365.jpg\n"
     ]
    },
    {
     "name": "stderr",
     "output_type": "stream",
     "text": [
      "\r",
      "  4%|▍         | 108/2655 [00:40<36:21,  1.17it/s]"
     ]
    },
    {
     "name": "stdout",
     "output_type": "stream",
     "text": [
      "Error for image data/Want to find/Images/ArrestPerson_images/ArrestPerson_images/PHOTO - Co#_acae6ecd-493a-409a-ac08-2f5c076f24fe1485.jpg\n"
     ]
    },
    {
     "name": "stderr",
     "output_type": "stream",
     "text": [
      "\r",
      "  4%|▍         | 109/2655 [00:40<28:14,  1.50it/s]"
     ]
    },
    {
     "name": "stdout",
     "output_type": "stream",
     "text": [
      "Error for image data/Want to find/Images/ArrestPerson_images/ArrestPerson_images/A-1 SANTOS#_ea273d75-090a-47cc-9a40-e71cc67617e81442.jpg\n"
     ]
    },
    {
     "name": "stderr",
     "output_type": "stream",
     "text": [
      "\r",
      "  4%|▍         | 110/2655 [00:41<25:08,  1.69it/s]"
     ]
    },
    {
     "name": "stdout",
     "output_type": "stream",
     "text": [
      "Error for image data/Want to find/Images/ArrestPerson_images/ArrestPerson_images/20180701_1#_7793188e-fe93-46ef-8bd8-d9e929a593c31482.jpg\n"
     ]
    },
    {
     "name": "stderr",
     "output_type": "stream",
     "text": [
      "\r",
      "  4%|▍         | 111/2655 [00:41<20:17,  2.09it/s]"
     ]
    },
    {
     "name": "stdout",
     "output_type": "stream",
     "text": [
      "Error for image data/Want to find/Images/ArrestPerson_images/ArrestPerson_images/PHOTO - Co#_fe0e31ba-e258-4a60-9a90-dab462d5e0401485.jpg\n"
     ]
    },
    {
     "name": "stderr",
     "output_type": "stream",
     "text": [
      "\r",
      "  4%|▍         | 112/2655 [00:43<39:47,  1.07it/s]"
     ]
    },
    {
     "name": "stdout",
     "output_type": "stream",
     "text": [
      "Error for image data/Want to find/Images/ArrestPerson_images/ArrestPerson_images/28_07_2018#_4385c807-4738-4a30-b537-d7eb7057a40a1509.jpg\n"
     ]
    },
    {
     "name": "stderr",
     "output_type": "stream",
     "text": [
      "  4%|▍         | 117/2655 [00:44<25:00,  1.69it/s]"
     ]
    },
    {
     "name": "stdout",
     "output_type": "stream",
     "text": [
      "Error for image data/Want to find/Images/ArrestPerson_images/ArrestPerson_images/IMAGE 001#_dc5fd9a3-705e-4a16-9bb6-e6f68f51dd931486.jpg\n",
      "Error for image data/Want to find/Images/ArrestPerson_images/ArrestPerson_images/163-C#_e54659b8-2c3d-45c8-952d-1abe9f049d271247.jpg\n",
      "Error for image data/Want to find/Images/ArrestPerson_images/ArrestPerson_images/Bomma#_d3da48ce-ed34-4bba-a56d-6a44d39cf0b6363.jpg\n",
      "Error for image data/Want to find/Images/ArrestPerson_images/ArrestPerson_images/ppppppp_00#_9e2e8b39-a521-423b-958c-50c9f36b8fb01460.jpg\n",
      "Error for image data/Want to find/Images/ArrestPerson_images/ArrestPerson_images/PSR-2018#_6b6e137c-1053-4944-9938-287b516efc1c1505.jpg\n"
     ]
    },
    {
     "name": "stderr",
     "output_type": "stream",
     "text": [
      "\r",
      "  4%|▍         | 118/2655 [00:44<21:16,  1.99it/s]"
     ]
    },
    {
     "name": "stdout",
     "output_type": "stream",
     "text": [
      "Error for image data/Want to find/Images/ArrestPerson_images/ArrestPerson_images/IMG_201807#_81cd7b60-8e23-487b-b505-90727c8e73c8346.jpg\n"
     ]
    },
    {
     "name": "stderr",
     "output_type": "stream",
     "text": [
      "\r",
      "  4%|▍         | 119/2655 [00:44<19:37,  2.15it/s]"
     ]
    },
    {
     "name": "stdout",
     "output_type": "stream",
     "text": [
      "Error for image data/Want to find/Images/ArrestPerson_images/ArrestPerson_images/A-4 MAHESH#_3664e3b4-a42a-4c54-a79c-c7b9997c83491442.jpg\n",
      "Error for image data/Want to find/Images/ArrestPerson_images/ArrestPerson_images/155-18 001#_86a4d97e-9aa4-4b33-94e2-920da2c347d81486.jpg\n"
     ]
    },
    {
     "name": "stderr",
     "output_type": "stream",
     "text": [
      "\r",
      "  5%|▍         | 122/2655 [00:45<15:12,  2.78it/s]"
     ]
    },
    {
     "name": "stdout",
     "output_type": "stream",
     "text": [
      "Error for image data/Want to find/Images/ArrestPerson_images/ArrestPerson_images/CR 211-201#_c5e67992-59a0-464f-ba0d-1753b244d6c71255.jpg\n"
     ]
    },
    {
     "name": "stderr",
     "output_type": "stream",
     "text": [
      "  5%|▍         | 125/2655 [00:46<23:59,  1.76it/s]"
     ]
    },
    {
     "name": "stdout",
     "output_type": "stream",
     "text": [
      "Error for image data/Want to find/Images/ArrestPerson_images/ArrestPerson_images/PHOTO#_2aceb601-b2e3-4b6d-9a88-16647e3eed06323.jpg\n",
      "Error for image data/Want to find/Images/ArrestPerson_images/ArrestPerson_images/CR NO 226-#_f9bd7ed2-4c02-45cc-9c8f-d09c08a6a6c4333.jpg\n",
      "Error for image data/Want to find/Images/ArrestPerson_images/ArrestPerson_images/67#_30839979-570d-4662-b58f-9a37aa1709f61506.jpg\n"
     ]
    },
    {
     "name": "stderr",
     "output_type": "stream",
     "text": [
      "\r",
      "  5%|▍         | 128/2655 [00:47<17:33,  2.40it/s]"
     ]
    },
    {
     "name": "stdout",
     "output_type": "stream",
     "text": [
      "Error for image data/Want to find/Images/ArrestPerson_images/ArrestPerson_images/CR No 130-#_7c055b23-aa60-4a59-a332-8f664b94061f1502.jpg\n",
      "Error for image data/Want to find/Images/ArrestPerson_images/ArrestPerson_images/Blank Phot#_599f5449-0eda-4564-a78c-973ef850b243319.jpg\n",
      "Error for image data/Want to find/Images/ArrestPerson_images/ArrestPerson_images/CR NO-109-#_89a9adda-5aca-4974-beca-9bc59953ee42365.jpg\n"
     ]
    },
    {
     "name": "stderr",
     "output_type": "stream",
     "text": [
      "\r",
      "  5%|▍         | 129/2655 [00:48<24:14,  1.74it/s]"
     ]
    },
    {
     "name": "stdout",
     "output_type": "stream",
     "text": [
      "Error for image data/Want to find/Images/ArrestPerson_images/ArrestPerson_images/PPT-13-11-#_cfecc97e-46af-4bc2-8250-a96a4892c5a52240.jpg\n",
      "Error for image data/Want to find/Images/ArrestPerson_images/ArrestPerson_images/Cr no 244-#_789cc79c-e08e-46f2-9083-cefceb35efe6338.jpg\n"
     ]
    },
    {
     "name": "stderr",
     "output_type": "stream",
     "text": [
      "  5%|▍         | 132/2655 [00:48<16:06,  2.61it/s]"
     ]
    },
    {
     "name": "stdout",
     "output_type": "stream",
     "text": [
      "Error for image data/Want to find/Images/ArrestPerson_images/ArrestPerson_images/PSR#_13ade9d5-373c-41aa-b5c4-c2c1d54a5706296.jpg\n",
      "Error for image data/Want to find/Images/ArrestPerson_images/ArrestPerson_images/114-18 PHO#_25c9e6f5-3cfa-466a-a247-574907e8bf321501.jpg\n"
     ]
    },
    {
     "name": "stderr",
     "output_type": "stream",
     "text": [
      "  5%|▌         | 135/2655 [00:49<18:12,  2.31it/s]"
     ]
    },
    {
     "name": "stdout",
     "output_type": "stream",
     "text": [
      "Error for image data/Want to find/Images/ArrestPerson_images/ArrestPerson_images/01 001#_d31dc6e7-b03e-43ee-8585-f70fa03fa3e51473.jpg\n",
      "Error for image data/Want to find/Images/ArrestPerson_images/ArrestPerson_images/41-18 A1#_08d6ec1b-60d7-441a-a9c7-dd68cfa639e51237.jpg\n",
      "Error for image data/Want to find/Images/ArrestPerson_images/ArrestPerson_images/IMG-201807#_d2b57c4b-71c6-4b1c-97d9-4773dcad78fc1250.jpg\n"
     ]
    },
    {
     "name": "stderr",
     "output_type": "stream",
     "text": [
      "\r",
      "  5%|▌         | 137/2655 [00:50<14:00,  3.00it/s]"
     ]
    },
    {
     "name": "stdout",
     "output_type": "stream",
     "text": [
      "Error for image data/Want to find/Images/ArrestPerson_images/ArrestPerson_images/Veeresh#_6c7c7dbc-b365-474a-872b-2b5e7b84cceb362.jpg\n",
      "Error for image data/Want to find/Images/ArrestPerson_images/ArrestPerson_images/Gavisidapp#_978b3ba9-52ca-4254-9a86-5c5560d4ecb2362.jpg\n",
      "Error for image data/Want to find/Images/ArrestPerson_images/ArrestPerson_images/119#_ff7890d3-4cd9-452a-b054-cf7e63e6fc661262.jpg\n",
      "Error for image data/Want to find/Images/ArrestPerson_images/ArrestPerson_images/IMG_201809#_573c19f7-ef7d-4b9b-80d1-a4dbd51d839d319.jpg\n"
     ]
    },
    {
     "name": "stderr",
     "output_type": "stream",
     "text": [
      "\r",
      "  5%|▌         | 140/2655 [00:50<10:37,  3.94it/s]"
     ]
    },
    {
     "name": "stdout",
     "output_type": "stream",
     "text": [
      "Error for image data/Want to find/Images/ArrestPerson_images/ArrestPerson_images/Ishwar#_db1e87f3-7d06-4860-9bb5-7470bc8853591456.jpg\n",
      "Error for image data/Want to find/Images/ArrestPerson_images/ArrestPerson_images/PHOTO#_3b82a864-b8e3-4920-b23e-07dc38c0b4f82126.jpg\n",
      "Error for image data/Want to find/Images/ArrestPerson_images/ArrestPerson_images/scan0024#_709785f2-85c8-4da8-886f-77c82a1f4c41311.jpg\n"
     ]
    },
    {
     "name": "stderr",
     "output_type": "stream",
     "text": [
      "\r",
      "  5%|▌         | 143/2655 [00:51<11:09,  3.75it/s]"
     ]
    },
    {
     "name": "stdout",
     "output_type": "stream",
     "text": [
      "Error for image data/Want to find/Images/ArrestPerson_images/ArrestPerson_images/MUSTAK#_4c58ac38-d1ea-4c48-b9d7-044567fbef021478.jpg\n"
     ]
    },
    {
     "name": "stderr",
     "output_type": "stream",
     "text": [
      "  5%|▌         | 146/2655 [00:51<10:29,  3.99it/s]"
     ]
    },
    {
     "name": "stdout",
     "output_type": "stream",
     "text": [
      "Error for image data/Want to find/Images/ArrestPerson_images/ArrestPerson_images/160-4#_5d695b22-42db-465f-b9e4-c577130cadeb1247.jpg\n",
      "Error for image data/Want to find/Images/ArrestPerson_images/ArrestPerson_images/184-18phot#_86513bec-e572-466f-a7ff-3cf44c1534d91460.jpg\n",
      "Error for image data/Want to find/Images/ArrestPerson_images/ArrestPerson_images/2#_d6803efc-a70a-41ca-b947-83e0109512481241.jpg\n"
     ]
    },
    {
     "name": "stderr",
     "output_type": "stream",
     "text": [
      "  6%|▌         | 148/2655 [00:52<14:54,  2.80it/s]"
     ]
    },
    {
     "name": "stdout",
     "output_type": "stream",
     "text": [
      "Error for image data/Want to find/Images/ArrestPerson_images/ArrestPerson_images/12_06_2018#_be12649d-a7c4-4f9a-8cc8-c3a318eef9c11509.jpg\n",
      "Error for image data/Want to find/Images/ArrestPerson_images/ArrestPerson_images/PHOTO - Co#_c8b9ca21-de01-4d9f-a03c-c09eb38888501485.jpg\n"
     ]
    },
    {
     "name": "stderr",
     "output_type": "stream",
     "text": [
      "\r",
      "  6%|▌         | 149/2655 [00:53<12:06,  3.45it/s]"
     ]
    },
    {
     "name": "stdout",
     "output_type": "stream",
     "text": [
      "Error for image data/Want to find/Images/ArrestPerson_images/ArrestPerson_images/IMG_201806#_a4a67a5c-7584-4cc0-8642-0c21af1b32571238.jpg\n",
      "Error for image data/Want to find/Images/ArrestPerson_images/ArrestPerson_images/145-5 001#_481d21e8-951e-4923-bdf4-1f57cd7d26191507.jpg\n"
     ]
    },
    {
     "name": "stderr",
     "output_type": "stream",
     "text": [
      "\r",
      "  6%|▌         | 151/2655 [00:54<15:11,  2.75it/s]"
     ]
    },
    {
     "name": "stdout",
     "output_type": "stream",
     "text": [
      "Error for image data/Want to find/Images/ArrestPerson_images/ArrestPerson_images/IMG ANK#_54b1c8f6-6028-4f2b-9d5b-f88a861a55bc324.jpg\n"
     ]
    },
    {
     "name": "stderr",
     "output_type": "stream",
     "text": [
      "  6%|▌         | 153/2655 [00:55<15:16,  2.73it/s]"
     ]
    },
    {
     "name": "stdout",
     "output_type": "stream",
     "text": [
      "Error for image data/Want to find/Images/ArrestPerson_images/ArrestPerson_images/000#_85685369-8a06-435d-ae7d-1ea1dd57743c1263.jpg\n",
      "Error for image data/Want to find/Images/ArrestPerson_images/ArrestPerson_images/IMG_0001#_06e68a7f-63d8-405d-80cc-56571d71ec472189.jpg\n",
      "Error for image data/Want to find/Images/ArrestPerson_images/ArrestPerson_images/4#_2e3e4e17-aca2-47cd-a445-7930d56f3f041241.jpg\n"
     ]
    },
    {
     "name": "stderr",
     "output_type": "stream",
     "text": [
      "  6%|▌         | 157/2655 [00:55<10:41,  3.89it/s]"
     ]
    },
    {
     "name": "stdout",
     "output_type": "stream",
     "text": [
      "Error for image data/Want to find/Images/ArrestPerson_images/ArrestPerson_images/IMG-201807#_3aeab2f7-695e-4853-849b-ef453fab98d51893.jpg\n",
      "Error for image data/Want to find/Images/ArrestPerson_images/ArrestPerson_images/44#_cd3b7564-ccbe-4e7f-84c6-c01e87d052ca324.jpg\n",
      "Error for image data/Want to find/Images/ArrestPerson_images/ArrestPerson_images/355#_154e3121-8f51-4aa3-8ec7-004443600f211238.jpg\n"
     ]
    },
    {
     "name": "stderr",
     "output_type": "stream",
     "text": [
      "\r",
      "  6%|▌         | 158/2655 [00:55<09:00,  4.62it/s]"
     ]
    },
    {
     "name": "stdout",
     "output_type": "stream",
     "text": [
      "Error for image data/Want to find/Images/ArrestPerson_images/ArrestPerson_images/psr#_4d6750b0-794e-4b78-b4e6-9a656c7f9b611255.jpg\n"
     ]
    },
    {
     "name": "stderr",
     "output_type": "stream",
     "text": [
      "\r",
      "  6%|▌         | 159/2655 [00:56<12:22,  3.36it/s]"
     ]
    },
    {
     "name": "stdout",
     "output_type": "stream",
     "text": [
      "Error for image data/Want to find/Images/ArrestPerson_images/ArrestPerson_images/151-8,9#_c1c4006e-15ea-49aa-af74-39c8d901a46b1247.jpg\n"
     ]
    },
    {
     "name": "stderr",
     "output_type": "stream",
     "text": [
      "  6%|▌         | 163/2655 [00:57<16:34,  2.51it/s]"
     ]
    },
    {
     "name": "stdout",
     "output_type": "stream",
     "text": [
      "Error for image data/Want to find/Images/ArrestPerson_images/ArrestPerson_images/01 001#_b7f5bc2f-458d-4532-8bc1-16963829d7201473.jpg\n",
      "Error for image data/Want to find/Images/ArrestPerson_images/ArrestPerson_images/N#_1d84b3b8-25e8-492a-a858-1f9ebb2ea19f1502.jpg\n",
      "Error for image data/Want to find/Images/ArrestPerson_images/ArrestPerson_images/Ningappa#_484a5317-b223-4974-8c71-f9642220e53a1456.jpg\n",
      "Error for image data/Want to find/Images/ArrestPerson_images/ArrestPerson_images/PHOTO - Co#_32323702-7f27-4120-9af8-9f795fff57971485.jpg\n"
     ]
    },
    {
     "name": "stderr",
     "output_type": "stream",
     "text": [
      "\r",
      "  6%|▌         | 164/2655 [00:57<13:54,  2.98it/s]"
     ]
    },
    {
     "name": "stdout",
     "output_type": "stream",
     "text": [
      "Error for image data/Want to find/Images/ArrestPerson_images/ArrestPerson_images/A-1 138 00#_617b6156-8b4a-443d-b95f-03854fce25571507.jpg\n",
      "Error for image data/Want to find/Images/ArrestPerson_images/ArrestPerson_images/119#_7e2ebcc1-d116-4622-9b87-518fe3c57c3f1262.jpg\n"
     ]
    },
    {
     "name": "stderr",
     "output_type": "stream",
     "text": [
      "  6%|▋         | 168/2655 [00:58<10:00,  4.14it/s]"
     ]
    },
    {
     "name": "stdout",
     "output_type": "stream",
     "text": [
      "Error for image data/Want to find/Images/ArrestPerson_images/ArrestPerson_images/PSR#_618911ff-4c51-4d6d-805e-a0e0c219a24e296.jpg\n",
      "Error for image data/Want to find/Images/ArrestPerson_images/ArrestPerson_images/2#_2f63d008-7dee-4857-aa5f-67b054c4884a311.jpg\n",
      "Error for image data/Want to find/Images/ArrestPerson_images/ArrestPerson_images/108-8#_51e7ba1a-e27f-4793-bc71-9377a1a053d41249.jpg\n"
     ]
    },
    {
     "name": "stderr",
     "output_type": "stream",
     "text": [
      "\r",
      "  6%|▋         | 171/2655 [00:58<08:00,  5.17it/s]"
     ]
    },
    {
     "name": "stdout",
     "output_type": "stream",
     "text": [
      "Error for image data/Want to find/Images/ArrestPerson_images/ArrestPerson_images/Photo#_7164ee07-9369-49d8-bd2a-0e3f5a0aaaf3364.jpg\n",
      "Error for image data/Want to find/Images/ArrestPerson_images/ArrestPerson_images/184-18-2 (#_b9cd1fba-fc7e-4ef8-89bd-90fc4176b6bb1460.jpg\n",
      "Error for image data/Want to find/Images/ArrestPerson_images/ArrestPerson_images/108-6#_e715567b-5db2-4439-aba8-5252df12b2661249.jpg\n"
     ]
    },
    {
     "name": "stderr",
     "output_type": "stream",
     "text": [
      "\r",
      "  7%|▋         | 173/2655 [00:58<06:16,  6.59it/s]"
     ]
    },
    {
     "name": "stdout",
     "output_type": "stream",
     "text": [
      "Error for image data/Want to find/Images/ArrestPerson_images/ArrestPerson_images/Roshan#_754585bc-f344-49cc-b422-4201e3cfa7a01255.jpg\n",
      "Error for image data/Want to find/Images/ArrestPerson_images/ArrestPerson_images/152-2#_f36b5e54-dffa-4cf8-89d9-b88512d11bc31247.jpg\n",
      "Error for image data/Want to find/Images/ArrestPerson_images/ArrestPerson_images/39-2017 00#_86a47c0f-d572-4f7a-acca-2735dc8e8f36334.jpg\n"
     ]
    },
    {
     "name": "stderr",
     "output_type": "stream",
     "text": [
      "  7%|▋         | 179/2655 [00:59<04:45,  8.68it/s]"
     ]
    },
    {
     "name": "stdout",
     "output_type": "stream",
     "text": [
      "Error for image data/Want to find/Images/ArrestPerson_images/ArrestPerson_images/106-18 354#_950c4cc7-4579-415e-ae65-9bd07611e07c1250.jpg\n",
      "Error for image data/Want to find/Images/ArrestPerson_images/ArrestPerson_images/12#_e1bda964-a9d1-4df8-8660-eebcbd2f65c41478.jpg\n",
      "Error for image data/Want to find/Images/ArrestPerson_images/ArrestPerson_images/159#_06f67074-be86-4200-9242-f7c5d95eac58323.jpg\n",
      "Error for image data/Want to find/Images/ArrestPerson_images/ArrestPerson_images/Blank Phot#_e1c9f8f1-c7a5-4643-be68-51c62a1c150f319.jpg\n",
      "Error for image data/Want to find/Images/ArrestPerson_images/ArrestPerson_images/20190128_2#_c81743d1-23fc-4401-bc37-6464379b9a761238.jpg\n"
     ]
    },
    {
     "name": "stderr",
     "output_type": "stream",
     "text": [
      "\r",
      "  7%|▋         | 181/2655 [00:59<04:48,  8.59it/s]"
     ]
    },
    {
     "name": "stdout",
     "output_type": "stream",
     "text": [
      "Error for image data/Want to find/Images/ArrestPerson_images/ArrestPerson_images/Biradar#_7afa8dd8-70e8-46f0-9f77-3e171117217b1255.jpg\n",
      "Error for image data/Want to find/Images/ArrestPerson_images/ArrestPerson_images/129#_91ac8342-61c7-488d-bb8c-16e899f4b82b1262.jpg\n"
     ]
    },
    {
     "name": "stderr",
     "output_type": "stream",
     "text": [
      "\r",
      "  7%|▋         | 183/2655 [00:59<06:25,  6.40it/s]"
     ]
    },
    {
     "name": "stdout",
     "output_type": "stream",
     "text": [
      "Error for image data/Want to find/Images/ArrestPerson_images/ArrestPerson_images/cr37acq#_e1f35730-aabd-4a8b-86ae-fd06e96a69fc355.jpg\n",
      "Error for image data/Want to find/Images/ArrestPerson_images/ArrestPerson_images/153153#_90700999-ac4b-4bc0-9021-4ceccd526f541247.jpg\n"
     ]
    },
    {
     "name": "stderr",
     "output_type": "stream",
     "text": [
      "\r",
      "  7%|▋         | 184/2655 [01:01<26:23,  1.56it/s]"
     ]
    },
    {
     "name": "stdout",
     "output_type": "stream",
     "text": [
      "Error for image data/Want to find/Images/ArrestPerson_images/ArrestPerson_images/26_07_2018#_e0cad396-8714-44e5-80ca-afcbd2e4389d1509.jpg\n",
      "Error for image data/Want to find/Images/ArrestPerson_images/ArrestPerson_images/Blank Phot#_5df43edb-0fec-4c08-9931-fa652abe1bba319.jpg\n"
     ]
    },
    {
     "name": "stderr",
     "output_type": "stream",
     "text": [
      "  7%|▋         | 187/2655 [01:03<20:16,  2.03it/s]"
     ]
    },
    {
     "name": "stdout",
     "output_type": "stream",
     "text": [
      "Error for image data/Want to find/Images/ArrestPerson_images/ArrestPerson_images/PHOTO#_7929f2df-7189-4288-a1a3-f997f6856df0323.jpg\n",
      "Error for image data/Want to find/Images/ArrestPerson_images/ArrestPerson_images/226#_b7d65ae6-3809-4590-8c9e-559981ac38ae1255.jpg\n"
     ]
    },
    {
     "name": "stderr",
     "output_type": "stream",
     "text": [
      "\r",
      "  7%|▋         | 188/2655 [01:03<15:32,  2.65it/s]"
     ]
    },
    {
     "name": "stdout",
     "output_type": "stream",
     "text": [
      "Error for image data/Want to find/Images/ArrestPerson_images/ArrestPerson_images/50-2018#_76c30308-1042-4662-8db1-1c28ed758716305.jpg\n",
      "Error for image data/Want to find/Images/ArrestPerson_images/ArrestPerson_images/248-2018 A#_619616b8-5559-4e84-b5e9-786815483b33338.jpg\n"
     ]
    },
    {
     "name": "stderr",
     "output_type": "stream",
     "text": [
      "  7%|▋         | 191/2655 [01:05<16:56,  2.43it/s]"
     ]
    },
    {
     "name": "stdout",
     "output_type": "stream",
     "text": [
      "Error for image data/Want to find/Images/ArrestPerson_images/ArrestPerson_images/20180624_2#_1f643644-18b8-4b32-8971-6cf428ee21b31507.jpg\n",
      "Error for image data/Want to find/Images/ArrestPerson_images/ArrestPerson_images/64-2018#_62aa26d1-4ad5-47ea-9a69-a5b84744147c305.jpg\n"
     ]
    },
    {
     "name": "stderr",
     "output_type": "stream",
     "text": [
      "\r",
      "  7%|▋         | 192/2655 [01:05<17:49,  2.30it/s]"
     ]
    },
    {
     "name": "stdout",
     "output_type": "stream",
     "text": [
      "Error for image data/Want to find/Images/ArrestPerson_images/ArrestPerson_images/151-6,7#_39c7a525-5648-4023-9450-efcd6a79c74b1247.jpg\n",
      "Error for image data/Want to find/Images/ArrestPerson_images/ArrestPerson_images/103#_5d58474e-8e03-4004-85ad-0ed7d43bdb05363.jpg\n",
      "Error for image data/Want to find/Images/ArrestPerson_images/ArrestPerson_images/000#_9f23084f-210e-4e3f-9ecf-06d54eebf5c9305.jpg\n"
     ]
    },
    {
     "name": "stderr",
     "output_type": "stream",
     "text": [
      "  7%|▋         | 196/2655 [01:06<12:02,  3.40it/s]"
     ]
    },
    {
     "name": "stdout",
     "output_type": "stream",
     "text": [
      "Error for image data/Want to find/Images/ArrestPerson_images/ArrestPerson_images/214#_aee43d1a-8aa3-41c3-979f-555b79ddd47b347.jpg\n",
      "Error for image data/Want to find/Images/ArrestPerson_images/ArrestPerson_images/Untitled45#_4037ecfb-3773-4c6d-98f1-388afa7a01221244.jpg\n",
      "Error for image data/Want to find/Images/ArrestPerson_images/ArrestPerson_images/13#_e8d5fcdb-6485-4ec7-b6e6-b23d3474cec7311.jpg\n"
     ]
    },
    {
     "name": "stderr",
     "output_type": "stream",
     "text": [
      "  8%|▊         | 200/2655 [01:06<07:17,  5.61it/s]"
     ]
    },
    {
     "name": "stdout",
     "output_type": "stream",
     "text": [
      "Error for image data/Want to find/Images/ArrestPerson_images/ArrestPerson_images/PHOTO - Co#_1be47b07-49ab-4628-859b-b31d3c2ebc651485.jpg\n",
      "Error for image data/Want to find/Images/ArrestPerson_images/ArrestPerson_images/EXTRA#_0840a924-5727-489c-a030-a7ea598c3a5a1464.jpg\n",
      "Error for image data/Want to find/Images/ArrestPerson_images/ArrestPerson_images/111-18 mal#_c3057352-5d8e-4896-aba2-b8e438b5a1a9364.jpg\n"
     ]
    },
    {
     "name": "stderr",
     "output_type": "stream",
     "text": [
      "\r",
      "  8%|▊         | 202/2655 [01:08<16:52,  2.42it/s]"
     ]
    },
    {
     "name": "stdout",
     "output_type": "stream",
     "text": [
      "Error for image data/Want to find/Images/ArrestPerson_images/ArrestPerson_images/26_07_2018#_d930aff6-69a8-42d5-8a90-2b0ac13016a31509.jpg\n",
      "Error for image data/Want to find/Images/ArrestPerson_images/ArrestPerson_images/IMG_201806#_24136fbc-c891-4d78-9165-25ed52ce66461238.jpg\n"
     ]
    },
    {
     "name": "stderr",
     "output_type": "stream",
     "text": [
      "  8%|▊         | 204/2655 [01:08<11:13,  3.64it/s]"
     ]
    },
    {
     "name": "stdout",
     "output_type": "stream",
     "text": [
      "Error for image data/Want to find/Images/ArrestPerson_images/ArrestPerson_images/ANAND#_bf9626e4-ff59-4377-9480-0b0b676c59831258.jpg\n",
      "Error for image data/Want to find/Images/ArrestPerson_images/ArrestPerson_images/cr no 135-#_891fd628-0b10-462a-9d69-74d6d4c6bb321507.jpg\n",
      "Error for image data/Want to find/Images/ArrestPerson_images/ArrestPerson_images/Blank Phot#_3ef5eb0e-af0b-4fd4-bf8c-c0a3e6601782319.jpg\n",
      "Error for image data/Want to find/Images/ArrestPerson_images/ArrestPerson_images/8#_16cf7e86-25d9-41a9-8db9-fb86b11f06e2311.jpg\n",
      "Error for image data/Want to find/Images/ArrestPerson_images/ArrestPerson_images/Ramu#_a0ed5d00-4c96-47d2-86aa-131e6c3dc9581456.jpg\n"
     ]
    },
    {
     "name": "stderr",
     "output_type": "stream",
     "text": [
      "  8%|▊         | 209/2655 [01:09<08:16,  4.92it/s]"
     ]
    },
    {
     "name": "stdout",
     "output_type": "stream",
     "text": [
      "Error for image data/Want to find/Images/ArrestPerson_images/ArrestPerson_images/IMG-201807#_dedb21d2-be4e-4b39-9e81-d29a2ef2c5111893.jpg\n",
      "Error for image data/Want to find/Images/ArrestPerson_images/ArrestPerson_images/IMG_201804#_06549df2-732c-4cdc-bbe1-9112ed2c18821239.jpg\n",
      "Error for image data/Want to find/Images/ArrestPerson_images/ArrestPerson_images/ppppppp_00#_cd659cc1-d8d8-437a-931a-5082f52355dc1460.jpg\n"
     ]
    },
    {
     "name": "stderr",
     "output_type": "stream",
     "text": [
      "\r",
      "  8%|▊         | 211/2655 [01:13<32:44,  1.24it/s]"
     ]
    },
    {
     "name": "stdout",
     "output_type": "stream",
     "text": [
      "Error for image data/Want to find/Images/ArrestPerson_images/ArrestPerson_images/IMG_0014#_442efb82-750b-42d7-a066-39bde1e1d6b4298.jpg\n"
     ]
    },
    {
     "name": "stderr",
     "output_type": "stream",
     "text": [
      "\r",
      "  8%|▊         | 212/2655 [01:14<29:30,  1.38it/s]"
     ]
    },
    {
     "name": "stdout",
     "output_type": "stream",
     "text": [
      "Error for image data/Want to find/Images/ArrestPerson_images/ArrestPerson_images/cr37acq#_96e840a8-b096-4809-a23c-389c6f0dd9d8355.jpg\n"
     ]
    },
    {
     "name": "stderr",
     "output_type": "stream",
     "text": [
      "  8%|▊         | 214/2655 [01:14<20:29,  1.99it/s]"
     ]
    },
    {
     "name": "stdout",
     "output_type": "stream",
     "text": [
      "Error for image data/Want to find/Images/ArrestPerson_images/ArrestPerson_images/IMAGE 001#_cf15c8a3-e443-49aa-8da8-36a53b9d4d481486.jpg\n",
      "Error for image data/Want to find/Images/ArrestPerson_images/ArrestPerson_images/PHOTO - Co#_25e147c8-c97c-40f7-8ccc-8462432348b01485.jpg\n"
     ]
    },
    {
     "name": "stderr",
     "output_type": "stream",
     "text": [
      "  8%|▊         | 218/2655 [01:16<22:10,  1.83it/s]"
     ]
    },
    {
     "name": "stdout",
     "output_type": "stream",
     "text": [
      "Error for image data/Want to find/Images/ArrestPerson_images/ArrestPerson_images/PHOTO#_166cb909-f8e6-4001-bb76-b3c0ca755bb8323.jpg\n",
      "Error for image data/Want to find/Images/ArrestPerson_images/ArrestPerson_images/79-2018#_02a6fff2-b518-4fdd-b05d-34b145f4b0b0337.jpg\n",
      "Error for image data/Want to find/Images/ArrestPerson_images/ArrestPerson_images/IMG-201805#_797f4c1c-64e0-4601-b350-a96b7e4b29b81263.jpg\n",
      "Error for image data/Want to find/Images/ArrestPerson_images/ArrestPerson_images/IMG-201806#_103c3015-a339-4952-939a-8de040f9aac71455.jpg\n",
      "Error for image data/Want to find/Images/ArrestPerson_images/ArrestPerson_images/KESHAV SAV#_137ecc8e-7b80-4c43-87ae-453eff9fe1651254.jpg\n",
      "Error for image data/Want to find/Images/ArrestPerson_images/ArrestPerson_images/119#_c2a6ac0a-0d1a-4829-8918-0c5b65f7016f1262.jpg\n"
     ]
    },
    {
     "name": "stderr",
     "output_type": "stream",
     "text": [
      "\r",
      "  8%|▊         | 221/2655 [01:17<17:49,  2.28it/s]"
     ]
    },
    {
     "name": "stdout",
     "output_type": "stream",
     "text": [
      "Error for image data/Want to find/Images/ArrestPerson_images/ArrestPerson_images/PSR#_61e4f63c-e3c1-4aa5-8909-1b0384311ab3296.jpg\n"
     ]
    },
    {
     "name": "stderr",
     "output_type": "stream",
     "text": [
      "\r",
      "  8%|▊         | 222/2655 [01:17<18:11,  2.23it/s]"
     ]
    },
    {
     "name": "stdout",
     "output_type": "stream",
     "text": [
      "Error for image data/Want to find/Images/ArrestPerson_images/ArrestPerson_images/PSR#_144eeb62-9afc-473c-9e8a-e3b012c73a24296.jpg\n"
     ]
    },
    {
     "name": "stderr",
     "output_type": "stream",
     "text": [
      "\r",
      "  8%|▊         | 223/2655 [01:17<18:48,  2.15it/s]"
     ]
    },
    {
     "name": "stdout",
     "output_type": "stream",
     "text": [
      "Error for image data/Want to find/Images/ArrestPerson_images/ArrestPerson_images/PSR#_058c4e53-f981-4607-8b56-288bac66b61e296.jpg\n"
     ]
    },
    {
     "name": "stderr",
     "output_type": "stream",
     "text": [
      "  8%|▊         | 225/2655 [01:18<12:46,  3.17it/s]"
     ]
    },
    {
     "name": "stdout",
     "output_type": "stream",
     "text": [
      "Error for image data/Want to find/Images/ArrestPerson_images/ArrestPerson_images/PHOTO - Co#_0a269326-ba12-40b9-8b1a-47dd7a6c8bdc1485.jpg\n",
      "Error for image data/Want to find/Images/ArrestPerson_images/ArrestPerson_images/IMG-201809#_ad2cee72-9c89-4ae5-8dc6-ed6b49c8ad931255.jpg\n"
     ]
    },
    {
     "name": "stderr",
     "output_type": "stream",
     "text": [
      "\r",
      "  9%|▊         | 229/2655 [01:18<09:32,  4.24it/s]"
     ]
    },
    {
     "name": "stdout",
     "output_type": "stream",
     "text": [
      "Error for image data/Want to find/Images/ArrestPerson_images/ArrestPerson_images/83#_7eda9337-5fc8-4cec-b595-2802e694407a1455.jpg\n",
      "Error for image data/Want to find/Images/ArrestPerson_images/ArrestPerson_images/146#_9b1f869b-f9f7-4ffa-b8b3-ccab3dcb045b1244.jpg\n",
      "Error for image data/Want to find/Images/ArrestPerson_images/ArrestPerson_images/2222222#_e78ab0c6-24c5-4e33-8d29-fc3c784f93c01436.jpg\n",
      "Error for image data/Want to find/Images/ArrestPerson_images/ArrestPerson_images/PHOTO - Co#_8492e5c1-ed6a-4bcf-b8ad-062805afabeb1485.jpg\n",
      "Error for image data/Want to find/Images/ArrestPerson_images/ArrestPerson_images/CRNO-102#_956bbaa1-d3ee-4fc8-9fc1-04af5cd5e50e1249.jpg\n"
     ]
    },
    {
     "name": "stderr",
     "output_type": "stream",
     "text": [
      "\r",
      "  9%|▊         | 231/2655 [01:18<08:00,  5.05it/s]"
     ]
    },
    {
     "name": "stdout",
     "output_type": "stream",
     "text": [
      "Error for image data/Want to find/Images/ArrestPerson_images/ArrestPerson_images/CR#_d5456342-483e-4b92-8f10-1018dc804af7344.jpg\n"
     ]
    },
    {
     "name": "stderr",
     "output_type": "stream",
     "text": [
      "\r",
      "  9%|▊         | 232/2655 [01:20<27:22,  1.48it/s]"
     ]
    },
    {
     "name": "stdout",
     "output_type": "stream",
     "text": [
      "Error for image data/Want to find/Images/ArrestPerson_images/ArrestPerson_images/23_06_2018#_0344fa26-5f9d-4001-9eca-d5d24388dc231509.jpg\n"
     ]
    },
    {
     "name": "stderr",
     "output_type": "stream",
     "text": [
      "  9%|▉         | 234/2655 [01:21<19:25,  2.08it/s]"
     ]
    },
    {
     "name": "stdout",
     "output_type": "stream",
     "text": [
      "Error for image data/Want to find/Images/ArrestPerson_images/ArrestPerson_images/cr36#_f39d584c-cf26-48f6-8dd0-9aa76ce59307355.jpg\n",
      "Error for image data/Want to find/Images/ArrestPerson_images/ArrestPerson_images/CR N0 122 #_74657514-0c2d-4781-a0a6-846719b9ca3b1253.jpg\n"
     ]
    },
    {
     "name": "stderr",
     "output_type": "stream",
     "text": [
      "\r",
      "  9%|▉         | 235/2655 [01:21<14:51,  2.72it/s]"
     ]
    },
    {
     "name": "stdout",
     "output_type": "stream",
     "text": [
      "Error for image data/Want to find/Images/ArrestPerson_images/ArrestPerson_images/A2 142-18 #_482d85c8-dfcb-40f0-8a17-7ce89d48d15e1507.jpg\n",
      "Error for image data/Want to find/Images/ArrestPerson_images/ArrestPerson_images/EXTRA#_f713f5a0-5c88-4905-b11a-a0729a25b3281464.jpg\n"
     ]
    },
    {
     "name": "stderr",
     "output_type": "stream",
     "text": [
      "  9%|▉         | 240/2655 [01:22<11:08,  3.61it/s]"
     ]
    },
    {
     "name": "stdout",
     "output_type": "stream",
     "text": [
      "Error for image data/Want to find/Images/ArrestPerson_images/ArrestPerson_images/000#_de6c9c2e-2797-4989-a6f8-052ca7cdc97e1263.jpg\n",
      "Error for image data/Want to find/Images/ArrestPerson_images/ArrestPerson_images/Blank Phot#_5482baec-ce76-4f0f-b3d8-a7aaa50aa4e0319.jpg\n",
      "Error for image data/Want to find/Images/ArrestPerson_images/ArrestPerson_images/173#_8891e296-75bb-4f4f-b870-f26943eb73941478.jpg\n",
      "Error for image data/Want to find/Images/ArrestPerson_images/ArrestPerson_images/SAMPAT#_d0e0e2c2-d7f9-4466-8a38-f5f85aa172d91255.jpg\n",
      "Error for image data/Want to find/Images/ArrestPerson_images/ArrestPerson_images/veejit 001#_a8750778-58f1-4fbc-b04a-f02a51c8bb14297.jpg\n",
      "Error for image data/Want to find/Images/ArrestPerson_images/ArrestPerson_images/Cr no#_6c13e3a3-3efc-47f5-b0b9-e8c9b286cb6e1256.jpg\n"
     ]
    },
    {
     "name": "stderr",
     "output_type": "stream",
     "text": [
      "\r",
      "  9%|▉         | 243/2655 [01:22<09:57,  4.04it/s]"
     ]
    },
    {
     "name": "stdout",
     "output_type": "stream",
     "text": [
      "Error for image data/Want to find/Images/ArrestPerson_images/ArrestPerson_images/PSR#_630baeb6-095c-4bfc-b08d-581038503dbb296.jpg\n"
     ]
    },
    {
     "name": "stderr",
     "output_type": "stream",
     "text": [
      "  9%|▉         | 245/2655 [01:23<10:45,  3.73it/s]"
     ]
    },
    {
     "name": "stdout",
     "output_type": "stream",
     "text": [
      "Error for image data/Want to find/Images/ArrestPerson_images/ArrestPerson_images/Yuvaraja-1#_f87608e0-120e-4562-92a3-c3b6725c0f2e1502.jpg\n",
      "Error for image data/Want to find/Images/ArrestPerson_images/ArrestPerson_images/IMG_201804#_943cad12-449d-4fe0-910f-7bc39858046b1239.jpg\n"
     ]
    },
    {
     "name": "stderr",
     "output_type": "stream",
     "text": [
      "\r",
      "  9%|▉         | 246/2655 [01:23<08:58,  4.47it/s]"
     ]
    },
    {
     "name": "stdout",
     "output_type": "stream",
     "text": [
      "Error for image data/Want to find/Images/ArrestPerson_images/ArrestPerson_images/IMG-201806#_74616c93-902a-4700-8713-75424bde18871245.jpg\n"
     ]
    },
    {
     "name": "stderr",
     "output_type": "stream",
     "text": [
      "  9%|▉         | 249/2655 [01:24<09:16,  4.33it/s]"
     ]
    },
    {
     "name": "stdout",
     "output_type": "stream",
     "text": [
      "Error for image data/Want to find/Images/ArrestPerson_images/ArrestPerson_images/20180624_2#_85aa8e97-743b-47fd-b75b-b3047e71b2511507.jpg\n",
      "Error for image data/Want to find/Images/ArrestPerson_images/ArrestPerson_images/scan0024#_02d008a2-8e45-4812-8a4a-62a093165bc7311.jpg\n",
      "Error for image data/Want to find/Images/ArrestPerson_images/ArrestPerson_images/A2-Shamid #_5b7ca5a7-3137-4547-97a0-3d351766a86d356.jpg\n",
      "Error for image data/Want to find/Images/ArrestPerson_images/ArrestPerson_images/Blank Phot#_80c82031-54fd-41d9-82a0-a8e3030184ce319.jpg\n"
     ]
    },
    {
     "name": "stderr",
     "output_type": "stream",
     "text": [
      "\r",
      "  9%|▉         | 251/2655 [01:24<07:07,  5.62it/s]"
     ]
    },
    {
     "name": "stdout",
     "output_type": "stream",
     "text": [
      "Error for image data/Want to find/Images/ArrestPerson_images/ArrestPerson_images/IMG2018062#_0ffc3d64-bcf2-437a-93af-2c0b9e0d98eb1245.jpg\n",
      "Error for image data/Want to find/Images/ArrestPerson_images/ArrestPerson_images/IMG-201806#_42e30015-855f-4673-bb9e-9c7a2b0a8f9c1455.jpg\n"
     ]
    },
    {
     "name": "stderr",
     "output_type": "stream",
     "text": [
      " 10%|▉         | 254/2655 [01:25<10:48,  3.70it/s]"
     ]
    },
    {
     "name": "stdout",
     "output_type": "stream",
     "text": [
      "Error for image data/Want to find/Images/ArrestPerson_images/ArrestPerson_images/PHOTO#_9e92082c-0778-435e-a9d3-ab5958b9be93323.jpg\n",
      "Error for image data/Want to find/Images/ArrestPerson_images/ArrestPerson_images/000#_ff7080e4-fae6-4e2c-8556-2660314ed0771263.jpg\n"
     ]
    },
    {
     "name": "stderr",
     "output_type": "stream",
     "text": [
      " 10%|▉         | 257/2655 [01:26<07:01,  5.69it/s]"
     ]
    },
    {
     "name": "stdout",
     "output_type": "stream",
     "text": [
      "Error for image data/Want to find/Images/ArrestPerson_images/ArrestPerson_images/CRNO-116-2#_9344f552-93fb-40f6-a49f-7206ebd217de1461.jpg\n",
      "Error for image data/Want to find/Images/ArrestPerson_images/ArrestPerson_images/145-4 001#_8313e883-7fb8-49c4-98ce-375438644dad1507.jpg\n",
      "Error for image data/Want to find/Images/ArrestPerson_images/ArrestPerson_images/8#_e375ae38-c283-4381-b092-51377cab5c981241.jpg\n",
      "Error for image data/Want to find/Images/ArrestPerson_images/ArrestPerson_images/15#_c497f532-16d6-4412-ae74-e63331aec60b1478.jpg\n"
     ]
    },
    {
     "name": "stderr",
     "output_type": "stream",
     "text": [
      "\r",
      " 10%|▉         | 259/2655 [01:26<05:51,  6.82it/s]"
     ]
    },
    {
     "name": "stdout",
     "output_type": "stream",
     "text": [
      "Error for image data/Want to find/Images/ArrestPerson_images/ArrestPerson_images/IMG-201810#_ac7ce4f2-eb24-4114-bbd6-b1194319cd741257.jpg\n",
      "Error for image data/Want to find/Images/ArrestPerson_images/ArrestPerson_images/IMG_201812#_b216796f-8aea-464b-a036-7a19f9e2a0c71238.jpg\n"
     ]
    },
    {
     "name": "stderr",
     "output_type": "stream",
     "text": [
      "\r",
      " 10%|▉         | 261/2655 [01:26<07:53,  5.05it/s]"
     ]
    },
    {
     "name": "stdout",
     "output_type": "stream",
     "text": [
      "Error for image data/Want to find/Images/ArrestPerson_images/ArrestPerson_images/IMAGE 001#_205abe5e-a97e-4459-bb77-65e9ffc2352b1486.jpg\n"
     ]
    },
    {
     "name": "stderr",
     "output_type": "stream",
     "text": [
      " 10%|▉         | 263/2655 [01:27<09:35,  4.15it/s]"
     ]
    },
    {
     "name": "stdout",
     "output_type": "stream",
     "text": [
      "Error for image data/Want to find/Images/ArrestPerson_images/ArrestPerson_images/IMAGE 001#_265ab7c3-cf5d-4250-9d75-b6f966d2c3421486.jpg\n",
      "Error for image data/Want to find/Images/ArrestPerson_images/ArrestPerson_images/PHOTO - Co#_d67527b5-1eeb-44a1-8301-778cc3b1927a1485.jpg\n",
      "Error for image data/Want to find/Images/ArrestPerson_images/ArrestPerson_images/EXTRA#_ce7cc72f-8a52-4d8b-9ff7-b5cef1c68ed81464.jpg\n"
     ]
    },
    {
     "name": "stderr",
     "output_type": "stream",
     "text": [
      " 10%|█         | 266/2655 [01:28<12:26,  3.20it/s]"
     ]
    },
    {
     "name": "stdout",
     "output_type": "stream",
     "text": [
      "Error for image data/Want to find/Images/ArrestPerson_images/ArrestPerson_images/PHOTO#_dbe967e3-a7a0-412b-bb3f-6e9df93fe549323.jpg\n",
      "Error for image data/Want to find/Images/ArrestPerson_images/ArrestPerson_images/SANTOSH BA#_b287e6b1-74eb-486c-924c-a1c61926ed6c1262.jpg\n"
     ]
    },
    {
     "name": "stderr",
     "output_type": "stream",
     "text": [
      "\r",
      " 10%|█         | 267/2655 [01:29<10:21,  3.84it/s]"
     ]
    },
    {
     "name": "stdout",
     "output_type": "stream",
     "text": [
      "Error for image data/Want to find/Images/ArrestPerson_images/ArrestPerson_images/CR NO 122 #_3167058b-f9c2-45ab-9420-096c00af09851253.jpg\n",
      "Error for image data/Want to find/Images/ArrestPerson_images/ArrestPerson_images/Photo#_4c851084-940e-49d2-8bb5-889f0e20b291364.jpg\n"
     ]
    },
    {
     "name": "stderr",
     "output_type": "stream",
     "text": [
      "\r",
      " 10%|█         | 269/2655 [01:29<08:52,  4.48it/s]"
     ]
    },
    {
     "name": "stdout",
     "output_type": "stream",
     "text": [
      "Error for image data/Want to find/Images/ArrestPerson_images/ArrestPerson_images/cr no 135-#_722211a0-6121-4efe-a603-235848f4ec5a1507.jpg\n",
      "Error for image data/Want to find/Images/ArrestPerson_images/ArrestPerson_images/Nagaraja#_8fdf2614-aee3-4a47-bfa2-3df081e5e001362.jpg\n"
     ]
    },
    {
     "name": "stderr",
     "output_type": "stream",
     "text": [
      " 10%|█         | 273/2655 [01:29<06:29,  6.12it/s]"
     ]
    },
    {
     "name": "stdout",
     "output_type": "stream",
     "text": [
      "Error for image data/Want to find/Images/ArrestPerson_images/ArrestPerson_images/ACCUED NOT#_19284549-f970-4dec-8c25-0e4aa1b8b7dc303.jpg\n",
      "Error for image data/Want to find/Images/ArrestPerson_images/ArrestPerson_images/02#_ff1e780e-83ff-4c14-9a86-3aa5ac19b649311.jpg\n",
      "Error for image data/Want to find/Images/ArrestPerson_images/ArrestPerson_images/IMG-201806#_8559d9d5-336e-410a-8394-2b5f5bac5db21245.jpg\n",
      "Error for image data/Want to find/Images/ArrestPerson_images/ArrestPerson_images/PHOTO#_5bb31632-2a3d-44f0-9a2c-cf4db25ab72d2126.jpg\n"
     ]
    },
    {
     "name": "stderr",
     "output_type": "stream",
     "text": [
      " 10%|█         | 276/2655 [01:30<06:49,  5.81it/s]"
     ]
    },
    {
     "name": "stdout",
     "output_type": "stream",
     "text": [
      "Error for image data/Want to find/Images/ArrestPerson_images/ArrestPerson_images/GNPS- Crim#_52ed66ce-3d35-43ad-b7a7-ad8ed91497a0335.jpg\n",
      "Error for image data/Want to find/Images/ArrestPerson_images/ArrestPerson_images/IMG_201906#_5361ac2d-9032-447e-a574-8408ffc83b751238.jpg\n"
     ]
    },
    {
     "name": "stderr",
     "output_type": "stream",
     "text": [
      "\r",
      " 10%|█         | 277/2655 [01:31<16:45,  2.37it/s]"
     ]
    },
    {
     "name": "stdout",
     "output_type": "stream",
     "text": [
      "Error for image data/Want to find/Images/ArrestPerson_images/ArrestPerson_images/20180624_2#_c8a1de29-e48c-48db-bccd-984db23ab9441507.jpg\n"
     ]
    },
    {
     "name": "stderr",
     "output_type": "stream",
     "text": [
      "\r",
      " 10%|█         | 278/2655 [01:32<25:41,  1.54it/s]"
     ]
    },
    {
     "name": "stdout",
     "output_type": "stream",
     "text": [
      "Error for image data/Want to find/Images/ArrestPerson_images/ArrestPerson_images/CR 76#_33e7f3f4-846d-4546-ac74-50977ed68dce1508.jpg\n"
     ]
    },
    {
     "name": "stderr",
     "output_type": "stream",
     "text": [
      " 11%|█         | 282/2655 [01:33<21:58,  1.80it/s]"
     ]
    },
    {
     "name": "stdout",
     "output_type": "stream",
     "text": [
      "Error for image data/Want to find/Images/ArrestPerson_images/ArrestPerson_images/PHOTO#_d918a63b-26ab-4e78-92ca-dfe615f2522f297.jpg\n",
      "Error for image data/Want to find/Images/ArrestPerson_images/ArrestPerson_images/akshay#_8d98d71f-3d04-492f-bc18-67c87e348fcb297.jpg\n",
      "Error for image data/Want to find/Images/ArrestPerson_images/ArrestPerson_images/93-2018#_3811b698-4688-40f4-aaa7-2c2285394d24337.jpg\n",
      "Error for image data/Want to find/Images/ArrestPerson_images/ArrestPerson_images/Nagappa#_cfe88b74-1801-433b-b8d6-eb10019fb1d31255.jpg\n"
     ]
    },
    {
     "name": "stderr",
     "output_type": "stream",
     "text": [
      " 11%|█         | 285/2655 [01:34<12:48,  3.08it/s]"
     ]
    },
    {
     "name": "stdout",
     "output_type": "stream",
     "text": [
      "Error for image data/Want to find/Images/ArrestPerson_images/ArrestPerson_images/108-1#_5d96f8c0-c03e-4bae-ab69-bee9b967f9fe1249.jpg\n",
      "Error for image data/Want to find/Images/ArrestPerson_images/ArrestPerson_images/111-18 002#_e7241767-0fc3-4b1a-974f-8c021a1f47cb1503.jpg\n",
      "Error for image data/Want to find/Images/ArrestPerson_images/ArrestPerson_images/175-2#_d5a2a41e-53f6-454a-a332-98cf0ea013c21263.jpg\n",
      "Error for image data/Want to find/Images/ArrestPerson_images/ArrestPerson_images/Cr No 97-2#_f370e06f-319e-47a3-a4e1-a8f064b850b31503.jpg\n",
      "Error for image data/Want to find/Images/ArrestPerson_images/ArrestPerson_images/114-18 001#_867467e5-20fe-45b3-b13c-2ddd1dfd5d9b1503.jpg\n"
     ]
    },
    {
     "name": "stderr",
     "output_type": "stream",
     "text": [
      "\r",
      " 11%|█         | 288/2655 [01:34<09:53,  3.99it/s]"
     ]
    },
    {
     "name": "stdout",
     "output_type": "stream",
     "text": [
      "Error for image data/Want to find/Images/ArrestPerson_images/ArrestPerson_images/20181219_1#_ee6120cc-3dd8-40d2-b223-017d1ce1134b1238.jpg\n",
      "Error for image data/Want to find/Images/ArrestPerson_images/ArrestPerson_images/cr no135-1#_761750be-10d2-45bb-929d-a399ca21d9f01507.jpg\n"
     ]
    },
    {
     "name": "stderr",
     "output_type": "stream",
     "text": [
      "\r",
      " 11%|█         | 290/2655 [01:34<08:40,  4.55it/s]"
     ]
    },
    {
     "name": "stdout",
     "output_type": "stream",
     "text": [
      "Error for image data/Want to find/Images/ArrestPerson_images/ArrestPerson_images/20180724_1#_08e16a3b-96a0-455d-b551-b1b5a9496401362.jpg\n",
      "Error for image data/Want to find/Images/ArrestPerson_images/ArrestPerson_images/IMG-201805#_a4584806-81d2-461a-88c1-74ebcb00dc461263.jpg\n"
     ]
    },
    {
     "name": "stderr",
     "output_type": "stream",
     "text": [
      " 11%|█         | 294/2655 [01:35<07:14,  5.43it/s]"
     ]
    },
    {
     "name": "stdout",
     "output_type": "stream",
     "text": [
      "Error for image data/Want to find/Images/ArrestPerson_images/ArrestPerson_images/IMAGE 001#_ed44250a-51d5-4383-bd9e-802a02f0d5551486.jpg\n",
      "Error for image data/Want to find/Images/ArrestPerson_images/ArrestPerson_images/A4-Maliyap#_20a88eeb-e355-42cd-8cdb-f312b3f65fa7356.jpg\n",
      "Error for image data/Want to find/Images/ArrestPerson_images/ArrestPerson_images/117#_7b12b302-fd87-42c4-b90c-6935c0a11646359.jpg\n",
      "Error for image data/Want to find/Images/ArrestPerson_images/ArrestPerson_images/117-18 002#_63db2418-e868-4268-880e-7f3748f2c1941503.jpg\n",
      "Error for image data/Want to find/Images/ArrestPerson_images/ArrestPerson_images/76#_bd275ab2-97bc-429b-a648-8c9763834c0f360.jpg\n"
     ]
    },
    {
     "name": "stderr",
     "output_type": "stream",
     "text": [
      "\r",
      " 11%|█         | 297/2655 [01:35<07:02,  5.59it/s]"
     ]
    },
    {
     "name": "stdout",
     "output_type": "stream",
     "text": [
      "Error for image data/Want to find/Images/ArrestPerson_images/ArrestPerson_images/157-158#_9f708611-f538-4143-9567-2280f9ac2a701247.jpg\n"
     ]
    },
    {
     "name": "stderr",
     "output_type": "stream",
     "text": [
      "\r",
      " 11%|█         | 298/2655 [01:36<13:57,  2.82it/s]"
     ]
    },
    {
     "name": "stdout",
     "output_type": "stream",
     "text": [
      "Error for image data/Want to find/Images/ArrestPerson_images/ArrestPerson_images/14_08_2018#_b1a1b98e-1bcb-41f5-a55e-2a42825941b21509.jpg\n"
     ]
    },
    {
     "name": "stderr",
     "output_type": "stream",
     "text": [
      " 11%|█▏        | 300/2655 [01:41<51:01,  1.30s/it]  "
     ]
    },
    {
     "name": "stdout",
     "output_type": "stream",
     "text": [
      "Error for image data/Want to find/Images/ArrestPerson_images/ArrestPerson_images/IMG_0014#_e40753ef-e347-49d3-bea0-1c943a300d76298.jpg\n",
      "Error for image data/Want to find/Images/ArrestPerson_images/ArrestPerson_images/ppppppp_00#_00794434-9c42-459e-9458-b5ad9ddfdfd51460.jpg\n"
     ]
    },
    {
     "name": "stderr",
     "output_type": "stream",
     "text": [
      " 11%|█▏        | 302/2655 [01:42<32:24,  1.21it/s]"
     ]
    },
    {
     "name": "stdout",
     "output_type": "stream",
     "text": [
      "Error for image data/Want to find/Images/ArrestPerson_images/ArrestPerson_images/IMAGE 001#_2673ed67-eb96-46bb-954e-bf73095aa0871486.jpg\n",
      "Error for image data/Want to find/Images/ArrestPerson_images/ArrestPerson_images/03-18#_8d25ca4e-ac47-4fb1-b804-77a69ae919c6348.jpg\n"
     ]
    },
    {
     "name": "stderr",
     "output_type": "stream",
     "text": [
      " 12%|█▏        | 306/2655 [01:44<26:24,  1.48it/s]"
     ]
    },
    {
     "name": "stdout",
     "output_type": "stream",
     "text": [
      "Error for image data/Want to find/Images/ArrestPerson_images/ArrestPerson_images/01 001#_41168d95-3899-4061-92a8-e42a8a5536fb1473.jpg\n",
      "Error for image data/Want to find/Images/ArrestPerson_images/ArrestPerson_images/Cr no#_2207f376-5cbf-4f2a-a314-2520e5459ce11256.jpg\n",
      "Error for image data/Want to find/Images/ArrestPerson_images/ArrestPerson_images/PHOTO#_9472fad8-6bf1-421d-ad5d-7ef75a65abaa2126.jpg\n",
      "Error for image data/Want to find/Images/ArrestPerson_images/ArrestPerson_images/160#_14e9e068-87dd-452f-a488-0fff00253e2d1248.jpg\n",
      "Error for image data/Want to find/Images/ArrestPerson_images/ArrestPerson_images/26_07_2018#_951ce709-65e5-414b-84a0-5a000a6f4cb81509.jpg\n"
     ]
    },
    {
     "name": "stderr",
     "output_type": "stream",
     "text": [
      " 12%|█▏        | 311/2655 [01:47<26:46,  1.46it/s]"
     ]
    },
    {
     "name": "stdout",
     "output_type": "stream",
     "text": [
      "Error for image data/Want to find/Images/ArrestPerson_images/ArrestPerson_images/01 001#_ec2aabc6-5475-4f94-b490-8a77f68ad02d1473.jpg\n",
      "Error for image data/Want to find/Images/ArrestPerson_images/ArrestPerson_images/scan0024#_0b4aa0cb-2653-4847-a777-69d3e705851a311.jpg\n",
      "Error for image data/Want to find/Images/ArrestPerson_images/ArrestPerson_images/EXTRA#_0316cc8e-02cf-41b9-9472-b61d2d15f4021464.jpg\n",
      "Error for image data/Want to find/Images/ArrestPerson_images/ArrestPerson_images/143-2 001#_ec30ece6-f593-4ea0-a152-c36fcad795981507.jpg\n"
     ]
    },
    {
     "name": "stderr",
     "output_type": "stream",
     "text": [
      " 12%|█▏        | 314/2655 [01:48<18:10,  2.15it/s]"
     ]
    },
    {
     "name": "stdout",
     "output_type": "stream",
     "text": [
      "Error for image data/Want to find/Images/ArrestPerson_images/ArrestPerson_images/23_06_2018#_cac040b9-5926-4b62-8db3-35bc15f51c0d1509.jpg\n",
      "Error for image data/Want to find/Images/ArrestPerson_images/ArrestPerson_images/Hanamant#_76d30d06-e0c0-4dfe-88f8-d7b91687e27e1255.jpg\n",
      "Error for image data/Want to find/Images/ArrestPerson_images/ArrestPerson_images/IMG-201805#_81a9e0d5-8cee-4fcb-9e88-c972454a118e1263.jpg\n",
      "Error for image data/Want to find/Images/ArrestPerson_images/ArrestPerson_images/EXTRA#_45d94448-4dd6-4b9c-8e74-3c72a38029531464.jpg\n",
      "Error for image data/Want to find/Images/ArrestPerson_images/ArrestPerson_images/164#_c1e22090-8989-4a2f-b759-9627695f8b341247.jpg\n",
      "Error for image data/Want to find/Images/ArrestPerson_images/ArrestPerson_images/20#_778c4a12-71bd-49b2-a61a-5bfa7bf9afd4311.jpg\n"
     ]
    },
    {
     "name": "stderr",
     "output_type": "stream",
     "text": [
      " 12%|█▏        | 321/2655 [01:49<10:40,  3.64it/s]"
     ]
    },
    {
     "name": "stdout",
     "output_type": "stream",
     "text": [
      "Error for image data/Want to find/Images/ArrestPerson_images/ArrestPerson_images/cr35acq#_299281fa-dc6e-4bc7-a618-b77a8575e7fc355.jpg\n",
      "Error for image data/Want to find/Images/ArrestPerson_images/ArrestPerson_images/12#_4c5cdc25-0a04-431f-bc3e-8b221c5fdddc1478.jpg\n",
      "Error for image data/Want to find/Images/ArrestPerson_images/ArrestPerson_images/CR NO 122 #_25f687be-f531-49ec-95f0-24a5175ba2041253.jpg\n",
      "Error for image data/Want to find/Images/ArrestPerson_images/ArrestPerson_images/Manju#_1fc2f021-6fdb-44ed-8bc5-c0bec378c40a1255.jpg\n"
     ]
    },
    {
     "name": "stderr",
     "output_type": "stream",
     "text": [
      "\r",
      " 12%|█▏        | 323/2655 [01:49<09:12,  4.22it/s]"
     ]
    },
    {
     "name": "stdout",
     "output_type": "stream",
     "text": [
      "Error for image data/Want to find/Images/ArrestPerson_images/ArrestPerson_images/A-2 SHRIDE#_3876626b-7d7c-4750-ba89-247c198107c81442.jpg\n",
      "Error for image data/Want to find/Images/ArrestPerson_images/ArrestPerson_images/Blank Phot#_5f9500b0-d1a2-4e31-be88-d0225b5662cf319.jpg\n"
     ]
    },
    {
     "name": "stderr",
     "output_type": "stream",
     "text": [
      "\r",
      " 12%|█▏        | 325/2655 [01:50<10:56,  3.55it/s]"
     ]
    },
    {
     "name": "stdout",
     "output_type": "stream",
     "text": [
      "Error for image data/Want to find/Images/ArrestPerson_images/ArrestPerson_images/160-4#_9f5f2d97-629d-4552-afa8-7178d705a17a1247.jpg\n",
      "Error for image data/Want to find/Images/ArrestPerson_images/ArrestPerson_images/100 001#_d25f26ab-c19e-45e1-b944-01cb46fae14f2011.jpg\n"
     ]
    },
    {
     "name": "stderr",
     "output_type": "stream",
     "text": [
      " 12%|█▏        | 328/2655 [01:50<08:28,  4.57it/s]"
     ]
    },
    {
     "name": "stdout",
     "output_type": "stream",
     "text": [
      "Error for image data/Want to find/Images/ArrestPerson_images/ArrestPerson_images/14_08_2018#_99821e9b-ef33-4946-b6a3-64c7cd92877d1509.jpg\n",
      "Error for image data/Want to find/Images/ArrestPerson_images/ArrestPerson_images/89-18#_44a298ce-f4e9-48e9-bd3e-e1c3293275fb337.jpg\n"
     ]
    },
    {
     "name": "stderr",
     "output_type": "stream",
     "text": [
      "\r",
      " 12%|█▏        | 329/2655 [01:51<12:20,  3.14it/s]"
     ]
    },
    {
     "name": "stdout",
     "output_type": "stream",
     "text": [
      "Error for image data/Want to find/Images/ArrestPerson_images/ArrestPerson_images/HAT PS CR#_f4fdbffc-40a1-42aa-83de-f4ae2fd84dbb340.jpg\n"
     ]
    },
    {
     "name": "stderr",
     "output_type": "stream",
     "text": [
      "\r",
      " 12%|█▏        | 330/2655 [01:52<22:09,  1.75it/s]"
     ]
    },
    {
     "name": "stdout",
     "output_type": "stream",
     "text": [
      "Error for image data/Want to find/Images/ArrestPerson_images/ArrestPerson_images/Srinivasa#_f7995090-cc94-4800-a30c-c5630ac18563351.jpg\n"
     ]
    },
    {
     "name": "stderr",
     "output_type": "stream",
     "text": [
      "\r",
      " 12%|█▏        | 331/2655 [01:53<22:43,  1.70it/s]"
     ]
    },
    {
     "name": "stdout",
     "output_type": "stream",
     "text": [
      "Error for image data/Want to find/Images/ArrestPerson_images/ArrestPerson_images/151-4,5#_b972d0b4-dbf2-4df7-8543-30ac5826a3a81247.jpg\n"
     ]
    },
    {
     "name": "stderr",
     "output_type": "stream",
     "text": [
      " 13%|█▎        | 334/2655 [01:54<29:20,  1.32it/s]"
     ]
    },
    {
     "name": "stdout",
     "output_type": "stream",
     "text": [
      "Error for image data/Want to find/Images/ArrestPerson_images/ArrestPerson_images/Cr No 97-2#_b7cf6f1a-0b21-4370-a191-1d8956990a201503.jpg\n"
     ]
    },
    {
     "name": "stderr",
     "output_type": "stream",
     "text": [
      " 13%|█▎        | 340/2655 [01:58<22:01,  1.75it/s]"
     ]
    },
    {
     "name": "stdout",
     "output_type": "stream",
     "text": [
      "Error for image data/Want to find/Images/ArrestPerson_images/ArrestPerson_images/DEMO COPY#_a95c9c46-b3b5-4acd-8442-d9236b62443a1461.jpg\n"
     ]
    },
    {
     "name": "stderr",
     "output_type": "stream",
     "text": [
      " 13%|█▎        | 345/2655 [02:00<16:29,  2.33it/s]"
     ]
    },
    {
     "name": "stdout",
     "output_type": "stream",
     "text": [
      "Error for image data/Want to find/Images/ArrestPerson_images/ArrestPerson_images/IMG_201804#_631fee4c-1056-4968-ae47-51ed78c4a1fc1238.jpg\n"
     ]
    },
    {
     "name": "stderr",
     "output_type": "stream",
     "text": [
      " 13%|█▎        | 348/2655 [02:01<12:46,  3.01it/s]"
     ]
    },
    {
     "name": "stdout",
     "output_type": "stream",
     "text": [
      "Error for image data/Want to find/Images/ArrestPerson_images/ArrestPerson_images/PSR#_35909379-2008-4f2e-b2ea-14c20bd10d56296.jpg\n"
     ]
    },
    {
     "name": "stderr",
     "output_type": "stream",
     "text": [
      "\r",
      " 13%|█▎        | 350/2655 [02:01<09:42,  3.96it/s]"
     ]
    },
    {
     "name": "stdout",
     "output_type": "stream",
     "text": [
      "Error for image data/Want to find/Images/ArrestPerson_images/ArrestPerson_images/scan0024#_38c43f56-a2b2-4416-addf-64da42cc8290311.jpg\n",
      "Error for image data/Want to find/Images/ArrestPerson_images/ArrestPerson_images/Photo#_53d75b83-a896-4d38-ab3d-cfb6e19bc6c1364.jpg\n"
     ]
    },
    {
     "name": "stderr",
     "output_type": "stream",
     "text": [
      " 13%|█▎        | 354/2655 [02:03<14:46,  2.59it/s]"
     ]
    },
    {
     "name": "stdout",
     "output_type": "stream",
     "text": [
      "Error for image data/Want to find/Images/ArrestPerson_images/ArrestPerson_images/122#_083d7d63-29c0-4851-87e5-71bd7aa68a861461.jpg\n"
     ]
    },
    {
     "name": "stderr",
     "output_type": "stream",
     "text": [
      " 14%|█▎        | 359/2655 [02:04<11:23,  3.36it/s]"
     ]
    },
    {
     "name": "stdout",
     "output_type": "stream",
     "text": [
      "Error for image data/Want to find/Images/ArrestPerson_images/ArrestPerson_images/EXTRA#_8ba14d2f-f897-4121-8e03-153d4fc1a6251464.jpg\n"
     ]
    },
    {
     "name": "stderr",
     "output_type": "stream",
     "text": [
      " 14%|█▎        | 362/2655 [02:05<08:06,  4.72it/s]"
     ]
    },
    {
     "name": "stdout",
     "output_type": "stream",
     "text": [
      "Error for image data/Want to find/Images/ArrestPerson_images/ArrestPerson_images/CR 211-201#_79932a1f-0e15-492e-a924-f5a9fcb5cc501255.jpg\n"
     ]
    },
    {
     "name": "stderr",
     "output_type": "stream",
     "text": [
      " 14%|█▎        | 365/2655 [02:05<08:12,  4.65it/s]"
     ]
    },
    {
     "name": "stdout",
     "output_type": "stream",
     "text": [
      "Error for image data/Want to find/Images/ArrestPerson_images/ArrestPerson_images/PSR#_dfff5f5f-5c80-4781-b2fd-bcae8eabf4ce296.jpg\n"
     ]
    },
    {
     "name": "stderr",
     "output_type": "stream",
     "text": [
      " 14%|█▍        | 369/2655 [02:08<21:03,  1.81it/s]"
     ]
    },
    {
     "name": "stdout",
     "output_type": "stream",
     "text": [
      "Error for image data/Want to find/Images/ArrestPerson_images/ArrestPerson_images/scan0024#_ca228a7f-80d5-4e45-a66e-86539d24b464311.jpg\n"
     ]
    },
    {
     "name": "stderr",
     "output_type": "stream",
     "text": [
      " 14%|█▍        | 373/2655 [02:08<08:10,  4.65it/s]"
     ]
    },
    {
     "name": "stdout",
     "output_type": "stream",
     "text": [
      "Error for image data/Want to find/Images/ArrestPerson_images/ArrestPerson_images/223#_6e7d01c5-cff1-4148-a3a4-7b11cebe452d347.jpg\n"
     ]
    },
    {
     "name": "stderr",
     "output_type": "stream",
     "text": [
      " 14%|█▍        | 375/2655 [02:09<10:24,  3.65it/s]"
     ]
    },
    {
     "name": "stdout",
     "output_type": "stream",
     "text": [
      "Error for image data/Want to find/Images/ArrestPerson_images/ArrestPerson_images/PSR#_fb78d4b1-391e-411c-a6e6-34eb5f8ef244296.jpg\n",
      "Error for image data/Want to find/Images/ArrestPerson_images/ArrestPerson_images/Blank Phot#_0ff88295-57a9-472b-bafe-cf14d7c13863319.jpg\n"
     ]
    },
    {
     "name": "stderr",
     "output_type": "stream",
     "text": [
      " 14%|█▍        | 379/2655 [02:11<16:50,  2.25it/s]"
     ]
    },
    {
     "name": "stdout",
     "output_type": "stream",
     "text": [
      "Error for image data/Want to find/Images/ArrestPerson_images/ArrestPerson_images/000#_46282ea5-3721-4f0b-a0a1-fdd06f3bf2cd1263.jpg\n",
      "Error for image data/Want to find/Images/ArrestPerson_images/ArrestPerson_images/Blank Phot#_ed143993-70fd-42e3-9113-ad6005ee2fd4319.jpg\n"
     ]
    },
    {
     "name": "stderr",
     "output_type": "stream",
     "text": [
      "\r",
      " 14%|█▍        | 382/2655 [02:11<12:33,  3.01it/s]"
     ]
    },
    {
     "name": "stdout",
     "output_type": "stream",
     "text": [
      "Error for image data/Want to find/Images/ArrestPerson_images/ArrestPerson_images/PHOTO#_d88d1913-cd39-411e-9f9b-87e10152970c2126.jpg\n"
     ]
    },
    {
     "name": "stderr",
     "output_type": "stream",
     "text": [
      " 15%|█▍        | 385/2655 [02:12<09:45,  3.88it/s]"
     ]
    },
    {
     "name": "stdout",
     "output_type": "stream",
     "text": [
      "Error for image data/Want to find/Images/ArrestPerson_images/ArrestPerson_images/IMAGE 001#_81ab939d-cf8f-4434-8c38-d282fe729f8e1486.jpg\n"
     ]
    },
    {
     "name": "stderr",
     "output_type": "stream",
     "text": [
      "\r",
      " 15%|█▍        | 386/2655 [02:12<08:33,  4.42it/s]"
     ]
    },
    {
     "name": "stdout",
     "output_type": "stream",
     "text": [
      "Error for image data/Want to find/Images/ArrestPerson_images/ArrestPerson_images/IMG-201805#_31e05158-a131-4b83-b73a-2cbec0e64edd1263.jpg\n"
     ]
    },
    {
     "name": "stderr",
     "output_type": "stream",
     "text": [
      " 15%|█▍        | 389/2655 [02:12<06:42,  5.62it/s]"
     ]
    },
    {
     "name": "stdout",
     "output_type": "stream",
     "text": [
      "Error for image data/Want to find/Images/ArrestPerson_images/ArrestPerson_images/ACCUED NOT#_3ea1429f-f259-4cdc-b0d5-fbedf301a4c5303.jpg\n"
     ]
    },
    {
     "name": "stderr",
     "output_type": "stream",
     "text": [
      " 15%|█▍        | 393/2655 [02:13<07:20,  5.13it/s]"
     ]
    },
    {
     "name": "stdout",
     "output_type": "stream",
     "text": [
      "Error for image data/Want to find/Images/ArrestPerson_images/ArrestPerson_images/scan0001#_858aa7bc-a092-4071-84e4-836710ee44331240.jpg\n"
     ]
    },
    {
     "name": "stderr",
     "output_type": "stream",
     "text": [
      " 15%|█▍        | 395/2655 [02:13<05:59,  6.29it/s]"
     ]
    },
    {
     "name": "stdout",
     "output_type": "stream",
     "text": [
      "Error for image data/Want to find/Images/ArrestPerson_images/ArrestPerson_images/ShriShail#_995c2c48-9db0-4d33-ae11-ded1ad7bb62e1257.jpg\n"
     ]
    },
    {
     "name": "stderr",
     "output_type": "stream",
     "text": [
      " 15%|█▍        | 397/2655 [02:14<08:09,  4.62it/s]"
     ]
    },
    {
     "name": "stdout",
     "output_type": "stream",
     "text": [
      "Error for image data/Want to find/Images/ArrestPerson_images/ArrestPerson_images/IMAGE 001#_92e8252c-ef28-483d-bc51-85891617cc621486.jpg\n",
      "Error for image data/Want to find/Images/ArrestPerson_images/ArrestPerson_images/PSR-2018#_c36866a4-fb5e-474e-93cc-dea2efb9e2b11505.jpg\n"
     ]
    },
    {
     "name": "stderr",
     "output_type": "stream",
     "text": [
      " 15%|█▌        | 400/2655 [02:14<06:17,  5.97it/s]"
     ]
    },
    {
     "name": "stdout",
     "output_type": "stream",
     "text": [
      "Error for image data/Want to find/Images/ArrestPerson_images/ArrestPerson_images/IMG_201804#_2e526373-dff4-4a4b-bc03-5be29ac6969f1239.jpg\n"
     ]
    },
    {
     "name": "stderr",
     "output_type": "stream",
     "text": [
      " 15%|█▌        | 405/2655 [02:19<52:05,  1.39s/it]"
     ]
    },
    {
     "name": "stdout",
     "output_type": "stream",
     "text": [
      "Error for image data/Want to find/Images/ArrestPerson_images/ArrestPerson_images/IMG_0001#_cefe5dc6-b04c-47e1-b3b8-cfd5a1f4afdd290.jpg\n"
     ]
    },
    {
     "name": "stderr",
     "output_type": "stream",
     "text": [
      " 15%|█▌        | 408/2655 [02:23<43:46,  1.17s/it]"
     ]
    },
    {
     "name": "stdout",
     "output_type": "stream",
     "text": [
      "Error for image data/Want to find/Images/ArrestPerson_images/ArrestPerson_images/IMG_0001#_f28aae78-9029-4b7a-9b23-e0b6b8a92bbf298.jpg\n"
     ]
    },
    {
     "name": "stderr",
     "output_type": "stream",
     "text": [
      " 15%|█▌        | 410/2655 [02:25<34:59,  1.07it/s]"
     ]
    },
    {
     "name": "stdout",
     "output_type": "stream",
     "text": [
      "Error for image data/Want to find/Images/ArrestPerson_images/ArrestPerson_images/C#_b8bd3a9c-ace1-44c7-9779-b34c7e1e7d341502.jpg\n"
     ]
    },
    {
     "name": "stderr",
     "output_type": "stream",
     "text": [
      " 16%|█▌        | 414/2655 [02:28<23:55,  1.56it/s]"
     ]
    },
    {
     "name": "stdout",
     "output_type": "stream",
     "text": [
      "Error for image data/Want to find/Images/ArrestPerson_images/ArrestPerson_images/IMAGE 001#_33b13591-3add-4d4d-9fa2-7e64a162c9f41486.jpg\n"
     ]
    },
    {
     "name": "stderr",
     "output_type": "stream",
     "text": [
      "\r",
      " 16%|█▌        | 417/2655 [02:28<18:48,  1.98it/s]"
     ]
    },
    {
     "name": "stdout",
     "output_type": "stream",
     "text": [
      "Error for image data/Want to find/Images/ArrestPerson_images/ArrestPerson_images/cr34acq#_516d7284-0272-420f-a7bb-53538217848d355.jpg\n"
     ]
    },
    {
     "name": "stderr",
     "output_type": "stream",
     "text": [
      " 16%|█▌        | 419/2655 [02:29<14:56,  2.49it/s]"
     ]
    },
    {
     "name": "stdout",
     "output_type": "stream",
     "text": [
      "Error for image data/Want to find/Images/ArrestPerson_images/ArrestPerson_images/IMAGE 001#_9e1f03c7-aaa9-4ff1-bf98-2d35d33aea5d1445.jpg\n"
     ]
    },
    {
     "name": "stderr",
     "output_type": "stream",
     "text": [
      "\r",
      " 16%|█▌        | 420/2655 [02:29<16:26,  2.26it/s]"
     ]
    },
    {
     "name": "stdout",
     "output_type": "stream",
     "text": [
      "Error for image data/Want to find/Images/ArrestPerson_images/ArrestPerson_images/IMAGE 001#_1caa8eca-49e5-4876-bcf1-dce7e3b0e1331486.jpg\n"
     ]
    },
    {
     "name": "stderr",
     "output_type": "stream",
     "text": [
      " 16%|█▌        | 431/2655 [02:32<12:10,  3.04it/s]"
     ]
    },
    {
     "name": "stdout",
     "output_type": "stream",
     "text": [
      "Error for image data/Want to find/Images/ArrestPerson_images/ArrestPerson_images/21#_1a25414a-8bbd-46bd-852d-a462a422ced01478.jpg\n"
     ]
    },
    {
     "name": "stderr",
     "output_type": "stream",
     "text": [
      "\r",
      " 16%|█▋        | 432/2655 [02:32<09:50,  3.77it/s]"
     ]
    },
    {
     "name": "stdout",
     "output_type": "stream",
     "text": [
      "Error for image data/Want to find/Images/ArrestPerson_images/ArrestPerson_images/scan0024#_0fce5b41-dcd4-45b0-a371-67fc9729c400311.jpg\n"
     ]
    },
    {
     "name": "stderr",
     "output_type": "stream",
     "text": [
      "\r",
      " 16%|█▋        | 433/2655 [02:32<13:56,  2.66it/s]"
     ]
    },
    {
     "name": "stdout",
     "output_type": "stream",
     "text": [
      "Error for image data/Want to find/Images/ArrestPerson_images/ArrestPerson_images/IMG_201803#_7c9a8508-faf8-4df2-a614-d5e97e5a3ccd1240.jpg\n",
      "Error for image data/Want to find/Images/ArrestPerson_images/ArrestPerson_images/scan0001#_b0b97d4c-9914-47b7-8e01-43ffad53c6a31240.jpg\n"
     ]
    },
    {
     "name": "stderr",
     "output_type": "stream",
     "text": [
      "\r",
      " 16%|█▋        | 436/2655 [02:38<29:55,  1.24it/s]"
     ]
    },
    {
     "name": "stdout",
     "output_type": "stream",
     "text": [
      "Error for image data/Want to find/Images/ArrestPerson_images/ArrestPerson_images/IMG_0014#_79788a14-bd0e-4085-ac42-6d945d54b0ec298.jpg\n"
     ]
    },
    {
     "name": "stderr",
     "output_type": "stream",
     "text": [
      " 17%|█▋        | 442/2655 [02:40<31:19,  1.18it/s]"
     ]
    },
    {
     "name": "stdout",
     "output_type": "stream",
     "text": [
      "Error for image data/Want to find/Images/ArrestPerson_images/ArrestPerson_images/ppppppp_00#_74b842c9-ff5d-47aa-8f18-2950a35ddbef1460.jpg\n",
      "Error for image data/Want to find/Images/ArrestPerson_images/ArrestPerson_images/21#_9856d96c-7dc8-4e06-bf8f-c456b11a9bbb1478.jpg\n",
      "Error for image data/Want to find/Images/ArrestPerson_images/ArrestPerson_images/R Marappa#_735000c1-a8db-48bd-836a-585fa389c8581502.jpg\n",
      "Error for image data/Want to find/Images/ArrestPerson_images/ArrestPerson_images/EXTRA#_998dc2aa-dbe3-4682-9d4a-9e9300aa5a021464.jpg\n",
      "Error for image data/Want to find/Images/ArrestPerson_images/ArrestPerson_images/47-18 001#_738ffa38-87a8-4a87-948e-24fe5337e3352133.jpg\n"
     ]
    },
    {
     "name": "stderr",
     "output_type": "stream",
     "text": [
      "\r",
      " 17%|█▋        | 444/2655 [02:40<22:51,  1.61it/s]"
     ]
    },
    {
     "name": "stdout",
     "output_type": "stream",
     "text": [
      "Error for image data/Want to find/Images/ArrestPerson_images/ArrestPerson_images/PHOTO - Co#_4ef15724-71b5-443e-85cd-8ef086a7731b1485.jpg\n",
      "Error for image data/Want to find/Images/ArrestPerson_images/ArrestPerson_images/Blank Phot#_30b7fc32-95b6-428d-ac82-30739231a229319.jpg\n"
     ]
    },
    {
     "name": "stderr",
     "output_type": "stream",
     "text": [
      " 17%|█▋        | 448/2655 [02:41<13:16,  2.77it/s]"
     ]
    },
    {
     "name": "stdout",
     "output_type": "stream",
     "text": [
      "Error for image data/Want to find/Images/ArrestPerson_images/ArrestPerson_images/PHOTO - Co#_efe271a8-3083-4168-9da3-328c336136841485.jpg\n"
     ]
    },
    {
     "name": "stderr",
     "output_type": "stream",
     "text": [
      " 17%|█▋        | 453/2655 [02:48<29:41,  1.24it/s]"
     ]
    },
    {
     "name": "stdout",
     "output_type": "stream",
     "text": [
      "Error for image data/Want to find/Images/ArrestPerson_images/ArrestPerson_images/IMG_0001#_d72b21fd-1d05-40b0-a2fb-84404d8ab225298.jpg\n"
     ]
    },
    {
     "name": "stderr",
     "output_type": "stream",
     "text": [
      "\r",
      " 17%|█▋        | 454/2655 [02:49<33:46,  1.09it/s]"
     ]
    },
    {
     "name": "stdout",
     "output_type": "stream",
     "text": [
      "Error for image data/Want to find/Images/ArrestPerson_images/ArrestPerson_images/01 001#_72c34a29-e667-4699-9d2d-bc8199fb85cc1473.jpg\n"
     ]
    },
    {
     "name": "stderr",
     "output_type": "stream",
     "text": [
      " 17%|█▋        | 457/2655 [02:51<32:25,  1.13it/s]"
     ]
    },
    {
     "name": "stdout",
     "output_type": "stream",
     "text": [
      "Error for image data/Want to find/Images/ArrestPerson_images/ArrestPerson_images/potho Not #_e18a51f4-39f6-457e-ba91-e262d208b0f01456.jpg\n"
     ]
    },
    {
     "name": "stderr",
     "output_type": "stream",
     "text": [
      " 17%|█▋        | 459/2655 [02:52<23:24,  1.56it/s]"
     ]
    },
    {
     "name": "stdout",
     "output_type": "stream",
     "text": [
      "Error for image data/Want to find/Images/ArrestPerson_images/ArrestPerson_images/000#_396d0097-ac9f-45e9-94bf-a03510f557881263.jpg\n",
      "Error for image data/Want to find/Images/ArrestPerson_images/ArrestPerson_images/PHOTO - Co#_4afe7c99-d399-4b4e-8f15-9140f52e7ce51485.jpg\n"
     ]
    },
    {
     "name": "stderr",
     "output_type": "stream",
     "text": [
      "\r",
      " 17%|█▋        | 461/2655 [02:52<19:29,  1.88it/s]"
     ]
    },
    {
     "name": "stdout",
     "output_type": "stream",
     "text": [
      "Error for image data/Want to find/Images/ArrestPerson_images/ArrestPerson_images/151-3#_d9483a34-89fd-4815-b65c-1c8b1a99c7641247.jpg\n"
     ]
    },
    {
     "name": "stderr",
     "output_type": "stream",
     "text": [
      "\r",
      " 17%|█▋        | 463/2655 [02:53<16:50,  2.17it/s]"
     ]
    },
    {
     "name": "stdout",
     "output_type": "stream",
     "text": [
      "Error for image data/Want to find/Images/ArrestPerson_images/ArrestPerson_images/IMAGE 001#_c4eade97-496d-4bff-bccc-3007995a73dc1486.jpg\n"
     ]
    },
    {
     "name": "stderr",
     "output_type": "stream",
     "text": [
      " 18%|█▊        | 471/2655 [02:57<22:48,  1.60it/s]"
     ]
    },
    {
     "name": "stdout",
     "output_type": "stream",
     "text": [
      "Error for image data/Want to find/Images/ArrestPerson_images/ArrestPerson_images/PHOTO#_809d2516-55c9-43e6-a9e9-005fb96ae172323.jpg\n"
     ]
    },
    {
     "name": "stderr",
     "output_type": "stream",
     "text": [
      " 18%|█▊        | 474/2655 [02:57<12:04,  3.01it/s]"
     ]
    },
    {
     "name": "stdout",
     "output_type": "stream",
     "text": [
      "Error for image data/Want to find/Images/ArrestPerson_images/ArrestPerson_images/PHOTO - Co#_81e3b6cd-0052-48c4-b057-269049a873121485.jpg\n"
     ]
    },
    {
     "name": "stderr",
     "output_type": "stream",
     "text": [
      " 18%|█▊        | 479/2655 [02:59<21:17,  1.70it/s]"
     ]
    },
    {
     "name": "stdout",
     "output_type": "stream",
     "text": [
      "Error for image data/Want to find/Images/ArrestPerson_images/ArrestPerson_images/01 001#_035f12bd-415f-4e8f-82c0-62f9bba77eec1473.jpg\n",
      "Error for image data/Want to find/Images/ArrestPerson_images/ArrestPerson_images/0000#_190afb57-3f89-4b4e-8cdf-f92140ff81251246.jpg\n",
      "Error for image data/Want to find/Images/ArrestPerson_images/ArrestPerson_images/EXTRA#_3bdaafff-d1f5-45f0-9c4f-df2503cf17b71464.jpg\n"
     ]
    },
    {
     "name": "stderr",
     "output_type": "stream",
     "text": [
      " 18%|█▊        | 487/2655 [03:03<16:00,  2.26it/s]"
     ]
    },
    {
     "name": "stdout",
     "output_type": "stream",
     "text": [
      "Error for image data/Want to find/Images/ArrestPerson_images/ArrestPerson_images/Blank Phot#_00167d2a-a06f-43c4-aca1-d6f611ec8b26319.jpg\n"
     ]
    },
    {
     "name": "stderr",
     "output_type": "stream",
     "text": [
      "\r",
      " 18%|█▊        | 488/2655 [03:03<13:58,  2.59it/s]"
     ]
    },
    {
     "name": "stdout",
     "output_type": "stream",
     "text": [
      "Error for image data/Want to find/Images/ArrestPerson_images/ArrestPerson_images/45#_05e5725a-0c97-4a06-bc22-80012d786e0d324.jpg\n"
     ]
    },
    {
     "name": "stderr",
     "output_type": "stream",
     "text": [
      "\r",
      " 18%|█▊        | 489/2655 [03:03<12:19,  2.93it/s]"
     ]
    },
    {
     "name": "stdout",
     "output_type": "stream",
     "text": [
      "Error for image data/Want to find/Images/ArrestPerson_images/ArrestPerson_images/IMG_201804#_f08e843b-b7bc-4f4d-a5d6-99a57a6867bd1239.jpg\n"
     ]
    },
    {
     "name": "stderr",
     "output_type": "stream",
     "text": [
      " 18%|█▊        | 491/2655 [03:06<29:26,  1.23it/s]"
     ]
    },
    {
     "name": "stdout",
     "output_type": "stream",
     "text": [
      "Error for image data/Want to find/Images/ArrestPerson_images/ArrestPerson_images/PHOTO#_17d688b9-192b-426e-bdb3-50af5d601a2f323.jpg\n"
     ]
    },
    {
     "name": "stderr",
     "output_type": "stream",
     "text": [
      " 19%|█▊        | 493/2655 [03:08<36:44,  1.02s/it]"
     ]
    },
    {
     "name": "stdout",
     "output_type": "stream",
     "text": [
      "Error for image data/Want to find/Images/ArrestPerson_images/ArrestPerson_images/PHOTO#_3585f586-b8a0-4c9f-9bed-1c64c8e188ed323.jpg\n"
     ]
    },
    {
     "name": "stderr",
     "output_type": "stream",
     "text": [
      "\r",
      " 19%|█▊        | 494/2655 [03:10<45:05,  1.25s/it]"
     ]
    },
    {
     "name": "stdout",
     "output_type": "stream",
     "text": [
      "Error for image data/Want to find/Images/ArrestPerson_images/ArrestPerson_images/PHOTO#_61977a80-3869-48ab-9683-a7bd20309897323.jpg\n"
     ]
    },
    {
     "name": "stderr",
     "output_type": "stream",
     "text": [
      " 19%|█▊        | 497/2655 [03:10<18:58,  1.90it/s]"
     ]
    },
    {
     "name": "stdout",
     "output_type": "stream",
     "text": [
      "Error for image data/Want to find/Images/ArrestPerson_images/ArrestPerson_images/Photo#_e3633294-5272-45ba-bdbb-1f8e18b84b1a364.jpg\n",
      "Error for image data/Want to find/Images/ArrestPerson_images/ArrestPerson_images/184-18-3 (#_d9e115a5-c975-4b1a-9b10-ad90c3ac2e751460.jpg\n"
     ]
    },
    {
     "name": "stderr",
     "output_type": "stream",
     "text": [
      "\r",
      " 19%|█▉        | 498/2655 [03:10<15:28,  2.32it/s]"
     ]
    },
    {
     "name": "stdout",
     "output_type": "stream",
     "text": [
      "Error for image data/Want to find/Images/ArrestPerson_images/ArrestPerson_images/0000#_bcd8ff3d-a7f3-4886-bcaa-1aeb4f98534b1246.jpg\n"
     ]
    },
    {
     "name": "stderr",
     "output_type": "stream",
     "text": [
      " 19%|█▉        | 501/2655 [03:13<26:31,  1.35it/s]"
     ]
    },
    {
     "name": "stdout",
     "output_type": "stream",
     "text": [
      "Error for image data/Want to find/Images/ArrestPerson_images/ArrestPerson_images/Blank Phot#_e17ada02-5738-4dec-a88e-f272521cf950319.jpg\n"
     ]
    },
    {
     "name": "stderr",
     "output_type": "stream",
     "text": [
      " 19%|█▉        | 506/2655 [03:16<35:24,  1.01it/s]"
     ]
    },
    {
     "name": "stdout",
     "output_type": "stream",
     "text": [
      "Error for image data/Want to find/Images/ArrestPerson_images/ArrestPerson_images/PHOTO#_8d5c3932-c0ba-4a86-a6fd-caf938a23eb0323.jpg\n"
     ]
    },
    {
     "name": "stderr",
     "output_type": "stream",
     "text": [
      " 19%|█▉        | 512/2655 [03:20<26:08,  1.37it/s]"
     ]
    },
    {
     "name": "stdout",
     "output_type": "stream",
     "text": [
      "Error for image data/Want to find/Images/ArrestPerson_images/ArrestPerson_images/PHOTO#_d6d72bc5-1ff6-45f7-9c49-a69e9242791f323.jpg\n"
     ]
    },
    {
     "name": "stderr",
     "output_type": "stream",
     "text": [
      " 19%|█▉        | 515/2655 [03:22<27:39,  1.29it/s]"
     ]
    },
    {
     "name": "stdout",
     "output_type": "stream",
     "text": [
      "Error for image data/Want to find/Images/ArrestPerson_images/ArrestPerson_images/PHOTO#_d07955cf-90eb-4abc-b5d9-d022653fb9e2323.jpg\n",
      "Error for image data/Want to find/Images/ArrestPerson_images/ArrestPerson_images/0000#_c0eeb27f-64bd-4bd2-b2ed-42e7596ec7081248.jpg\n"
     ]
    },
    {
     "name": "stderr",
     "output_type": "stream",
     "text": [
      "\r",
      " 19%|█▉        | 516/2655 [03:22<20:53,  1.71it/s]"
     ]
    },
    {
     "name": "stdout",
     "output_type": "stream",
     "text": [
      "Error for image data/Want to find/Images/ArrestPerson_images/ArrestPerson_images/000#_bb058b70-7e4c-4a8a-9c39-995c0d8fbbf71263.jpg\n"
     ]
    },
    {
     "name": "stderr",
     "output_type": "stream",
     "text": [
      " 20%|█▉        | 519/2655 [03:23<14:14,  2.50it/s]"
     ]
    },
    {
     "name": "stdout",
     "output_type": "stream",
     "text": [
      "Error for image data/Want to find/Images/ArrestPerson_images/ArrestPerson_images/Blank Phot#_fbdf55fa-ab3d-4204-bc6d-9cd1ae10e726319.jpg\n"
     ]
    },
    {
     "name": "stderr",
     "output_type": "stream",
     "text": [
      " 20%|█▉        | 526/2655 [03:30<27:27,  1.29it/s]"
     ]
    },
    {
     "name": "stdout",
     "output_type": "stream",
     "text": [
      "Error for image data/Want to find/Images/ArrestPerson_images/ArrestPerson_images/01 001#_b9f610b3-dbba-4045-b05f-22c529f54bc41473.jpg\n"
     ]
    },
    {
     "name": "stderr",
     "output_type": "stream",
     "text": [
      " 20%|██        | 533/2655 [03:31<14:34,  2.43it/s]"
     ]
    },
    {
     "name": "stdout",
     "output_type": "stream",
     "text": [
      "Error for image data/Want to find/Images/ArrestPerson_images/ArrestPerson_images/21#_bee9c354-686d-4c97-af7d-037a3559987d1478.jpg\n"
     ]
    },
    {
     "name": "stderr",
     "output_type": "stream",
     "text": [
      "\r",
      " 20%|██        | 537/2655 [03:31<10:29,  3.37it/s]"
     ]
    },
    {
     "name": "stdout",
     "output_type": "stream",
     "text": [
      "Error for image data/Want to find/Images/ArrestPerson_images/ArrestPerson_images/15#_66e3514e-5f71-408e-80c7-3c89ad1f81391478.jpg\n"
     ]
    },
    {
     "name": "stderr",
     "output_type": "stream",
     "text": [
      "\r",
      " 20%|██        | 539/2655 [03:32<10:29,  3.36it/s]"
     ]
    },
    {
     "name": "stdout",
     "output_type": "stream",
     "text": [
      "Error for image data/Want to find/Images/ArrestPerson_images/ArrestPerson_images/IMAGE 001#_689c1d75-ae75-448b-8cbc-9751602713ed1486.jpg\n"
     ]
    },
    {
     "name": "stderr",
     "output_type": "stream",
     "text": [
      "\r",
      " 20%|██        | 541/2655 [03:32<09:04,  3.88it/s]"
     ]
    },
    {
     "name": "stdout",
     "output_type": "stream",
     "text": [
      "Error for image data/Want to find/Images/ArrestPerson_images/ArrestPerson_images/CR 211-201#_7a175c2c-b474-49f3-a1b2-b91d4761c0951255.jpg\n"
     ]
    },
    {
     "name": "stderr",
     "output_type": "stream",
     "text": [
      " 20%|██        | 544/2655 [03:34<10:36,  3.32it/s]"
     ]
    },
    {
     "name": "stdout",
     "output_type": "stream",
     "text": [
      "Error for image data/Want to find/Images/ArrestPerson_images/ArrestPerson_images/PHOTO#_79d6e6ec-dd19-45a0-90c1-c443ff209aca323.jpg\n",
      "Error for image data/Want to find/Images/ArrestPerson_images/ArrestPerson_images/EXTRA#_34c6433f-148d-4431-b079-7884ea5e9dd21464.jpg\n"
     ]
    },
    {
     "name": "stderr",
     "output_type": "stream",
     "text": [
      " 21%|██        | 547/2655 [03:34<08:50,  3.98it/s]"
     ]
    },
    {
     "name": "stdout",
     "output_type": "stream",
     "text": [
      "Error for image data/Want to find/Images/ArrestPerson_images/ArrestPerson_images/108-3#_158b2b97-c6cb-4e82-a65a-1fa2620a97071249.jpg\n"
     ]
    },
    {
     "name": "stderr",
     "output_type": "stream",
     "text": [
      " 21%|██        | 552/2655 [03:40<37:21,  1.07s/it]"
     ]
    },
    {
     "name": "stdout",
     "output_type": "stream",
     "text": [
      "Error for image data/Want to find/Images/ArrestPerson_images/ArrestPerson_images/IMG_0014#_417b29cd-60ff-44d8-b3ae-7a26469d56c7298.jpg\n"
     ]
    },
    {
     "name": "stderr",
     "output_type": "stream",
     "text": [
      " 21%|██        | 554/2655 [03:40<26:29,  1.32it/s]"
     ]
    },
    {
     "name": "stdout",
     "output_type": "stream",
     "text": [
      "Error for image data/Want to find/Images/ArrestPerson_images/ArrestPerson_images/160-2#_970d57a5-d8c3-4059-a9cd-c438af0778381247.jpg\n"
     ]
    },
    {
     "name": "stderr",
     "output_type": "stream",
     "text": [
      "\r",
      " 21%|██        | 555/2655 [03:42<29:32,  1.18it/s]"
     ]
    },
    {
     "name": "stdout",
     "output_type": "stream",
     "text": [
      "Error for image data/Want to find/Images/ArrestPerson_images/ArrestPerson_images/18-2018 CH#_8445744d-7cf6-4e72-972f-5c12bcac1f321920.jpg\n",
      "Error for image data/Want to find/Images/ArrestPerson_images/ArrestPerson_images/Cr no#_827f7541-2b9b-4820-843c-e981006efdac1257.jpg\n"
     ]
    },
    {
     "name": "stderr",
     "output_type": "stream",
     "text": [
      " 21%|██        | 561/2655 [03:42<15:34,  2.24it/s]"
     ]
    },
    {
     "name": "stdout",
     "output_type": "stream",
     "text": [
      "Error for image data/Want to find/Images/ArrestPerson_images/ArrestPerson_images/EXTRA#_4856ce14-1195-4b9a-889d-03abd02d674a1464.jpg\n",
      "Error for image data/Want to find/Images/ArrestPerson_images/ArrestPerson_images/Blank Phot#_a8311a4c-91e8-4d61-b5f6-086d05c923ce319.jpg\n"
     ]
    },
    {
     "name": "stderr",
     "output_type": "stream",
     "text": [
      "\r",
      " 21%|██        | 563/2655 [03:42<11:57,  2.92it/s]"
     ]
    },
    {
     "name": "stdout",
     "output_type": "stream",
     "text": [
      "Error for image data/Want to find/Images/ArrestPerson_images/ArrestPerson_images/12#_4295e18f-c51c-40d4-b15b-c544a64c57691478.jpg\n"
     ]
    },
    {
     "name": "stderr",
     "output_type": "stream",
     "text": [
      " 21%|██▏       | 567/2655 [03:43<07:29,  4.64it/s]"
     ]
    },
    {
     "name": "stdout",
     "output_type": "stream",
     "text": [
      "Error for image data/Want to find/Images/ArrestPerson_images/ArrestPerson_images/PHOTO - Co#_43d0eddd-6cd1-434c-a910-6eca3e29742f1445.jpg\n"
     ]
    },
    {
     "name": "stderr",
     "output_type": "stream",
     "text": [
      " 21%|██▏       | 570/2655 [03:43<05:42,  6.09it/s]"
     ]
    },
    {
     "name": "stdout",
     "output_type": "stream",
     "text": [
      "Error for image data/Want to find/Images/ArrestPerson_images/ArrestPerson_images/CRNO-116-2#_a025921f-a39c-4a92-857c-3f7f38e468b61461.jpg\n"
     ]
    },
    {
     "name": "stderr",
     "output_type": "stream",
     "text": [
      "\r",
      " 22%|██▏       | 572/2655 [03:44<06:51,  5.06it/s]"
     ]
    },
    {
     "name": "stdout",
     "output_type": "stream",
     "text": [
      "Error for image data/Want to find/Images/ArrestPerson_images/ArrestPerson_images/IMAGE 001#_f3fbdb23-f50a-48b6-a66c-a4ba6373450e1486.jpg\n"
     ]
    },
    {
     "name": "stderr",
     "output_type": "stream",
     "text": [
      "\r",
      " 22%|██▏       | 573/2655 [03:44<10:03,  3.45it/s]"
     ]
    },
    {
     "name": "stdout",
     "output_type": "stream",
     "text": [
      "Error for image data/Want to find/Images/ArrestPerson_images/ArrestPerson_images/IMAGE 001#_aa1d08b5-ac0e-4b64-9424-72dc19639b7b1445.jpg\n",
      "Error for image data/Want to find/Images/ArrestPerson_images/ArrestPerson_images/20170808_1#_f2c02625-c0e7-4fb7-9a9a-6269a166b1231241.jpg\n"
     ]
    },
    {
     "name": "stderr",
     "output_type": "stream",
     "text": [
      " 22%|██▏       | 587/2655 [03:47<08:16,  4.17it/s]"
     ]
    },
    {
     "name": "stdout",
     "output_type": "stream",
     "text": [
      "Error for image data/Want to find/Images/ArrestPerson_images/ArrestPerson_images/2222222#_28569140-29d4-4281-ab69-6c961480d39c1436.jpg\n",
      "Error for image data/Want to find/Images/ArrestPerson_images/ArrestPerson_images/IMG-201805#_6f645a1a-ad90-4261-b9af-7ef2aa5fd4561263.jpg\n"
     ]
    },
    {
     "name": "stderr",
     "output_type": "stream",
     "text": [
      " 22%|██▏       | 590/2655 [03:49<11:06,  3.10it/s]"
     ]
    },
    {
     "name": "stdout",
     "output_type": "stream",
     "text": [
      "Error for image data/Want to find/Images/ArrestPerson_images/ArrestPerson_images/PHOTO#_065fb274-2f0f-4aec-83aa-19c87ca6d5c6323.jpg\n"
     ]
    },
    {
     "name": "stderr",
     "output_type": "stream",
     "text": [
      " 22%|██▏       | 594/2655 [03:49<07:23,  4.65it/s]"
     ]
    },
    {
     "name": "stdout",
     "output_type": "stream",
     "text": [
      "Error for image data/Want to find/Images/ArrestPerson_images/ArrestPerson_images/IMG-201805#_42b27c55-c937-467b-be69-e71dbb97c4421263.jpg\n"
     ]
    },
    {
     "name": "stderr",
     "output_type": "stream",
     "text": [
      "\r",
      " 22%|██▏       | 595/2655 [03:50<11:01,  3.11it/s]"
     ]
    },
    {
     "name": "stdout",
     "output_type": "stream",
     "text": [
      "Error for image data/Want to find/Images/ArrestPerson_images/ArrestPerson_images/EXTRA#_303248c5-d5bd-4425-8449-95226b9da4531464.jpg\n"
     ]
    },
    {
     "name": "stderr",
     "output_type": "stream",
     "text": [
      " 23%|██▎       | 599/2655 [03:51<09:57,  3.44it/s]"
     ]
    },
    {
     "name": "stdout",
     "output_type": "stream",
     "text": [
      "Error for image data/Want to find/Images/ArrestPerson_images/ArrestPerson_images/01 001#_2d851105-7574-4365-a283-a0d0fd9720691473.jpg\n"
     ]
    },
    {
     "name": "stderr",
     "output_type": "stream",
     "text": [
      "\r",
      " 23%|██▎       | 600/2655 [03:52<13:29,  2.54it/s]"
     ]
    },
    {
     "name": "stdout",
     "output_type": "stream",
     "text": [
      "Error for image data/Want to find/Images/ArrestPerson_images/ArrestPerson_images/IMAGE 001#_1de2a73a-feee-4f33-9ec7-cf8e9332deed1486.jpg\n"
     ]
    },
    {
     "name": "stderr",
     "output_type": "stream",
     "text": [
      " 23%|██▎       | 603/2655 [03:53<13:39,  2.50it/s]"
     ]
    },
    {
     "name": "stdout",
     "output_type": "stream",
     "text": [
      "Error for image data/Want to find/Images/ArrestPerson_images/ArrestPerson_images/151-4,5#_cae170dd-f018-415e-b565-cf2f84cbc06f1247.jpg\n"
     ]
    },
    {
     "name": "stderr",
     "output_type": "stream",
     "text": [
      " 23%|██▎       | 605/2655 [03:54<18:08,  1.88it/s]"
     ]
    },
    {
     "name": "stdout",
     "output_type": "stream",
     "text": [
      "Error for image data/Want to find/Images/ArrestPerson_images/ArrestPerson_images/PHOTO#_ebed8147-514a-4137-8268-8a82b004b808323.jpg\n",
      "Error for image data/Want to find/Images/ArrestPerson_images/ArrestPerson_images/Govind#_f66e2d50-1e63-44de-be7b-73bed273a6aa1257.jpg\n",
      "Error for image data/Want to find/Images/ArrestPerson_images/ArrestPerson_images/EXTRA#_975fb7ca-2e25-45ff-9c6a-9b5c8cc0fff91464.jpg\n"
     ]
    },
    {
     "name": "stderr",
     "output_type": "stream",
     "text": [
      " 23%|██▎       | 608/2655 [03:55<12:29,  2.73it/s]"
     ]
    },
    {
     "name": "stdout",
     "output_type": "stream",
     "text": [
      "Error for image data/Want to find/Images/ArrestPerson_images/ArrestPerson_images/157-158#_4091225f-8aea-4f1d-9eb0-b54839e8734d1247.jpg\n",
      "Error for image data/Want to find/Images/ArrestPerson_images/ArrestPerson_images/EXTRA#_10780752-4101-47d3-922e-7525c79648e01464.jpg\n"
     ]
    },
    {
     "name": "stderr",
     "output_type": "stream",
     "text": [
      "\r",
      " 23%|██▎       | 610/2655 [03:56<16:08,  2.11it/s]"
     ]
    },
    {
     "name": "stdout",
     "output_type": "stream",
     "text": [
      "Error for image data/Want to find/Images/ArrestPerson_images/ArrestPerson_images/PHOTO#_a75bea4f-a291-4e6a-8707-a705bd9d0204323.jpg\n"
     ]
    },
    {
     "name": "stderr",
     "output_type": "stream",
     "text": [
      "\r",
      " 23%|██▎       | 612/2655 [03:58<18:34,  1.83it/s]"
     ]
    },
    {
     "name": "stdout",
     "output_type": "stream",
     "text": [
      "Error for image data/Want to find/Images/ArrestPerson_images/ArrestPerson_images/PHOTO#_9d285fb2-c0a1-4268-b34b-4c6ca422929d323.jpg\n"
     ]
    },
    {
     "name": "stderr",
     "output_type": "stream",
     "text": [
      " 23%|██▎       | 615/2655 [04:01<26:55,  1.26it/s]"
     ]
    },
    {
     "name": "stdout",
     "output_type": "stream",
     "text": [
      "Error for image data/Want to find/Images/ArrestPerson_images/ArrestPerson_images/173#_de55f2fc-761d-4ba9-906f-ad60b60109991478.jpg\n",
      "Error for image data/Want to find/Images/ArrestPerson_images/ArrestPerson_images/EXTRA#_0d36711e-6b79-488e-be04-0313ae6767341464.jpg\n"
     ]
    },
    {
     "name": "stderr",
     "output_type": "stream",
     "text": [
      " 23%|██▎       | 619/2655 [04:03<19:03,  1.78it/s]"
     ]
    },
    {
     "name": "stdout",
     "output_type": "stream",
     "text": [
      "Error for image data/Want to find/Images/ArrestPerson_images/ArrestPerson_images/20180605_1#_cc1175d3-7726-4937-a25a-98a140b5c3df1507.jpg\n"
     ]
    },
    {
     "name": "stderr",
     "output_type": "stream",
     "text": [
      " 23%|██▎       | 622/2655 [04:03<12:01,  2.82it/s]"
     ]
    },
    {
     "name": "stdout",
     "output_type": "stream",
     "text": [
      "Error for image data/Want to find/Images/ArrestPerson_images/ArrestPerson_images/psr - Copy#_b28d59d6-daab-4fe3-a025-8c7cfca54c701505.jpg\n"
     ]
    },
    {
     "name": "stderr",
     "output_type": "stream",
     "text": [
      "\r",
      " 23%|██▎       | 623/2655 [04:05<20:41,  1.64it/s]"
     ]
    },
    {
     "name": "stdout",
     "output_type": "stream",
     "text": [
      "Error for image data/Want to find/Images/ArrestPerson_images/ArrestPerson_images/01 001#_a638fbc8-b677-4565-8d4f-8fb13cc919331473.jpg\n"
     ]
    },
    {
     "name": "stderr",
     "output_type": "stream",
     "text": [
      "\r",
      " 24%|██▎       | 624/2655 [04:06<25:08,  1.35it/s]"
     ]
    },
    {
     "name": "stdout",
     "output_type": "stream",
     "text": [
      "Error for image data/Want to find/Images/ArrestPerson_images/ArrestPerson_images/000#_16f82fc3-5494-4992-863e-ff5c024d5a1e1263.jpg\n",
      "Error for image data/Want to find/Images/ArrestPerson_images/ArrestPerson_images/12#_e96b0f80-2f52-447d-854c-51156b447d761478.jpg\n"
     ]
    },
    {
     "name": "stderr",
     "output_type": "stream",
     "text": [
      "\r",
      " 24%|██▎       | 627/2655 [04:06<19:36,  1.72it/s]"
     ]
    },
    {
     "name": "stdout",
     "output_type": "stream",
     "text": [
      "Error for image data/Want to find/Images/ArrestPerson_images/ArrestPerson_images/IMAGE 001#_3511f2c7-1c53-4964-96b2-688671aeef381486.jpg\n"
     ]
    },
    {
     "name": "stderr",
     "output_type": "stream",
     "text": [
      "\r",
      " 24%|██▎       | 628/2655 [04:07<25:32,  1.32it/s]"
     ]
    },
    {
     "name": "stdout",
     "output_type": "stream",
     "text": [
      "Error for image data/Want to find/Images/ArrestPerson_images/ArrestPerson_images/PHOTO 001#_b607fd4e-77cb-464a-a2ec-280b8552566b1473.jpg\n"
     ]
    },
    {
     "name": "stderr",
     "output_type": "stream",
     "text": [
      " 24%|██▎       | 630/2655 [04:09<27:34,  1.22it/s]"
     ]
    },
    {
     "name": "stdout",
     "output_type": "stream",
     "text": [
      "Error for image data/Want to find/Images/ArrestPerson_images/ArrestPerson_images/Koala#_1500b2f6-2df4-43be-b486-91dd352381e3355.jpg\n",
      "Error for image data/Want to find/Images/ArrestPerson_images/ArrestPerson_images/2222222#_82719a62-adf3-491a-a772-37fcccf898731436.jpg\n"
     ]
    },
    {
     "name": "stderr",
     "output_type": "stream",
     "text": [
      " 24%|██▍       | 635/2655 [04:10<12:39,  2.66it/s]"
     ]
    },
    {
     "name": "stdout",
     "output_type": "stream",
     "text": [
      "Error for image data/Want to find/Images/ArrestPerson_images/ArrestPerson_images/IMG-201805#_45d56c97-a69d-4323-b632-f04e8dc5dd331263.jpg\n"
     ]
    },
    {
     "name": "stderr",
     "output_type": "stream",
     "text": [
      " 24%|██▍       | 638/2655 [04:13<21:05,  1.59it/s]"
     ]
    },
    {
     "name": "stdout",
     "output_type": "stream",
     "text": [
      "Error for image data/Want to find/Images/ArrestPerson_images/ArrestPerson_images/PHOTO#_805caeda-c45d-407a-a07b-79e9c11d4afc323.jpg\n",
      "Error for image data/Want to find/Images/ArrestPerson_images/ArrestPerson_images/IMG_201804#_6eb966b8-12e7-46b5-9389-0c0e170854b81239.jpg\n"
     ]
    },
    {
     "name": "stderr",
     "output_type": "stream",
     "text": [
      " 24%|██▍       | 643/2655 [04:13<11:35,  2.89it/s]"
     ]
    },
    {
     "name": "stdout",
     "output_type": "stream",
     "text": [
      "Error for image data/Want to find/Images/ArrestPerson_images/ArrestPerson_images/IMAGE 001#_5ace1dc9-9a91-4838-a7b2-ad3d16da14c31486.jpg\n",
      "Error for image data/Want to find/Images/ArrestPerson_images/ArrestPerson_images/Untitled54#_5785eb5e-06b5-46b2-af1e-75f88af7e3d91241.jpg\n"
     ]
    },
    {
     "name": "stderr",
     "output_type": "stream",
     "text": [
      " 24%|██▍       | 645/2655 [04:14<12:26,  2.69it/s]"
     ]
    },
    {
     "name": "stdout",
     "output_type": "stream",
     "text": [
      "Error for image data/Want to find/Images/ArrestPerson_images/ArrestPerson_images/PSR#_5451e152-aa1f-4fe6-9534-2b170948f2fe296.jpg\n"
     ]
    },
    {
     "name": "stderr",
     "output_type": "stream",
     "text": [
      " 24%|██▍       | 650/2655 [04:17<16:04,  2.08it/s]"
     ]
    },
    {
     "name": "stdout",
     "output_type": "stream",
     "text": [
      "Error for image data/Want to find/Images/ArrestPerson_images/ArrestPerson_images/01 001#_4f4424d1-64cd-420f-9970-973f59c760cc1473.jpg\n",
      "Error for image data/Want to find/Images/ArrestPerson_images/ArrestPerson_images/PSR-2018#_81f134df-6d64-4bb8-b3fb-9c20dcdb00b11505.jpg\n"
     ]
    },
    {
     "name": "stderr",
     "output_type": "stream",
     "text": [
      " 25%|██▍       | 653/2655 [04:17<10:50,  3.08it/s]"
     ]
    },
    {
     "name": "stdout",
     "output_type": "stream",
     "text": [
      "Error for image data/Want to find/Images/ArrestPerson_images/ArrestPerson_images/000#_b5bad9af-1024-4598-85c9-04893587847b1263.jpg\n",
      "Error for image data/Want to find/Images/ArrestPerson_images/ArrestPerson_images/PHOTO#_2d8b57de-148f-4a40-8c6a-1b8dee6961bf2126.jpg\n",
      "Error for image data/Want to find/Images/ArrestPerson_images/ArrestPerson_images/EXTRA#_e630cb2c-bf85-4614-93a8-b10b5f0af0d71464.jpg\n"
     ]
    },
    {
     "name": "stderr",
     "output_type": "stream",
     "text": [
      " 25%|██▍       | 657/2655 [04:19<19:44,  1.69it/s]"
     ]
    },
    {
     "name": "stdout",
     "output_type": "stream",
     "text": [
      "Error for image data/Want to find/Images/ArrestPerson_images/ArrestPerson_images/PHOTO#_3a08371d-c9cd-421a-8ce8-33c67307a67b323.jpg\n"
     ]
    },
    {
     "name": "stderr",
     "output_type": "stream",
     "text": [
      " 25%|██▍       | 661/2655 [04:20<13:58,  2.38it/s]"
     ]
    },
    {
     "name": "stdout",
     "output_type": "stream",
     "text": [
      "Error for image data/Want to find/Images/ArrestPerson_images/ArrestPerson_images/9#_4ce92bed-aee8-4b08-bd80-f80e750784f81241.jpg\n",
      "Error for image data/Want to find/Images/ArrestPerson_images/ArrestPerson_images/EXTRA#_b4c07370-d1e1-486d-b59c-a29891347f2e1464.jpg\n"
     ]
    },
    {
     "name": "stderr",
     "output_type": "stream",
     "text": [
      "\r",
      " 25%|██▌       | 664/2655 [04:25<24:38,  1.35it/s]"
     ]
    },
    {
     "name": "stdout",
     "output_type": "stream",
     "text": [
      "Error for image data/Want to find/Images/ArrestPerson_images/ArrestPerson_images/IMG_0001#_4172681e-853b-4dd9-97e6-96f562389a0d290.jpg\n"
     ]
    },
    {
     "name": "stderr",
     "output_type": "stream",
     "text": [
      " 25%|██▌       | 667/2655 [04:26<18:20,  1.81it/s]"
     ]
    },
    {
     "name": "stdout",
     "output_type": "stream",
     "text": [
      "Error for image data/Want to find/Images/ArrestPerson_images/ArrestPerson_images/12_06_2018#_8320affd-e8fb-4333-a9ff-465126834ded1509.jpg\n"
     ]
    },
    {
     "name": "stderr",
     "output_type": "stream",
     "text": [
      " 25%|██▌       | 673/2655 [04:29<10:37,  3.11it/s]"
     ]
    },
    {
     "name": "stdout",
     "output_type": "stream",
     "text": [
      "Error for image data/Want to find/Images/ArrestPerson_images/ArrestPerson_images/Untitled54#_0b8d38d2-75d5-43dd-ae7a-edbe0440d1071241.jpg\n",
      "Error for image data/Want to find/Images/ArrestPerson_images/ArrestPerson_images/Photo#_95c5275a-0d0d-4f47-8752-365ad7be06ad364.jpg\n"
     ]
    },
    {
     "name": "stderr",
     "output_type": "stream",
     "text": [
      " 25%|██▌       | 676/2655 [04:29<07:32,  4.37it/s]"
     ]
    },
    {
     "name": "stdout",
     "output_type": "stream",
     "text": [
      "Error for image data/Want to find/Images/ArrestPerson_images/ArrestPerson_images/PHOTO - Co#_a0b1fa23-ac4b-4e33-b371-3d38c9319f311485.jpg\n",
      "Error for image data/Want to find/Images/ArrestPerson_images/ArrestPerson_images/104 a2#_4323d934-763f-4c61-af53-22267445cb451249.jpg\n",
      "Error for image data/Want to find/Images/ArrestPerson_images/ArrestPerson_images/Photo#_cdee0fd2-b07f-4ef2-aa03-904f1617c4d6364.jpg\n"
     ]
    },
    {
     "name": "stderr",
     "output_type": "stream",
     "text": [
      "\r",
      " 26%|██▌       | 679/2655 [04:29<06:23,  5.16it/s]"
     ]
    },
    {
     "name": "stdout",
     "output_type": "stream",
     "text": [
      "Error for image data/Want to find/Images/ArrestPerson_images/ArrestPerson_images/ACCUED NOT#_dbec4903-2259-4e14-8943-85ce93c32b0d303.jpg\n"
     ]
    },
    {
     "name": "stderr",
     "output_type": "stream",
     "text": [
      "\r",
      " 26%|██▌       | 681/2655 [04:29<05:34,  5.90it/s]"
     ]
    },
    {
     "name": "stdout",
     "output_type": "stream",
     "text": [
      "Error for image data/Want to find/Images/ArrestPerson_images/ArrestPerson_images/46#_046ec256-f1de-4ae2-91b4-62bfa1751d5a324.jpg\n"
     ]
    },
    {
     "name": "stderr",
     "output_type": "stream",
     "text": [
      " 26%|██▌       | 687/2655 [04:30<04:19,  7.57it/s]"
     ]
    },
    {
     "name": "stdout",
     "output_type": "stream",
     "text": [
      "Error for image data/Want to find/Images/ArrestPerson_images/ArrestPerson_images/0000#_404c96da-6002-4360-859d-74b17940f0e81246.jpg\n",
      "Error for image data/Want to find/Images/ArrestPerson_images/ArrestPerson_images/IMG-201805#_5eb11566-a12c-48c1-b70b-d89d8a42cb6a1263.jpg\n"
     ]
    },
    {
     "name": "stderr",
     "output_type": "stream",
     "text": [
      "\r",
      " 26%|██▌       | 689/2655 [04:30<03:48,  8.59it/s]"
     ]
    },
    {
     "name": "stdout",
     "output_type": "stream",
     "text": [
      "Error for image data/Want to find/Images/ArrestPerson_images/ArrestPerson_images/Photo#_6c0ac47b-b228-4800-8fd3-29c840e6d3c1364.jpg\n"
     ]
    },
    {
     "name": "stderr",
     "output_type": "stream",
     "text": [
      "\r",
      " 26%|██▌       | 691/2655 [04:30<03:40,  8.90it/s]"
     ]
    },
    {
     "name": "stdout",
     "output_type": "stream",
     "text": [
      "Error for image data/Want to find/Images/ArrestPerson_images/ArrestPerson_images/Blank Phot#_f75e2225-fc56-4a18-b5c8-dedf90476137319.jpg\n",
      "Error for image data/Want to find/Images/ArrestPerson_images/ArrestPerson_images/21#_bb9257c9-da9e-4652-a2c2-0396ee8818f61478.jpg\n"
     ]
    },
    {
     "name": "stderr",
     "output_type": "stream",
     "text": [
      " 26%|██▋       | 702/2655 [04:34<07:59,  4.07it/s]"
     ]
    },
    {
     "name": "stdout",
     "output_type": "stream",
     "text": [
      "Error for image data/Want to find/Images/ArrestPerson_images/ArrestPerson_images/IMAGE 001#_2beb1e5f-4c3b-4c3d-9bc8-2f013df62f951486.jpg\n",
      "Error for image data/Want to find/Images/ArrestPerson_images/ArrestPerson_images/CR No 13-1#_1d6a1cc0-81dd-4852-9a48-0d8df8376e841502.jpg\n",
      "Error for image data/Want to find/Images/ArrestPerson_images/ArrestPerson_images/EXTRA#_05dc19b7-acbc-4cb6-906d-680fcd13f5191464.jpg\n"
     ]
    },
    {
     "name": "stderr",
     "output_type": "stream",
     "text": [
      " 27%|██▋       | 705/2655 [04:35<06:45,  4.81it/s]"
     ]
    },
    {
     "name": "stdout",
     "output_type": "stream",
     "text": [
      "Error for image data/Want to find/Images/ArrestPerson_images/ArrestPerson_images/135#_5223918b-d102-4b0a-a229-d164a1901c451241.jpg\n",
      "Error for image data/Want to find/Images/ArrestPerson_images/ArrestPerson_images/Blank Phot#_efd0c518-c050-40ab-9ebf-004d94ba9ee2319.jpg\n"
     ]
    },
    {
     "name": "stderr",
     "output_type": "stream",
     "text": [
      " 27%|██▋       | 709/2655 [04:35<06:13,  5.21it/s]"
     ]
    },
    {
     "name": "stdout",
     "output_type": "stream",
     "text": [
      "Error for image data/Want to find/Images/ArrestPerson_images/ArrestPerson_images/Koala#_d232bdeb-e57a-4e16-a4f5-9bbe8fbec72b355.jpg\n",
      "Error for image data/Want to find/Images/ArrestPerson_images/ArrestPerson_images/PHOTO - Co#_cc4bb56c-2ba2-4ce4-8916-73d426f1f7c51485.jpg\n"
     ]
    },
    {
     "name": "stderr",
     "output_type": "stream",
     "text": [
      " 27%|██▋       | 725/2655 [04:41<10:22,  3.10it/s]"
     ]
    },
    {
     "name": "stdout",
     "output_type": "stream",
     "text": [
      "Error for image data/Want to find/Images/ArrestPerson_images/ArrestPerson_images/PHOTO#_917bd482-0955-4032-96ff-9b8df1a620a2323.jpg\n"
     ]
    },
    {
     "name": "stderr",
     "output_type": "stream",
     "text": [
      " 28%|██▊       | 732/2655 [04:41<04:41,  6.82it/s]"
     ]
    },
    {
     "name": "stdout",
     "output_type": "stream",
     "text": [
      "Error for image data/Want to find/Images/ArrestPerson_images/ArrestPerson_images/Blank Phot#_27b96253-628d-4f58-a125-34542c6414ba319.jpg\n"
     ]
    },
    {
     "name": "stderr",
     "output_type": "stream",
     "text": [
      "\r",
      " 28%|██▊       | 734/2655 [04:41<04:33,  7.02it/s]"
     ]
    },
    {
     "name": "stdout",
     "output_type": "stream",
     "text": [
      "Error for image data/Want to find/Images/ArrestPerson_images/ArrestPerson_images/PHOTO - Co#_ab4f664e-ea7e-4f79-b50b-2262d321ecfc1485.jpg\n"
     ]
    },
    {
     "name": "stderr",
     "output_type": "stream",
     "text": [
      " 28%|██▊       | 739/2655 [04:42<05:19,  5.99it/s]"
     ]
    },
    {
     "name": "stdout",
     "output_type": "stream",
     "text": [
      "Error for image data/Want to find/Images/ArrestPerson_images/ArrestPerson_images/IMAGE 001#_ce3c8aa9-f801-41a4-bab3-af67a1b56be11486.jpg\n",
      "Error for image data/Want to find/Images/ArrestPerson_images/ArrestPerson_images/scan0024#_0c67cee5-86b0-4b67-a29f-22b5d0d768e5311.jpg\n"
     ]
    },
    {
     "name": "stderr",
     "output_type": "stream",
     "text": [
      " 28%|██▊       | 744/2655 [04:44<11:56,  2.67it/s]"
     ]
    },
    {
     "name": "stdout",
     "output_type": "stream",
     "text": [
      "Error for image data/Want to find/Images/ArrestPerson_images/ArrestPerson_images/IMAGE 001#_a8f28016-b27a-4a4c-aafb-5ff0fb56576e1486.jpg\n"
     ]
    },
    {
     "name": "stderr",
     "output_type": "stream",
     "text": [
      "\r",
      " 28%|██▊       | 745/2655 [04:46<26:33,  1.20it/s]"
     ]
    },
    {
     "name": "stdout",
     "output_type": "stream",
     "text": [
      "Error for image data/Want to find/Images/ArrestPerson_images/ArrestPerson_images/PHOTO#_4fbab5af-3f73-48f1-b589-67f2489a8292323.jpg\n"
     ]
    },
    {
     "name": "stderr",
     "output_type": "stream",
     "text": [
      " 28%|██▊       | 749/2655 [04:47<13:21,  2.38it/s]"
     ]
    },
    {
     "name": "stdout",
     "output_type": "stream",
     "text": [
      "Error for image data/Want to find/Images/ArrestPerson_images/ArrestPerson_images/DEMO POTO #_4692d1b6-b85f-4090-8b40-cb3959cd9e681461.jpg\n"
     ]
    },
    {
     "name": "stderr",
     "output_type": "stream",
     "text": [
      " 28%|██▊       | 753/2655 [04:47<08:18,  3.81it/s]"
     ]
    },
    {
     "name": "stdout",
     "output_type": "stream",
     "text": [
      "Error for image data/Want to find/Images/ArrestPerson_images/ArrestPerson_images/Blank Phot#_5e00175d-8a15-4c9f-8e81-3db2ad3b4461319.jpg\n"
     ]
    },
    {
     "name": "stderr",
     "output_type": "stream",
     "text": [
      "\r",
      " 28%|██▊       | 755/2655 [04:50<18:18,  1.73it/s]"
     ]
    },
    {
     "name": "stdout",
     "output_type": "stream",
     "text": [
      "Error for image data/Want to find/Images/ArrestPerson_images/ArrestPerson_images/PHOTO#_a391c538-db6e-4acd-99e5-b46b0acbef00323.jpg\n"
     ]
    },
    {
     "name": "stderr",
     "output_type": "stream",
     "text": [
      " 29%|██▊       | 759/2655 [04:51<10:24,  3.04it/s]"
     ]
    },
    {
     "name": "stdout",
     "output_type": "stream",
     "text": [
      "Error for image data/Want to find/Images/ArrestPerson_images/ArrestPerson_images/03-18#_ded778bd-62d6-43b7-8fd1-04c886e5473f348.jpg\n",
      "Error for image data/Want to find/Images/ArrestPerson_images/ArrestPerson_images/photo not #_cd3d6f62-4af3-46d0-b17d-c5d63ef762231456.jpg\n"
     ]
    },
    {
     "name": "stderr",
     "output_type": "stream",
     "text": [
      " 29%|██▉       | 765/2655 [04:53<12:54,  2.44it/s]"
     ]
    },
    {
     "name": "stdout",
     "output_type": "stream",
     "text": [
      "Error for image data/Want to find/Images/ArrestPerson_images/ArrestPerson_images/160-2#_6c419a8e-e5db-447b-b953-8646b9c9aef21247.jpg\n",
      "Error for image data/Want to find/Images/ArrestPerson_images/ArrestPerson_images/21#_c7c02a01-4fb0-40a7-9a4e-5d58601a4de41478.jpg\n"
     ]
    },
    {
     "name": "stderr",
     "output_type": "stream",
     "text": [
      " 29%|██▉       | 768/2655 [04:56<29:43,  1.06it/s]"
     ]
    },
    {
     "name": "stdout",
     "output_type": "stream",
     "text": [
      "Error for image data/Want to find/Images/ArrestPerson_images/ArrestPerson_images/PHOTO#_b508f8cf-6344-4eaa-acb3-7606da4d86ad323.jpg\n"
     ]
    },
    {
     "name": "stderr",
     "output_type": "stream",
     "text": [
      " 29%|██▉       | 770/2655 [04:56<19:19,  1.63it/s]"
     ]
    },
    {
     "name": "stdout",
     "output_type": "stream",
     "text": [
      "Error for image data/Want to find/Images/ArrestPerson_images/ArrestPerson_images/Photo#_442b6310-dce8-4bc3-94f1-3a7f346b44af364.jpg\n"
     ]
    },
    {
     "name": "stderr",
     "output_type": "stream",
     "text": [
      " 29%|██▉       | 773/2655 [04:58<15:59,  1.96it/s]"
     ]
    },
    {
     "name": "stdout",
     "output_type": "stream",
     "text": [
      "Error for image data/Want to find/Images/ArrestPerson_images/ArrestPerson_images/Untitled54#_3199f528-e4b8-48da-8268-bb1b8f259da31244.jpg\n"
     ]
    },
    {
     "name": "stderr",
     "output_type": "stream",
     "text": [
      " 29%|██▉       | 775/2655 [04:58<10:43,  2.92it/s]"
     ]
    },
    {
     "name": "stdout",
     "output_type": "stream",
     "text": [
      "Error for image data/Want to find/Images/ArrestPerson_images/ArrestPerson_images/PHOTO - Co#_09d547f3-e30d-4496-b863-35a22d4c2d741485.jpg\n"
     ]
    },
    {
     "name": "stderr",
     "output_type": "stream",
     "text": [
      "\r",
      " 29%|██▉       | 776/2655 [05:00<22:02,  1.42it/s]"
     ]
    },
    {
     "name": "stdout",
     "output_type": "stream",
     "text": [
      "Error for image data/Want to find/Images/ArrestPerson_images/ArrestPerson_images/PHOTO#_827af0a4-d88e-461c-a0ba-c2d2353dcdea297.jpg\n"
     ]
    },
    {
     "name": "stderr",
     "output_type": "stream",
     "text": [
      "\r",
      " 29%|██▉       | 777/2655 [05:02<34:04,  1.09s/it]"
     ]
    },
    {
     "name": "stdout",
     "output_type": "stream",
     "text": [
      "Error for image data/Want to find/Images/ArrestPerson_images/ArrestPerson_images/PHOTO#_5b375dd1-1c0b-445a-8d80-45723030694b323.jpg\n"
     ]
    },
    {
     "name": "stderr",
     "output_type": "stream",
     "text": [
      " 29%|██▉       | 780/2655 [05:03<22:46,  1.37it/s]"
     ]
    },
    {
     "name": "stdout",
     "output_type": "stream",
     "text": [
      "Error for image data/Want to find/Images/ArrestPerson_images/ArrestPerson_images/IMAGE 001#_1525356a-7a30-426d-9479-18705afe7f981486.jpg\n"
     ]
    },
    {
     "name": "stderr",
     "output_type": "stream",
     "text": [
      " 30%|██▉       | 784/2655 [05:06<24:26,  1.28it/s]"
     ]
    },
    {
     "name": "stdout",
     "output_type": "stream",
     "text": [
      "Error for image data/Want to find/Images/ArrestPerson_images/ArrestPerson_images/PHOTO#_4edfdea2-f536-4836-aaa3-13c160da09b7323.jpg\n"
     ]
    },
    {
     "name": "stderr",
     "output_type": "stream",
     "text": [
      " 30%|██▉       | 786/2655 [05:06<16:07,  1.93it/s]"
     ]
    },
    {
     "name": "stdout",
     "output_type": "stream",
     "text": [
      "Error for image data/Want to find/Images/ArrestPerson_images/ArrestPerson_images/PHOTO - Co#_43ef52d8-3bc0-4f5a-9413-5dd056f957121485.jpg\n"
     ]
    },
    {
     "name": "stderr",
     "output_type": "stream",
     "text": [
      " 30%|██▉       | 789/2655 [05:08<16:12,  1.92it/s]"
     ]
    },
    {
     "name": "stdout",
     "output_type": "stream",
     "text": [
      "Error for image data/Want to find/Images/ArrestPerson_images/ArrestPerson_images/IMG-201805#_014ef781-5e5c-4650-be1e-e6482904521c1263.jpg\n"
     ]
    },
    {
     "name": "stderr",
     "output_type": "stream",
     "text": [
      "\r",
      " 30%|██▉       | 790/2655 [05:09<26:28,  1.17it/s]"
     ]
    },
    {
     "name": "stdout",
     "output_type": "stream",
     "text": [
      "Error for image data/Want to find/Images/ArrestPerson_images/ArrestPerson_images/IMG ANK#_de9c1b04-98b1-4437-a53a-64421916bb30324.jpg\n"
     ]
    },
    {
     "name": "stderr",
     "output_type": "stream",
     "text": [
      " 30%|██▉       | 793/2655 [05:10<13:49,  2.24it/s]"
     ]
    },
    {
     "name": "stdout",
     "output_type": "stream",
     "text": [
      "Error for image data/Want to find/Images/ArrestPerson_images/ArrestPerson_images/EXTRA#_04531eaa-2b31-420b-8207-ffd1b0b897881464.jpg\n"
     ]
    },
    {
     "name": "stderr",
     "output_type": "stream",
     "text": [
      "\r",
      " 30%|██▉       | 795/2655 [05:11<15:40,  1.98it/s]"
     ]
    },
    {
     "name": "stdout",
     "output_type": "stream",
     "text": [
      "Error for image data/Want to find/Images/ArrestPerson_images/ArrestPerson_images/12_06_2018#_1ea28a1e-3757-4cbc-ac8e-7908b8d3160f1509.jpg\n"
     ]
    },
    {
     "name": "stderr",
     "output_type": "stream",
     "text": [
      "\r",
      " 30%|██▉       | 796/2655 [05:12<13:21,  2.32it/s]"
     ]
    },
    {
     "name": "stdout",
     "output_type": "stream",
     "text": [
      "Error for image data/Want to find/Images/ArrestPerson_images/ArrestPerson_images/PHOTO - Co#_9109f0bb-3e77-4f29-88c2-201b3d4020b81485.jpg\n"
     ]
    },
    {
     "name": "stderr",
     "output_type": "stream",
     "text": [
      " 30%|███       | 799/2655 [05:13<10:21,  2.99it/s]"
     ]
    },
    {
     "name": "stdout",
     "output_type": "stream",
     "text": [
      "Error for image data/Want to find/Images/ArrestPerson_images/ArrestPerson_images/CR 211-201#_4ab5f7c1-2e2a-43f7-8979-8e89a294b6bc1255.jpg\n"
     ]
    },
    {
     "name": "stderr",
     "output_type": "stream",
     "text": [
      " 30%|███       | 802/2655 [05:14<18:21,  1.68it/s]"
     ]
    },
    {
     "name": "stdout",
     "output_type": "stream",
     "text": [
      "Error for image data/Want to find/Images/ArrestPerson_images/ArrestPerson_images/000#_44dca05c-eb0a-43b3-9103-202ea957d0cd1263.jpg\n"
     ]
    },
    {
     "name": "stderr",
     "output_type": "stream",
     "text": [
      "\r",
      " 30%|███       | 803/2655 [05:16<27:45,  1.11it/s]"
     ]
    },
    {
     "name": "stdout",
     "output_type": "stream",
     "text": [
      "Error for image data/Want to find/Images/ArrestPerson_images/ArrestPerson_images/PHOTO 001#_0154ece2-ad52-4d91-9554-8f91cc6878d21473.jpg\n"
     ]
    },
    {
     "name": "stderr",
     "output_type": "stream",
     "text": [
      " 30%|███       | 806/2655 [05:16<15:30,  1.99it/s]"
     ]
    },
    {
     "name": "stdout",
     "output_type": "stream",
     "text": [
      "Error for image data/Want to find/Images/ArrestPerson_images/ArrestPerson_images/IMG-201805#_028c1179-ac9c-4314-a220-bbb7344c515b1263.jpg\n"
     ]
    },
    {
     "name": "stderr",
     "output_type": "stream",
     "text": [
      "\r",
      " 30%|███       | 808/2655 [05:19<23:32,  1.31it/s]"
     ]
    },
    {
     "name": "stdout",
     "output_type": "stream",
     "text": [
      "Error for image data/Want to find/Images/ArrestPerson_images/ArrestPerson_images/PHOTO#_985e9f61-1a21-45ab-bc99-caf970379811323.jpg\n",
      "Error for image data/Want to find/Images/ArrestPerson_images/ArrestPerson_images/Blank Phot#_dc531e91-88d5-4c16-8588-61c6898752aa318.jpg\n"
     ]
    },
    {
     "name": "stderr",
     "output_type": "stream",
     "text": [
      "\r",
      " 31%|███       | 810/2655 [05:19<17:34,  1.75it/s]"
     ]
    },
    {
     "name": "stdout",
     "output_type": "stream",
     "text": [
      "Error for image data/Want to find/Images/ArrestPerson_images/ArrestPerson_images/PHOTO - Co#_bd6af51a-2444-4968-9823-fca399ba10c31485.jpg\n"
     ]
    },
    {
     "name": "stderr",
     "output_type": "stream",
     "text": [
      "\r",
      " 31%|███       | 811/2655 [05:21<28:09,  1.09it/s]"
     ]
    },
    {
     "name": "stdout",
     "output_type": "stream",
     "text": [
      "Error for image data/Want to find/Images/ArrestPerson_images/ArrestPerson_images/PHOTO#_59d9246a-bdf3-44a0-8f35-737078fc23bf323.jpg\n"
     ]
    },
    {
     "name": "stderr",
     "output_type": "stream",
     "text": [
      " 31%|███       | 813/2655 [05:23<24:37,  1.25it/s]"
     ]
    },
    {
     "name": "stdout",
     "output_type": "stream",
     "text": [
      "Error for image data/Want to find/Images/ArrestPerson_images/ArrestPerson_images/PHOTO#_dd7084a3-b7fd-4316-8049-346608308ed4323.jpg\n"
     ]
    },
    {
     "name": "stderr",
     "output_type": "stream",
     "text": [
      " 31%|███       | 818/2655 [05:23<14:29,  2.11it/s]"
     ]
    },
    {
     "name": "stdout",
     "output_type": "stream",
     "text": [
      "Error for image data/Want to find/Images/ArrestPerson_images/ArrestPerson_images/94-2018#_8d0737f3-550f-4799-99e9-5e7bf563d4cd337.jpg\n"
     ]
    },
    {
     "name": "stderr",
     "output_type": "stream",
     "text": [
      " 31%|███       | 821/2655 [05:24<10:56,  2.79it/s]"
     ]
    },
    {
     "name": "stdout",
     "output_type": "stream",
     "text": [
      "Error for image data/Want to find/Images/ArrestPerson_images/ArrestPerson_images/PHOTO - Co#_eadd1bb2-b776-4b52-b519-095bdb602b421485.jpg\n"
     ]
    },
    {
     "name": "stderr",
     "output_type": "stream",
     "text": [
      " 31%|███       | 826/2655 [05:26<17:32,  1.74it/s]"
     ]
    },
    {
     "name": "stdout",
     "output_type": "stream",
     "text": [
      "Error for image data/Want to find/Images/ArrestPerson_images/ArrestPerson_images/Aussed#_91546e69-c60b-4d0b-8ea3-1835e16346281507.jpg\n"
     ]
    },
    {
     "name": "stderr",
     "output_type": "stream",
     "text": [
      "\r",
      " 31%|███       | 827/2655 [05:28<24:37,  1.24it/s]"
     ]
    },
    {
     "name": "stdout",
     "output_type": "stream",
     "text": [
      "Error for image data/Want to find/Images/ArrestPerson_images/ArrestPerson_images/PHOTO#_52906604-a3cd-42c1-b4aa-3e1a1c4a9e41297.jpg\n"
     ]
    },
    {
     "name": "stderr",
     "output_type": "stream",
     "text": [
      " 31%|███▏      | 830/2655 [05:29<13:54,  2.19it/s]"
     ]
    },
    {
     "name": "stdout",
     "output_type": "stream",
     "text": [
      "Error for image data/Want to find/Images/ArrestPerson_images/ArrestPerson_images/CR 211-201#_917434ce-6402-4269-bb55-32176ecdd3271255.jpg\n"
     ]
    },
    {
     "name": "stderr",
     "output_type": "stream",
     "text": [
      "\r",
      " 31%|███▏      | 831/2655 [05:29<10:59,  2.77it/s]"
     ]
    },
    {
     "name": "stdout",
     "output_type": "stream",
     "text": [
      "Error for image data/Want to find/Images/ArrestPerson_images/ArrestPerson_images/1#_cfd36364-efc3-4715-9465-5aa0faa9870a1241.jpg\n",
      "Error for image data/Want to find/Images/ArrestPerson_images/ArrestPerson_images/2222222#_9f6e386e-3f75-4b32-a098-f113fd12eaf41436.jpg\n",
      "Error for image data/Want to find/Images/ArrestPerson_images/ArrestPerson_images/IMG-201805#_265fa697-fc89-436b-ab80-bb6b43f1d7471263.jpg\n",
      "Error for image data/Want to find/Images/ArrestPerson_images/ArrestPerson_images/Blank Phot#_ede58eaf-ecb4-41cf-b88e-e24e757c83f3319.jpg\n"
     ]
    },
    {
     "name": "stderr",
     "output_type": "stream",
     "text": [
      " 32%|███▏      | 837/2655 [05:30<08:16,  3.66it/s]"
     ]
    },
    {
     "name": "stdout",
     "output_type": "stream",
     "text": [
      "Error for image data/Want to find/Images/ArrestPerson_images/ArrestPerson_images/IMAGE 001#_ead765cc-9efa-40f9-be51-9a830f246f4c1445.jpg\n",
      "Error for image data/Want to find/Images/ArrestPerson_images/ArrestPerson_images/EXTRA#_7594089d-bce5-4857-99b2-9411c48b79641464.jpg\n"
     ]
    },
    {
     "name": "stderr",
     "output_type": "stream",
     "text": [
      " 32%|███▏      | 842/2655 [05:31<07:20,  4.12it/s]"
     ]
    },
    {
     "name": "stdout",
     "output_type": "stream",
     "text": [
      "Error for image data/Want to find/Images/ArrestPerson_images/ArrestPerson_images/01 001#_90f22d63-8944-4086-ae29-038d27a2d1de1473.jpg\n"
     ]
    },
    {
     "name": "stderr",
     "output_type": "stream",
     "text": [
      "\r",
      " 32%|███▏      | 844/2655 [05:31<05:40,  5.33it/s]"
     ]
    },
    {
     "name": "stdout",
     "output_type": "stream",
     "text": [
      "Error for image data/Want to find/Images/ArrestPerson_images/ArrestPerson_images/scan0024#_baeb8cb6-5eb9-4907-bdd4-d053a13fefba311.jpg\n"
     ]
    },
    {
     "name": "stderr",
     "output_type": "stream",
     "text": [
      " 32%|███▏      | 849/2655 [05:33<08:21,  3.60it/s]"
     ]
    },
    {
     "name": "stdout",
     "output_type": "stream",
     "text": [
      "Error for image data/Want to find/Images/ArrestPerson_images/ArrestPerson_images/scan0024#_6613843f-45f2-4c01-9124-6a911402712d311.jpg\n"
     ]
    },
    {
     "name": "stderr",
     "output_type": "stream",
     "text": [
      "\r",
      " 32%|███▏      | 850/2655 [05:34<17:42,  1.70it/s]"
     ]
    },
    {
     "name": "stdout",
     "output_type": "stream",
     "text": [
      "Error for image data/Want to find/Images/ArrestPerson_images/ArrestPerson_images/12_06_2018#_30e9a304-1389-47fc-af94-aa75c6e4822a1509.jpg\n"
     ]
    },
    {
     "name": "stderr",
     "output_type": "stream",
     "text": [
      " 32%|███▏      | 855/2655 [05:35<07:53,  3.80it/s]"
     ]
    },
    {
     "name": "stdout",
     "output_type": "stream",
     "text": [
      "Error for image data/Want to find/Images/ArrestPerson_images/ArrestPerson_images/Cr no#_a191a9d4-1a54-43bf-bfbc-ce1dd53898c91257.jpg\n"
     ]
    },
    {
     "name": "stderr",
     "output_type": "stream",
     "text": [
      " 32%|███▏      | 857/2655 [05:37<17:10,  1.74it/s]"
     ]
    },
    {
     "name": "stdout",
     "output_type": "stream",
     "text": [
      "Error for image data/Want to find/Images/ArrestPerson_images/ArrestPerson_images/IMG-201806#_60445148-5d57-493e-8e3e-7e4ef4ae9ea01245.jpg\n"
     ]
    },
    {
     "name": "stderr",
     "output_type": "stream",
     "text": [
      "\r",
      " 32%|███▏      | 859/2655 [05:38<14:42,  2.04it/s]"
     ]
    },
    {
     "name": "stdout",
     "output_type": "stream",
     "text": [
      "Error for image data/Want to find/Images/ArrestPerson_images/ArrestPerson_images/PSR#_8321db03-1697-4879-9715-29df58ce12e4296.jpg\n"
     ]
    },
    {
     "name": "stderr",
     "output_type": "stream",
     "text": [
      " 33%|███▎      | 863/2655 [05:45<1:02:37,  2.10s/it]"
     ]
    },
    {
     "name": "stdout",
     "output_type": "stream",
     "text": [
      "Error for image data/Want to find/Images/ArrestPerson_images/ArrestPerson_images/IMG_0014#_a1f68208-514e-4d82-93dc-e44b427bb9aa298.jpg\n",
      "Error for image"
     ]
    },
    {
     "name": "stderr",
     "output_type": "stream",
     "text": [
      " 33%|███▎      | 865/2655 [05:45<33:01,  1.11s/it]  "
     ]
    },
    {
     "name": "stdout",
     "output_type": "stream",
     "text": [
      " data/Want to find/Images/ArrestPerson_images/ArrestPerson_images/151-1,2#_529e0479-708f-4d8a-b2cd-1db3dd6846ba1247.jpg\n"
     ]
    },
    {
     "name": "stderr",
     "output_type": "stream",
     "text": [
      "\r",
      " 33%|███▎      | 866/2655 [05:46<25:28,  1.17it/s]"
     ]
    },
    {
     "name": "stdout",
     "output_type": "stream",
     "text": [
      "Error for image data/Want to find/Images/ArrestPerson_images/ArrestPerson_images/psr#_45529d96-e0f0-4116-9818-c5b9af364b741505.jpg\n"
     ]
    },
    {
     "name": "stderr",
     "output_type": "stream",
     "text": [
      " 33%|███▎      | 872/2655 [05:49<25:06,  1.18it/s]"
     ]
    },
    {
     "name": "stdout",
     "output_type": "stream",
     "text": [
      "Error for image data/Want to find/Images/ArrestPerson_images/ArrestPerson_images/26_07_2018#_2404b9ca-ced9-4d9a-888d-39481a3fa1121509.jpg\n",
      "Error for image data/Want to find/Images/ArrestPerson_images/ArrestPerson_images/Blank Phot#_21ab0db8-b5cf-419b-95b1-4d154cd2b9b3319.jpg\n"
     ]
    },
    {
     "name": "stderr",
     "output_type": "stream",
     "text": [
      " 33%|███▎      | 880/2655 [05:50<12:36,  2.35it/s]"
     ]
    },
    {
     "name": "stdout",
     "output_type": "stream",
     "text": [
      "Error for image data/Want to find/Images/ArrestPerson_images/ArrestPerson_images/cr38acq#_437f0515-4484-4713-abf6-d9635c5fcd85355.jpg\n"
     ]
    },
    {
     "name": "stderr",
     "output_type": "stream",
     "text": [
      " 33%|███▎      | 883/2655 [05:52<17:02,  1.73it/s]"
     ]
    },
    {
     "name": "stdout",
     "output_type": "stream",
     "text": [
      "Error for image data/Want to find/Images/ArrestPerson_images/ArrestPerson_images/ppppppp_00#_536dd4ee-15eb-41b1-80f1-6e8ffc1a3d681460.jpg\n"
     ]
    },
    {
     "name": "stderr",
     "output_type": "stream",
     "text": [
      "\r",
      " 33%|███▎      | 884/2655 [05:53<20:59,  1.41it/s]"
     ]
    },
    {
     "name": "stdout",
     "output_type": "stream",
     "text": [
      "Error for image data/Want to find/Images/ArrestPerson_images/ArrestPerson_images/000#_b5a5a2f5-a81e-4846-a90b-99ce7eab20b71263.jpg\n"
     ]
    },
    {
     "name": "stderr",
     "output_type": "stream",
     "text": [
      "\r",
      " 33%|███▎      | 885/2655 [05:55<28:44,  1.03it/s]"
     ]
    },
    {
     "name": "stdout",
     "output_type": "stream",
     "text": [
      "Error for image data/Want to find/Images/ArrestPerson_images/ArrestPerson_images/01 001#_a53896be-88d0-4db4-96fb-95d249f51aa01473.jpg\n",
      "Error for image data/Want to find/Images/ArrestPerson_images/ArrestPerson_images/Blank Phot#_4ecc5f86-a712-4095-8612-cc8e2c1f0aef319.jpg\n"
     ]
    },
    {
     "name": "stderr",
     "output_type": "stream",
     "text": [
      "\r",
      " 33%|███▎      | 887/2655 [05:55<21:07,  1.40it/s]"
     ]
    },
    {
     "name": "stdout",
     "output_type": "stream",
     "text": [
      "Error for image data/Want to find/Images/ArrestPerson_images/ArrestPerson_images/IMG-201810#_39b82f43-6294-475f-b5ec-5847dcee03491241.jpg\n"
     ]
    },
    {
     "name": "stderr",
     "output_type": "stream",
     "text": [
      " 34%|███▎      | 890/2655 [05:56<12:37,  2.33it/s]"
     ]
    },
    {
     "name": "stdout",
     "output_type": "stream",
     "text": [
      "Error for image data/Want to find/Images/ArrestPerson_images/ArrestPerson_images/20190214_2#_d9fd54dc-e5de-4f61-86ed-226665c4bc0b1238.jpg\n",
      "Error for image data/Want to find/Images/ArrestPerson_images/ArrestPerson_images/scan0024#_5c06ddf1-a811-45d1-89ac-2aadead112d5311.jpg\n",
      "Error for image data/Want to find/Images/ArrestPerson_images/ArrestPerson_images/cr no 135-#_df9d1256-bc43-48ec-a8d1-46d1ad3970e31507.jpg\n"
     ]
    },
    {
     "name": "stderr",
     "output_type": "stream",
     "text": [
      "\r",
      " 34%|███▎      | 891/2655 [05:56<10:15,  2.87it/s]"
     ]
    },
    {
     "name": "stdout",
     "output_type": "stream",
     "text": [
      "Error for image data/Want to find/Images/ArrestPerson_images/ArrestPerson_images/137-2018#_b8b683d6-c494-42f6-8620-bba5cfcd18901241.jpg\n"
     ]
    },
    {
     "name": "stderr",
     "output_type": "stream",
     "text": [
      " 34%|███▎      | 893/2655 [05:58<16:20,  1.80it/s]"
     ]
    },
    {
     "name": "stdout",
     "output_type": "stream",
     "text": [
      "Error for image data/Want to find/Images/ArrestPerson_images/ArrestPerson_images/PHOTO#_e261d057-9663-42db-a3a8-e89773da286b323.jpg\n",
      "Error for image data/Want to find/Images/ArrestPerson_images/ArrestPerson_images/PHOTO - Co#_83adfae8-218c-4bd1-9dc1-c6c3d340a9db1485.jpg\n"
     ]
    },
    {
     "name": "stderr",
     "output_type": "stream",
     "text": [
      " 34%|███▎      | 895/2655 [05:58<11:46,  2.49it/s]"
     ]
    },
    {
     "name": "stdout",
     "output_type": "stream",
     "text": [
      "Error for image data/Want to find/Images/ArrestPerson_images/ArrestPerson_images/IMG-201807#_69311b0b-9822-4ba5-9c69-6e9dc50e968e1893.jpg\n",
      "Error for image data/Want to find/Images/ArrestPerson_images/ArrestPerson_images/Sangappa c#_5dc1f4f4-22e9-425d-9884-00bd46416c8c1241.jpg\n",
      "Error for image data/Want to find/Images/ArrestPerson_images/ArrestPerson_images/119#_a406f44f-42a2-414b-8488-994a90ecf17f1262.jpg\n"
     ]
    },
    {
     "name": "stderr",
     "output_type": "stream",
     "text": [
      " 34%|███▍      | 900/2655 [05:58<06:42,  4.36it/s]"
     ]
    },
    {
     "name": "stdout",
     "output_type": "stream",
     "text": [
      "Error for image data/Want to find/Images/ArrestPerson_images/ArrestPerson_images/CR NO 127 #_9215e892-8d3e-4f7b-ba08-0ed6ab54f9891253.jpg\n",
      "Error for image data/Want to find/Images/ArrestPerson_images/ArrestPerson_images/Cr no#_2b8dad72-4103-4357-b7fd-687351384a4a1256.jpg\n",
      "Error for image data/Want to find/Images/ArrestPerson_images/ArrestPerson_images/Blank Phot#_9077a8db-131f-44eb-b424-a24d5d06af49319.jpg\n",
      "Error for image data/Want to find/Images/ArrestPerson_images/ArrestPerson_images/PHOTO - Co#_aa18ff0c-a455-42bb-9c02-ac95c2dd1f981485.jpg\n",
      "Error for image data/Want to find/Images/ArrestPerson_images/ArrestPerson_images/57-2018#_93890ac5-dcb2-4bdb-9ae7-ec64e1d188c3305.jpg\n"
     ]
    },
    {
     "name": "stderr",
     "output_type": "stream",
     "text": [
      " 34%|███▍      | 903/2655 [05:59<05:38,  5.17it/s]"
     ]
    },
    {
     "name": "stdout",
     "output_type": "stream",
     "text": [
      "Error for image data/Want to find/Images/ArrestPerson_images/ArrestPerson_images/IMG_201807#_ebe20986-7a3c-479f-bacc-c59c7210bcde346.jpg\n",
      "Error for image data/Want to find/Images/ArrestPerson_images/ArrestPerson_images/IMG_201804#_6c9dab93-c9db-4602-a6df-7e2db51fa9d41239.jpg\n"
     ]
    },
    {
     "name": "stderr",
     "output_type": "stream",
     "text": [
      " 34%|███▍      | 905/2655 [06:00<11:09,  2.62it/s]"
     ]
    },
    {
     "name": "stdout",
     "output_type": "stream",
     "text": [
      "Error for image data/Want to find/Images/ArrestPerson_images/ArrestPerson_images/IMG ANK#_e85d80a7-47c3-404a-8c3a-13238ee0c506324.jpg\n",
      "Error for image data/Want to find/Images/ArrestPerson_images/ArrestPerson_images/FB_IMG_153#_38861dc8-0d9a-4983-b045-f04ff0529ed91234.jpg\n"
     ]
    },
    {
     "name": "stderr",
     "output_type": "stream",
     "text": [
      "\r",
      " 34%|███▍      | 906/2655 [06:01<11:46,  2.47it/s]"
     ]
    },
    {
     "name": "stdout",
     "output_type": "stream",
     "text": [
      "Error for image data/Want to find/Images/ArrestPerson_images/ArrestPerson_images/Hanumantha#_2a498268-6ad5-440a-92ee-d202d6e37f84357.jpg\n",
      "Error for image data/Want to find/Images/ArrestPerson_images/ArrestPerson_images/V Marappa#_786754a7-5866-4d11-87a3-9738afc01fa61502.jpg\n"
     ]
    },
    {
     "name": "stderr",
     "output_type": "stream",
     "text": [
      " 34%|███▍      | 909/2655 [06:05<20:11,  1.44it/s]"
     ]
    },
    {
     "name": "stdout",
     "output_type": "stream",
     "text": [
      "Error for image data/Want to find/Images/ArrestPerson_images/ArrestPerson_images/IMG_0014#_434da150-d373-4941-9bfd-99a246f10af7298.jpg\n",
      "Error for image data/Want to find/Images/ArrestPerson_images/ArrestPerson_images/A5-Mahabas#_382cf320-d798-466b-9d3e-30c024408ae9356.jpg\n"
     ]
    },
    {
     "name": "stderr",
     "output_type": "stream",
     "text": [
      "\r",
      " 34%|███▍      | 910/2655 [06:05<15:24,  1.89it/s]"
     ]
    },
    {
     "name": "stdout",
     "output_type": "stream",
     "text": [
      "Error for image data/Want to find/Images/ArrestPerson_images/ArrestPerson_images/Untitled54#_1ad3ece2-a10a-4a5d-8882-27a43cbe2b0d1234.jpg\n"
     ]
    },
    {
     "name": "stderr",
     "output_type": "stream",
     "text": [
      "\r",
      " 34%|███▍      | 911/2655 [06:06<15:03,  1.93it/s]"
     ]
    },
    {
     "name": "stdout",
     "output_type": "stream",
     "text": [
      "Error for image data/Want to find/Images/ArrestPerson_images/ArrestPerson_images/151-6,7#_78618ab4-a867-4dd7-89cc-356c9a7780031247.jpg\n"
     ]
    },
    {
     "name": "stderr",
     "output_type": "stream",
     "text": [
      " 34%|███▍      | 913/2655 [06:07<15:00,  1.93it/s]"
     ]
    },
    {
     "name": "stdout",
     "output_type": "stream",
     "text": [
      "Error for image data/Want to find/Images/ArrestPerson_images/ArrestPerson_images/20180628_1#_c617cabd-ae52-4095-9197-c94da023005f1507.jpg\n",
      "Error for image data/Want to find/Images/ArrestPerson_images/ArrestPerson_images/IMG_0002#_8106dbbc-9325-4bbb-95cf-c4ac9cb990392189.jpg\n"
     ]
    },
    {
     "name": "stderr",
     "output_type": "stream",
     "text": [
      " 34%|███▍      | 915/2655 [06:08<15:45,  1.84it/s]"
     ]
    },
    {
     "name": "stdout",
     "output_type": "stream",
     "text": [
      "Error for image data/Want to find/Images/ArrestPerson_images/ArrestPerson_images/01 001#_bb7c6c23-2643-4054-9078-89c5eb78f3391473.jpg\n",
      "Error for image data/Want to find/Images/ArrestPerson_images/ArrestPerson_images/Untitled54#_fbd6290b-e076-4809-aadc-50ddcf682fd41241.jpg\n"
     ]
    },
    {
     "name": "stderr",
     "output_type": "stream",
     "text": [
      "\r",
      " 35%|███▍      | 919/2655 [06:09<11:31,  2.51it/s]"
     ]
    },
    {
     "name": "stdout",
     "output_type": "stream",
     "text": [
      "Error for image data/Want to find/Images/ArrestPerson_images/ArrestPerson_images/IMG-201807#_86f5de6b-2f12-49be-a87d-510c7da5dabc1455.jpg\n",
      "Error for image data/Want to find/Images/ArrestPerson_images/ArrestPerson_images/135#_28f8f2c9-5bc1-45f1-8f3c-ac283103ac641456.jpg\n",
      "Error for image data/Want to find/Images/ArrestPerson_images/ArrestPerson_images/ppppppp_00#_33b12ef1-edd9-4a7b-90c4-e649a2f5a0401460.jpg\n",
      "Error for image data/Want to find/Images/ArrestPerson_images/ArrestPerson_images/105#_b8e15a40-d9a5-40a0-8049-b43a79a6fef21250.jpg\n"
     ]
    },
    {
     "name": "stderr",
     "output_type": "stream",
     "text": [
      "\r",
      " 35%|███▍      | 921/2655 [06:09<08:53,  3.25it/s]"
     ]
    },
    {
     "name": "stdout",
     "output_type": "stream",
     "text": [
      "Error for image data/Want to find/Images/ArrestPerson_images/ArrestPerson_images/03-18#_42954c25-0d48-4958-83ed-c49d4c18169e348.jpg\n",
      "Error for image data/Want to find/Images/ArrestPerson_images/ArrestPerson_images/PHOTO - Co#_ae046f9b-e6f3-452f-8c67-52daec080ff81485.jpg\n"
     ]
    },
    {
     "name": "stderr",
     "output_type": "stream",
     "text": [
      " 35%|███▍      | 924/2655 [06:09<06:01,  4.78it/s]"
     ]
    },
    {
     "name": "stdout",
     "output_type": "stream",
     "text": [
      "Error for image data/Want to find/Images/ArrestPerson_images/ArrestPerson_images/Cr NO#_c37e299b-3a7a-4829-9446-9c05197c99322205.jpg\n",
      "Error for image data/Want to find/Images/ArrestPerson_images/ArrestPerson_images/94#_373e9ff6-9cb6-4eee-a727-f5088267521b363.jpg\n",
      "Error for image data/Want to find/Images/ArrestPerson_images/ArrestPerson_images/6#_c12be077-efb6-4eb9-84ad-9be22182baed1241.jpg\n"
     ]
    },
    {
     "name": "stderr",
     "output_type": "stream",
     "text": [
      "\r",
      " 35%|███▍      | 925/2655 [06:10<08:38,  3.34it/s]"
     ]
    },
    {
     "name": "stdout",
     "output_type": "stream",
     "text": [
      "Error for image data/Want to find/Images/ArrestPerson_images/ArrestPerson_images/151-8,9#_8c2a2495-7e8c-4fde-aaf7-502c1a730f001247.jpg\n"
     ]
    },
    {
     "name": "stderr",
     "output_type": "stream",
     "text": [
      "\r",
      " 35%|███▍      | 926/2655 [06:10<10:21,  2.78it/s]"
     ]
    },
    {
     "name": "stdout",
     "output_type": "stream",
     "text": [
      "Error for image data/Want to find/Images/ArrestPerson_images/ArrestPerson_images/IMAGE 001#_4c0a51a4-0641-4ef4-85eb-9d202b9af7811486.jpg\n"
     ]
    },
    {
     "name": "stderr",
     "output_type": "stream",
     "text": [
      "\r",
      " 35%|███▍      | 927/2655 [06:11<18:59,  1.52it/s]"
     ]
    },
    {
     "name": "stdout",
     "output_type": "stream",
     "text": [
      "Error for image data/Want to find/Images/ArrestPerson_images/ArrestPerson_images/PHOTO#_15ced599-9353-4321-a23e-d0e6945463bc323.jpg\n"
     ]
    },
    {
     "name": "stderr",
     "output_type": "stream",
     "text": [
      "\r",
      " 35%|███▍      | 928/2655 [06:13<24:18,  1.18it/s]"
     ]
    },
    {
     "name": "stdout",
     "output_type": "stream",
     "text": [
      "Error for image data/Want to find/Images/ArrestPerson_images/ArrestPerson_images/25_06_2018#_6c4e97f3-0998-4382-92fd-826da85550b11509.jpg\n"
     ]
    },
    {
     "name": "stderr",
     "output_type": "stream",
     "text": [
      " 35%|███▌      | 930/2655 [06:13<14:09,  2.03it/s]"
     ]
    },
    {
     "name": "stdout",
     "output_type": "stream",
     "text": [
      "Error for image data/Want to find/Images/ArrestPerson_images/ArrestPerson_images/CR#_2e534cd4-cc70-47df-887e-680d721190db344.jpg\n",
      "Error for image data/Want to find/Images/ArrestPerson_images/ArrestPerson_images/60-2018#_11effd2d-1dda-4a48-868a-83700f947653305.jpg\n",
      "Error for image data/Want to find/Images/ArrestPerson_images/ArrestPerson_images/IMG-201805#_3c146d99-112a-4107-b928-04da04c417f71263.jpg\n"
     ]
    },
    {
     "name": "stderr",
     "output_type": "stream",
     "text": [
      " 35%|███▌      | 933/2655 [06:13<08:44,  3.28it/s]"
     ]
    },
    {
     "name": "stdout",
     "output_type": "stream",
     "text": [
      "Error for image data/Want to find/Images/ArrestPerson_images/ArrestPerson_images/CR 73 Pury#_07fcb3a2-d79c-40c2-ad18-9cc8812ea51b1508.jpg\n",
      "Error for image data/Want to find/Images/ArrestPerson_images/ArrestPerson_images/Jagadesh#_6871abdd-0d71-4835-96c0-5273fc3782d8362.jpg\n",
      "Error for image data/Want to find/Images/ArrestPerson_images/ArrestPerson_images/IMG_0001#_f291987a-063b-4ec7-a8b9-6d3429a48e0e1456.jpg\n",
      "Error for image data/Want to find/Images/ArrestPerson_images/ArrestPerson_images/Honnuraswa#_0c854e0f-ca18-47ab-8900-9e4c345edaaf1502.jpg\n"
     ]
    },
    {
     "name": "stderr",
     "output_type": "stream",
     "text": [
      "\r",
      " 35%|███▌      | 937/2655 [06:14<06:34,  4.35it/s]"
     ]
    },
    {
     "name": "stdout",
     "output_type": "stream",
     "text": [
      "Error for image data/Want to find/Images/ArrestPerson_images/ArrestPerson_images/Shekshaval#_b68e7bf8-fefb-4f51-8ef6-edf5eb5ca9951502.jpg\n",
      "Error for image data/Want to find/Images/ArrestPerson_images/ArrestPerson_images/CR#_e64a2b4b-eba2-47f7-b668-9c717b2444e0344.jpg\n"
     ]
    },
    {
     "name": "stderr",
     "output_type": "stream",
     "text": [
      "\r",
      " 35%|███▌      | 939/2655 [06:14<06:09,  4.65it/s]"
     ]
    },
    {
     "name": "stdout",
     "output_type": "stream",
     "text": [
      "Error for image data/Want to find/Images/ArrestPerson_images/ArrestPerson_images/PHOTO - Co#_b068675f-c44f-4a15-a03b-5626fc2bfb3c1485.jpg\n",
      "Error for image data/Want to find/Images/ArrestPerson_images/ArrestPerson_images/65-2018#_3e9d6441-43c2-4e89-8181-4444329359d9305.jpg\n",
      "Error for image data/Want to find/Images/ArrestPerson_images/ArrestPerson_images/16#_99747776-1530-483f-b3ff-93bb0b8905c2311.jpg\n",
      "Error for image data/Want to find/Images/ArrestPerson_images/ArrestPerson_images/_IMG_0001#_bc33b03a-94b8-46ac-b9f3-d44cf7fe5931337.jpg\n"
     ]
    },
    {
     "name": "stderr",
     "output_type": "stream",
     "text": [
      " 36%|███▌      | 943/2655 [06:15<06:43,  4.24it/s]"
     ]
    },
    {
     "name": "stdout",
     "output_type": "stream",
     "text": [
      "Error for image data/Want to find/Images/ArrestPerson_images/ArrestPerson_images/29_06_2018#_1ce31fc0-476d-4c6e-a740-be39ab7383231509.jpg\n",
      "Error for image data/Want to find/Images/ArrestPerson_images/ArrestPerson_images/Masum lade#_9f3d1758-0ab5-4960-895a-ab41046bd1521241.jpg\n",
      "Error for image data/Want to find/Images/ArrestPerson_images/ArrestPerson_images/Blank Phot#_d61ff7a6-61c4-4f6a-9842-842290126bbf319.jpg\n",
      "Error for image data/Want to find/Images/ArrestPerson_images/ArrestPerson_images/Cr no#_2db7f113-59d4-4c85-8f70-94d5700f8a981256.jpg\n"
     ]
    },
    {
     "name": "stderr",
     "output_type": "stream",
     "text": [
      "\r",
      " 36%|███▌      | 946/2655 [06:16<05:10,  5.50it/s]"
     ]
    },
    {
     "name": "stdout",
     "output_type": "stream",
     "text": [
      "Error for image data/Want to find/Images/ArrestPerson_images/ArrestPerson_images/CR NO 124 #_4b0c6cb9-a37e-443b-bce4-37a32873e5191253.jpg\n"
     ]
    },
    {
     "name": "stderr",
     "output_type": "stream",
     "text": [
      "\r",
      " 36%|███▌      | 948/2655 [06:16<05:15,  5.42it/s]"
     ]
    },
    {
     "name": "stdout",
     "output_type": "stream",
     "text": [
      "Error for image data/Want to find/Images/ArrestPerson_images/ArrestPerson_images/Untitled54#_065b65d6-ae7c-4796-a347-d90584efea8c1244.jpg\n",
      "Error for image data/Want to find/Images/ArrestPerson_images/ArrestPerson_images/IMG_0005#_7c74ded9-1e5e-4468-b9ab-f35181e107dd2189.jpg\n"
     ]
    },
    {
     "name": "stderr",
     "output_type": "stream",
     "text": [
      "\r",
      " 36%|███▌      | 949/2655 [06:16<04:46,  5.96it/s]"
     ]
    },
    {
     "name": "stdout",
     "output_type": "stream",
     "text": [
      "Error for image data/Want to find/Images/ArrestPerson_images/ArrestPerson_images/001#_6954e0b3-3915-4819-9670-83dad5b428801257.jpg\n"
     ]
    },
    {
     "name": "stderr",
     "output_type": "stream",
     "text": [
      " 36%|███▌      | 951/2655 [06:17<07:00,  4.05it/s]"
     ]
    },
    {
     "name": "stdout",
     "output_type": "stream",
     "text": [
      "Error for image data/Want to find/Images/ArrestPerson_images/ArrestPerson_images/G M Rajann#_f1bcde5c-27a3-4ff0-a3c4-ed7cdde7f4691502.jpg\n",
      "Error for image data/Want to find/Images/ArrestPerson_images/ArrestPerson_images/IMG-201806#_21331396-307f-4444-94c5-fc50b4dd2bc91245.jpg\n"
     ]
    },
    {
     "name": "stderr",
     "output_type": "stream",
     "text": [
      " 36%|███▌      | 953/2655 [06:18<08:37,  3.29it/s]"
     ]
    },
    {
     "name": "stdout",
     "output_type": "stream",
     "text": [
      "Error for image data/Want to find/Images/ArrestPerson_images/ArrestPerson_images/IMAGE 001#_2b928b64-2380-45b2-a578-dfc79f40bf5a1486.jpg\n",
      "Error for image data/Want to find/Images/ArrestPerson_images/ArrestPerson_images/108-5#_96911e31-2357-4f45-84c8-2b53de247cf51249.jpg\n"
     ]
    },
    {
     "name": "stderr",
     "output_type": "stream",
     "text": [
      "\r",
      " 36%|███▌      | 956/2655 [06:18<06:33,  4.31it/s]"
     ]
    },
    {
     "name": "stdout",
     "output_type": "stream",
     "text": [
      "Error for image data/Want to find/Images/ArrestPerson_images/ArrestPerson_images/EXTRA#_33517d8d-b995-41c2-9cff-d1f5ede5f9f51464.jpg\n",
      "Error for image data/Want to find/Images/ArrestPerson_images/ArrestPerson_images/107#_8e58d932-8f0e-48c3-b7c1-18af7b04fe82363.jpg\n",
      "Error for image data/Want to find/Images/ArrestPerson_images/ArrestPerson_images/CRNO-110-1#_b2800bfc-393e-4c3a-9129-5ea6fc15647c1437.jpg\n"
     ]
    },
    {
     "name": "stderr",
     "output_type": "stream",
     "text": [
      " 36%|███▌      | 958/2655 [06:18<05:13,  5.41it/s]"
     ]
    },
    {
     "name": "stdout",
     "output_type": "stream",
     "text": [
      "Error for image data/Want to find/Images/ArrestPerson_images/ArrestPerson_images/IMG2018070#_6f4793d0-227e-464c-9503-5a090e20ee601245.jpg\n",
      "Error for image data/Want to find/Images/ArrestPerson_images/ArrestPerson_images/A10-Ananda#_f6091aba-5005-4abd-b526-a1a2387de3a2356.jpg\n"
     ]
    },
    {
     "name": "stderr",
     "output_type": "stream",
     "text": [
      "\r",
      " 36%|███▌      | 959/2655 [06:18<04:59,  5.67it/s]"
     ]
    },
    {
     "name": "stdout",
     "output_type": "stream",
     "text": [
      "Error for image data/Want to find/Images/ArrestPerson_images/ArrestPerson_images/IMG_0001#_0e60301a-0779-4524-87e9-5e92670dfdd52189.jpg\n",
      "Error for image data/Want to find/Images/ArrestPerson_images/ArrestPerson_images/161#_0c58686c-9502-40fe-aa72-a1c3fea3d7c91247.jpg\n",
      "Error for image data/Want to find/Images/ArrestPerson_images/ArrestPerson_images/96-2018#_100e0bdf-0dcb-489c-a712-4027799d47e2337.jpg\n"
     ]
    },
    {
     "name": "stderr",
     "output_type": "stream",
     "text": [
      " 36%|███▋      | 963/2655 [06:20<06:01,  4.68it/s]"
     ]
    },
    {
     "name": "stdout",
     "output_type": "stream",
     "text": [
      "Error for image data/Want to find/Images/ArrestPerson_images/ArrestPerson_images/Galiswamy#_a67954ad-7221-4d13-98b1-d82d278938ee351.jpg\n",
      "Error for image data/Want to find/Images/ArrestPerson_images/ArrestPerson_images/55-2018#_5eef3a66-2807-4015-8118-9dd1af905cf2305.jpg\n"
     ]
    },
    {
     "name": "stderr",
     "output_type": "stream",
     "text": [
      "\r",
      " 36%|███▋      | 964/2655 [06:20<09:19,  3.02it/s]"
     ]
    },
    {
     "name": "stdout",
     "output_type": "stream",
     "text": [
      "Error for image data/Want to find/Images/ArrestPerson_images/ArrestPerson_images/PSR#_9edac079-b61c-4627-b3bb-ff8b46128f60296.jpg\n",
      "Error for image data/Want to find/Images/ArrestPerson_images/ArrestPerson_images/40-18 ACCU#_0c36e32b-4ce7-4f59-b93c-63bfccf4912f1237.jpg\n"
     ]
    },
    {
     "name": "stderr",
     "output_type": "stream",
     "text": [
      "\r",
      " 36%|███▋      | 966/2655 [06:22<15:41,  1.79it/s]"
     ]
    },
    {
     "name": "stdout",
     "output_type": "stream",
     "text": [
      "Error for image data/Want to find/Images/ArrestPerson_images/ArrestPerson_images/Cr No-79-2#_4fc7bb44-7999-4865-a5d1-cb6337a2d1611467.jpg\n"
     ]
    },
    {
     "name": "stderr",
     "output_type": "stream",
     "text": [
      "\r",
      " 36%|███▋      | 967/2655 [06:23<18:46,  1.50it/s]"
     ]
    },
    {
     "name": "stdout",
     "output_type": "stream",
     "text": [
      "Error for image data/Want to find/Images/ArrestPerson_images/ArrestPerson_images/12_06_2018#_9e6ca1a4-0811-495d-84bd-1d0e04d5a71d1509.jpg\n"
     ]
    },
    {
     "name": "stderr",
     "output_type": "stream",
     "text": [
      "\r",
      " 36%|███▋      | 968/2655 [06:24<15:04,  1.87it/s]"
     ]
    },
    {
     "name": "stdout",
     "output_type": "stream",
     "text": [
      "Error for image data/Want to find/Images/ArrestPerson_images/ArrestPerson_images/CR 211-201#_0b43c645-3338-48bf-87d2-aa3f1ff94fd31255.jpg\n"
     ]
    },
    {
     "name": "stderr",
     "output_type": "stream",
     "text": [
      " 37%|███▋      | 972/2655 [06:24<10:13,  2.75it/s]"
     ]
    },
    {
     "name": "stdout",
     "output_type": "stream",
     "text": [
      "Error for image data/Want to find/Images/ArrestPerson_images/ArrestPerson_images/A-2#_f2f6a42d-39ee-4883-856d-e96f62cddb7e351.jpg\n",
      "Error for image data/Want to find/Images/ArrestPerson_images/ArrestPerson_images/001#_5bc460c2-824a-4f6d-97b8-6cc707cd0dde1244.jpg\n",
      "Error for image data/Want to find/Images/ArrestPerson_images/ArrestPerson_images/119#_e5779dc5-66c1-4b5d-a802-b2d832e2144c1262.jpg\n",
      "Error for image data/Want to find/Images/ArrestPerson_images/ArrestPerson_images/CR No 130-#_ac777e73-2088-461e-897f-124e835c86621502.jpg\n",
      "Error for image data/Want to find/Images/ArrestPerson_images/ArrestPerson_images/IMG_201809#_2c027916-f5bb-4bb1-b277-5eb79a0724e6318.jpg\n"
     ]
    },
    {
     "name": "stderr",
     "output_type": "stream",
     "text": [
      " 37%|███▋      | 975/2655 [06:26<11:12,  2.50it/s]"
     ]
    },
    {
     "name": "stdout",
     "output_type": "stream",
     "text": [
      "Error for image data/Want to find/Images/ArrestPerson_images/ArrestPerson_images/IMG-201810#_7e2c0731-93f4-4e52-bedc-530df23ebcd41257.jpg\n",
      "Error for image data/Want to find/Images/ArrestPerson_images/ArrestPerson_images/CR NO 97#_12df6f49-7347-424c-842c-136095974cbc1258.jpg\n",
      "Error for image data/Want to find/Images/ArrestPerson_images/ArrestPerson_images/234-2018  #_7968233c-802e-46f6-9731-49f570ddeefd338.jpg\n"
     ]
    },
    {
     "name": "stderr",
     "output_type": "stream",
     "text": [
      "\r",
      " 37%|███▋      | 978/2655 [06:26<08:27,  3.31it/s]"
     ]
    },
    {
     "name": "stdout",
     "output_type": "stream",
     "text": [
      "Error for image data/Want to find/Images/ArrestPerson_images/ArrestPerson_images/PHOTO - Co#_530f9940-2c26-40da-a5d0-f53e898e37001485.jpg\n"
     ]
    },
    {
     "name": "stderr",
     "output_type": "stream",
     "text": [
      " 37%|███▋      | 980/2655 [06:27<09:09,  3.05it/s]"
     ]
    },
    {
     "name": "stdout",
     "output_type": "stream",
     "text": [
      "Error for image data/Want to find/Images/ArrestPerson_images/ArrestPerson_images/PSR#_b77ff9f8-6fdc-479d-a40d-5265b618aee6296.jpg\n",
      "Error for image data/Want to find/Images/ArrestPerson_images/ArrestPerson_images/YADAWAD#_7588335e-199e-47e7-ac1c-71fd0fe270c91255.jpg\n"
     ]
    },
    {
     "name": "stderr",
     "output_type": "stream",
     "text": [
      "\r",
      " 37%|███▋      | 981/2655 [06:27<11:01,  2.53it/s]"
     ]
    },
    {
     "name": "stdout",
     "output_type": "stream",
     "text": [
      "Error for image data/Want to find/Images/ArrestPerson_images/ArrestPerson_images/IMAGE 001#_72750245-556e-46c1-9842-938efdf98baf1486.jpg\n",
      "Error for image data/Want to find/Images/ArrestPerson_images/ArrestPerson_images/Faruqahama#_f99efd9d-70d4-4b38-ab93-42be652e442d1236.jpg\n"
     ]
    },
    {
     "name": "stderr",
     "output_type": "stream",
     "text": [
      "\r",
      " 37%|███▋      | 983/2655 [06:28<09:48,  2.84it/s]"
     ]
    },
    {
     "name": "stdout",
     "output_type": "stream",
     "text": [
      "Error for image data/Want to find/Images/ArrestPerson_images/ArrestPerson_images/GNPS- Crim#_6d53974d-6c60-4ae9-94b6-65c725503567335.jpg\n"
     ]
    },
    {
     "name": "stderr",
     "output_type": "stream",
     "text": [
      "\r",
      " 37%|███▋      | 984/2655 [06:29<18:19,  1.52it/s]"
     ]
    },
    {
     "name": "stdout",
     "output_type": "stream",
     "text": [
      "Error for image data/Want to find/Images/ArrestPerson_images/ArrestPerson_images/Cr no#_95d0d913-8b26-4017-bb46-0954f173419d1256.jpg\n"
     ]
    },
    {
     "name": "stderr",
     "output_type": "stream",
     "text": [
      "\r",
      " 37%|███▋      | 986/2655 [06:30<14:16,  1.95it/s]"
     ]
    },
    {
     "name": "stdout",
     "output_type": "stream",
     "text": [
      "Error for image data/Want to find/Images/ArrestPerson_images/ArrestPerson_images/ACCUED NOT#_a50d92cf-4563-4304-affb-f635da42f5fa303.jpg\n",
      "Error for image data/Want to find/Images/ArrestPerson_images/ArrestPerson_images/_IMG#_4dffd4db-3c52-4bc4-8538-0b5cd38bbe7d337.jpg\n"
     ]
    },
    {
     "name": "stderr",
     "output_type": "stream",
     "text": [
      "\r",
      " 37%|███▋      | 988/2655 [06:32<19:33,  1.42it/s]"
     ]
    },
    {
     "name": "stdout",
     "output_type": "stream",
     "text": [
      "Error for image data/Want to find/Images/ArrestPerson_images/ArrestPerson_images/20180624_2#_0c760c62-1f81-4cc2-9fbd-c8fe46639b601507.jpg\n"
     ]
    },
    {
     "name": "stderr",
     "output_type": "stream",
     "text": [
      " 37%|███▋      | 990/2655 [06:33<17:14,  1.61it/s]"
     ]
    },
    {
     "name": "stdout",
     "output_type": "stream",
     "text": [
      "Error for image data/Want to find/Images/ArrestPerson_images/ArrestPerson_images/24_06_2018#_0505a2f5-2dcf-4e65-98e5-79771cfea3ec1509.jpg\n",
      "Error for image data/Want to find/Images/ArrestPerson_images/ArrestPerson_images/PHOTO - Co#_072455c0-bd68-431c-b38f-482f128e12451485.jpg\n"
     ]
    },
    {
     "name": "stderr",
     "output_type": "stream",
     "text": [
      " 37%|███▋      | 992/2655 [06:39<40:09,  1.45s/it]"
     ]
    },
    {
     "name": "stdout",
     "output_type": "stream",
     "text": [
      "Error for image data/Want to find/Images/ArrestPerson_images/ArrestPerson_images/IMG_0014#_714dd455-1704-4849-a024-f68f35ff3261298.jpg\n",
      "Error for image data/Want to find/Images/ArrestPerson_images/ArrestPerson_images/CR NO-108-#_e061afad-1617-40c0-b928-6db17425a86b365.jpg\n"
     ]
    },
    {
     "name": "stderr",
     "output_type": "stream",
     "text": [
      "\r",
      " 37%|███▋      | 993/2655 [06:39<29:23,  1.06s/it]"
     ]
    },
    {
     "name": "stdout",
     "output_type": "stream",
     "text": [
      "Error for image data/Want to find/Images/ArrestPerson_images/ArrestPerson_images/PHOTO - Co#_acae6ecd-493a-409a-ac08-2f5c076f24fe1485.jpg\n"
     ]
    },
    {
     "name": "stderr",
     "output_type": "stream",
     "text": [
      "\r",
      " 37%|███▋      | 994/2655 [06:39<23:11,  1.19it/s]"
     ]
    },
    {
     "name": "stdout",
     "output_type": "stream",
     "text": [
      "Error for image data/Want to find/Images/ArrestPerson_images/ArrestPerson_images/A-1 SANTOS#_ea273d75-090a-47cc-9a40-e71cc67617e81442.jpg\n"
     ]
    },
    {
     "name": "stderr",
     "output_type": "stream",
     "text": [
      " 38%|███▊      | 996/2655 [06:40<16:03,  1.72it/s]"
     ]
    },
    {
     "name": "stdout",
     "output_type": "stream",
     "text": [
      "Error for image data/Want to find/Images/ArrestPerson_images/ArrestPerson_images/20180701_1#_7793188e-fe93-46ef-8bd8-d9e929a593c31482.jpg\n",
      "Error for image data/Want to find/Images/ArrestPerson_images/ArrestPerson_images/PHOTO - Co#_fe0e31ba-e258-4a60-9a90-dab462d5e0401485.jpg\n"
     ]
    },
    {
     "name": "stderr",
     "output_type": "stream",
     "text": [
      "\r",
      " 38%|███▊      | 997/2655 [06:42<28:22,  1.03s/it]"
     ]
    },
    {
     "name": "stdout",
     "output_type": "stream",
     "text": [
      "Error for image data/Want to find/Images/ArrestPerson_images/ArrestPerson_images/28_07_2018#_4385c807-4738-4a30-b537-d7eb7057a40a1509.jpg\n"
     ]
    },
    {
     "name": "stderr",
     "output_type": "stream",
     "text": [
      " 38%|███▊      | 1002/2655 [06:43<17:58,  1.53it/s]"
     ]
    },
    {
     "name": "stdout",
     "output_type": "stream",
     "text": [
      "Error for image data/Want to find/Images/ArrestPerson_images/ArrestPerson_images/IMAGE 001#_dc5fd9a3-705e-4a16-9bb6-e6f68f51dd931486.jpg\n",
      "Error for image data/Want to find/Images/ArrestPerson_images/ArrestPerson_images/163-C#_e54659b8-2c3d-45c8-952d-1abe9f049d271247.jpg\n",
      "Error for image data/Want to find/Images/ArrestPerson_images/ArrestPerson_images/Bomma#_d3da48ce-ed34-4bba-a56d-6a44d39cf0b6363.jpg\n",
      "Error for image data/Want to find/Images/ArrestPerson_images/ArrestPerson_images/ppppppp_00#_9e2e8b39-a521-423b-958c-50c9f36b8fb01460.jpg\n",
      "Error for image data/Want to find/Images/ArrestPerson_images/ArrestPerson_images/PSR-2018#_6b6e137c-1053-4944-9938-287b516efc1c1505.jpg\n"
     ]
    },
    {
     "name": "stderr",
     "output_type": "stream",
     "text": [
      "\r",
      " 38%|███▊      | 1003/2655 [06:43<15:25,  1.79it/s]"
     ]
    },
    {
     "name": "stdout",
     "output_type": "stream",
     "text": [
      "Error for image data/Want to find/Images/ArrestPerson_images/ArrestPerson_images/IMG_201807#_81cd7b60-8e23-487b-b505-90727c8e73c8346.jpg\n"
     ]
    },
    {
     "name": "stderr",
     "output_type": "stream",
     "text": [
      " 38%|███▊      | 1006/2655 [06:44<10:45,  2.55it/s]"
     ]
    },
    {
     "name": "stdout",
     "output_type": "stream",
     "text": [
      "Error for image data/Want to find/Images/ArrestPerson_images/ArrestPerson_images/A-4 MAHESH#_3664e3b4-a42a-4c54-a79c-c7b9997c83491442.jpg\n",
      "Error for image data/Want to find/Images/ArrestPerson_images/ArrestPerson_images/155-18 001#_86a4d97e-9aa4-4b33-94e2-920da2c347d81486.jpg\n"
     ]
    },
    {
     "name": "stderr",
     "output_type": "stream",
     "text": [
      "\r",
      " 38%|███▊      | 1007/2655 [06:44<12:05,  2.27it/s]"
     ]
    },
    {
     "name": "stdout",
     "output_type": "stream",
     "text": [
      "Error for image data/Want to find/Images/ArrestPerson_images/ArrestPerson_images/CR 211-201#_c5e67992-59a0-464f-ba0d-1753b244d6c71255.jpg\n"
     ]
    },
    {
     "name": "stderr",
     "output_type": "stream",
     "text": [
      " 38%|███▊      | 1010/2655 [06:46<17:05,  1.60it/s]"
     ]
    },
    {
     "name": "stdout",
     "output_type": "stream",
     "text": [
      "Error for image data/Want to find/Images/ArrestPerson_images/ArrestPerson_images/PHOTO#_2aceb601-b2e3-4b6d-9a88-16647e3eed06323.jpg\n",
      "Error for image data/Want to find/Images/ArrestPerson_images/ArrestPerson_images/CR NO 226-#_f9bd7ed2-4c02-45cc-9c8f-d09c08a6a6c4333.jpg\n",
      "Error for image data/Want to find/Images/ArrestPerson_images/ArrestPerson_images/67#_30839979-570d-4662-b58f-9a37aa1709f61506.jpg\n",
      "Error for image data/Want to find/Images/ArrestPerson_images/ArrestPerson_images/CR No 130-#_7c055b23-aa60-4a59-a332-8f664b94061f1502.jpg\n",
      "Error for image data/Want to find/Images/ArrestPerson_images/ArrestPerson_images/Blank Phot#_599f5449-0eda-4564-a78c-973ef850b243319.jpg\n"
     ]
    },
    {
     "name": "stderr",
     "output_type": "stream",
     "text": [
      "\r",
      " 38%|███▊      | 1013/2655 [06:46<12:25,  2.20it/s]"
     ]
    },
    {
     "name": "stdout",
     "output_type": "stream",
     "text": [
      "Error for image data/Want to find/Images/ArrestPerson_images/ArrestPerson_images/CR NO-109-#_89a9adda-5aca-4974-beca-9bc59953ee42365.jpg\n"
     ]
    },
    {
     "name": "stderr",
     "output_type": "stream",
     "text": [
      "\r",
      " 38%|███▊      | 1015/2655 [06:47<13:05,  2.09it/s]"
     ]
    },
    {
     "name": "stdout",
     "output_type": "stream",
     "text": [
      "Error for image data/Want to find/Images/ArrestPerson_images/ArrestPerson_images/PPT-13-11-#_cfecc97e-46af-4bc2-8250-a96a4892c5a52240.jpg\n",
      "Error for image data/Want to find/Images/ArrestPerson_images/ArrestPerson_images/Cr no 244-#_789cc79c-e08e-46f2-9083-cefceb35efe6338.jpg\n"
     ]
    },
    {
     "name": "stderr",
     "output_type": "stream",
     "text": [
      "\r",
      " 38%|███▊      | 1016/2655 [06:48<14:56,  1.83it/s]"
     ]
    },
    {
     "name": "stdout",
     "output_type": "stream",
     "text": [
      "Error for image data/Want to find/Images/ArrestPerson_images/ArrestPerson_images/PSR#_13ade9d5-373c-41aa-b5c4-c2c1d54a5706296.jpg\n"
     ]
    },
    {
     "name": "stderr",
     "output_type": "stream",
     "text": [
      "\r",
      " 38%|███▊      | 1017/2655 [06:48<12:48,  2.13it/s]"
     ]
    },
    {
     "name": "stdout",
     "output_type": "stream",
     "text": [
      "Error for image data/Want to find/Images/ArrestPerson_images/ArrestPerson_images/114-18 PHO#_25c9e6f5-3cfa-466a-a247-574907e8bf321501.jpg\n"
     ]
    },
    {
     "name": "stderr",
     "output_type": "stream",
     "text": [
      "\r",
      " 38%|███▊      | 1018/2655 [06:50<21:30,  1.27it/s]"
     ]
    },
    {
     "name": "stdout",
     "output_type": "stream",
     "text": [
      "Error for image data/Want to find/Images/ArrestPerson_images/ArrestPerson_images/01 001#_d31dc6e7-b03e-43ee-8585-f70fa03fa3e51473.jpg\n",
      "Error for image data/Want to find/Images/ArrestPerson_images/ArrestPerson_images/41-18 A1#_08d6ec1b-60d7-441a-a9c7-dd68cfa639e51237.jpg\n"
     ]
    },
    {
     "name": "stderr",
     "output_type": "stream",
     "text": [
      " 38%|███▊      | 1021/2655 [06:50<12:43,  2.14it/s]"
     ]
    },
    {
     "name": "stdout",
     "output_type": "stream",
     "text": [
      "Error for image data/Want to find/Images/ArrestPerson_images/ArrestPerson_images/IMG-201807#_d2b57c4b-71c6-4b1c-97d9-4773dcad78fc1250.jpg\n",
      "Error for image data/Want to find/Images/ArrestPerson_images/ArrestPerson_images/Veeresh#_6c7c7dbc-b365-474a-872b-2b5e7b84cceb362.jpg\n"
     ]
    },
    {
     "name": "stderr",
     "output_type": "stream",
     "text": [
      " 39%|███▊      | 1024/2655 [06:51<07:48,  3.48it/s]"
     ]
    },
    {
     "name": "stdout",
     "output_type": "stream",
     "text": [
      "Error for image data/Want to find/Images/ArrestPerson_images/ArrestPerson_images/Gavisidapp#_978b3ba9-52ca-4254-9a86-5c5560d4ecb2362.jpg\n",
      "Error for image data/Want to find/Images/ArrestPerson_images/ArrestPerson_images/119#_ff7890d3-4cd9-452a-b054-cf7e63e6fc661262.jpg\n",
      "Error for image data/Want to find/Images/ArrestPerson_images/ArrestPerson_images/IMG_201809#_573c19f7-ef7d-4b9b-80d1-a4dbd51d839d319.jpg\n"
     ]
    },
    {
     "name": "stderr",
     "output_type": "stream",
     "text": [
      " 39%|███▊      | 1027/2655 [06:51<06:21,  4.27it/s]"
     ]
    },
    {
     "name": "stdout",
     "output_type": "stream",
     "text": [
      "Error for image data/Want to find/Images/ArrestPerson_images/ArrestPerson_images/Ishwar#_db1e87f3-7d06-4860-9bb5-7470bc8853591456.jpg\n",
      "Error for image data/Want to find/Images/ArrestPerson_images/ArrestPerson_images/PHOTO#_3b82a864-b8e3-4920-b23e-07dc38c0b4f82126.jpg\n",
      "Error for image data/Want to find/Images/ArrestPerson_images/ArrestPerson_images/scan0024#_709785f2-85c8-4da8-886f-77c82a1f4c41311.jpg\n"
     ]
    },
    {
     "name": "stderr",
     "output_type": "stream",
     "text": [
      "\r",
      " 39%|███▊      | 1028/2655 [06:53<18:35,  1.46it/s]"
     ]
    },
    {
     "name": "stdout",
     "output_type": "stream",
     "text": [
      "Error for image data/Want to find/Images/ArrestPerson_images/ArrestPerson_images/MUSTAK#_4c58ac38-d1ea-4c48-b9d7-044567fbef021478.jpg\n"
     ]
    },
    {
     "name": "stderr",
     "output_type": "stream",
     "text": [
      " 39%|███▉      | 1031/2655 [06:54<14:37,  1.85it/s]"
     ]
    },
    {
     "name": "stdout",
     "output_type": "stream",
     "text": [
      "Error for image data/Want to find/Images/ArrestPerson_images/ArrestPerson_images/160-4#_5d695b22-42db-465f-b9e4-c577130cadeb1247.jpg\n",
      "Error for image data/Want to find/Images/ArrestPerson_images/ArrestPerson_images/184-18phot#_86513bec-e572-466f-a7ff-3cf44c1534d91460.jpg\n",
      "Error for image data/Want to find/Images/ArrestPerson_images/ArrestPerson_images/2#_d6803efc-a70a-41ca-b947-83e0109512481241.jpg\n"
     ]
    },
    {
     "name": "stderr",
     "output_type": "stream",
     "text": [
      " 39%|███▉      | 1033/2655 [06:55<15:45,  1.72it/s]"
     ]
    },
    {
     "name": "stdout",
     "output_type": "stream",
     "text": [
      "Error for image data/Want to find/Images/ArrestPerson_images/ArrestPerson_images/12_06_2018#_be12649d-a7c4-4f9a-8cc8-c3a318eef9c11509.jpg\n",
      "Error for image data/Want to find/Images/ArrestPerson_images/ArrestPerson_images/PHOTO - Co#_c8b9ca21-de01-4d9f-a03c-c09eb38888501485.jpg\n"
     ]
    },
    {
     "name": "stderr",
     "output_type": "stream",
     "text": [
      "\r",
      " 39%|███▉      | 1034/2655 [06:56<12:30,  2.16it/s]"
     ]
    },
    {
     "name": "stdout",
     "output_type": "stream",
     "text": [
      "Error for image data/Want to find/Images/ArrestPerson_images/ArrestPerson_images/IMG_201806#_a4a67a5c-7584-4cc0-8642-0c21af1b32571238.jpg\n",
      "Error for image data/Want to find/Images/ArrestPerson_images/ArrestPerson_images/145-5 001#_481d21e8-951e-4923-bdf4-1f57cd7d26191507.jpg\n",
      "Error for image data/Want to find/Images/ArrestPerson_images/ArrestPerson_images/IMG ANK#_54b1c8f6-6028-4f2b-9d5b-f88a861a55bc324.jpg\n"
     ]
    },
    {
     "name": "stderr",
     "output_type": "stream",
     "text": [
      " 39%|███▉      | 1038/2655 [06:57<09:03,  2.97it/s]"
     ]
    },
    {
     "name": "stdout",
     "output_type": "stream",
     "text": [
      "Error for image data/Want to find/Images/ArrestPerson_images/ArrestPerson_images/000#_85685369-8a06-435d-ae7d-1ea1dd57743c1263.jpg\n",
      "Error for image data/Want to find/Images/ArrestPerson_images/ArrestPerson_images/IMG_0001#_06e68a7f-63d8-405d-80cc-56571d71ec472189.jpg\n"
     ]
    },
    {
     "name": "stderr",
     "output_type": "stream",
     "text": [
      "\r",
      " 39%|███▉      | 1039/2655 [06:57<07:20,  3.66it/s]"
     ]
    },
    {
     "name": "stdout",
     "output_type": "stream",
     "text": [
      "Error for image data/Want to find/Images/ArrestPerson_images/ArrestPerson_images/4#_2e3e4e17-aca2-47cd-a445-7930d56f3f041241.jpg\n"
     ]
    },
    {
     "name": "stderr",
     "output_type": "stream",
     "text": [
      " 39%|███▉      | 1042/2655 [06:58<07:00,  3.84it/s]"
     ]
    },
    {
     "name": "stdout",
     "output_type": "stream",
     "text": [
      "Error for image data/Want to find/Images/ArrestPerson_images/ArrestPerson_images/IMG-201807#_3aeab2f7-695e-4853-849b-ef453fab98d51893.jpg\n",
      "Error for image data/Want to find/Images/ArrestPerson_images/ArrestPerson_images/44#_cd3b7564-ccbe-4e7f-84c6-c01e87d052ca324.jpg\n",
      "Error for image data/Want to find/Images/ArrestPerson_images/ArrestPerson_images/355#_154e3121-8f51-4aa3-8ec7-004443600f211238.jpg\n"
     ]
    },
    {
     "name": "stderr",
     "output_type": "stream",
     "text": [
      "\r",
      " 39%|███▉      | 1043/2655 [06:58<06:06,  4.40it/s]"
     ]
    },
    {
     "name": "stdout",
     "output_type": "stream",
     "text": [
      "Error for image data/Want to find/Images/ArrestPerson_images/ArrestPerson_images/psr#_4d6750b0-794e-4b78-b4e6-9a656c7f9b611255.jpg\n"
     ]
    },
    {
     "name": "stderr",
     "output_type": "stream",
     "text": [
      "\r",
      " 39%|███▉      | 1044/2655 [06:58<09:06,  2.95it/s]"
     ]
    },
    {
     "name": "stdout",
     "output_type": "stream",
     "text": [
      "Error for image data/Want to find/Images/ArrestPerson_images/ArrestPerson_images/151-8,9#_c1c4006e-15ea-49aa-af74-39c8d901a46b1247.jpg\n"
     ]
    },
    {
     "name": "stderr",
     "output_type": "stream",
     "text": [
      " 39%|███▉      | 1047/2655 [07:00<12:16,  2.18it/s]"
     ]
    },
    {
     "name": "stdout",
     "output_type": "stream",
     "text": [
      "Error for image data/Want to find/Images/ArrestPerson_images/ArrestPerson_images/01 001#_b7f5bc2f-458d-4532-8bc1-16963829d7201473.jpg\n",
      "Error for image data/Want to find/Images/ArrestPerson_images/ArrestPerson_images/N#_1d84b3b8-25e8-492a-a858-1f9ebb2ea19f1502.jpg\n",
      "Error for image data/Want to find/Images/ArrestPerson_images/ArrestPerson_images/Ningappa#_484a5317-b223-4974-8c71-f9642220e53a1456.jpg\n"
     ]
    },
    {
     "name": "stderr",
     "output_type": "stream",
     "text": [
      "\r",
      " 39%|███▉      | 1048/2655 [07:00<09:37,  2.78it/s]"
     ]
    },
    {
     "name": "stdout",
     "output_type": "stream",
     "text": [
      "Error for image data/Want to find/Images/ArrestPerson_images/ArrestPerson_images/PHOTO - Co#_32323702-7f27-4120-9af8-9f795fff57971485.jpg\n"
     ]
    },
    {
     "name": "stderr",
     "output_type": "stream",
     "text": [
      "\r",
      " 40%|███▉      | 1049/2655 [07:00<08:22,  3.19it/s]"
     ]
    },
    {
     "name": "stdout",
     "output_type": "stream",
     "text": [
      "Error for image data/Want to find/Images/ArrestPerson_images/ArrestPerson_images/A-1 138 00#_617b6156-8b4a-443d-b95f-03854fce25571507.jpg\n",
      "Error for image data/Want to find/Images/ArrestPerson_images/ArrestPerson_images/119#_7e2ebcc1-d116-4622-9b87-518fe3c57c3f1262.jpg\n"
     ]
    },
    {
     "name": "stderr",
     "output_type": "stream",
     "text": [
      " 40%|███▉      | 1053/2655 [07:01<06:29,  4.11it/s]"
     ]
    },
    {
     "name": "stdout",
     "output_type": "stream",
     "text": [
      "Error for image data/Want to find/Images/ArrestPerson_images/ArrestPerson_images/PSR#_618911ff-4c51-4d6d-805e-a0e0c219a24e296.jpg\n",
      "Error for image data/Want to find/Images/ArrestPerson_images/ArrestPerson_images/2#_2f63d008-7dee-4857-aa5f-67b054c4884a311.jpg\n",
      "Error for image data/Want to find/Images/ArrestPerson_images/ArrestPerson_images/108-8#_51e7ba1a-e27f-4793-bc71-9377a1a053d41249.jpg\n",
      "Error for image data/Want to find/Images/ArrestPerson_images/ArrestPerson_images/Photo#_7164ee07-9369-49d8-bd2a-0e3f5a0aaaf3364.jpg\n",
      "Error for image data/Want to find/Images/ArrestPerson_images/ArrestPerson_images/184-18-2 (#_b9cd1fba-fc7e-4ef8-89bd-90fc4176b6bb1460.jpg\n"
     ]
    },
    {
     "name": "stderr",
     "output_type": "stream",
     "text": [
      " 40%|███▉      | 1057/2655 [07:01<04:44,  5.62it/s]"
     ]
    },
    {
     "name": "stdout",
     "output_type": "stream",
     "text": [
      "Error for image data/Want to find/Images/ArrestPerson_images/ArrestPerson_images/108-6#_e715567b-5db2-4439-aba8-5252df12b2661249.jpg\n",
      "Error for image data/Want to find/Images/ArrestPerson_images/ArrestPerson_images/Roshan#_754585bc-f344-49cc-b422-4201e3cfa7a01255.jpg\n",
      "Error for image data/Want to find/Images/ArrestPerson_images/ArrestPerson_images/152-2#_f36b5e54-dffa-4cf8-89d9-b88512d11bc31247.jpg\n"
     ]
    },
    {
     "name": "stderr",
     "output_type": "stream",
     "text": [
      " 40%|███▉      | 1060/2655 [07:02<04:12,  6.32it/s]"
     ]
    },
    {
     "name": "stdout",
     "output_type": "stream",
     "text": [
      "Error for image data/Want to find/Images/ArrestPerson_images/ArrestPerson_images/39-2017 00#_86a47c0f-d572-4f7a-acca-2735dc8e8f36334.jpg\n",
      "Error for image data/Want to find/Images/ArrestPerson_images/ArrestPerson_images/106-18 354#_950c4cc7-4579-415e-ae65-9bd07611e07c1250.jpg\n",
      "Error for image data/Want to find/Images/ArrestPerson_images/ArrestPerson_images/12#_e1bda964-a9d1-4df8-8660-eebcbd2f65c41478.jpg\n"
     ]
    },
    {
     "name": "stderr",
     "output_type": "stream",
     "text": [
      "\r",
      " 40%|████      | 1064/2655 [07:02<03:23,  7.83it/s]"
     ]
    },
    {
     "name": "stdout",
     "output_type": "stream",
     "text": [
      "Error for image data/Want to find/Images/ArrestPerson_images/ArrestPerson_images/159#_06f67074-be86-4200-9242-f7c5d95eac58323.jpg\n",
      "Error for image data/Want to find/Images/ArrestPerson_images/ArrestPerson_images/Blank Phot#_e1c9f8f1-c7a5-4643-be68-51c62a1c150f319.jpg\n",
      "Error for image data/Want to find/Images/ArrestPerson_images/ArrestPerson_images/20190128_2#_c81743d1-23fc-4401-bc37-6464379b9a761238.jpg\n"
     ]
    }
   ],
   "source": [
    "find_face_encodings = [] # Create an empty list for saving encoded files\n",
    "test_error_images_encoding=[]\n",
    "\n",
    "for img in tqdm(image_list):\n",
    "    try:\n",
    "        image = face_recognition.load_image_file(img)\n",
    "        image_encoding = face_recognition.face_encodings(image)\n",
    "        find_face_encodings.append(image_encoding[0]) # Append the results to encoding_for_file list \n",
    "        \n",
    "    except:\n",
    "        print(\"Error for image\", img)\n",
    "        test_error_images_encoding.append(image)\n",
    "        continue"
   ]
  },
  {
   "cell_type": "code",
   "execution_count": 889,
   "metadata": {},
   "outputs": [],
   "source": [
    "face_names_found = []"
   ]
  },
  {
   "cell_type": "code",
   "execution_count": 890,
   "metadata": {},
   "outputs": [],
   "source": [
    "df = pd.DataFrame()"
   ]
  },
  {
   "cell_type": "code",
   "execution_count": 891,
   "metadata": {},
   "outputs": [],
   "source": [
    "final = []"
   ]
  },
  {
   "cell_type": "code",
   "execution_count": 892,
   "metadata": {},
   "outputs": [],
   "source": [
    "import math"
   ]
  },
  {
   "cell_type": "code",
   "execution_count": 893,
   "metadata": {},
   "outputs": [],
   "source": [
    "def face_distance_to_conf(face_distance, face_match_threshold=0.6):\n",
    "    if face_distance > face_match_threshold:\n",
    "        range = (1.0 - face_match_threshold)\n",
    "        linear_val = (1.0 - face_distance) / (range * 2.0)\n",
    "        return linear_val\n",
    "    else:\n",
    "        range = face_match_threshold\n",
    "        linear_val = 1.0 - (face_distance / (range * 2.0))\n",
    "        return linear_val + ((1.0 - linear_val) * math.pow((linear_val - 0.5) * 2, 0.2))"
   ]
  },
  {
   "cell_type": "code",
   "execution_count": 894,
   "metadata": {},
   "outputs": [],
   "source": [
    "for i in find_face_encodings:\n",
    "    matches = face_recognition.face_distance(known_face_encodings, i)\n",
    "    \n",
    "#     if True in matches:\n",
    "        \n",
    "#         indices = [l for l, x in enumerate(matches) if x]\n",
    "#         for k in indices:\n",
    "#             name = known_face_names[k]\n",
    "#             final.append(name)\n",
    "#             print()"
   ]
  },
  {
   "cell_type": "code",
   "execution_count": 895,
   "metadata": {},
   "outputs": [
    {
     "name": "stdout",
     "output_type": "stream",
     "text": [
      "99\n"
     ]
    }
   ],
   "source": [
    "print(len(matches))"
   ]
  },
  {
   "cell_type": "code",
   "execution_count": 896,
   "metadata": {},
   "outputs": [],
   "source": [
    "final=[]"
   ]
  },
  {
   "cell_type": "code",
   "execution_count": 897,
   "metadata": {},
   "outputs": [],
   "source": [
    "for dist in matches:\n",
    "    final.append(face_distance_to_conf(dist))"
   ]
  },
  {
   "cell_type": "code",
   "execution_count": 898,
   "metadata": {},
   "outputs": [],
   "source": [
    "top_20 = sorted(final, reverse=True)[:20]"
   ]
  },
  {
   "cell_type": "code",
   "execution_count": 899,
   "metadata": {},
   "outputs": [],
   "source": [
    "matches = list(matches)"
   ]
  },
  {
   "cell_type": "code",
   "execution_count": null,
   "metadata": {},
   "outputs": [],
   "source": []
  },
  {
   "cell_type": "code",
   "execution_count": 900,
   "metadata": {},
   "outputs": [
    {
     "name": "stdout",
     "output_type": "stream",
     "text": [
      "search_space/ArrestPersonArrestPerson2205.png 0.8131948129323276\n",
      "search_space/ArrestPerson2012.png 0.678836037908513\n",
      "search_space/ArrestPersonArrestPerson2163.png 0.6591559575647201\n",
      "search_space/ArrestPerson1841.png 0.4029730246417862\n",
      "search_space/ArrestPersonArrestPerson2172.png 0.38462154113211605\n",
      "search_space/ArrestPersonArrestPerson2117.png 0.38043814573461104\n",
      "search_space/ArrestPerson2118.png 0.3792403334296161\n",
      "search_space/ArrestPerson2128.png 0.37353881121325316\n",
      "search_space/ArrestPersonArrestPerson2079.png 0.36201449443537564\n",
      "search_space/ArrestPerson1863.png 0.3596233741960382\n",
      "search_space/ArrestPerson1863.png 0.3596233741960382\n",
      "search_space/ArrestPerson1965.png 0.35765261376366414\n",
      "search_space/ArrestPersonArrestPerson2195.png 0.3548885320857023\n",
      "search_space/ArrestPerson2113.png 0.34431379491903097\n",
      "search_space/ArrestPersonArrestPerson2110.png 0.33341850311447774\n",
      "search_space/ArrestPersonArrestPerson1999.png 0.3280959393210693\n",
      "search_space/ArrestPersonArrestPerson2129.png 0.32764511635249405\n",
      "search_space/ArrestPersonArrestPerson1899.png 0.3260841485647127\n",
      "search_space/ArrestPersonArrestPerson2142.png 0.32604450214367947\n",
      "search_space/ArrestPerson2281.png 0.3256519001107506\n"
     ]
    }
   ],
   "source": [
    "for i in top_20:\n",
    "    print(known_face_names[final.index(i)], i)\n",
    "    "
   ]
  },
  {
   "cell_type": "code",
   "execution_count": 876,
   "metadata": {},
   "outputs": [],
   "source": [
    "shutil.rmtree('search_space/')"
   ]
  },
  {
   "cell_type": "code",
   "execution_count": 485,
   "metadata": {},
   "outputs": [
    {
     "data": {
      "text/plain": [
       "[]"
      ]
     },
     "execution_count": 485,
     "metadata": {},
     "output_type": "execute_result"
    }
   ],
   "source": [
    "face_names_found"
   ]
  },
  {
   "cell_type": "code",
   "execution_count": 486,
   "metadata": {},
   "outputs": [
    {
     "data": {
      "text/plain": [
       "array([-1.48989603e-01,  1.08399093e-01,  7.59950206e-02, -1.79875307e-02,\n",
       "        3.93268242e-02, -8.98016840e-02,  4.67338860e-02, -1.16253667e-01,\n",
       "        1.67895332e-01,  7.38199055e-03,  1.98478624e-01, -1.41412988e-02,\n",
       "       -2.34873712e-01, -1.30776227e-01,  2.62399614e-02,  1.01874322e-01,\n",
       "       -1.99191645e-01, -1.02241084e-01, -1.16385929e-01, -1.02957189e-01,\n",
       "        1.07251391e-01,  3.32811922e-02,  7.48074353e-02,  3.56095061e-02,\n",
       "       -2.31762931e-01, -3.01708341e-01, -6.69913739e-02, -1.55292794e-01,\n",
       "       -2.06619427e-02, -4.90427166e-02,  2.03821808e-04, -1.80877075e-02,\n",
       "       -2.46062353e-01, -5.80922812e-02, -3.59412208e-02,  8.29222798e-03,\n",
       "        4.73398045e-02, -5.26887029e-02,  8.82414132e-02,  2.04513781e-04,\n",
       "       -1.89956844e-01, -5.24650216e-02,  3.13852243e-02,  1.77178323e-01,\n",
       "        1.83991492e-01,  3.61035615e-02, -1.13487067e-02, -4.95805442e-02,\n",
       "        1.01162061e-01, -2.34085560e-01,  7.66900554e-02,  9.13871154e-02,\n",
       "        7.02452734e-02, -8.28562677e-03,  1.37183264e-01, -1.27525717e-01,\n",
       "       -7.85732269e-03,  9.11552459e-02, -2.19234645e-01,  5.41996248e-02,\n",
       "        4.21219468e-02, -4.11411785e-02, -9.73414443e-03, -3.80660966e-02,\n",
       "        1.45336807e-01,  1.58386171e-01, -9.43785459e-02, -6.88550025e-02,\n",
       "        1.09986752e-01, -1.44088566e-01,  2.42984295e-03,  6.81752637e-02,\n",
       "       -6.31759837e-02, -1.88145280e-01, -3.30482394e-01,  1.33942962e-02,\n",
       "        4.05143082e-01,  1.02471225e-01, -1.73053876e-01, -9.01445746e-05,\n",
       "       -1.41228810e-01,  2.82643214e-02,  1.12636760e-01, -1.69366598e-04,\n",
       "       -1.25658557e-01,  7.79905841e-02, -1.49359807e-01,  4.60618436e-02,\n",
       "        1.77317470e-01,  2.51509845e-02, -6.73607811e-02,  2.60614395e-01,\n",
       "       -8.86517763e-02, -5.44465333e-03,  3.55067328e-02,  1.63885131e-02,\n",
       "       -1.27178177e-01, -2.20425427e-04, -5.42472526e-02, -1.51802599e-02,\n",
       "        9.35835764e-02, -7.67596588e-02, -2.07601488e-03,  8.45394731e-02,\n",
       "       -1.35089904e-01,  2.70244032e-02,  1.32719055e-02,  4.21413034e-03,\n",
       "       -1.36509016e-02,  6.03798032e-03, -1.21555030e-01, -4.42830026e-02,\n",
       "        8.98666382e-02, -2.19201565e-01,  1.94779634e-01,  1.17799349e-01,\n",
       "       -8.37036669e-02,  1.23741791e-01,  1.07165948e-02,  5.09992167e-02,\n",
       "       -6.99524060e-02, -1.26997083e-02, -1.07017353e-01, -2.81838924e-02,\n",
       "        1.09275602e-01, -3.56044546e-02,  1.27095357e-01,  7.26161897e-03])"
      ]
     },
     "execution_count": 486,
     "metadata": {},
     "output_type": "execute_result"
    }
   ],
   "source": [
    "known_face_encodings[0]"
   ]
  },
  {
   "cell_type": "code",
   "execution_count": null,
   "metadata": {},
   "outputs": [],
   "source": []
  }
 ],
 "metadata": {
  "kernelspec": {
   "display_name": "Python 3",
   "language": "python",
   "name": "python3"
  },
  "language_info": {
   "codemirror_mode": {
    "name": "ipython",
    "version": 3
   },
   "file_extension": ".py",
   "mimetype": "text/x-python",
   "name": "python",
   "nbconvert_exporter": "python",
   "pygments_lexer": "ipython3",
   "version": "3.7.4"
  }
 },
 "nbformat": 4,
 "nbformat_minor": 2
}
