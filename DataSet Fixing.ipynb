{
 "cells": [
  {
   "cell_type": "code",
   "execution_count": 77,
   "metadata": {},
   "outputs": [],
   "source": [
    "import cv2\n",
    "import numpy as np\n",
    "from PIL import Image\n",
    "import dlib\n",
    "import face_recognition\n",
    "from PIL import ImageFile\n",
    "ImageFile.LOAD_TRUNCATED_IMAGES = True"
   ]
  },
  {
   "cell_type": "code",
   "execution_count": 78,
   "metadata": {},
   "outputs": [],
   "source": [
    "detector = dlib.get_frontal_face_detector()\n",
    "predictor = dlib.shape_predictor('shape_predictor_68_face_landmarks.dat')"
   ]
  },
  {
   "cell_type": "code",
   "execution_count": null,
   "metadata": {},
   "outputs": [],
   "source": []
  },
  {
   "cell_type": "code",
   "execution_count": 79,
   "metadata": {},
   "outputs": [],
   "source": [
    "def img_list():\n",
    "    format_img = ['.png']\n",
    "    final = []\n",
    "    for i in format_img:\n",
    "        image_list = glob.glob(\"data/Want to find/Images/unnatural_death_images/cleaned/*\"+i)\n",
    "        for j in image_list:\n",
    "            final.append(j)\n",
    "    return final\n",
    "        \n",
    "image_list = img_list()"
   ]
  },
  {
   "cell_type": "code",
   "execution_count": 80,
   "metadata": {},
   "outputs": [
    {
     "data": {
      "text/plain": [
       "3926"
      ]
     },
     "execution_count": 80,
     "metadata": {},
     "output_type": "execute_result"
    }
   ],
   "source": [
    "len(image_list)"
   ]
  },
  {
   "cell_type": "code",
   "execution_count": 81,
   "metadata": {},
   "outputs": [],
   "source": [
    "temp_shape_list = []\n",
    "img_list_temp = []\n",
    "for img in image_list:\n",
    "    image = face_recognition.load_image_file(img)\n",
    "   \n",
    "    gray = cv2.cvtColor(image, cv2.COLOR_BGR2GRAY)\n",
    "    rects = detector(gray, 0)\n",
    "    if len(rects) > 0:\n",
    "        for rect in rects:\n",
    "            x = rect.left()\n",
    "            y = rect.top()\n",
    "            w = rect.right()\n",
    "            h = rect.bottom()\n",
    "            shape = predictor(gray, rect)\n",
    "            img_list_temp.append(img)\n",
    "            temp_shape_list.append(shape)"
   ]
  },
  {
   "cell_type": "code",
   "execution_count": 82,
   "metadata": {},
   "outputs": [
    {
     "data": {
      "text/plain": [
       "1025"
      ]
     },
     "execution_count": 82,
     "metadata": {},
     "output_type": "execute_result"
    }
   ],
   "source": [
    "len(img_list_temp)"
   ]
  },
  {
   "cell_type": "code",
   "execution_count": 83,
   "metadata": {},
   "outputs": [
    {
     "data": {
      "text/plain": [
       "1025"
      ]
     },
     "execution_count": 83,
     "metadata": {},
     "output_type": "execute_result"
    }
   ],
   "source": [
    "len(temp_shape_list)"
   ]
  },
  {
   "cell_type": "code",
   "execution_count": 84,
   "metadata": {},
   "outputs": [],
   "source": [
    "def shape_to_normal(shape):\n",
    "    shape_normal = []\n",
    "    for i in range(0, 5):\n",
    "        shape_normal.append((i, (shape.part(i).x, shape.part(i).y)))\n",
    "    return shape_normal\n",
    "def get_eyes_nose_dlib(shape):\n",
    "    nose = shape[4][1]\n",
    "    left_eye_x = int(shape[3][1][0] + shape[2][1][0]) // 2\n",
    "    left_eye_y = int(shape[3][1][1] + shape[2][1][1]) // 2\n",
    "    right_eyes_x = int(shape[1][1][0] + shape[0][1][0]) // 2\n",
    "    right_eyes_y = int(shape[1][1][1] + shape[0][1][1]) // 2\n",
    "    return nose, (left_eye_x, left_eye_y), (right_eyes_x, right_eyes_y)"
   ]
  },
  {
   "cell_type": "code",
   "execution_count": 85,
   "metadata": {},
   "outputs": [],
   "source": [
    "def distance(a, b):\n",
    "    return np.sqrt((a[0] - b[0]) ** 2 + (a[1] - b[1]) ** 2)"
   ]
  },
  {
   "cell_type": "code",
   "execution_count": 86,
   "metadata": {},
   "outputs": [],
   "source": [
    "def cosine_formula(length_line1, length_line2, length_line3):\n",
    "    cos_a = -(length_line3 ** 2 - length_line2 ** 2 - length_line1 ** 2) / (2 * length_line2 * length_line1)\n",
    "    return cos_a"
   ]
  },
  {
   "cell_type": "code",
   "execution_count": 87,
   "metadata": {},
   "outputs": [],
   "source": [
    "def rotate_point(origin, point, angle):\n",
    "    ox, oy = origin\n",
    "    px, py = point\n",
    "\n",
    "    qx = ox + np.cos(angle) * (px - ox) - np.sin(angle) * (py - oy)\n",
    "    qy = oy + np.sin(angle) * (px - ox) + np.cos(angle) * (py - oy)\n",
    "    return qx, qy\n",
    "\n",
    "\n",
    "def is_between(point1, point2, point3, extra_point):\n",
    "    c1 = (point2[0] - point1[0]) * (extra_point[1] - point1[1]) - (point2[1] - point1[1]) * (extra_point[0] - point1[0])\n",
    "    c2 = (point3[0] - point2[0]) * (extra_point[1] - point2[1]) - (point3[1] - point2[1]) * (extra_point[0] - point2[0])\n",
    "    c3 = (point1[0] - point3[0]) * (extra_point[1] - point3[1]) - (point1[1] - point3[1]) * (extra_point[0] - point3[0])\n",
    "    if (c1 < 0 and c2 < 0 and c3 < 0) or (c1 > 0 and c2 > 0 and c3 > 0):\n",
    "        return True\n",
    "    else:\n",
    "        return False"
   ]
  },
  {
   "cell_type": "code",
   "execution_count": 88,
   "metadata": {},
   "outputs": [],
   "source": [
    "noses = []\n",
    "left = []\n",
    "right = []\n",
    "for (s, img, i) in zip(temp_shape_list, img_list_temp, range(0, len(img_list_temp))):\n",
    "    shape = shape_to_normal(s)\n",
    "    nose, left_eye, right_eye = get_eyes_nose_dlib(shape)\n",
    "    noses.append(nose), left.append(left_eye), right.append(right_eye)\n",
    "#     center_of_forehead = ((left_eye[0] + right_eye[0]) // 2, (left_eye[1] + right_eye[1]) // 2)\n",
    "#     center_pred = (int((x + w) / 2), int((y + y) / 2))\n",
    "#     length_line1 = distance(center_of_forehead, nose)\n",
    "#     length_line2 = distance(center_pred, nose)\n",
    "#     length_line3 = distance(center_pred, center_of_forehead)\n",
    "#     cos_a = cosine_formula(length_line1, length_line2, length_line3)\n",
    "#     angle = np.arccos(cos_a)\n",
    "#     rotated_point = rotate_point(nose, center_of_forehead, angle)\n",
    "#     rotated_point = (int(rotated_point[0]), int(rotated_point[1]))\n",
    "#     if is_between(nose, center_of_forehead, center_pred, rotated_point):\n",
    "#         angle = np.degrees(-angle)\n",
    "#     else:\n",
    "#         angle = np.degrees(angle)\n",
    "#     img = Image.fromarray(img)\n",
    "#     img = np.array(img.rotate(angle))\n",
    "#     cv2.imwrite('realigning/'+str(i)+'.jpg', img)\n",
    "#     print(nose, left_eye, right_eye)"
   ]
  },
  {
   "cell_type": "code",
   "execution_count": 18,
   "metadata": {},
   "outputs": [
    {
     "name": "stdout",
     "output_type": "stream",
     "text": [
      "Requirement already satisfied: Image in /Users/shivamralli/anaconda3/lib/python3.7/site-packages (1.5.27)\r\n",
      "Requirement already satisfied: pillow in /Users/shivamralli/anaconda3/lib/python3.7/site-packages (from Image) (6.2.0)\r\n",
      "Requirement already satisfied: django in /Users/shivamralli/anaconda3/lib/python3.7/site-packages (from Image) (2.2.7)\r\n",
      "Requirement already satisfied: sqlparse in /Users/shivamralli/anaconda3/lib/python3.7/site-packages (from django->Image) (0.3.0)\r\n",
      "Requirement already satisfied: pytz in /Users/shivamralli/anaconda3/lib/python3.7/site-packages (from django->Image) (2019.3)\r\n"
     ]
    }
   ],
   "source": [
    "!pip install Image"
   ]
  },
  {
   "cell_type": "code",
   "execution_count": 89,
   "metadata": {},
   "outputs": [],
   "source": [
    "\n",
    "import sys, math\n",
    "from PIL import Image\n",
    "\n",
    "def Distance(p1,p2):\n",
    "    dx = p2[0] - p1[0]\n",
    "    dy = p2[1] - p1[1]\n",
    "    return math.sqrt(dx*dx+dy*dy)\n",
    "\n",
    "def ScaleRotateTranslate(image, angle, center = None, new_center = None, scale = None, resample=Image.BICUBIC):\n",
    "    if (scale is None) and (center is None):\n",
    "        return image.rotate(angle=angle, resample=resample)\n",
    "    nx,ny = x,y = center\n",
    "    sx=sy=1.0\n",
    "    if new_center:\n",
    "        (nx,ny) = new_center\n",
    "    if scale:\n",
    "        (sx,sy) = (scale, scale)\n",
    "    cosine = math.cos(angle)\n",
    "    sine = math.sin(angle)\n",
    "    a = cosine/sx\n",
    "    b = sine/sx\n",
    "    c = x-nx*a-ny*b\n",
    "    d = -sine/sy\n",
    "    e = cosine/sy\n",
    "    f = y-nx*d-ny*e\n",
    "    return image.transform(image.size, Image.AFFINE, (a,b,c,d,e,f), resample=resample)\n",
    "\n",
    "def CropFace(image, eye_left=(0,0), eye_right=(0,0), offset_pct=(0.2,0.2), dest_sz = (70,70)):\n",
    "  # calculate offsets in original image\n",
    "    offset_h = math.floor(float(offset_pct[0])*dest_sz[0])\n",
    "    offset_v = math.floor(float(offset_pct[1])*dest_sz[1])\n",
    "    # get the direction\n",
    "    eye_direction = (eye_right[0] - eye_left[0], eye_right[1] - eye_left[1])\n",
    "    # calc rotation angle in radians\n",
    "    rotation = -math.atan2(float(eye_direction[1]),float(eye_direction[0]))\n",
    "    # distance between them\n",
    "    dist = Distance(eye_left, eye_right)\n",
    "    # calculate the reference eye-width\n",
    "    reference = dest_sz[0] - 2.0*offset_h\n",
    "    # scale factor\n",
    "    scale = float(dist)/float(reference)\n",
    "    # rotate original around the left eye\n",
    "    image = ScaleRotateTranslate(image, center=eye_left, angle=rotation)\n",
    "    # crop the rotated image\n",
    "    crop_xy = (eye_left[0] - scale*offset_h, eye_left[1] - scale*offset_v)\n",
    "    crop_size = (dest_sz[0]*scale, dest_sz[1]*scale)\n",
    "    image = image.crop((int(crop_xy[0]), int(crop_xy[1]), int(crop_xy[0]+crop_size[0]), int(crop_xy[1]+crop_size[1])))\n",
    "    # resize it\n",
    "    image = image.resize(dest_sz, Image.ANTIALIAS)\n",
    "    return image\n"
   ]
  },
  {
   "cell_type": "code",
   "execution_count": 90,
   "metadata": {},
   "outputs": [],
   "source": [
    "save_path = \"data/Want to find/Images/unnatural_death_images/realigned/\""
   ]
  },
  {
   "cell_type": "code",
   "execution_count": 91,
   "metadata": {},
   "outputs": [],
   "source": [
    "for (img, le, re, sp) in zip(img_list_temp, left, right, range(len(image_list))):\n",
    "    img_o = Image.open(img)\n",
    "    CropFace(img_o, eye_left=le, eye_right=re, offset_pct=(0.42,0.42), dest_sz=(150,150)).save(save_path+str(sp)+'.png')\n",
    "    \n",
    "    "
   ]
  },
  {
   "cell_type": "code",
   "execution_count": null,
   "metadata": {},
   "outputs": [],
   "source": []
  }
 ],
 "metadata": {
  "kernelspec": {
   "display_name": "Python 3",
   "language": "python",
   "name": "python3"
  },
  "language_info": {
   "codemirror_mode": {
    "name": "ipython",
    "version": 3
   },
   "file_extension": ".py",
   "mimetype": "text/x-python",
   "name": "python",
   "nbconvert_exporter": "python",
   "pygments_lexer": "ipython3",
   "version": "3.7.4"
  }
 },
 "nbformat": 4,
 "nbformat_minor": 2
}
